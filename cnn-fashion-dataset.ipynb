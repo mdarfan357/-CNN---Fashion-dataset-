{
 "cells": [
  {
   "cell_type": "code",
   "execution_count": 1,
   "id": "9a028839",
   "metadata": {
    "_cell_guid": "b1076dfc-b9ad-4769-8c92-a6c4dae69d19",
    "_uuid": "8f2839f25d086af736a60e9eeb907d3b93b6e0e5",
    "execution": {
     "iopub.execute_input": "2023-06-03T08:36:16.375805Z",
     "iopub.status.busy": "2023-06-03T08:36:16.374748Z",
     "iopub.status.idle": "2023-06-03T08:36:23.469848Z",
     "shell.execute_reply": "2023-06-03T08:36:23.468897Z"
    },
    "papermill": {
     "duration": 7.107375,
     "end_time": "2023-06-03T08:36:23.472193",
     "exception": false,
     "start_time": "2023-06-03T08:36:16.364818",
     "status": "completed"
    },
    "tags": []
   },
   "outputs": [],
   "source": [
    "# This Python 3 environment comes with many helpful analytics libraries installed\n",
    "# It is defined by the kaggle/python Docker image: https://github.com/kaggle/docker-python\n",
    "# For example, here's several helpful packages to load\n",
    "\n",
    "import numpy as np # linear algebra\n",
    "import pandas as pd # data processing, CSV file I/O (e.g. pd.read_csv)\n",
    "\n",
    "# Input data files are available in the read-only \"../input/\" directory\n",
    "# For example, running this (by clicking run or pressing Shift+Enter) will list all files under the input directory\n",
    "\n",
    "import os\n",
    "for dirname, _, filenames in os.walk('/kaggle/input'):\n",
    "    for filename in filenames:\n",
    "        os.path.join(dirname, filename)\n"
   ]
  },
  {
   "cell_type": "markdown",
   "id": "ade37876",
   "metadata": {
    "papermill": {
     "duration": 0.007713,
     "end_time": "2023-06-03T08:36:23.488271",
     "exception": false,
     "start_time": "2023-06-03T08:36:23.480558",
     "status": "completed"
    },
    "tags": []
   },
   "source": [
    "# Importing Required Modules "
   ]
  },
  {
   "cell_type": "code",
   "execution_count": 2,
   "id": "330020f4",
   "metadata": {
    "execution": {
     "iopub.execute_input": "2023-06-03T08:36:23.504993Z",
     "iopub.status.busy": "2023-06-03T08:36:23.504705Z",
     "iopub.status.idle": "2023-06-03T08:36:31.730923Z",
     "shell.execute_reply": "2023-06-03T08:36:31.729991Z"
    },
    "papermill": {
     "duration": 8.237208,
     "end_time": "2023-06-03T08:36:31.733250",
     "exception": false,
     "start_time": "2023-06-03T08:36:23.496042",
     "status": "completed"
    },
    "tags": []
   },
   "outputs": [
    {
     "name": "stderr",
     "output_type": "stream",
     "text": [
      "/opt/conda/lib/python3.10/site-packages/tensorflow_io/python/ops/__init__.py:98: UserWarning: unable to load libtensorflow_io_plugins.so: unable to open file: libtensorflow_io_plugins.so, from paths: ['/opt/conda/lib/python3.10/site-packages/tensorflow_io/python/ops/libtensorflow_io_plugins.so']\n",
      "caused by: ['/opt/conda/lib/python3.10/site-packages/tensorflow_io/python/ops/libtensorflow_io_plugins.so: undefined symbol: _ZN3tsl6StatusC1EN10tensorflow5error4CodeESt17basic_string_viewIcSt11char_traitsIcEENS_14SourceLocationE']\n",
      "  warnings.warn(f\"unable to load libtensorflow_io_plugins.so: {e}\")\n",
      "/opt/conda/lib/python3.10/site-packages/tensorflow_io/python/ops/__init__.py:104: UserWarning: file system plugins are not loaded: unable to open file: libtensorflow_io.so, from paths: ['/opt/conda/lib/python3.10/site-packages/tensorflow_io/python/ops/libtensorflow_io.so']\n",
      "caused by: ['/opt/conda/lib/python3.10/site-packages/tensorflow_io/python/ops/libtensorflow_io.so: undefined symbol: _ZTVN10tensorflow13GcsFileSystemE']\n",
      "  warnings.warn(f\"file system plugins are not loaded: {e}\")\n"
     ]
    }
   ],
   "source": [
    "import pandas as pd\n",
    "import cv2 as cv\n",
    "from tensorflow.keras.models import Sequential\n",
    "from tensorflow.keras.layers import *\n",
    "import os"
   ]
  },
  {
   "cell_type": "markdown",
   "id": "f63fd3cf",
   "metadata": {
    "papermill": {
     "duration": 0.008506,
     "end_time": "2023-06-03T08:36:31.750298",
     "exception": false,
     "start_time": "2023-06-03T08:36:31.741792",
     "status": "completed"
    },
    "tags": []
   },
   "source": [
    "# Model Hyper parameters"
   ]
  },
  {
   "cell_type": "code",
   "execution_count": 3,
   "id": "948a67f4",
   "metadata": {
    "execution": {
     "iopub.execute_input": "2023-06-03T08:36:31.770438Z",
     "iopub.status.busy": "2023-06-03T08:36:31.768667Z",
     "iopub.status.idle": "2023-06-03T08:36:31.773881Z",
     "shell.execute_reply": "2023-06-03T08:36:31.773036Z"
    },
    "papermill": {
     "duration": 0.016167,
     "end_time": "2023-06-03T08:36:31.775803",
     "exception": false,
     "start_time": "2023-06-03T08:36:31.759636",
     "status": "completed"
    },
    "tags": []
   },
   "outputs": [],
   "source": [
    "train_path = \"/kaggle/input/extracting-attributes-from-fashion-images-2/train\"\n",
    "BATCH_SIZE = 64\n",
    "EPOCHS = 15\n",
    "INPUT_SHAPE = 244"
   ]
  },
  {
   "cell_type": "markdown",
   "id": "be43147f",
   "metadata": {
    "papermill": {
     "duration": 0.007712,
     "end_time": "2023-06-03T08:36:31.791392",
     "exception": false,
     "start_time": "2023-06-03T08:36:31.783680",
     "status": "completed"
    },
    "tags": []
   },
   "source": [
    "# Data Importing"
   ]
  },
  {
   "cell_type": "code",
   "execution_count": 4,
   "id": "11f2552c",
   "metadata": {
    "execution": {
     "iopub.execute_input": "2023-06-03T08:36:31.808585Z",
     "iopub.status.busy": "2023-06-03T08:36:31.807981Z",
     "iopub.status.idle": "2023-06-03T08:36:31.855427Z",
     "shell.execute_reply": "2023-06-03T08:36:31.854603Z"
    },
    "papermill": {
     "duration": 0.058214,
     "end_time": "2023-06-03T08:36:31.857469",
     "exception": false,
     "start_time": "2023-06-03T08:36:31.799255",
     "status": "completed"
    },
    "tags": []
   },
   "outputs": [
    {
     "data": {
      "text/html": [
       "<div>\n",
       "<style scoped>\n",
       "    .dataframe tbody tr th:only-of-type {\n",
       "        vertical-align: middle;\n",
       "    }\n",
       "\n",
       "    .dataframe tbody tr th {\n",
       "        vertical-align: top;\n",
       "    }\n",
       "\n",
       "    .dataframe thead th {\n",
       "        text-align: right;\n",
       "    }\n",
       "</style>\n",
       "<table border=\"1\" class=\"dataframe\">\n",
       "  <thead>\n",
       "    <tr style=\"text-align: right;\">\n",
       "      <th></th>\n",
       "      <th>file_name</th>\n",
       "      <th>label</th>\n",
       "    </tr>\n",
       "  </thead>\n",
       "  <tbody>\n",
       "    <tr>\n",
       "      <th>0</th>\n",
       "      <td>Image_train_00001.jpg</td>\n",
       "      <td>0</td>\n",
       "    </tr>\n",
       "    <tr>\n",
       "      <th>1</th>\n",
       "      <td>Image_train_00002.jpg</td>\n",
       "      <td>1</td>\n",
       "    </tr>\n",
       "    <tr>\n",
       "      <th>2</th>\n",
       "      <td>Image_train_00003.jpg</td>\n",
       "      <td>0</td>\n",
       "    </tr>\n",
       "    <tr>\n",
       "      <th>3</th>\n",
       "      <td>Image_train_00004.jpg</td>\n",
       "      <td>0</td>\n",
       "    </tr>\n",
       "    <tr>\n",
       "      <th>4</th>\n",
       "      <td>Image_train_00005.jpg</td>\n",
       "      <td>0</td>\n",
       "    </tr>\n",
       "    <tr>\n",
       "      <th>...</th>\n",
       "      <td>...</td>\n",
       "      <td>...</td>\n",
       "    </tr>\n",
       "    <tr>\n",
       "      <th>18386</th>\n",
       "      <td>Image_train_18387.jpg</td>\n",
       "      <td>1</td>\n",
       "    </tr>\n",
       "    <tr>\n",
       "      <th>18387</th>\n",
       "      <td>Image_train_18388.jpg</td>\n",
       "      <td>2</td>\n",
       "    </tr>\n",
       "    <tr>\n",
       "      <th>18388</th>\n",
       "      <td>Image_train_18389.jpg</td>\n",
       "      <td>1</td>\n",
       "    </tr>\n",
       "    <tr>\n",
       "      <th>18389</th>\n",
       "      <td>Image_train_18390.jpg</td>\n",
       "      <td>1</td>\n",
       "    </tr>\n",
       "    <tr>\n",
       "      <th>18390</th>\n",
       "      <td>Image_train_18391.jpg</td>\n",
       "      <td>1</td>\n",
       "    </tr>\n",
       "  </tbody>\n",
       "</table>\n",
       "<p>18391 rows × 2 columns</p>\n",
       "</div>"
      ],
      "text/plain": [
       "                   file_name  label\n",
       "0      Image_train_00001.jpg      0\n",
       "1      Image_train_00002.jpg      1\n",
       "2      Image_train_00003.jpg      0\n",
       "3      Image_train_00004.jpg      0\n",
       "4      Image_train_00005.jpg      0\n",
       "...                      ...    ...\n",
       "18386  Image_train_18387.jpg      1\n",
       "18387  Image_train_18388.jpg      2\n",
       "18388  Image_train_18389.jpg      1\n",
       "18389  Image_train_18390.jpg      1\n",
       "18390  Image_train_18391.jpg      1\n",
       "\n",
       "[18391 rows x 2 columns]"
      ]
     },
     "execution_count": 4,
     "metadata": {},
     "output_type": "execute_result"
    }
   ],
   "source": [
    "# training data\n",
    "train_df = pd.read_csv(\"/kaggle/input/extracting-attributes-from-fashion-images-2/train.csv\")\n",
    "train_df"
   ]
  },
  {
   "cell_type": "code",
   "execution_count": 5,
   "id": "ccd83139",
   "metadata": {
    "execution": {
     "iopub.execute_input": "2023-06-03T08:36:31.876355Z",
     "iopub.status.busy": "2023-06-03T08:36:31.874971Z",
     "iopub.status.idle": "2023-06-03T08:36:31.896875Z",
     "shell.execute_reply": "2023-06-03T08:36:31.896061Z"
    },
    "papermill": {
     "duration": 0.03318,
     "end_time": "2023-06-03T08:36:31.899088",
     "exception": false,
     "start_time": "2023-06-03T08:36:31.865908",
     "status": "completed"
    },
    "tags": []
   },
   "outputs": [
    {
     "data": {
      "text/html": [
       "<div>\n",
       "<style scoped>\n",
       "    .dataframe tbody tr th:only-of-type {\n",
       "        vertical-align: middle;\n",
       "    }\n",
       "\n",
       "    .dataframe tbody tr th {\n",
       "        vertical-align: top;\n",
       "    }\n",
       "\n",
       "    .dataframe thead th {\n",
       "        text-align: right;\n",
       "    }\n",
       "</style>\n",
       "<table border=\"1\" class=\"dataframe\">\n",
       "  <thead>\n",
       "    <tr style=\"text-align: right;\">\n",
       "      <th></th>\n",
       "      <th>file_name</th>\n",
       "      <th>label</th>\n",
       "    </tr>\n",
       "  </thead>\n",
       "  <tbody>\n",
       "    <tr>\n",
       "      <th>0</th>\n",
       "      <td>Image_test_00001.jpg</td>\n",
       "      <td>0</td>\n",
       "    </tr>\n",
       "    <tr>\n",
       "      <th>1</th>\n",
       "      <td>Image_test_00002.jpg</td>\n",
       "      <td>0</td>\n",
       "    </tr>\n",
       "    <tr>\n",
       "      <th>2</th>\n",
       "      <td>Image_test_00003.jpg</td>\n",
       "      <td>0</td>\n",
       "    </tr>\n",
       "    <tr>\n",
       "      <th>3</th>\n",
       "      <td>Image_test_00004.jpg</td>\n",
       "      <td>0</td>\n",
       "    </tr>\n",
       "    <tr>\n",
       "      <th>4</th>\n",
       "      <td>Image_test_00005.jpg</td>\n",
       "      <td>0</td>\n",
       "    </tr>\n",
       "    <tr>\n",
       "      <th>...</th>\n",
       "      <td>...</td>\n",
       "      <td>...</td>\n",
       "    </tr>\n",
       "    <tr>\n",
       "      <th>5746</th>\n",
       "      <td>Image_test_05747.jpg</td>\n",
       "      <td>0</td>\n",
       "    </tr>\n",
       "    <tr>\n",
       "      <th>5747</th>\n",
       "      <td>Image_test_05748.jpg</td>\n",
       "      <td>0</td>\n",
       "    </tr>\n",
       "    <tr>\n",
       "      <th>5748</th>\n",
       "      <td>Image_test_05749.jpg</td>\n",
       "      <td>0</td>\n",
       "    </tr>\n",
       "    <tr>\n",
       "      <th>5749</th>\n",
       "      <td>Image_test_05750.jpg</td>\n",
       "      <td>0</td>\n",
       "    </tr>\n",
       "    <tr>\n",
       "      <th>5750</th>\n",
       "      <td>Image_test_05751.jpg</td>\n",
       "      <td>0</td>\n",
       "    </tr>\n",
       "  </tbody>\n",
       "</table>\n",
       "<p>5751 rows × 2 columns</p>\n",
       "</div>"
      ],
      "text/plain": [
       "                 file_name  label\n",
       "0     Image_test_00001.jpg      0\n",
       "1     Image_test_00002.jpg      0\n",
       "2     Image_test_00003.jpg      0\n",
       "3     Image_test_00004.jpg      0\n",
       "4     Image_test_00005.jpg      0\n",
       "...                    ...    ...\n",
       "5746  Image_test_05747.jpg      0\n",
       "5747  Image_test_05748.jpg      0\n",
       "5748  Image_test_05749.jpg      0\n",
       "5749  Image_test_05750.jpg      0\n",
       "5750  Image_test_05751.jpg      0\n",
       "\n",
       "[5751 rows x 2 columns]"
      ]
     },
     "execution_count": 5,
     "metadata": {},
     "output_type": "execute_result"
    }
   ],
   "source": [
    "# testing data\n",
    "test_df = pd.read_csv(\"/kaggle/input/extracting-attributes-from-fashion-images-2/sample_submission.csv\")\n",
    "test_df"
   ]
  },
  {
   "cell_type": "markdown",
   "id": "ea027aef",
   "metadata": {
    "papermill": {
     "duration": 0.008266,
     "end_time": "2023-06-03T08:36:31.915864",
     "exception": false,
     "start_time": "2023-06-03T08:36:31.907598",
     "status": "completed"
    },
    "tags": []
   },
   "source": [
    "## Checking for Imbalance in the dataset"
   ]
  },
  {
   "cell_type": "code",
   "execution_count": 6,
   "id": "fc06e1f6",
   "metadata": {
    "execution": {
     "iopub.execute_input": "2023-06-03T08:36:31.933936Z",
     "iopub.status.busy": "2023-06-03T08:36:31.933662Z",
     "iopub.status.idle": "2023-06-03T08:36:31.944174Z",
     "shell.execute_reply": "2023-06-03T08:36:31.943329Z"
    },
    "papermill": {
     "duration": 0.021729,
     "end_time": "2023-06-03T08:36:31.946114",
     "exception": false,
     "start_time": "2023-06-03T08:36:31.924385",
     "status": "completed"
    },
    "tags": []
   },
   "outputs": [
    {
     "data": {
      "text/plain": [
       "1    5384\n",
       "2    4084\n",
       "3    2008\n",
       "4    1972\n",
       "6    1925\n",
       "5    1616\n",
       "0    1402\n",
       "Name: label, dtype: int64"
      ]
     },
     "execution_count": 6,
     "metadata": {},
     "output_type": "execute_result"
    }
   ],
   "source": [
    "train_df.label.value_counts()"
   ]
  },
  {
   "cell_type": "code",
   "execution_count": 7,
   "id": "e19c8902",
   "metadata": {
    "execution": {
     "iopub.execute_input": "2023-06-03T08:36:31.964355Z",
     "iopub.status.busy": "2023-06-03T08:36:31.963848Z",
     "iopub.status.idle": "2023-06-03T08:36:31.970438Z",
     "shell.execute_reply": "2023-06-03T08:36:31.969550Z"
    },
    "papermill": {
     "duration": 0.017903,
     "end_time": "2023-06-03T08:36:31.972471",
     "exception": false,
     "start_time": "2023-06-03T08:36:31.954568",
     "status": "completed"
    },
    "tags": []
   },
   "outputs": [
    {
     "data": {
      "text/plain": [
       "0    5751\n",
       "Name: label, dtype: int64"
      ]
     },
     "execution_count": 7,
     "metadata": {},
     "output_type": "execute_result"
    }
   ],
   "source": [
    "test_df.label.value_counts()"
   ]
  },
  {
   "cell_type": "code",
   "execution_count": 8,
   "id": "959b3a6a",
   "metadata": {
    "execution": {
     "iopub.execute_input": "2023-06-03T08:36:31.991495Z",
     "iopub.status.busy": "2023-06-03T08:36:31.990969Z",
     "iopub.status.idle": "2023-06-03T08:36:31.998681Z",
     "shell.execute_reply": "2023-06-03T08:36:31.997776Z"
    },
    "papermill": {
     "duration": 0.019273,
     "end_time": "2023-06-03T08:36:32.000610",
     "exception": false,
     "start_time": "2023-06-03T08:36:31.981337",
     "status": "completed"
    },
    "tags": []
   },
   "outputs": [
    {
     "data": {
      "text/plain": [
       "array([0, 1, 2, 3, 5, 4, 6])"
      ]
     },
     "execution_count": 8,
     "metadata": {},
     "output_type": "execute_result"
    }
   ],
   "source": [
    "train_df.label.unique()"
   ]
  },
  {
   "cell_type": "code",
   "execution_count": 9,
   "id": "1f118b7d",
   "metadata": {
    "execution": {
     "iopub.execute_input": "2023-06-03T08:36:32.020663Z",
     "iopub.status.busy": "2023-06-03T08:36:32.019297Z",
     "iopub.status.idle": "2023-06-03T08:36:32.885943Z",
     "shell.execute_reply": "2023-06-03T08:36:32.885048Z"
    },
    "papermill": {
     "duration": 0.878502,
     "end_time": "2023-06-03T08:36:32.888080",
     "exception": false,
     "start_time": "2023-06-03T08:36:32.009578",
     "status": "completed"
    },
    "tags": []
   },
   "outputs": [
    {
     "data": {
      "text/plain": [
       "[1.8739555736702669,\n",
       " 0.4879802589683719,\n",
       " 0.6433118791101161,\n",
       " 1.3084092202618098,\n",
       " 1.3322949869603014,\n",
       " 1.6257956152758133,\n",
       " 1.3648237476808904]"
      ]
     },
     "execution_count": 9,
     "metadata": {},
     "output_type": "execute_result"
    }
   ],
   "source": [
    "# Creating class weights for imbalance dataset\n",
    "from sklearn.utils import class_weight\n",
    "class_weights = list(class_weight.compute_class_weight('balanced',\n",
    "                                                 classes=np.unique(train_df.label.to_numpy()),\n",
    "                                                 y=train_df.label.to_numpy()))\n",
    "class_weights"
   ]
  },
  {
   "cell_type": "code",
   "execution_count": 10,
   "id": "6912354f",
   "metadata": {
    "execution": {
     "iopub.execute_input": "2023-06-03T08:36:32.907740Z",
     "iopub.status.busy": "2023-06-03T08:36:32.906958Z",
     "iopub.status.idle": "2023-06-03T08:36:32.913425Z",
     "shell.execute_reply": "2023-06-03T08:36:32.912524Z"
    },
    "papermill": {
     "duration": 0.018236,
     "end_time": "2023-06-03T08:36:32.915333",
     "exception": false,
     "start_time": "2023-06-03T08:36:32.897097",
     "status": "completed"
    },
    "tags": []
   },
   "outputs": [
    {
     "data": {
      "text/plain": [
       "{0: 1.8739555736702669,\n",
       " 1: 0.4879802589683719,\n",
       " 2: 0.6433118791101161,\n",
       " 3: 1.3084092202618098,\n",
       " 4: 1.3322949869603014,\n",
       " 5: 1.6257956152758133,\n",
       " 6: 1.3648237476808904}"
      ]
     },
     "execution_count": 10,
     "metadata": {},
     "output_type": "execute_result"
    }
   ],
   "source": [
    "weights = {x:y for x,y in enumerate(class_weights)}\n",
    "weights"
   ]
  },
  {
   "cell_type": "markdown",
   "id": "e3474ab4",
   "metadata": {
    "papermill": {
     "duration": 0.008778,
     "end_time": "2023-06-03T08:36:32.933684",
     "exception": false,
     "start_time": "2023-06-03T08:36:32.924906",
     "status": "completed"
    },
    "tags": []
   },
   "source": [
    "# Visualization the dataset"
   ]
  },
  {
   "cell_type": "code",
   "execution_count": 11,
   "id": "6cb395fd",
   "metadata": {
    "execution": {
     "iopub.execute_input": "2023-06-03T08:36:32.953395Z",
     "iopub.status.busy": "2023-06-03T08:36:32.952632Z",
     "iopub.status.idle": "2023-06-03T08:36:33.149845Z",
     "shell.execute_reply": "2023-06-03T08:36:33.148962Z"
    },
    "papermill": {
     "duration": 0.211601,
     "end_time": "2023-06-03T08:36:33.154230",
     "exception": false,
     "start_time": "2023-06-03T08:36:32.942629",
     "status": "completed"
    },
    "tags": []
   },
   "outputs": [
    {
     "data": {
      "image/png": "[encoded data removed]",
      "text/plain": [
       "<Figure size 640x480 with 1 Axes>"
      ]
     },
     "metadata": {},
     "output_type": "display_data"
    }
   ],
   "source": [
    "from matplotlib import pyplot as plt\n",
    "\n",
    "train_files = os.listdir(train_path)\n",
    "img = cv.imread(train_path+\"/\"+train_files[1])\n",
    "plt.imshow(img)\n",
    "plt.xticks([])\n",
    "plt.yticks([])\n",
    "plt.show()"
   ]
  },
  {
   "cell_type": "markdown",
   "id": "2029c5e6",
   "metadata": {
    "papermill": {
     "duration": 0.01092,
     "end_time": "2023-06-03T08:36:33.186678",
     "exception": false,
     "start_time": "2023-06-03T08:36:33.175758",
     "status": "completed"
    },
    "tags": []
   },
   "source": [
    "# Creating Data Pipelines"
   ]
  },
  {
   "cell_type": "code",
   "execution_count": 12,
   "id": "4d649744",
   "metadata": {
    "execution": {
     "iopub.execute_input": "2023-06-03T08:36:33.207823Z",
     "iopub.status.busy": "2023-06-03T08:36:33.207530Z",
     "iopub.status.idle": "2023-06-03T08:36:41.136069Z",
     "shell.execute_reply": "2023-06-03T08:36:41.135165Z"
    },
    "papermill": {
     "duration": 7.941781,
     "end_time": "2023-06-03T08:36:41.138351",
     "exception": false,
     "start_time": "2023-06-03T08:36:33.196570",
     "status": "completed"
    },
    "tags": []
   },
   "outputs": [
    {
     "name": "stdout",
     "output_type": "stream",
     "text": [
      "Found 18391 validated image filenames belonging to 7 classes.\n"
     ]
    }
   ],
   "source": [
    "from tensorflow.keras.preprocessing.image import ImageDataGenerator\n",
    "\n",
    "train_df['label'] = train_df['label'].astype(str)\n",
    "\n",
    "datagen = ImageDataGenerator(\n",
    "    rescale=1/255.0,\n",
    "    rotation_range=20,\n",
    "    zoom_range=0.05,\n",
    "    width_shift_range=0.05,\n",
    "    height_shift_range=0.05,\n",
    "    shear_range=0.05,\n",
    "    horizontal_flip=True,\n",
    "    fill_mode = \"nearest\",\n",
    ")\n",
    "\n",
    "train_generator=datagen.flow_from_dataframe(\n",
    "    dataframe=train_df,\n",
    "    directory=\"/kaggle/input/extracting-attributes-from-fashion-images-2/train\",\n",
    "    x_col=\"file_name\",\n",
    "    y_col=\"label\",\n",
    "    subset=\"training\",\n",
    "    batch_size=BATCH_SIZE,\n",
    "    seed=42,\n",
    "    shuffle=True,\n",
    "    class_mode=\"sparse\",\n",
    "    target_size=(INPUT_SHAPE,INPUT_SHAPE))\n"
   ]
  },
  {
   "cell_type": "code",
   "execution_count": 13,
   "id": "10837d61",
   "metadata": {
    "execution": {
     "iopub.execute_input": "2023-06-03T08:36:41.160187Z",
     "iopub.status.busy": "2023-06-03T08:36:41.159880Z",
     "iopub.status.idle": "2023-06-03T08:36:43.704231Z",
     "shell.execute_reply": "2023-06-03T08:36:43.703319Z"
    },
    "papermill": {
     "duration": 2.557784,
     "end_time": "2023-06-03T08:36:43.706430",
     "exception": false,
     "start_time": "2023-06-03T08:36:41.148646",
     "status": "completed"
    },
    "tags": []
   },
   "outputs": [
    {
     "name": "stdout",
     "output_type": "stream",
     "text": [
      "Found 5751 validated image filenames belonging to 1 classes.\n"
     ]
    }
   ],
   "source": [
    "test_datagen=ImageDataGenerator(rescale=1./255.)\n",
    "\n",
    "test_df['label'] = test_df['label'].astype(str)\n",
    "\n",
    "test_generator=test_datagen.flow_from_dataframe(\n",
    "dataframe=test_df,\n",
    "directory=\"/kaggle/input/extracting-attributes-from-fashion-images-2/test\",\n",
    "x_col=\"file_name\",\n",
    "y_col=\"label\",\n",
    "batch_size=BATCH_SIZE,\n",
    "seed=42,\n",
    "shuffle=False,\n",
    "class_mode=\"sparse\",\n",
    "target_size=(INPUT_SHAPE,INPUT_SHAPE))\n"
   ]
  },
  {
   "cell_type": "markdown",
   "id": "5169e553",
   "metadata": {
    "papermill": {
     "duration": 0.009913,
     "end_time": "2023-06-03T08:36:43.726767",
     "exception": false,
     "start_time": "2023-06-03T08:36:43.716854",
     "status": "completed"
    },
    "tags": []
   },
   "source": [
    "# Creating the Deep learning model"
   ]
  },
  {
   "cell_type": "code",
   "execution_count": 14,
   "id": "f1bd6d61",
   "metadata": {
    "execution": {
     "iopub.execute_input": "2023-06-03T08:36:43.749176Z",
     "iopub.status.busy": "2023-06-03T08:36:43.747746Z",
     "iopub.status.idle": "2023-06-03T08:36:47.515992Z",
     "shell.execute_reply": "2023-06-03T08:36:47.515090Z"
    },
    "papermill": {
     "duration": 3.781986,
     "end_time": "2023-06-03T08:36:47.518606",
     "exception": false,
     "start_time": "2023-06-03T08:36:43.736620",
     "status": "completed"
    },
    "tags": []
   },
   "outputs": [
    {
     "name": "stdout",
     "output_type": "stream",
     "text": [
      "Downloading data from https://storage.googleapis.com/tensorflow/keras-applications/vgg16/vgg16_weights_tf_dim_ordering_tf_kernels_notop.h5\n",
      "58889256/58889256 [==============================] - 0s 0us/step\n"
     ]
    }
   ],
   "source": [
    "from tensorflow.keras.models import Sequential\n",
    "from tensorflow.keras.layers import *\n",
    "from tensorflow import keras\n",
    "import tensorflow as tf\n",
    "from keras.applications import VGG16\n",
    "from tensorflow.python.keras import regularizers\n",
    "\n",
    "# Pre Trained Models \n",
    "\n",
    "conv_base = VGG16(weights=\"imagenet\",\n",
    "                 include_top=False,\n",
    "                 input_shape=(INPUT_SHAPE,INPUT_SHAPE,3)) # 244\n",
    "\n",
    "# conv_base = tf.keras.applications.Xception(\n",
    "#                  weights=\"imagenet\",\n",
    "#                  include_top=False,\n",
    "#                  input_shape=(299,299,3))\n",
    "\n",
    "\n",
    "# conv_base = tf.keras.applications.ConvNeXtBase(\n",
    "#     model_name=\"convnext_base\",\n",
    "#     include_top=False,\n",
    "#     weights=\"imagenet\",\n",
    "#     input_shape=(256,256,3),\n",
    "# )\n",
    "\n",
    "# conv_base = tf.keras.applications.mobilenet.MobileNet( include_top=False,\n",
    "#                                                            input_shape=(INPUT_SHAPE, INPUT_SHAPE,3),\n",
    "#                                                            weights='imagenet')    \n",
    "\n",
    "model = Sequential()\n",
    "\n",
    "model.add(conv_base)\n",
    "conv_base.trainable = False\n",
    "\n",
    "model.add(Flatten())\n",
    "\n",
    "model.add(Dense(256, activation='relu',kernel_regularizer=regularizers.l2(0.01)))\n",
    "model.add(BatchNormalization())\n",
    "\n",
    "\n",
    "model.add(Dense(7, activation='softmax'))\n",
    "\n",
    "model.compile(optimizer=keras.optimizers.Adam(lr=0.00001),loss=\"sparse_categorical_crossentropy\",metrics=[\"accuracy\"])"
   ]
  },
  {
   "cell_type": "code",
   "execution_count": 15,
   "id": "34be05e7",
   "metadata": {
    "execution": {
     "iopub.execute_input": "2023-06-03T08:36:47.542833Z",
     "iopub.status.busy": "2023-06-03T08:36:47.541183Z",
     "iopub.status.idle": "2023-06-03T08:36:47.588780Z",
     "shell.execute_reply": "2023-06-03T08:36:47.588040Z"
    },
    "papermill": {
     "duration": 0.084735,
     "end_time": "2023-06-03T08:36:47.614195",
     "exception": false,
     "start_time": "2023-06-03T08:36:47.529460",
     "status": "completed"
    },
    "tags": []
   },
   "outputs": [
    {
     "name": "stdout",
     "output_type": "stream",
     "text": [
      "Model: \"vgg16\"\n",
      "_________________________________________________________________\n",
      " Layer (type)                Output Shape              Param #   \n",
      "=================================================================\n",
      " input_1 (InputLayer)        [(None, 244, 244, 3)]     0         \n",
      "                                                                 \n",
      " block1_conv1 (Conv2D)       (None, 244, 244, 64)      1792      \n",
      "                                                                 \n",
      " block1_conv2 (Conv2D)       (None, 244, 244, 64)      36928     \n",
      "                                                                 \n",
      " block1_pool (MaxPooling2D)  (None, 122, 122, 64)      0         \n",
      "                                                                 \n",
      " block2_conv1 (Conv2D)       (None, 122, 122, 128)     73856     \n",
      "                                                                 \n",
      " block2_conv2 (Conv2D)       (None, 122, 122, 128)     147584    \n",
      "                                                                 \n",
      " block2_pool (MaxPooling2D)  (None, 61, 61, 128)       0         \n",
      "                                                                 \n",
      " block3_conv1 (Conv2D)       (None, 61, 61, 256)       295168    \n",
      "                                                                 \n",
      " block3_conv2 (Conv2D)       (None, 61, 61, 256)       590080    \n",
      "                                                                 \n",
      " block3_conv3 (Conv2D)       (None, 61, 61, 256)       590080    \n",
      "                                                                 \n",
      " block3_pool (MaxPooling2D)  (None, 30, 30, 256)       0         \n",
      "                                                                 \n",
      " block4_conv1 (Conv2D)       (None, 30, 30, 512)       1180160   \n",
      "                                                                 \n",
      " block4_conv2 (Conv2D)       (None, 30, 30, 512)       2359808   \n",
      "                                                                 \n",
      " block4_conv3 (Conv2D)       (None, 30, 30, 512)       2359808   \n",
      "                                                                 \n",
      " block4_pool (MaxPooling2D)  (None, 15, 15, 512)       0         \n",
      "                                                                 \n",
      " block5_conv1 (Conv2D)       (None, 15, 15, 512)       2359808   \n",
      "                                                                 \n",
      " block5_conv2 (Conv2D)       (None, 15, 15, 512)       2359808   \n",
      "                                                                 \n",
      " block5_conv3 (Conv2D)       (None, 15, 15, 512)       2359808   \n",
      "                                                                 \n",
      " block5_pool (MaxPooling2D)  (None, 7, 7, 512)         0         \n",
      "                                                                 \n",
      "=================================================================\n",
      "Total params: 14,714,688\n",
      "Trainable params: 0\n",
      "Non-trainable params: 14,714,688\n",
      "_________________________________________________________________\n"
     ]
    }
   ],
   "source": [
    "conv_base.summary()"
   ]
  },
  {
   "cell_type": "code",
   "execution_count": 16,
   "id": "7cc46b93",
   "metadata": {
    "execution": {
     "iopub.execute_input": "2023-06-03T08:36:47.643475Z",
     "iopub.status.busy": "2023-06-03T08:36:47.643159Z",
     "iopub.status.idle": "2023-06-03T08:36:47.670782Z",
     "shell.execute_reply": "2023-06-03T08:36:47.670044Z"
    },
    "papermill": {
     "duration": 0.066145,
     "end_time": "2023-06-03T08:36:47.694422",
     "exception": false,
     "start_time": "2023-06-03T08:36:47.628277",
     "status": "completed"
    },
    "tags": []
   },
   "outputs": [
    {
     "name": "stdout",
     "output_type": "stream",
     "text": [
      "Model: \"sequential\"\n",
      "_________________________________________________________________\n",
      " Layer (type)                Output Shape              Param #   \n",
      "=================================================================\n",
      " vgg16 (Functional)          (None, 7, 7, 512)         14714688  \n",
      "                                                                 \n",
      " flatten (Flatten)           (None, 25088)             0         \n",
      "                                                                 \n",
      " dense (Dense)               (None, 256)               6422784   \n",
      "                                                                 \n",
      " batch_normalization (BatchN  (None, 256)              1024      \n",
      " ormalization)                                                   \n",
      "                                                                 \n",
      " dense_1 (Dense)             (None, 7)                 1799      \n",
      "                                                                 \n",
      "=================================================================\n",
      "Total params: 21,140,295\n",
      "Trainable params: 6,425,095\n",
      "Non-trainable params: 14,715,200\n",
      "_________________________________________________________________\n"
     ]
    }
   ],
   "source": [
    "model.summary()"
   ]
  },
  {
   "cell_type": "markdown",
   "id": "30eeedfa",
   "metadata": {
    "papermill": {
     "duration": 0.03594,
     "end_time": "2023-06-03T08:36:47.765563",
     "exception": false,
     "start_time": "2023-06-03T08:36:47.729623",
     "status": "completed"
    },
    "tags": []
   },
   "source": [
    "# Training"
   ]
  },
  {
   "cell_type": "code",
   "execution_count": 17,
   "id": "67ee5933",
   "metadata": {
    "execution": {
     "iopub.execute_input": "2023-06-03T08:36:47.815520Z",
     "iopub.status.busy": "2023-06-03T08:36:47.815081Z",
     "iopub.status.idle": "2023-06-03T08:36:48.791798Z",
     "shell.execute_reply": "2023-06-03T08:36:48.790538Z"
    },
    "papermill": {
     "duration": 1.004828,
     "end_time": "2023-06-03T08:36:48.794252",
     "exception": false,
     "start_time": "2023-06-03T08:36:47.789424",
     "status": "completed"
    },
    "tags": []
   },
   "outputs": [],
   "source": [
    "# Setting up model callbacks\n",
    "! mkdir /kaggle/working/model/\n",
    "\n",
    "checkpoint=tf.keras.callbacks.ModelCheckpoint(filepath=\"/kaggle/working/model/CNN.h5\", \n",
    "                                              monitor='val_accuracy', \n",
    "                                              verbose=0, \n",
    "                                              save_best_only=True,\n",
    "                                              save_weights_only=False, \n",
    "                                              mode='auto', \n",
    "                                              save_freq='epoch', \n",
    "                                              options=None)"
   ]
  },
  {
   "cell_type": "code",
   "execution_count": 18,
   "id": "8c2d43fb",
   "metadata": {
    "execution": {
     "iopub.execute_input": "2023-06-03T08:36:48.827773Z",
     "iopub.status.busy": "2023-06-03T08:36:48.827419Z",
     "iopub.status.idle": "2023-06-03T10:06:02.603917Z",
     "shell.execute_reply": "2023-06-03T10:06:02.603007Z"
    },
    "papermill": {
     "duration": 5353.796056,
     "end_time": "2023-06-03T10:06:02.606025",
     "exception": false,
     "start_time": "2023-06-03T08:36:48.809969",
     "status": "completed"
    },
    "tags": []
   },
   "outputs": [
    {
     "name": "stdout",
     "output_type": "stream",
     "text": [
      "Epoch 1/15\n",
      "287/287 [==============================] - 402s 1s/step - loss: 2.3740 - accuracy: 0.5025 - val_loss: 6.0672 - val_accuracy: 0.0137\n",
      "Epoch 2/15\n",
      "287/287 [==============================] - 329s 1s/step - loss: 1.5444 - accuracy: 0.5351 - val_loss: 4.2750 - val_accuracy: 0.0444\n",
      "Epoch 3/15\n",
      "287/287 [==============================] - 329s 1s/step - loss: 1.4904 - accuracy: 0.5410 - val_loss: 4.0895 - val_accuracy: 0.0969\n",
      "Epoch 4/15\n",
      "287/287 [==============================] - 327s 1s/step - loss: 1.4447 - accuracy: 0.5373 - val_loss: 3.5024 - val_accuracy: 0.1322\n",
      "Epoch 5/15\n",
      "287/287 [==============================] - 327s 1s/step - loss: 1.4387 - accuracy: 0.5337 - val_loss: 7.1782 - val_accuracy: 5.2669e-04\n",
      "Epoch 6/15\n",
      "287/287 [==============================] - 342s 1s/step - loss: 1.4411 - accuracy: 0.5340 - val_loss: 3.2325 - val_accuracy: 0.0813\n",
      "Epoch 7/15\n",
      "287/287 [==============================] - 343s 1s/step - loss: 1.4247 - accuracy: 0.5352 - val_loss: 4.2619 - val_accuracy: 0.0546\n",
      "Epoch 8/15\n",
      "287/287 [==============================] - 344s 1s/step - loss: 1.4021 - accuracy: 0.5488 - val_loss: 5.3759 - val_accuracy: 0.0244\n",
      "Epoch 9/15\n",
      "287/287 [==============================] - 349s 1s/step - loss: 1.3724 - accuracy: 0.5471 - val_loss: 4.7200 - val_accuracy: 0.0425\n",
      "Epoch 10/15\n",
      "287/287 [==============================] - 347s 1s/step - loss: 1.3813 - accuracy: 0.5552 - val_loss: 5.7222 - val_accuracy: 0.0214\n",
      "Epoch 11/15\n",
      "287/287 [==============================] - 329s 1s/step - loss: 1.3402 - accuracy: 0.5641 - val_loss: 3.0457 - val_accuracy: 0.1566\n",
      "Epoch 12/15\n",
      "287/287 [==============================] - 331s 1s/step - loss: 1.3211 - accuracy: 0.5701 - val_loss: 19.6499 - val_accuracy: 0.0000e+00\n",
      "Epoch 13/15\n",
      "287/287 [==============================] - 330s 1s/step - loss: 1.3224 - accuracy: 0.5718 - val_loss: 4.6162 - val_accuracy: 0.0342\n",
      "Epoch 14/15\n",
      "287/287 [==============================] - 343s 1s/step - loss: 1.3020 - accuracy: 0.5780 - val_loss: 3.6636 - val_accuracy: 0.2509\n",
      "Epoch 15/15\n",
      "287/287 [==============================] - 341s 1s/step - loss: 1.2949 - accuracy: 0.5749 - val_loss: 7.9962 - val_accuracy: 0.0274\n"
     ]
    },
    {
     "data": {
      "image/png": "[encoded data removed]",
      "text/plain": [
       "<Figure size 640x480 with 1 Axes>"
      ]
     },
     "metadata": {},
     "output_type": "display_data"
    },
    {
     "data": {
      "image/png": "[encoded data removed]",
      "text/plain": [
       "<Figure size 640x480 with 1 Axes>"
      ]
     },
     "metadata": {},
     "output_type": "display_data"
    }
   ],
   "source": [
    "# Training the model\n",
    "\n",
    "STEP_SIZE_TRAIN=train_generator.n//train_generator.batch_size\n",
    "STEP_SIZE_TEST=test_generator.n//test_generator.batch_size\n",
    "\n",
    "history = model.fit(train_generator,\n",
    "                    steps_per_epoch=STEP_SIZE_TRAIN,\n",
    "                    validation_data=test_generator,\n",
    "                    validation_steps=STEP_SIZE_TEST,\n",
    "                    epochs=EPOCHS,\n",
    "                    callbacks=[checkpoint])\n",
    "#                     class_weight=weights)\n",
    "\n",
    "\n",
    "# summarize history for accuracy\n",
    "plt.plot(history.history['accuracy'])\n",
    "plt.plot(history.history['val_accuracy'])\n",
    "plt.title('model accuracy')\n",
    "plt.ylabel('accuracy')\n",
    "plt.xlabel('epoch')\n",
    "plt.legend(['train', 'test'], loc='upper left')\n",
    "plt.grid()\n",
    "plt.show()\n",
    "\n",
    "\n",
    "# summarize history for loss\n",
    "plt.plot(history.history['loss'])\n",
    "plt.plot(history.history['val_loss'])\n",
    "plt.title('model loss')\n",
    "plt.ylabel('loss')\n",
    "plt.xlabel('epoch')\n",
    "plt.legend(['train', 'test'], loc='upper left')\n",
    "plt.grid()\n",
    "plt.show()"
   ]
  },
  {
   "cell_type": "markdown",
   "id": "671f084f",
   "metadata": {
    "papermill": {
     "duration": 0.337528,
     "end_time": "2023-06-03T10:06:03.309227",
     "exception": false,
     "start_time": "2023-06-03T10:06:02.971699",
     "status": "completed"
    },
    "tags": []
   },
   "source": [
    "# Testing"
   ]
  },
  {
   "cell_type": "code",
   "execution_count": 19,
   "id": "1d02ad81",
   "metadata": {
    "execution": {
     "iopub.execute_input": "2023-06-03T10:06:03.994033Z",
     "iopub.status.busy": "2023-06-03T10:06:03.993063Z",
     "iopub.status.idle": "2023-06-03T10:06:04.593241Z",
     "shell.execute_reply": "2023-06-03T10:06:04.592261Z"
    },
    "papermill": {
     "duration": 0.943672,
     "end_time": "2023-06-03T10:06:04.595831",
     "exception": false,
     "start_time": "2023-06-03T10:06:03.652159",
     "status": "completed"
    },
    "tags": []
   },
   "outputs": [],
   "source": [
    "# importing the best model\n",
    "\n",
    "model = tf.keras.models.load_model(\"/kaggle/working/model/CNN.h5\")"
   ]
  },
  {
   "cell_type": "code",
   "execution_count": 20,
   "id": "266d601e",
   "metadata": {
    "execution": {
     "iopub.execute_input": "2023-06-03T10:06:05.398916Z",
     "iopub.status.busy": "2023-06-03T10:06:05.398576Z",
     "iopub.status.idle": "2023-06-03T10:06:46.910108Z",
     "shell.execute_reply": "2023-06-03T10:06:46.909139Z"
    },
    "papermill": {
     "duration": 42.246097,
     "end_time": "2023-06-03T10:06:47.251231",
     "exception": false,
     "start_time": "2023-06-03T10:06:05.005134",
     "status": "completed"
    },
    "tags": []
   },
   "outputs": [
    {
     "name": "stdout",
     "output_type": "stream",
     "text": [
      "89/89 [==============================] - 29s 320ms/step - loss: 3.6636 - accuracy: 0.2509\n"
     ]
    },
    {
     "data": {
      "text/plain": [
       "[3.663571834564209, 0.2508777976036072]"
      ]
     },
     "execution_count": 20,
     "metadata": {},
     "output_type": "execute_result"
    }
   ],
   "source": [
    "# Test accuracy\n",
    "test_generator.reset()\n",
    "model.evaluate(test_generator,\n",
    "steps=STEP_SIZE_TEST)"
   ]
  },
  {
   "cell_type": "code",
   "execution_count": 21,
   "id": "ba6f3ae6",
   "metadata": {
    "execution": {
     "iopub.execute_input": "2023-06-03T10:06:47.949270Z",
     "iopub.status.busy": "2023-06-03T10:06:47.948230Z",
     "iopub.status.idle": "2023-06-03T10:07:20.876750Z",
     "shell.execute_reply": "2023-06-03T10:07:20.875708Z"
    },
    "papermill": {
     "duration": 33.567919,
     "end_time": "2023-06-03T10:07:21.163860",
     "exception": false,
     "start_time": "2023-06-03T10:06:47.595941",
     "status": "completed"
    },
    "tags": []
   },
   "outputs": [
    {
     "name": "stdout",
     "output_type": "stream",
     "text": [
      "90/90 [==============================] - 32s 359ms/step\n"
     ]
    }
   ],
   "source": [
    "test_generator.reset()\n",
    "pred=model.predict(test_generator)"
   ]
  },
  {
   "cell_type": "code",
   "execution_count": 22,
   "id": "985776de",
   "metadata": {
    "execution": {
     "iopub.execute_input": "2023-06-03T10:07:21.944294Z",
     "iopub.status.busy": "2023-06-03T10:07:21.943908Z",
     "iopub.status.idle": "2023-06-03T10:07:22.039418Z",
     "shell.execute_reply": "2023-06-03T10:07:22.037711Z"
    },
    "papermill": {
     "duration": 0.528102,
     "end_time": "2023-06-03T10:07:22.041469",
     "exception": false,
     "start_time": "2023-06-03T10:07:21.513367",
     "status": "completed"
    },
    "tags": []
   },
   "outputs": [
    {
     "name": "stdout",
     "output_type": "stream",
     "text": [
      "[[1460  215  382 1759  516  109 1310]\n",
      " [   0    0    0    0    0    0    0]\n",
      " [   0    0    0    0    0    0    0]\n",
      " [   0    0    0    0    0    0    0]\n",
      " [   0    0    0    0    0    0    0]\n",
      " [   0    0    0    0    0    0    0]\n",
      " [   0    0    0    0    0    0    0]]\n"
     ]
    }
   ],
   "source": [
    "from sklearn.metrics import confusion_matrix\n",
    "y_pred=np.argmax(pred,axis=1)\n",
    "\n",
    "test_df['label'] = test_df['label'].astype(int)\n",
    "\n",
    "cm=confusion_matrix(test_df.label, y_pred)\n",
    "print(cm)"
   ]
  },
  {
   "cell_type": "markdown",
   "id": "31604751",
   "metadata": {
    "papermill": {
     "duration": 0.427015,
     "end_time": "2023-06-03T10:07:22.827585",
     "exception": false,
     "start_time": "2023-06-03T10:07:22.400570",
     "status": "completed"
    },
    "tags": []
   },
   "source": [
    "# Creating submission.csv"
   ]
  },
  {
   "cell_type": "code",
   "execution_count": 23,
   "id": "24d65f72",
   "metadata": {
    "execution": {
     "iopub.execute_input": "2023-06-03T10:07:23.535071Z",
     "iopub.status.busy": "2023-06-03T10:07:23.534705Z",
     "iopub.status.idle": "2023-06-03T10:07:23.559060Z",
     "shell.execute_reply": "2023-06-03T10:07:23.558213Z"
    },
    "papermill": {
     "duration": 0.382535,
     "end_time": "2023-06-03T10:07:23.561085",
     "exception": false,
     "start_time": "2023-06-03T10:07:23.178550",
     "status": "completed"
    },
    "tags": []
   },
   "outputs": [],
   "source": [
    "filenames=test_generator.filenames\n",
    "predictions=np.argmax(pred,axis=1)\n",
    "results=pd.DataFrame({\"Filename\":filenames,\n",
    "                      \"Predictions\":predictions})\n",
    "results.to_csv(\"submission.csv\",index=False)"
   ]
  },
  {
   "cell_type": "markdown",
   "id": "b872cf0d",
   "metadata": {
    "papermill": {
     "duration": 0.350125,
     "end_time": "2023-06-03T10:07:24.265241",
     "exception": false,
     "start_time": "2023-06-03T10:07:23.915116",
     "status": "completed"
    },
    "tags": []
   },
   "source": [
    "# Reasons for low testing accuracy \n",
    "**Problem**: Although the training and testing data belong to the same dataset, the split in the dataset is very different, training data has about 1402 belonging to class 0 and the testing data has all the data belonging to class 0. Inorder to make a model that generalizes well on the dataset we need at least a minimum of 5000 samples per class.So creating a good model with just 1402 images is a difficult task.\n",
    "\n",
    "**Solution 1**: Adding more data in the dataset would lead to better learning of the model and would remove any bias in the dataset. But this is not possible in our case.\n",
    "\n",
    "**Solution 2**: If adding data is not an option then using a pre-trained model could lead to better generalization. This is because pre trained models are trained for good feature extraction. This should work for our use case but from what I have learned while training the model, Due to the low amount of class 0 data in the dataset the pretrained model is also not able to learn well even though it generalizes well.\n",
    "\n"
   ]
  }
 ],
 "metadata": {
  "kernelspec": {
   "display_name": "Python 3",
   "language": "python",
   "name": "python3"
  },
  "language_info": {
   "codemirror_mode": {
    "name": "ipython",
    "version": 3
   },
   "file_extension": ".py",
   "mimetype": "text/x-python",
   "name": "python",
   "nbconvert_exporter": "python",
   "pygments_lexer": "ipython3",
   "version": "3.10.10"
  },
  "papermill": {
   "default_parameters": {},
   "duration": 5482.452428,
   "end_time": "2023-06-03T10:07:28.113370",
   "environment_variables": {},
   "exception": null,
   "input_path": "__notebook__.ipynb",
   "output_path": "__notebook__.ipynb",
   "parameters": {},
   "start_time": "2023-06-03T08:36:05.660942",
   "version": "2.4.0"
  }
 },
 "nbformat": 4,
 "nbformat_minor": 5
}
