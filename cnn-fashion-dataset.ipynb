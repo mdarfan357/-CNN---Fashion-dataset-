{
 "cells": [
  {
   "cell_type": "code",
   "execution_count": 1,
   "id": "79eb0b8c",
   "metadata": {
    "_cell_guid": "b1076dfc-b9ad-4769-8c92-a6c4dae69d19",
    "_uuid": "8f2839f25d086af736a60e9eeb907d3b93b6e0e5",
    "execution": {
     "iopub.execute_input": "2023-06-03T10:22:43.260622Z",
     "iopub.status.busy": "2023-06-03T10:22:43.260276Z",
     "iopub.status.idle": "2023-06-03T10:22:55.363589Z",
     "shell.execute_reply": "2023-06-03T10:22:55.362623Z"
    },
    "papermill": {
     "duration": 12.115289,
     "end_time": "2023-06-03T10:22:55.365987",
     "exception": false,
     "start_time": "2023-06-03T10:22:43.250698",
     "status": "completed"
    },
    "tags": []
   },
   "outputs": [],
   "source": [
    "# This Python 3 environment comes with many helpful analytics libraries installed\n",
    "# It is defined by the kaggle/python Docker image: https://github.com/kaggle/docker-python\n",
    "# For example, here's several helpful packages to load\n",
    "\n",
    "import numpy as np # linear algebra\n",
    "import pandas as pd # data processing, CSV file I/O (e.g. pd.read_csv)\n",
    "\n",
    "# Input data files are available in the read-only \"../input/\" directory\n",
    "# For example, running this (by clicking run or pressing Shift+Enter) will list all files under the input directory\n",
    "\n",
    "import os\n",
    "for dirname, _, filenames in os.walk('/kaggle/input'):\n",
    "    for filename in filenames:\n",
    "        os.path.join(dirname, filename)\n"
   ]
  },
  {
   "cell_type": "markdown",
   "id": "dad378c3",
   "metadata": {
    "papermill": {
     "duration": 0.007651,
     "end_time": "2023-06-03T10:22:55.381984",
     "exception": false,
     "start_time": "2023-06-03T10:22:55.374333",
     "status": "completed"
    },
    "tags": []
   },
   "source": [
    "# Importing Required Modules "
   ]
  },
  {
   "cell_type": "code",
   "execution_count": 2,
   "id": "6008469a",
   "metadata": {
    "execution": {
     "iopub.execute_input": "2023-06-03T10:22:55.399037Z",
     "iopub.status.busy": "2023-06-03T10:22:55.398743Z",
     "iopub.status.idle": "2023-06-03T10:23:03.714229Z",
     "shell.execute_reply": "2023-06-03T10:23:03.713221Z"
    },
    "papermill": {
     "duration": 8.326732,
     "end_time": "2023-06-03T10:23:03.716752",
     "exception": false,
     "start_time": "2023-06-03T10:22:55.390020",
     "status": "completed"
    },
    "tags": []
   },
   "outputs": [
    {
     "name": "stderr",
     "output_type": "stream",
     "text": [
      "/opt/conda/lib/python3.10/site-packages/tensorflow_io/python/ops/__init__.py:98: UserWarning: unable to load libtensorflow_io_plugins.so: unable to open file: libtensorflow_io_plugins.so, from paths: ['/opt/conda/lib/python3.10/site-packages/tensorflow_io/python/ops/libtensorflow_io_plugins.so']\n",
      "caused by: ['/opt/conda/lib/python3.10/site-packages/tensorflow_io/python/ops/libtensorflow_io_plugins.so: undefined symbol: _ZN3tsl6StatusC1EN10tensorflow5error4CodeESt17basic_string_viewIcSt11char_traitsIcEENS_14SourceLocationE']\n",
      "  warnings.warn(f\"unable to load libtensorflow_io_plugins.so: {e}\")\n",
      "/opt/conda/lib/python3.10/site-packages/tensorflow_io/python/ops/__init__.py:104: UserWarning: file system plugins are not loaded: unable to open file: libtensorflow_io.so, from paths: ['/opt/conda/lib/python3.10/site-packages/tensorflow_io/python/ops/libtensorflow_io.so']\n",
      "caused by: ['/opt/conda/lib/python3.10/site-packages/tensorflow_io/python/ops/libtensorflow_io.so: undefined symbol: _ZTVN10tensorflow13GcsFileSystemE']\n",
      "  warnings.warn(f\"file system plugins are not loaded: {e}\")\n"
     ]
    }
   ],
   "source": [
    "import pandas as pd\n",
    "import cv2 as cv\n",
    "from tensorflow.keras.models import Sequential\n",
    "from tensorflow.keras.layers import *\n",
    "import os"
   ]
  },
  {
   "cell_type": "markdown",
   "id": "39b0f784",
   "metadata": {
    "papermill": {
     "duration": 0.007887,
     "end_time": "2023-06-03T10:23:03.733016",
     "exception": false,
     "start_time": "2023-06-03T10:23:03.725129",
     "status": "completed"
    },
    "tags": []
   },
   "source": [
    "# Model Hyper parameters"
   ]
  },
  {
   "cell_type": "code",
   "execution_count": 3,
   "id": "93b89856",
   "metadata": {
    "execution": {
     "iopub.execute_input": "2023-06-03T10:23:03.750357Z",
     "iopub.status.busy": "2023-06-03T10:23:03.749784Z",
     "iopub.status.idle": "2023-06-03T10:23:03.754431Z",
     "shell.execute_reply": "2023-06-03T10:23:03.753563Z"
    },
    "papermill": {
     "duration": 0.015498,
     "end_time": "2023-06-03T10:23:03.756436",
     "exception": false,
     "start_time": "2023-06-03T10:23:03.740938",
     "status": "completed"
    },
    "tags": []
   },
   "outputs": [],
   "source": [
    "train_path = \"/kaggle/input/extracting-attributes-from-fashion-images-2/train\"\n",
    "BATCH_SIZE = 64\n",
    "EPOCHS = 25\n",
    "INPUT_SHAPE = 244"
   ]
  },
  {
   "cell_type": "markdown",
   "id": "619ebd4a",
   "metadata": {
    "papermill": {
     "duration": 0.007663,
     "end_time": "2023-06-03T10:23:03.771958",
     "exception": false,
     "start_time": "2023-06-03T10:23:03.764295",
     "status": "completed"
    },
    "tags": []
   },
   "source": [
    "# Data Importing"
   ]
  },
  {
   "cell_type": "code",
   "execution_count": 4,
   "id": "6d379c51",
   "metadata": {
    "execution": {
     "iopub.execute_input": "2023-06-03T10:23:03.789002Z",
     "iopub.status.busy": "2023-06-03T10:23:03.788683Z",
     "iopub.status.idle": "2023-06-03T10:23:03.827450Z",
     "shell.execute_reply": "2023-06-03T10:23:03.826626Z"
    },
    "papermill": {
     "duration": 0.049652,
     "end_time": "2023-06-03T10:23:03.829596",
     "exception": false,
     "start_time": "2023-06-03T10:23:03.779944",
     "status": "completed"
    },
    "tags": []
   },
   "outputs": [
    {
     "data": {
      "text/html": [
       "<div>\n",
       "<style scoped>\n",
       "    .dataframe tbody tr th:only-of-type {\n",
       "        vertical-align: middle;\n",
       "    }\n",
       "\n",
       "    .dataframe tbody tr th {\n",
       "        vertical-align: top;\n",
       "    }\n",
       "\n",
       "    .dataframe thead th {\n",
       "        text-align: right;\n",
       "    }\n",
       "</style>\n",
       "<table border=\"1\" class=\"dataframe\">\n",
       "  <thead>\n",
       "    <tr style=\"text-align: right;\">\n",
       "      <th></th>\n",
       "      <th>file_name</th>\n",
       "      <th>label</th>\n",
       "    </tr>\n",
       "  </thead>\n",
       "  <tbody>\n",
       "    <tr>\n",
       "      <th>0</th>\n",
       "      <td>Image_train_00001.jpg</td>\n",
       "      <td>0</td>\n",
       "    </tr>\n",
       "    <tr>\n",
       "      <th>1</th>\n",
       "      <td>Image_train_00002.jpg</td>\n",
       "      <td>1</td>\n",
       "    </tr>\n",
       "    <tr>\n",
       "      <th>2</th>\n",
       "      <td>Image_train_00003.jpg</td>\n",
       "      <td>0</td>\n",
       "    </tr>\n",
       "    <tr>\n",
       "      <th>3</th>\n",
       "      <td>Image_train_00004.jpg</td>\n",
       "      <td>0</td>\n",
       "    </tr>\n",
       "    <tr>\n",
       "      <th>4</th>\n",
       "      <td>Image_train_00005.jpg</td>\n",
       "      <td>0</td>\n",
       "    </tr>\n",
       "    <tr>\n",
       "      <th>...</th>\n",
       "      <td>...</td>\n",
       "      <td>...</td>\n",
       "    </tr>\n",
       "    <tr>\n",
       "      <th>18386</th>\n",
       "      <td>Image_train_18387.jpg</td>\n",
       "      <td>1</td>\n",
       "    </tr>\n",
       "    <tr>\n",
       "      <th>18387</th>\n",
       "      <td>Image_train_18388.jpg</td>\n",
       "      <td>2</td>\n",
       "    </tr>\n",
       "    <tr>\n",
       "      <th>18388</th>\n",
       "      <td>Image_train_18389.jpg</td>\n",
       "      <td>1</td>\n",
       "    </tr>\n",
       "    <tr>\n",
       "      <th>18389</th>\n",
       "      <td>Image_train_18390.jpg</td>\n",
       "      <td>1</td>\n",
       "    </tr>\n",
       "    <tr>\n",
       "      <th>18390</th>\n",
       "      <td>Image_train_18391.jpg</td>\n",
       "      <td>1</td>\n",
       "    </tr>\n",
       "  </tbody>\n",
       "</table>\n",
       "<p>18391 rows × 2 columns</p>\n",
       "</div>"
      ],
      "text/plain": [
       "                   file_name  label\n",
       "0      Image_train_00001.jpg      0\n",
       "1      Image_train_00002.jpg      1\n",
       "2      Image_train_00003.jpg      0\n",
       "3      Image_train_00004.jpg      0\n",
       "4      Image_train_00005.jpg      0\n",
       "...                      ...    ...\n",
       "18386  Image_train_18387.jpg      1\n",
       "18387  Image_train_18388.jpg      2\n",
       "18388  Image_train_18389.jpg      1\n",
       "18389  Image_train_18390.jpg      1\n",
       "18390  Image_train_18391.jpg      1\n",
       "\n",
       "[18391 rows x 2 columns]"
      ]
     },
     "execution_count": 4,
     "metadata": {},
     "output_type": "execute_result"
    }
   ],
   "source": [
    "# training data\n",
    "train_df = pd.read_csv(\"/kaggle/input/extracting-attributes-from-fashion-images-2/train.csv\")\n",
    "train_df"
   ]
  },
  {
   "cell_type": "code",
   "execution_count": 5,
   "id": "6a4819e3",
   "metadata": {
    "execution": {
     "iopub.execute_input": "2023-06-03T10:23:03.847686Z",
     "iopub.status.busy": "2023-06-03T10:23:03.846968Z",
     "iopub.status.idle": "2023-06-03T10:23:03.867712Z",
     "shell.execute_reply": "2023-06-03T10:23:03.866711Z"
    },
    "papermill": {
     "duration": 0.031888,
     "end_time": "2023-06-03T10:23:03.869860",
     "exception": false,
     "start_time": "2023-06-03T10:23:03.837972",
     "status": "completed"
    },
    "tags": []
   },
   "outputs": [
    {
     "data": {
      "text/html": [
       "<div>\n",
       "<style scoped>\n",
       "    .dataframe tbody tr th:only-of-type {\n",
       "        vertical-align: middle;\n",
       "    }\n",
       "\n",
       "    .dataframe tbody tr th {\n",
       "        vertical-align: top;\n",
       "    }\n",
       "\n",
       "    .dataframe thead th {\n",
       "        text-align: right;\n",
       "    }\n",
       "</style>\n",
       "<table border=\"1\" class=\"dataframe\">\n",
       "  <thead>\n",
       "    <tr style=\"text-align: right;\">\n",
       "      <th></th>\n",
       "      <th>file_name</th>\n",
       "      <th>label</th>\n",
       "    </tr>\n",
       "  </thead>\n",
       "  <tbody>\n",
       "    <tr>\n",
       "      <th>0</th>\n",
       "      <td>Image_test_00001.jpg</td>\n",
       "      <td>0</td>\n",
       "    </tr>\n",
       "    <tr>\n",
       "      <th>1</th>\n",
       "      <td>Image_test_00002.jpg</td>\n",
       "      <td>0</td>\n",
       "    </tr>\n",
       "    <tr>\n",
       "      <th>2</th>\n",
       "      <td>Image_test_00003.jpg</td>\n",
       "      <td>0</td>\n",
       "    </tr>\n",
       "    <tr>\n",
       "      <th>3</th>\n",
       "      <td>Image_test_00004.jpg</td>\n",
       "      <td>0</td>\n",
       "    </tr>\n",
       "    <tr>\n",
       "      <th>4</th>\n",
       "      <td>Image_test_00005.jpg</td>\n",
       "      <td>0</td>\n",
       "    </tr>\n",
       "    <tr>\n",
       "      <th>...</th>\n",
       "      <td>...</td>\n",
       "      <td>...</td>\n",
       "    </tr>\n",
       "    <tr>\n",
       "      <th>5746</th>\n",
       "      <td>Image_test_05747.jpg</td>\n",
       "      <td>0</td>\n",
       "    </tr>\n",
       "    <tr>\n",
       "      <th>5747</th>\n",
       "      <td>Image_test_05748.jpg</td>\n",
       "      <td>0</td>\n",
       "    </tr>\n",
       "    <tr>\n",
       "      <th>5748</th>\n",
       "      <td>Image_test_05749.jpg</td>\n",
       "      <td>0</td>\n",
       "    </tr>\n",
       "    <tr>\n",
       "      <th>5749</th>\n",
       "      <td>Image_test_05750.jpg</td>\n",
       "      <td>0</td>\n",
       "    </tr>\n",
       "    <tr>\n",
       "      <th>5750</th>\n",
       "      <td>Image_test_05751.jpg</td>\n",
       "      <td>0</td>\n",
       "    </tr>\n",
       "  </tbody>\n",
       "</table>\n",
       "<p>5751 rows × 2 columns</p>\n",
       "</div>"
      ],
      "text/plain": [
       "                 file_name  label\n",
       "0     Image_test_00001.jpg      0\n",
       "1     Image_test_00002.jpg      0\n",
       "2     Image_test_00003.jpg      0\n",
       "3     Image_test_00004.jpg      0\n",
       "4     Image_test_00005.jpg      0\n",
       "...                    ...    ...\n",
       "5746  Image_test_05747.jpg      0\n",
       "5747  Image_test_05748.jpg      0\n",
       "5748  Image_test_05749.jpg      0\n",
       "5749  Image_test_05750.jpg      0\n",
       "5750  Image_test_05751.jpg      0\n",
       "\n",
       "[5751 rows x 2 columns]"
      ]
     },
     "execution_count": 5,
     "metadata": {},
     "output_type": "execute_result"
    }
   ],
   "source": [
    "# testing data\n",
    "test_df = pd.read_csv(\"/kaggle/input/extracting-attributes-from-fashion-images-2/sample_submission.csv\")\n",
    "test_df"
   ]
  },
  {
   "cell_type": "markdown",
   "id": "7264626a",
   "metadata": {
    "papermill": {
     "duration": 0.008158,
     "end_time": "2023-06-03T10:23:03.886795",
     "exception": false,
     "start_time": "2023-06-03T10:23:03.878637",
     "status": "completed"
    },
    "tags": []
   },
   "source": [
    "## Checking for Imbalance in the dataset"
   ]
  },
  {
   "cell_type": "code",
   "execution_count": 6,
   "id": "26e0ff9d",
   "metadata": {
    "execution": {
     "iopub.execute_input": "2023-06-03T10:23:03.905240Z",
     "iopub.status.busy": "2023-06-03T10:23:03.904538Z",
     "iopub.status.idle": "2023-06-03T10:23:03.917623Z",
     "shell.execute_reply": "2023-06-03T10:23:03.915631Z"
    },
    "papermill": {
     "duration": 0.026102,
     "end_time": "2023-06-03T10:23:03.921396",
     "exception": false,
     "start_time": "2023-06-03T10:23:03.895294",
     "status": "completed"
    },
    "tags": []
   },
   "outputs": [
    {
     "data": {
      "text/plain": [
       "1    5384\n",
       "2    4084\n",
       "3    2008\n",
       "4    1972\n",
       "6    1925\n",
       "5    1616\n",
       "0    1402\n",
       "Name: label, dtype: int64"
      ]
     },
     "execution_count": 6,
     "metadata": {},
     "output_type": "execute_result"
    }
   ],
   "source": [
    "train_df.label.value_counts()"
   ]
  },
  {
   "cell_type": "code",
   "execution_count": 7,
   "id": "02dc1e0c",
   "metadata": {
    "execution": {
     "iopub.execute_input": "2023-06-03T10:23:03.957466Z",
     "iopub.status.busy": "2023-06-03T10:23:03.956951Z",
     "iopub.status.idle": "2023-06-03T10:23:03.974847Z",
     "shell.execute_reply": "2023-06-03T10:23:03.970660Z"
    },
    "papermill": {
     "duration": 0.039493,
     "end_time": "2023-06-03T10:23:03.977474",
     "exception": false,
     "start_time": "2023-06-03T10:23:03.937981",
     "status": "completed"
    },
    "tags": []
   },
   "outputs": [
    {
     "data": {
      "text/plain": [
       "0    5751\n",
       "Name: label, dtype: int64"
      ]
     },
     "execution_count": 7,
     "metadata": {},
     "output_type": "execute_result"
    }
   ],
   "source": [
    "test_df.label.value_counts()"
   ]
  },
  {
   "cell_type": "code",
   "execution_count": 8,
   "id": "cd4c9222",
   "metadata": {
    "execution": {
     "iopub.execute_input": "2023-06-03T10:23:04.012631Z",
     "iopub.status.busy": "2023-06-03T10:23:04.012111Z",
     "iopub.status.idle": "2023-06-03T10:23:04.021897Z",
     "shell.execute_reply": "2023-06-03T10:23:04.021085Z"
    },
    "papermill": {
     "duration": 0.037848,
     "end_time": "2023-06-03T10:23:04.027371",
     "exception": false,
     "start_time": "2023-06-03T10:23:03.989523",
     "status": "completed"
    },
    "tags": []
   },
   "outputs": [
    {
     "data": {
      "text/plain": [
       "array([0, 1, 2, 3, 5, 4, 6])"
      ]
     },
     "execution_count": 8,
     "metadata": {},
     "output_type": "execute_result"
    }
   ],
   "source": [
    "train_df.label.unique()"
   ]
  },
  {
   "cell_type": "code",
   "execution_count": 9,
   "id": "a7125067",
   "metadata": {
    "execution": {
     "iopub.execute_input": "2023-06-03T10:23:04.054095Z",
     "iopub.status.busy": "2023-06-03T10:23:04.053702Z",
     "iopub.status.idle": "2023-06-03T10:23:04.886841Z",
     "shell.execute_reply": "2023-06-03T10:23:04.885945Z"
    },
    "papermill": {
     "duration": 0.849393,
     "end_time": "2023-06-03T10:23:04.888869",
     "exception": false,
     "start_time": "2023-06-03T10:23:04.039476",
     "status": "completed"
    },
    "tags": []
   },
   "outputs": [
    {
     "data": {
      "text/plain": [
       "[1.8739555736702669,\n",
       " 0.4879802589683719,\n",
       " 0.6433118791101161,\n",
       " 1.3084092202618098,\n",
       " 1.3322949869603014,\n",
       " 1.6257956152758133,\n",
       " 1.3648237476808904]"
      ]
     },
     "execution_count": 9,
     "metadata": {},
     "output_type": "execute_result"
    }
   ],
   "source": [
    "# Creating class weights for imbalance dataset\n",
    "from sklearn.utils import class_weight\n",
    "class_weights = list(class_weight.compute_class_weight('balanced',\n",
    "                                                 classes=np.unique(train_df.label.to_numpy()),\n",
    "                                                 y=train_df.label.to_numpy()))\n",
    "class_weights"
   ]
  },
  {
   "cell_type": "code",
   "execution_count": 10,
   "id": "383a68b3",
   "metadata": {
    "execution": {
     "iopub.execute_input": "2023-06-03T10:23:04.908042Z",
     "iopub.status.busy": "2023-06-03T10:23:04.907754Z",
     "iopub.status.idle": "2023-06-03T10:23:04.913918Z",
     "shell.execute_reply": "2023-06-03T10:23:04.913062Z"
    },
    "papermill": {
     "duration": 0.018038,
     "end_time": "2023-06-03T10:23:04.915966",
     "exception": false,
     "start_time": "2023-06-03T10:23:04.897928",
     "status": "completed"
    },
    "tags": []
   },
   "outputs": [
    {
     "data": {
      "text/plain": [
       "{0: 1.8739555736702669,\n",
       " 1: 0.4879802589683719,\n",
       " 2: 0.6433118791101161,\n",
       " 3: 1.3084092202618098,\n",
       " 4: 1.3322949869603014,\n",
       " 5: 1.6257956152758133,\n",
       " 6: 1.3648237476808904}"
      ]
     },
     "execution_count": 10,
     "metadata": {},
     "output_type": "execute_result"
    }
   ],
   "source": [
    "weights = {x:y for x,y in enumerate(class_weights)}\n",
    "weights"
   ]
  },
  {
   "cell_type": "markdown",
   "id": "dcd50eba",
   "metadata": {
    "papermill": {
     "duration": 0.008712,
     "end_time": "2023-06-03T10:23:04.933880",
     "exception": false,
     "start_time": "2023-06-03T10:23:04.925168",
     "status": "completed"
    },
    "tags": []
   },
   "source": [
    "# Visualization the dataset"
   ]
  },
  {
   "cell_type": "code",
   "execution_count": 11,
   "id": "7d8344ba",
   "metadata": {
    "execution": {
     "iopub.execute_input": "2023-06-03T10:23:04.952804Z",
     "iopub.status.busy": "2023-06-03T10:23:04.952545Z",
     "iopub.status.idle": "2023-06-03T10:23:05.155546Z",
     "shell.execute_reply": "2023-06-03T10:23:05.154390Z"
    },
    "papermill": {
     "duration": 0.216629,
     "end_time": "2023-06-03T10:23:05.159383",
     "exception": false,
     "start_time": "2023-06-03T10:23:04.942754",
     "status": "completed"
    },
    "tags": []
   },
   "outputs": [
    {
     "data": {
      "image/png": "[encoded data removed]",
      "text/plain": [
       "<Figure size 640x480 with 1 Axes>"
      ]
     },
     "metadata": {},
     "output_type": "display_data"
    }
   ],
   "source": [
    "from matplotlib import pyplot as plt\n",
    "\n",
    "train_files = os.listdir(train_path)\n",
    "img = cv.imread(train_path+\"/\"+train_files[1])\n",
    "plt.imshow(img)\n",
    "plt.xticks([])\n",
    "plt.yticks([])\n",
    "plt.show()"
   ]
  },
  {
   "cell_type": "markdown",
   "id": "1e7e0651",
   "metadata": {
    "papermill": {
     "duration": 0.009983,
     "end_time": "2023-06-03T10:23:05.190024",
     "exception": false,
     "start_time": "2023-06-03T10:23:05.180041",
     "status": "completed"
    },
    "tags": []
   },
   "source": [
    "# Creating Data Pipelines"
   ]
  },
  {
   "cell_type": "code",
   "execution_count": 12,
   "id": "aa84d667",
   "metadata": {
    "execution": {
     "iopub.execute_input": "2023-06-03T10:23:05.211193Z",
     "iopub.status.busy": "2023-06-03T10:23:05.210923Z",
     "iopub.status.idle": "2023-06-03T10:23:15.484240Z",
     "shell.execute_reply": "2023-06-03T10:23:15.483320Z"
    },
    "papermill": {
     "duration": 10.286212,
     "end_time": "2023-06-03T10:23:15.486465",
     "exception": false,
     "start_time": "2023-06-03T10:23:05.200253",
     "status": "completed"
    },
    "tags": []
   },
   "outputs": [
    {
     "name": "stdout",
     "output_type": "stream",
     "text": [
      "Found 18391 validated image filenames belonging to 7 classes.\n"
     ]
    }
   ],
   "source": [
    "from tensorflow.keras.preprocessing.image import ImageDataGenerator\n",
    "\n",
    "train_df['label'] = train_df['label'].astype(str)\n",
    "\n",
    "datagen = ImageDataGenerator(\n",
    "    rescale=1/255.0,\n",
    "    rotation_range=20,\n",
    "    zoom_range=0.05,\n",
    "    width_shift_range=0.05,\n",
    "    height_shift_range=0.05,\n",
    "    shear_range=0.05,\n",
    "    horizontal_flip=True,\n",
    "    fill_mode = \"nearest\",\n",
    ")\n",
    "\n",
    "train_generator=datagen.flow_from_dataframe(\n",
    "    dataframe=train_df,\n",
    "    directory=\"/kaggle/input/extracting-attributes-from-fashion-images-2/train\",\n",
    "    x_col=\"file_name\",\n",
    "    y_col=\"label\",\n",
    "    subset=\"training\",\n",
    "    batch_size=BATCH_SIZE,\n",
    "    seed=42,\n",
    "    shuffle=True,\n",
    "    class_mode=\"sparse\",\n",
    "    target_size=(INPUT_SHAPE,INPUT_SHAPE))\n"
   ]
  },
  {
   "cell_type": "code",
   "execution_count": 13,
   "id": "595d92f7",
   "metadata": {
    "execution": {
     "iopub.execute_input": "2023-06-03T10:23:15.508228Z",
     "iopub.status.busy": "2023-06-03T10:23:15.507933Z",
     "iopub.status.idle": "2023-06-03T10:23:17.965880Z",
     "shell.execute_reply": "2023-06-03T10:23:17.964455Z"
    },
    "papermill": {
     "duration": 2.471083,
     "end_time": "2023-06-03T10:23:17.968018",
     "exception": false,
     "start_time": "2023-06-03T10:23:15.496935",
     "status": "completed"
    },
    "tags": []
   },
   "outputs": [
    {
     "name": "stdout",
     "output_type": "stream",
     "text": [
      "Found 5751 validated image filenames belonging to 1 classes.\n"
     ]
    }
   ],
   "source": [
    "test_datagen=ImageDataGenerator(rescale=1./255.)\n",
    "\n",
    "test_df['label'] = test_df['label'].astype(str)\n",
    "\n",
    "test_generator=test_datagen.flow_from_dataframe(\n",
    "dataframe=test_df,\n",
    "directory=\"/kaggle/input/extracting-attributes-from-fashion-images-2/test\",\n",
    "x_col=\"file_name\",\n",
    "y_col=\"label\",\n",
    "batch_size=BATCH_SIZE,\n",
    "seed=42,\n",
    "shuffle=False,\n",
    "class_mode=\"sparse\",\n",
    "target_size=(INPUT_SHAPE,INPUT_SHAPE))\n"
   ]
  },
  {
   "cell_type": "markdown",
   "id": "b5547e98",
   "metadata": {
    "papermill": {
     "duration": 0.009792,
     "end_time": "2023-06-03T10:23:17.988412",
     "exception": false,
     "start_time": "2023-06-03T10:23:17.978620",
     "status": "completed"
    },
    "tags": []
   },
   "source": [
    "# Creating the Deep learning model"
   ]
  },
  {
   "cell_type": "code",
   "execution_count": 14,
   "id": "895654f6",
   "metadata": {
    "execution": {
     "iopub.execute_input": "2023-06-03T10:23:18.010688Z",
     "iopub.status.busy": "2023-06-03T10:23:18.010388Z",
     "iopub.status.idle": "2023-06-03T10:23:21.830076Z",
     "shell.execute_reply": "2023-06-03T10:23:21.829178Z"
    },
    "papermill": {
     "duration": 3.833003,
     "end_time": "2023-06-03T10:23:21.832382",
     "exception": false,
     "start_time": "2023-06-03T10:23:17.999379",
     "status": "completed"
    },
    "tags": []
   },
   "outputs": [
    {
     "name": "stdout",
     "output_type": "stream",
     "text": [
      "Downloading data from https://storage.googleapis.com/tensorflow/keras-applications/vgg16/vgg16_weights_tf_dim_ordering_tf_kernels_notop.h5\n",
      "58889256/58889256 [==============================] - 0s 0us/step\n"
     ]
    }
   ],
   "source": [
    "from tensorflow.keras.models import Sequential\n",
    "from tensorflow.keras.layers import *\n",
    "from tensorflow import keras\n",
    "import tensorflow as tf\n",
    "from keras.applications import VGG16\n",
    "from tensorflow.python.keras import regularizers\n",
    "\n",
    "# Pre Trained Models \n",
    "\n",
    "conv_base = VGG16(weights=\"imagenet\",\n",
    "                 include_top=False,\n",
    "                 input_shape=(INPUT_SHAPE,INPUT_SHAPE,3)) # 244\n",
    "\n",
    "# conv_base = tf.keras.applications.Xception(\n",
    "#                  weights=\"imagenet\",\n",
    "#                  include_top=False,\n",
    "#                  input_shape=(299,299,3))\n",
    "\n",
    "\n",
    "# conv_base = tf.keras.applications.ConvNeXtBase(\n",
    "#     model_name=\"convnext_base\",\n",
    "#     include_top=False,\n",
    "#     weights=\"imagenet\",\n",
    "#     input_shape=(256,256,3),\n",
    "# )\n",
    "\n",
    "# conv_base = tf.keras.applications.mobilenet.MobileNet( include_top=False,\n",
    "#                                                            input_shape=(INPUT_SHAPE, INPUT_SHAPE,3),\n",
    "#                                                            weights='imagenet')    \n",
    "\n",
    "model = Sequential()\n",
    "\n",
    "model.add(conv_base)\n",
    "conv_base.trainable = False\n",
    "\n",
    "model.add(Flatten())\n",
    "\n",
    "model.add(Dense(256, activation='relu',kernel_regularizer=regularizers.l2(0.01)))\n",
    "model.add(BatchNormalization())\n",
    "\n",
    "\n",
    "model.add(Dense(7, activation='softmax'))\n",
    "\n",
    "model.compile(optimizer=keras.optimizers.Adam(lr=0.00001),loss=\"sparse_categorical_crossentropy\",metrics=[\"accuracy\"])"
   ]
  },
  {
   "cell_type": "code",
   "execution_count": 15,
   "id": "0d1ed74b",
   "metadata": {
    "execution": {
     "iopub.execute_input": "2023-06-03T10:23:21.855370Z",
     "iopub.status.busy": "2023-06-03T10:23:21.855039Z",
     "iopub.status.idle": "2023-06-03T10:23:21.894341Z",
     "shell.execute_reply": "2023-06-03T10:23:21.893608Z"
    },
    "papermill": {
     "duration": 0.081737,
     "end_time": "2023-06-03T10:23:21.925191",
     "exception": false,
     "start_time": "2023-06-03T10:23:21.843454",
     "status": "completed"
    },
    "tags": []
   },
   "outputs": [
    {
     "name": "stdout",
     "output_type": "stream",
     "text": [
      "Model: \"vgg16\"\n",
      "_________________________________________________________________\n",
      " Layer (type)                Output Shape              Param #   \n",
      "=================================================================\n",
      " input_1 (InputLayer)        [(None, 244, 244, 3)]     0         \n",
      "                                                                 \n",
      " block1_conv1 (Conv2D)       (None, 244, 244, 64)      1792      \n",
      "                                                                 \n",
      " block1_conv2 (Conv2D)       (None, 244, 244, 64)      36928     \n",
      "                                                                 \n",
      " block1_pool (MaxPooling2D)  (None, 122, 122, 64)      0         \n",
      "                                                                 \n",
      " block2_conv1 (Conv2D)       (None, 122, 122, 128)     73856     \n",
      "                                                                 \n",
      " block2_conv2 (Conv2D)       (None, 122, 122, 128)     147584    \n",
      "                                                                 \n",
      " block2_pool (MaxPooling2D)  (None, 61, 61, 128)       0         \n",
      "                                                                 \n",
      " block3_conv1 (Conv2D)       (None, 61, 61, 256)       295168    \n",
      "                                                                 \n",
      " block3_conv2 (Conv2D)       (None, 61, 61, 256)       590080    \n",
      "                                                                 \n",
      " block3_conv3 (Conv2D)       (None, 61, 61, 256)       590080    \n",
      "                                                                 \n",
      " block3_pool (MaxPooling2D)  (None, 30, 30, 256)       0         \n",
      "                                                                 \n",
      " block4_conv1 (Conv2D)       (None, 30, 30, 512)       1180160   \n",
      "                                                                 \n",
      " block4_conv2 (Conv2D)       (None, 30, 30, 512)       2359808   \n",
      "                                                                 \n",
      " block4_conv3 (Conv2D)       (None, 30, 30, 512)       2359808   \n",
      "                                                                 \n",
      " block4_pool (MaxPooling2D)  (None, 15, 15, 512)       0         \n",
      "                                                                 \n",
      " block5_conv1 (Conv2D)       (None, 15, 15, 512)       2359808   \n",
      "                                                                 \n",
      " block5_conv2 (Conv2D)       (None, 15, 15, 512)       2359808   \n",
      "                                                                 \n",
      " block5_conv3 (Conv2D)       (None, 15, 15, 512)       2359808   \n",
      "                                                                 \n",
      " block5_pool (MaxPooling2D)  (None, 7, 7, 512)         0         \n",
      "                                                                 \n",
      "=================================================================\n",
      "Total params: 14,714,688\n",
      "Trainable params: 0\n",
      "Non-trainable params: 14,714,688\n",
      "_________________________________________________________________\n"
     ]
    }
   ],
   "source": [
    "conv_base.summary()"
   ]
  },
  {
   "cell_type": "code",
   "execution_count": 16,
   "id": "131c1ff6",
   "metadata": {
    "execution": {
     "iopub.execute_input": "2023-06-03T10:23:21.954652Z",
     "iopub.status.busy": "2023-06-03T10:23:21.954111Z",
     "iopub.status.idle": "2023-06-03T10:23:21.975573Z",
     "shell.execute_reply": "2023-06-03T10:23:21.974404Z"
    },
    "papermill": {
     "duration": 0.045795,
     "end_time": "2023-06-03T10:23:21.985046",
     "exception": false,
     "start_time": "2023-06-03T10:23:21.939251",
     "status": "completed"
    },
    "tags": []
   },
   "outputs": [
    {
     "name": "stdout",
     "output_type": "stream",
     "text": [
      "Model: \"sequential\"\n",
      "_________________________________________________________________\n",
      " Layer (type)                Output Shape              Param #   \n",
      "=================================================================\n",
      " vgg16 (Functional)          (None, 7, 7, 512)         14714688  \n",
      "                                                                 \n",
      " flatten (Flatten)           (None, 25088)             0         \n",
      "                                                                 \n",
      " dense (Dense)               (None, 256)               6422784   \n",
      "                                                                 \n",
      " batch_normalization (BatchN  (None, 256)              1024      \n",
      " ormalization)                                                   \n",
      "                                                                 \n",
      " dense_1 (Dense)             (None, 7)                 1799      \n",
      "                                                                 \n",
      "=================================================================\n",
      "Total params: 21,140,295\n",
      "Trainable params: 6,425,095\n",
      "Non-trainable params: 14,715,200\n",
      "_________________________________________________________________\n"
     ]
    }
   ],
   "source": [
    "model.summary()"
   ]
  },
  {
   "cell_type": "markdown",
   "id": "5e6846e0",
   "metadata": {
    "papermill": {
     "duration": 0.015417,
     "end_time": "2023-06-03T10:23:22.016005",
     "exception": false,
     "start_time": "2023-06-03T10:23:22.000588",
     "status": "completed"
    },
    "tags": []
   },
   "source": [
    "# Training"
   ]
  },
  {
   "cell_type": "code",
   "execution_count": 17,
   "id": "77d83b19",
   "metadata": {
    "execution": {
     "iopub.execute_input": "2023-06-03T10:23:22.047991Z",
     "iopub.status.busy": "2023-06-03T10:23:22.047724Z",
     "iopub.status.idle": "2023-06-03T10:23:23.028544Z",
     "shell.execute_reply": "2023-06-03T10:23:23.026866Z"
    },
    "papermill": {
     "duration": 1.000117,
     "end_time": "2023-06-03T10:23:23.031311",
     "exception": false,
     "start_time": "2023-06-03T10:23:22.031194",
     "status": "completed"
    },
    "tags": []
   },
   "outputs": [],
   "source": [
    "# Setting up model callbacks\n",
    "! mkdir /kaggle/working/model/\n",
    "\n",
    "checkpoint=tf.keras.callbacks.ModelCheckpoint(filepath=\"/kaggle/working/model/CNN.h5\", \n",
    "                                              monitor='val_accuracy', \n",
    "                                              verbose=0, \n",
    "                                              save_best_only=True,\n",
    "                                              save_weights_only=False, \n",
    "                                              mode='auto', \n",
    "                                              save_freq='epoch', \n",
    "                                              options=None)"
   ]
  },
  {
   "cell_type": "code",
   "execution_count": 18,
   "id": "2fddc437",
   "metadata": {
    "execution": {
     "iopub.execute_input": "2023-06-03T10:23:23.070243Z",
     "iopub.status.busy": "2023-06-03T10:23:23.069109Z",
     "iopub.status.idle": "2023-06-03T13:06:36.126799Z",
     "shell.execute_reply": "2023-06-03T13:06:36.125878Z"
    },
    "papermill": {
     "duration": 9793.079302,
     "end_time": "2023-06-03T13:06:36.128965",
     "exception": false,
     "start_time": "2023-06-03T10:23:23.049663",
     "status": "completed"
    },
    "tags": []
   },
   "outputs": [
    {
     "name": "stdout",
     "output_type": "stream",
     "text": [
      "Epoch 1/25\n",
      "287/287 [==============================] - 476s 2s/step - loss: 2.4303 - accuracy: 0.5034 - val_loss: 3.8544 - val_accuracy: 0.1234\n",
      "Epoch 2/25\n",
      "287/287 [==============================] - 370s 1s/step - loss: 1.5504 - accuracy: 0.5367 - val_loss: 5.3108 - val_accuracy: 0.0276\n",
      "Epoch 3/25\n",
      "287/287 [==============================] - 382s 1s/step - loss: 1.4985 - accuracy: 0.5360 - val_loss: 4.6867 - val_accuracy: 0.0427\n",
      "Epoch 4/25\n",
      "287/287 [==============================] - 380s 1s/step - loss: 1.4528 - accuracy: 0.5384 - val_loss: 3.6542 - val_accuracy: 0.0939\n",
      "Epoch 5/25\n",
      "287/287 [==============================] - 368s 1s/step - loss: 1.4251 - accuracy: 0.5391 - val_loss: 6.7769 - val_accuracy: 0.0054\n",
      "Epoch 6/25\n",
      "287/287 [==============================] - 372s 1s/step - loss: 1.4118 - accuracy: 0.5482 - val_loss: 4.4589 - val_accuracy: 0.1041\n",
      "Epoch 7/25\n",
      "287/287 [==============================] - 375s 1s/step - loss: 1.4114 - accuracy: 0.5462 - val_loss: 5.9128 - val_accuracy: 0.0339\n",
      "Epoch 8/25\n",
      "287/287 [==============================] - 382s 1s/step - loss: 1.3829 - accuracy: 0.5499 - val_loss: 4.7039 - val_accuracy: 0.0548\n",
      "Epoch 9/25\n",
      "287/287 [==============================] - 382s 1s/step - loss: 1.3702 - accuracy: 0.5555 - val_loss: 3.7026 - val_accuracy: 0.0874\n",
      "Epoch 10/25\n",
      "287/287 [==============================] - 375s 1s/step - loss: 1.3489 - accuracy: 0.5594 - val_loss: 6.1536 - val_accuracy: 0.0269\n",
      "Epoch 11/25\n",
      "287/287 [==============================] - 371s 1s/step - loss: 1.3173 - accuracy: 0.5716 - val_loss: 4.1430 - val_accuracy: 0.0581\n",
      "Epoch 12/25\n",
      "287/287 [==============================] - 383s 1s/step - loss: 1.3196 - accuracy: 0.5692 - val_loss: 3.5360 - val_accuracy: 0.2402\n",
      "Epoch 13/25\n",
      "287/287 [==============================] - 372s 1s/step - loss: 1.3054 - accuracy: 0.5717 - val_loss: 5.5110 - val_accuracy: 0.0156\n",
      "Epoch 14/25\n",
      "287/287 [==============================] - 369s 1s/step - loss: 1.2947 - accuracy: 0.5722 - val_loss: 4.9462 - val_accuracy: 0.0474\n",
      "Epoch 15/25\n",
      "287/287 [==============================] - 383s 1s/step - loss: 1.3085 - accuracy: 0.5715 - val_loss: 4.6451 - val_accuracy: 0.0862\n",
      "Epoch 16/25\n",
      "287/287 [==============================] - 371s 1s/step - loss: 1.2759 - accuracy: 0.5756 - val_loss: 2.7589 - val_accuracy: 0.3348\n",
      "Epoch 17/25\n",
      "287/287 [==============================] - 383s 1s/step - loss: 1.2536 - accuracy: 0.5820 - val_loss: 5.7613 - val_accuracy: 0.0346\n",
      "Epoch 18/25\n",
      "287/287 [==============================] - 382s 1s/step - loss: 1.2440 - accuracy: 0.5876 - val_loss: 5.7488 - val_accuracy: 0.0176\n",
      "Epoch 19/25\n",
      "287/287 [==============================] - 383s 1s/step - loss: 1.2530 - accuracy: 0.5827 - val_loss: 4.0013 - val_accuracy: 0.1127\n",
      "Epoch 20/25\n",
      "287/287 [==============================] - 370s 1s/step - loss: 1.2445 - accuracy: 0.5859 - val_loss: 3.9613 - val_accuracy: 0.1217\n",
      "Epoch 21/25\n",
      "287/287 [==============================] - 380s 1s/step - loss: 1.2435 - accuracy: 0.5883 - val_loss: 6.3575 - val_accuracy: 0.0246\n",
      "Epoch 22/25\n",
      "287/287 [==============================] - 382s 1s/step - loss: 1.2250 - accuracy: 0.5863 - val_loss: 4.4069 - val_accuracy: 0.0700\n",
      "Epoch 23/25\n",
      "287/287 [==============================] - 378s 1s/step - loss: 1.2365 - accuracy: 0.5864 - val_loss: 7.4557 - val_accuracy: 0.0239\n",
      "Epoch 24/25\n",
      "287/287 [==============================] - 389s 1s/step - loss: 1.2364 - accuracy: 0.5860 - val_loss: 4.0602 - val_accuracy: 0.0692\n",
      "Epoch 25/25\n",
      "287/287 [==============================] - 374s 1s/step - loss: 1.2362 - accuracy: 0.5885 - val_loss: 7.1919 - val_accuracy: 0.0409\n"
     ]
    },
    {
     "data": {
      "image/png": "[encoded data removed]",
      "text/plain": [
       "<Figure size 640x480 with 1 Axes>"
      ]
     },
     "metadata": {},
     "output_type": "display_data"
    },
    {
     "data": {
      "image/png": "[encoded data removed]",
      "text/plain": [
       "<Figure size 640x480 with 1 Axes>"
      ]
     },
     "metadata": {},
     "output_type": "display_data"
    }
   ],
   "source": [
    "# Training the model\n",
    "\n",
    "STEP_SIZE_TRAIN=train_generator.n//train_generator.batch_size\n",
    "STEP_SIZE_TEST=test_generator.n//test_generator.batch_size\n",
    "\n",
    "history = model.fit(train_generator,\n",
    "                    steps_per_epoch=STEP_SIZE_TRAIN,\n",
    "                    validation_data=test_generator,\n",
    "                    validation_steps=STEP_SIZE_TEST,\n",
    "                    epochs=EPOCHS,\n",
    "                    callbacks=[checkpoint])\n",
    "#                     class_weight=weights)\n",
    "\n",
    "\n",
    "# summarize history for accuracy\n",
    "plt.plot(history.history['accuracy'])\n",
    "plt.plot(history.history['val_accuracy'])\n",
    "plt.title('model accuracy')\n",
    "plt.ylabel('accuracy')\n",
    "plt.xlabel('epoch')\n",
    "plt.legend(['train', 'test'], loc='upper left')\n",
    "plt.grid()\n",
    "plt.show()\n",
    "\n",
    "\n",
    "# summarize history for loss\n",
    "plt.plot(history.history['loss'])\n",
    "plt.plot(history.history['val_loss'])\n",
    "plt.title('model loss')\n",
    "plt.ylabel('loss')\n",
    "plt.xlabel('epoch')\n",
    "plt.legend(['train', 'test'], loc='upper left')\n",
    "plt.grid()\n",
    "plt.show()"
   ]
  },
  {
   "cell_type": "markdown",
   "id": "5f78e994",
   "metadata": {
    "papermill": {
     "duration": 0.544174,
     "end_time": "2023-06-03T13:06:37.219788",
     "exception": false,
     "start_time": "2023-06-03T13:06:36.675614",
     "status": "completed"
    },
    "tags": []
   },
   "source": [
    "# Testing"
   ]
  },
  {
   "cell_type": "code",
   "execution_count": 19,
   "id": "8b6b1a74",
   "metadata": {
    "execution": {
     "iopub.execute_input": "2023-06-03T13:06:38.377933Z",
     "iopub.status.busy": "2023-06-03T13:06:38.377437Z",
     "iopub.status.idle": "2023-06-03T13:06:39.202869Z",
     "shell.execute_reply": "2023-06-03T13:06:39.201918Z"
    },
    "papermill": {
     "duration": 1.434609,
     "end_time": "2023-06-03T13:06:39.205153",
     "exception": false,
     "start_time": "2023-06-03T13:06:37.770544",
     "status": "completed"
    },
    "tags": []
   },
   "outputs": [],
   "source": [
    "# importing the best model\n",
    "\n",
    "model = tf.keras.models.load_model(\"/kaggle/working/model/CNN.h5\")"
   ]
  },
  {
   "cell_type": "code",
   "execution_count": 20,
   "id": "bc319e6f",
   "metadata": {
    "execution": {
     "iopub.execute_input": "2023-06-03T13:06:40.471687Z",
     "iopub.status.busy": "2023-06-03T13:06:40.471300Z",
     "iopub.status.idle": "2023-06-03T13:07:09.145687Z",
     "shell.execute_reply": "2023-06-03T13:07:09.144223Z"
    },
    "papermill": {
     "duration": 29.304394,
     "end_time": "2023-06-03T13:07:09.153189",
     "exception": false,
     "start_time": "2023-06-03T13:06:39.848795",
     "status": "completed"
    },
    "tags": []
   },
   "outputs": [
    {
     "name": "stdout",
     "output_type": "stream",
     "text": [
      "89/89 [==============================] - 28s 312ms/step - loss: 2.7589 - accuracy: 0.3348\n"
     ]
    },
    {
     "data": {
      "text/plain": [
       "[2.7589151859283447, 0.33479633927345276]"
      ]
     },
     "execution_count": 20,
     "metadata": {},
     "output_type": "execute_result"
    }
   ],
   "source": [
    "# Test accuracy\n",
    "test_generator.reset()\n",
    "model.evaluate(test_generator,\n",
    "steps=STEP_SIZE_TEST)"
   ]
  },
  {
   "cell_type": "code",
   "execution_count": 21,
   "id": "94964885",
   "metadata": {
    "execution": {
     "iopub.execute_input": "2023-06-03T13:07:10.536743Z",
     "iopub.status.busy": "2023-06-03T13:07:10.536305Z",
     "iopub.status.idle": "2023-06-03T13:07:43.325108Z",
     "shell.execute_reply": "2023-06-03T13:07:43.324136Z"
    },
    "papermill": {
     "duration": 34.079225,
     "end_time": "2023-06-03T13:07:43.819068",
     "exception": false,
     "start_time": "2023-06-03T13:07:09.739843",
     "status": "completed"
    },
    "tags": []
   },
   "outputs": [
    {
     "name": "stdout",
     "output_type": "stream",
     "text": [
      "90/90 [==============================] - 32s 357ms/step\n"
     ]
    }
   ],
   "source": [
    "test_generator.reset()\n",
    "pred=model.predict(test_generator)"
   ]
  },
  {
   "cell_type": "code",
   "execution_count": 22,
   "id": "bbd3646c",
   "metadata": {
    "execution": {
     "iopub.execute_input": "2023-06-03T13:07:45.019146Z",
     "iopub.status.busy": "2023-06-03T13:07:45.018784Z",
     "iopub.status.idle": "2023-06-03T13:07:45.113851Z",
     "shell.execute_reply": "2023-06-03T13:07:45.112788Z"
    },
    "papermill": {
     "duration": 0.735933,
     "end_time": "2023-06-03T13:07:45.116544",
     "exception": false,
     "start_time": "2023-06-03T13:07:44.380611",
     "status": "completed"
    },
    "tags": []
   },
   "outputs": [
    {
     "name": "stdout",
     "output_type": "stream",
     "text": [
      "[[1945  202  341 3066  195    2]\n",
      " [   0    0    0    0    0    0]\n",
      " [   0    0    0    0    0    0]\n",
      " [   0    0    0    0    0    0]\n",
      " [   0    0    0    0    0    0]\n",
      " [   0    0    0    0    0    0]]\n"
     ]
    }
   ],
   "source": [
    "from sklearn.metrics import confusion_matrix\n",
    "y_pred=np.argmax(pred,axis=1)\n",
    "\n",
    "test_df['label'] = test_df['label'].astype(int)\n",
    "\n",
    "cm=confusion_matrix(test_df.label, y_pred)\n",
    "print(cm)"
   ]
  },
  {
   "cell_type": "markdown",
   "id": "1e39f24f",
   "metadata": {
    "papermill": {
     "duration": 0.566282,
     "end_time": "2023-06-03T13:07:46.247807",
     "exception": false,
     "start_time": "2023-06-03T13:07:45.681525",
     "status": "completed"
    },
    "tags": []
   },
   "source": [
    "# Creating submission.csv"
   ]
  },
  {
   "cell_type": "code",
   "execution_count": 23,
   "id": "dda7780b",
   "metadata": {
    "execution": {
     "iopub.execute_input": "2023-06-03T13:07:47.386261Z",
     "iopub.status.busy": "2023-06-03T13:07:47.385910Z",
     "iopub.status.idle": "2023-06-03T13:07:47.410266Z",
     "shell.execute_reply": "2023-06-03T13:07:47.409384Z"
    },
    "papermill": {
     "duration": 0.597722,
     "end_time": "2023-06-03T13:07:47.412270",
     "exception": false,
     "start_time": "2023-06-03T13:07:46.814548",
     "status": "completed"
    },
    "tags": []
   },
   "outputs": [],
   "source": [
    "filenames=test_generator.filenames\n",
    "\n",
    "results=pd.DataFrame({\"Filename\":filenames,\n",
    "                      \"Predictions\":y_pred})\n",
    "results.to_csv(\"submission.csv\",index=False)"
   ]
  },
  {
   "cell_type": "markdown",
   "id": "a6d5e568",
   "metadata": {
    "papermill": {
     "duration": 0.569215,
     "end_time": "2023-06-03T13:07:48.619408",
     "exception": false,
     "start_time": "2023-06-03T13:07:48.050193",
     "status": "completed"
    },
    "tags": []
   },
   "source": [
    "# Reasons for low testing accuracy \n",
    "**Problem**: Although the training and testing data belong to the same dataset, the split in the dataset is very different, training data has about 1402 belonging to class 0 and the testing data has all the data belonging to class 0. Inorder to make a model that generalizes well on the dataset we need at least a minimum of 5000 samples per class.So creating a good model with just 1402 images is a difficult task.\n",
    "\n",
    "**Solution 1**: Adding more data in the dataset would lead to better learning of the model and would remove any bias in the dataset. But this is not possible in our case.\n",
    "\n",
    "**Solution 2**: If adding data is not an option then using a pre-trained model could lead to better generalization. This is because pre trained models are trained for good feature extraction. This should work for our use case but from what I have learned while training the model, Due to the low amount of class 0 data in the dataset the pretrained model is also not able to learn well even though it generalizes well.\n",
    "\n"
   ]
  }
 ],
 "metadata": {
  "kernelspec": {
   "display_name": "Python 3",
   "language": "python",
   "name": "python3"
  },
  "language_info": {
   "codemirror_mode": {
    "name": "ipython",
    "version": 3
   },
   "file_extension": ".py",
   "mimetype": "text/x-python",
   "name": "python",
   "nbconvert_exporter": "python",
   "pygments_lexer": "ipython3",
   "version": "3.10.10"
  },
  "papermill": {
   "default_parameters": {},
   "duration": 9919.766271,
   "end_time": "2023-06-03T13:07:52.609283",
   "environment_variables": {},
   "exception": null,
   "input_path": "__notebook__.ipynb",
   "output_path": "__notebook__.ipynb",
   "parameters": {},
   "start_time": "2023-06-03T10:22:32.843012",
   "version": "2.4.0"
  }
 },
 "nbformat": 4,
 "nbformat_minor": 5
}
