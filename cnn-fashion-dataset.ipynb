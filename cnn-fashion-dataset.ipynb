{
 "cells": [
  {
   "cell_type": "code",
   "execution_count": 1,
   "id": "53467c12",
   "metadata": {
    "_cell_guid": "b1076dfc-b9ad-4769-8c92-a6c4dae69d19",
    "_uuid": "8f2839f25d086af736a60e9eeb907d3b93b6e0e5",
    "execution": {
     "iopub.execute_input": "2023-06-03T17:35:07.826085Z",
     "iopub.status.busy": "2023-06-03T17:35:07.825318Z",
     "iopub.status.idle": "2023-06-03T17:35:17.934700Z",
     "shell.execute_reply": "2023-06-03T17:35:17.931417Z"
    },
    "papermill": {
     "duration": 10.123457,
     "end_time": "2023-06-03T17:35:17.938567",
     "exception": false,
     "start_time": "2023-06-03T17:35:07.815110",
     "status": "completed"
    },
    "tags": []
   },
   "outputs": [],
   "source": [
    "# This Python 3 environment comes with many helpful analytics libraries installed\n",
    "# It is defined by the kaggle/python Docker image: https://github.com/kaggle/docker-python\n",
    "# For example, here's several helpful packages to load\n",
    "\n",
    "import numpy as np # linear algebra\n",
    "import pandas as pd # data processing, CSV file I/O (e.g. pd.read_csv)\n",
    "\n",
    "# Input data files are available in the read-only \"../input/\" directory\n",
    "# For example, running this (by clicking run or pressing Shift+Enter) will list all files under the input directory\n",
    "\n",
    "import os\n",
    "for dirname, _, filenames in os.walk('/kaggle/input'):\n",
    "    for filename in filenames:\n",
    "        os.path.join(dirname, filename)\n"
   ]
  },
  {
   "cell_type": "markdown",
   "id": "fb0a072e",
   "metadata": {
    "papermill": {
     "duration": 0.007951,
     "end_time": "2023-06-03T17:35:17.959677",
     "exception": false,
     "start_time": "2023-06-03T17:35:17.951726",
     "status": "completed"
    },
    "tags": []
   },
   "source": [
    "# Importing Required Modules "
   ]
  },
  {
   "cell_type": "code",
   "execution_count": 2,
   "id": "caa32884",
   "metadata": {
    "execution": {
     "iopub.execute_input": "2023-06-03T17:35:17.976882Z",
     "iopub.status.busy": "2023-06-03T17:35:17.976550Z",
     "iopub.status.idle": "2023-06-03T17:35:26.285618Z",
     "shell.execute_reply": "2023-06-03T17:35:26.284650Z"
    },
    "papermill": {
     "duration": 8.320711,
     "end_time": "2023-06-03T17:35:26.288316",
     "exception": false,
     "start_time": "2023-06-03T17:35:17.967605",
     "status": "completed"
    },
    "tags": []
   },
   "outputs": [
    {
     "name": "stderr",
     "output_type": "stream",
     "text": [
      "/opt/conda/lib/python3.10/site-packages/tensorflow_io/python/ops/__init__.py:98: UserWarning: unable to load libtensorflow_io_plugins.so: unable to open file: libtensorflow_io_plugins.so, from paths: ['/opt/conda/lib/python3.10/site-packages/tensorflow_io/python/ops/libtensorflow_io_plugins.so']\n",
      "caused by: ['/opt/conda/lib/python3.10/site-packages/tensorflow_io/python/ops/libtensorflow_io_plugins.so: undefined symbol: _ZN3tsl6StatusC1EN10tensorflow5error4CodeESt17basic_string_viewIcSt11char_traitsIcEENS_14SourceLocationE']\n",
      "  warnings.warn(f\"unable to load libtensorflow_io_plugins.so: {e}\")\n",
      "/opt/conda/lib/python3.10/site-packages/tensorflow_io/python/ops/__init__.py:104: UserWarning: file system plugins are not loaded: unable to open file: libtensorflow_io.so, from paths: ['/opt/conda/lib/python3.10/site-packages/tensorflow_io/python/ops/libtensorflow_io.so']\n",
      "caused by: ['/opt/conda/lib/python3.10/site-packages/tensorflow_io/python/ops/libtensorflow_io.so: undefined symbol: _ZTVN10tensorflow13GcsFileSystemE']\n",
      "  warnings.warn(f\"file system plugins are not loaded: {e}\")\n"
     ]
    }
   ],
   "source": [
    "import pandas as pd\n",
    "import cv2 as cv\n",
    "from tensorflow.keras.models import Sequential\n",
    "from tensorflow.keras.layers import *\n",
    "import os"
   ]
  },
  {
   "cell_type": "markdown",
   "id": "fc4dd9f1",
   "metadata": {
    "papermill": {
     "duration": 0.007809,
     "end_time": "2023-06-03T17:35:26.304444",
     "exception": false,
     "start_time": "2023-06-03T17:35:26.296635",
     "status": "completed"
    },
    "tags": []
   },
   "source": [
    "# Model Hyper parameters"
   ]
  },
  {
   "cell_type": "code",
   "execution_count": 3,
   "id": "388b2ba8",
   "metadata": {
    "execution": {
     "iopub.execute_input": "2023-06-03T17:35:26.322631Z",
     "iopub.status.busy": "2023-06-03T17:35:26.321944Z",
     "iopub.status.idle": "2023-06-03T17:35:26.327612Z",
     "shell.execute_reply": "2023-06-03T17:35:26.326696Z"
    },
    "papermill": {
     "duration": 0.017113,
     "end_time": "2023-06-03T17:35:26.329645",
     "exception": false,
     "start_time": "2023-06-03T17:35:26.312532",
     "status": "completed"
    },
    "tags": []
   },
   "outputs": [],
   "source": [
    "train_path = \"/kaggle/input/extracting-attributes-from-fashion-images-2/train\"\n",
    "BATCH_SIZE = 64\n",
    "EPOCHS = 20\n",
    "INPUT_SHAPE = 244"
   ]
  },
  {
   "cell_type": "markdown",
   "id": "4eaba282",
   "metadata": {
    "papermill": {
     "duration": 0.007764,
     "end_time": "2023-06-03T17:35:26.345427",
     "exception": false,
     "start_time": "2023-06-03T17:35:26.337663",
     "status": "completed"
    },
    "tags": []
   },
   "source": [
    "# Data Importing"
   ]
  },
  {
   "cell_type": "code",
   "execution_count": 4,
   "id": "ef940b0b",
   "metadata": {
    "execution": {
     "iopub.execute_input": "2023-06-03T17:35:26.362452Z",
     "iopub.status.busy": "2023-06-03T17:35:26.362181Z",
     "iopub.status.idle": "2023-06-03T17:35:26.405205Z",
     "shell.execute_reply": "2023-06-03T17:35:26.404233Z"
    },
    "papermill": {
     "duration": 0.054406,
     "end_time": "2023-06-03T17:35:26.407723",
     "exception": false,
     "start_time": "2023-06-03T17:35:26.353317",
     "status": "completed"
    },
    "tags": []
   },
   "outputs": [
    {
     "data": {
      "text/html": [
       "<div>\n",
       "<style scoped>\n",
       "    .dataframe tbody tr th:only-of-type {\n",
       "        vertical-align: middle;\n",
       "    }\n",
       "\n",
       "    .dataframe tbody tr th {\n",
       "        vertical-align: top;\n",
       "    }\n",
       "\n",
       "    .dataframe thead th {\n",
       "        text-align: right;\n",
       "    }\n",
       "</style>\n",
       "<table border=\"1\" class=\"dataframe\">\n",
       "  <thead>\n",
       "    <tr style=\"text-align: right;\">\n",
       "      <th></th>\n",
       "      <th>file_name</th>\n",
       "      <th>label</th>\n",
       "    </tr>\n",
       "  </thead>\n",
       "  <tbody>\n",
       "    <tr>\n",
       "      <th>0</th>\n",
       "      <td>Image_train_00001.jpg</td>\n",
       "      <td>0</td>\n",
       "    </tr>\n",
       "    <tr>\n",
       "      <th>1</th>\n",
       "      <td>Image_train_00002.jpg</td>\n",
       "      <td>1</td>\n",
       "    </tr>\n",
       "    <tr>\n",
       "      <th>2</th>\n",
       "      <td>Image_train_00003.jpg</td>\n",
       "      <td>0</td>\n",
       "    </tr>\n",
       "    <tr>\n",
       "      <th>3</th>\n",
       "      <td>Image_train_00004.jpg</td>\n",
       "      <td>0</td>\n",
       "    </tr>\n",
       "    <tr>\n",
       "      <th>4</th>\n",
       "      <td>Image_train_00005.jpg</td>\n",
       "      <td>0</td>\n",
       "    </tr>\n",
       "    <tr>\n",
       "      <th>...</th>\n",
       "      <td>...</td>\n",
       "      <td>...</td>\n",
       "    </tr>\n",
       "    <tr>\n",
       "      <th>18386</th>\n",
       "      <td>Image_train_18387.jpg</td>\n",
       "      <td>1</td>\n",
       "    </tr>\n",
       "    <tr>\n",
       "      <th>18387</th>\n",
       "      <td>Image_train_18388.jpg</td>\n",
       "      <td>2</td>\n",
       "    </tr>\n",
       "    <tr>\n",
       "      <th>18388</th>\n",
       "      <td>Image_train_18389.jpg</td>\n",
       "      <td>1</td>\n",
       "    </tr>\n",
       "    <tr>\n",
       "      <th>18389</th>\n",
       "      <td>Image_train_18390.jpg</td>\n",
       "      <td>1</td>\n",
       "    </tr>\n",
       "    <tr>\n",
       "      <th>18390</th>\n",
       "      <td>Image_train_18391.jpg</td>\n",
       "      <td>1</td>\n",
       "    </tr>\n",
       "  </tbody>\n",
       "</table>\n",
       "<p>18391 rows × 2 columns</p>\n",
       "</div>"
      ],
      "text/plain": [
       "                   file_name  label\n",
       "0      Image_train_00001.jpg      0\n",
       "1      Image_train_00002.jpg      1\n",
       "2      Image_train_00003.jpg      0\n",
       "3      Image_train_00004.jpg      0\n",
       "4      Image_train_00005.jpg      0\n",
       "...                      ...    ...\n",
       "18386  Image_train_18387.jpg      1\n",
       "18387  Image_train_18388.jpg      2\n",
       "18388  Image_train_18389.jpg      1\n",
       "18389  Image_train_18390.jpg      1\n",
       "18390  Image_train_18391.jpg      1\n",
       "\n",
       "[18391 rows x 2 columns]"
      ]
     },
     "execution_count": 4,
     "metadata": {},
     "output_type": "execute_result"
    }
   ],
   "source": [
    "# training data\n",
    "train_df = pd.read_csv(\"/kaggle/input/extracting-attributes-from-fashion-images-2/train.csv\")\n",
    "train_df"
   ]
  },
  {
   "cell_type": "code",
   "execution_count": 5,
   "id": "377139ca",
   "metadata": {
    "execution": {
     "iopub.execute_input": "2023-06-03T17:35:26.427034Z",
     "iopub.status.busy": "2023-06-03T17:35:26.426727Z",
     "iopub.status.idle": "2023-06-03T17:35:26.449945Z",
     "shell.execute_reply": "2023-06-03T17:35:26.449054Z"
    },
    "papermill": {
     "duration": 0.034839,
     "end_time": "2023-06-03T17:35:26.452123",
     "exception": false,
     "start_time": "2023-06-03T17:35:26.417284",
     "status": "completed"
    },
    "tags": []
   },
   "outputs": [
    {
     "data": {
      "text/html": [
       "<div>\n",
       "<style scoped>\n",
       "    .dataframe tbody tr th:only-of-type {\n",
       "        vertical-align: middle;\n",
       "    }\n",
       "\n",
       "    .dataframe tbody tr th {\n",
       "        vertical-align: top;\n",
       "    }\n",
       "\n",
       "    .dataframe thead th {\n",
       "        text-align: right;\n",
       "    }\n",
       "</style>\n",
       "<table border=\"1\" class=\"dataframe\">\n",
       "  <thead>\n",
       "    <tr style=\"text-align: right;\">\n",
       "      <th></th>\n",
       "      <th>file_name</th>\n",
       "      <th>label</th>\n",
       "    </tr>\n",
       "  </thead>\n",
       "  <tbody>\n",
       "    <tr>\n",
       "      <th>0</th>\n",
       "      <td>Image_test_00001.jpg</td>\n",
       "      <td>0</td>\n",
       "    </tr>\n",
       "    <tr>\n",
       "      <th>1</th>\n",
       "      <td>Image_test_00002.jpg</td>\n",
       "      <td>0</td>\n",
       "    </tr>\n",
       "    <tr>\n",
       "      <th>2</th>\n",
       "      <td>Image_test_00003.jpg</td>\n",
       "      <td>0</td>\n",
       "    </tr>\n",
       "    <tr>\n",
       "      <th>3</th>\n",
       "      <td>Image_test_00004.jpg</td>\n",
       "      <td>0</td>\n",
       "    </tr>\n",
       "    <tr>\n",
       "      <th>4</th>\n",
       "      <td>Image_test_00005.jpg</td>\n",
       "      <td>0</td>\n",
       "    </tr>\n",
       "    <tr>\n",
       "      <th>...</th>\n",
       "      <td>...</td>\n",
       "      <td>...</td>\n",
       "    </tr>\n",
       "    <tr>\n",
       "      <th>5746</th>\n",
       "      <td>Image_test_05747.jpg</td>\n",
       "      <td>0</td>\n",
       "    </tr>\n",
       "    <tr>\n",
       "      <th>5747</th>\n",
       "      <td>Image_test_05748.jpg</td>\n",
       "      <td>0</td>\n",
       "    </tr>\n",
       "    <tr>\n",
       "      <th>5748</th>\n",
       "      <td>Image_test_05749.jpg</td>\n",
       "      <td>0</td>\n",
       "    </tr>\n",
       "    <tr>\n",
       "      <th>5749</th>\n",
       "      <td>Image_test_05750.jpg</td>\n",
       "      <td>0</td>\n",
       "    </tr>\n",
       "    <tr>\n",
       "      <th>5750</th>\n",
       "      <td>Image_test_05751.jpg</td>\n",
       "      <td>0</td>\n",
       "    </tr>\n",
       "  </tbody>\n",
       "</table>\n",
       "<p>5751 rows × 2 columns</p>\n",
       "</div>"
      ],
      "text/plain": [
       "                 file_name  label\n",
       "0     Image_test_00001.jpg      0\n",
       "1     Image_test_00002.jpg      0\n",
       "2     Image_test_00003.jpg      0\n",
       "3     Image_test_00004.jpg      0\n",
       "4     Image_test_00005.jpg      0\n",
       "...                    ...    ...\n",
       "5746  Image_test_05747.jpg      0\n",
       "5747  Image_test_05748.jpg      0\n",
       "5748  Image_test_05749.jpg      0\n",
       "5749  Image_test_05750.jpg      0\n",
       "5750  Image_test_05751.jpg      0\n",
       "\n",
       "[5751 rows x 2 columns]"
      ]
     },
     "execution_count": 5,
     "metadata": {},
     "output_type": "execute_result"
    }
   ],
   "source": [
    "# testing data\n",
    "test_df = pd.read_csv(\"/kaggle/input/extracting-attributes-from-fashion-images-2/sample_submission.csv\")\n",
    "test_df"
   ]
  },
  {
   "cell_type": "markdown",
   "id": "d73c7e3e",
   "metadata": {
    "papermill": {
     "duration": 0.008347,
     "end_time": "2023-06-03T17:35:26.469122",
     "exception": false,
     "start_time": "2023-06-03T17:35:26.460775",
     "status": "completed"
    },
    "tags": []
   },
   "source": [
    "## Checking for Imbalance in the dataset"
   ]
  },
  {
   "cell_type": "code",
   "execution_count": 6,
   "id": "2c3721f8",
   "metadata": {
    "execution": {
     "iopub.execute_input": "2023-06-03T17:35:26.487524Z",
     "iopub.status.busy": "2023-06-03T17:35:26.486761Z",
     "iopub.status.idle": "2023-06-03T17:35:26.497522Z",
     "shell.execute_reply": "2023-06-03T17:35:26.496586Z"
    },
    "papermill": {
     "duration": 0.022022,
     "end_time": "2023-06-03T17:35:26.499470",
     "exception": false,
     "start_time": "2023-06-03T17:35:26.477448",
     "status": "completed"
    },
    "tags": []
   },
   "outputs": [
    {
     "data": {
      "text/plain": [
       "1    5384\n",
       "2    4084\n",
       "3    2008\n",
       "4    1972\n",
       "6    1925\n",
       "5    1616\n",
       "0    1402\n",
       "Name: label, dtype: int64"
      ]
     },
     "execution_count": 6,
     "metadata": {},
     "output_type": "execute_result"
    }
   ],
   "source": [
    "train_df.label.value_counts()"
   ]
  },
  {
   "cell_type": "code",
   "execution_count": 7,
   "id": "75db6961",
   "metadata": {
    "execution": {
     "iopub.execute_input": "2023-06-03T17:35:26.518167Z",
     "iopub.status.busy": "2023-06-03T17:35:26.517375Z",
     "iopub.status.idle": "2023-06-03T17:35:26.524786Z",
     "shell.execute_reply": "2023-06-03T17:35:26.523789Z"
    },
    "papermill": {
     "duration": 0.018847,
     "end_time": "2023-06-03T17:35:26.526771",
     "exception": false,
     "start_time": "2023-06-03T17:35:26.507924",
     "status": "completed"
    },
    "tags": []
   },
   "outputs": [
    {
     "data": {
      "text/plain": [
       "0    5751\n",
       "Name: label, dtype: int64"
      ]
     },
     "execution_count": 7,
     "metadata": {},
     "output_type": "execute_result"
    }
   ],
   "source": [
    "test_df.label.value_counts()"
   ]
  },
  {
   "cell_type": "code",
   "execution_count": 8,
   "id": "969d2cf4",
   "metadata": {
    "execution": {
     "iopub.execute_input": "2023-06-03T17:35:26.545940Z",
     "iopub.status.busy": "2023-06-03T17:35:26.545132Z",
     "iopub.status.idle": "2023-06-03T17:35:26.552887Z",
     "shell.execute_reply": "2023-06-03T17:35:26.551848Z"
    },
    "papermill": {
     "duration": 0.019081,
     "end_time": "2023-06-03T17:35:26.554821",
     "exception": false,
     "start_time": "2023-06-03T17:35:26.535740",
     "status": "completed"
    },
    "tags": []
   },
   "outputs": [
    {
     "data": {
      "text/plain": [
       "array([0, 1, 2, 3, 5, 4, 6])"
      ]
     },
     "execution_count": 8,
     "metadata": {},
     "output_type": "execute_result"
    }
   ],
   "source": [
    "train_df.label.unique()"
   ]
  },
  {
   "cell_type": "code",
   "execution_count": 9,
   "id": "dc7654e9",
   "metadata": {
    "execution": {
     "iopub.execute_input": "2023-06-03T17:35:26.574674Z",
     "iopub.status.busy": "2023-06-03T17:35:26.573918Z",
     "iopub.status.idle": "2023-06-03T17:35:27.421680Z",
     "shell.execute_reply": "2023-06-03T17:35:27.420547Z"
    },
    "papermill": {
     "duration": 0.860076,
     "end_time": "2023-06-03T17:35:27.424364",
     "exception": false,
     "start_time": "2023-06-03T17:35:26.564288",
     "status": "completed"
    },
    "tags": []
   },
   "outputs": [
    {
     "data": {
      "text/plain": [
       "[1.8739555736702669,\n",
       " 0.4879802589683719,\n",
       " 0.6433118791101161,\n",
       " 1.3084092202618098,\n",
       " 1.3322949869603014,\n",
       " 1.6257956152758133,\n",
       " 1.3648237476808904]"
      ]
     },
     "execution_count": 9,
     "metadata": {},
     "output_type": "execute_result"
    }
   ],
   "source": [
    "# Creating class weights for imbalance dataset\n",
    "from sklearn.utils import class_weight\n",
    "class_weights = list(class_weight.compute_class_weight('balanced',\n",
    "                                                 classes=np.unique(train_df.label.to_numpy()),\n",
    "                                                 y=train_df.label.to_numpy()))\n",
    "class_weights"
   ]
  },
  {
   "cell_type": "code",
   "execution_count": 10,
   "id": "10e49da6",
   "metadata": {
    "execution": {
     "iopub.execute_input": "2023-06-03T17:35:27.443692Z",
     "iopub.status.busy": "2023-06-03T17:35:27.443403Z",
     "iopub.status.idle": "2023-06-03T17:35:27.449982Z",
     "shell.execute_reply": "2023-06-03T17:35:27.449074Z"
    },
    "papermill": {
     "duration": 0.018443,
     "end_time": "2023-06-03T17:35:27.451886",
     "exception": false,
     "start_time": "2023-06-03T17:35:27.433443",
     "status": "completed"
    },
    "tags": []
   },
   "outputs": [
    {
     "data": {
      "text/plain": [
       "{0: 1.8739555736702669,\n",
       " 1: 0.4879802589683719,\n",
       " 2: 0.6433118791101161,\n",
       " 3: 1.3084092202618098,\n",
       " 4: 1.3322949869603014,\n",
       " 5: 1.6257956152758133,\n",
       " 6: 1.3648237476808904}"
      ]
     },
     "execution_count": 10,
     "metadata": {},
     "output_type": "execute_result"
    }
   ],
   "source": [
    "weights = {x:y for x,y in enumerate(class_weights)}\n",
    "weights"
   ]
  },
  {
   "cell_type": "markdown",
   "id": "2a41fcf4",
   "metadata": {
    "papermill": {
     "duration": 0.008807,
     "end_time": "2023-06-03T17:35:27.469928",
     "exception": false,
     "start_time": "2023-06-03T17:35:27.461121",
     "status": "completed"
    },
    "tags": []
   },
   "source": [
    "# Visualization the dataset"
   ]
  },
  {
   "cell_type": "code",
   "execution_count": 11,
   "id": "1734e869",
   "metadata": {
    "execution": {
     "iopub.execute_input": "2023-06-03T17:35:27.489492Z",
     "iopub.status.busy": "2023-06-03T17:35:27.488925Z",
     "iopub.status.idle": "2023-06-03T17:35:27.693112Z",
     "shell.execute_reply": "2023-06-03T17:35:27.692198Z"
    },
    "papermill": {
     "duration": 0.218564,
     "end_time": "2023-06-03T17:35:27.697531",
     "exception": false,
     "start_time": "2023-06-03T17:35:27.478967",
     "status": "completed"
    },
    "tags": []
   },
   "outputs": [
    {
     "data": {
      "image/png": "[encoded data removed]",
      "text/plain": [
       "<Figure size 640x480 with 1 Axes>"
      ]
     },
     "metadata": {},
     "output_type": "display_data"
    }
   ],
   "source": [
    "from matplotlib import pyplot as plt\n",
    "\n",
    "train_files = os.listdir(train_path)\n",
    "img = cv.imread(train_path+\"/\"+train_files[1])\n",
    "plt.imshow(img)\n",
    "plt.xticks([])\n",
    "plt.yticks([])\n",
    "plt.show()"
   ]
  },
  {
   "cell_type": "markdown",
   "id": "8a661d42",
   "metadata": {
    "papermill": {
     "duration": 0.010388,
     "end_time": "2023-06-03T17:35:27.729086",
     "exception": false,
     "start_time": "2023-06-03T17:35:27.718698",
     "status": "completed"
    },
    "tags": []
   },
   "source": [
    "# Creating Data Pipelines"
   ]
  },
  {
   "cell_type": "code",
   "execution_count": 12,
   "id": "2838f38c",
   "metadata": {
    "execution": {
     "iopub.execute_input": "2023-06-03T17:35:27.749922Z",
     "iopub.status.busy": "2023-06-03T17:35:27.749622Z",
     "iopub.status.idle": "2023-06-03T17:35:37.599906Z",
     "shell.execute_reply": "2023-06-03T17:35:37.598978Z"
    },
    "papermill": {
     "duration": 9.863659,
     "end_time": "2023-06-03T17:35:37.602579",
     "exception": false,
     "start_time": "2023-06-03T17:35:27.738920",
     "status": "completed"
    },
    "tags": []
   },
   "outputs": [
    {
     "name": "stdout",
     "output_type": "stream",
     "text": [
      "Found 18391 validated image filenames belonging to 7 classes.\n"
     ]
    }
   ],
   "source": [
    "from tensorflow.keras.preprocessing.image import ImageDataGenerator\n",
    "\n",
    "train_df['label'] = train_df['label'].astype(str)\n",
    "\n",
    "datagen = ImageDataGenerator(\n",
    "    rescale=1/255.0,\n",
    "    rotation_range=20,\n",
    "    zoom_range=0.05,\n",
    "    width_shift_range=0.05,\n",
    "    height_shift_range=0.05,\n",
    "    shear_range=0.05,\n",
    "    horizontal_flip=True,\n",
    "    fill_mode = \"nearest\",\n",
    ")\n",
    "\n",
    "train_generator=datagen.flow_from_dataframe(\n",
    "    dataframe=train_df,\n",
    "    directory=\"/kaggle/input/extracting-attributes-from-fashion-images-2/train\",\n",
    "    x_col=\"file_name\",\n",
    "    y_col=\"label\",\n",
    "    subset=\"training\",\n",
    "    batch_size=BATCH_SIZE,\n",
    "    seed=42,\n",
    "    shuffle=True,\n",
    "    class_mode=\"sparse\",\n",
    "    target_size=(INPUT_SHAPE,INPUT_SHAPE))\n"
   ]
  },
  {
   "cell_type": "code",
   "execution_count": 13,
   "id": "316cf765",
   "metadata": {
    "execution": {
     "iopub.execute_input": "2023-06-03T17:35:37.624647Z",
     "iopub.status.busy": "2023-06-03T17:35:37.624330Z",
     "iopub.status.idle": "2023-06-03T17:35:40.555879Z",
     "shell.execute_reply": "2023-06-03T17:35:40.554845Z"
    },
    "papermill": {
     "duration": 2.945133,
     "end_time": "2023-06-03T17:35:40.558076",
     "exception": false,
     "start_time": "2023-06-03T17:35:37.612943",
     "status": "completed"
    },
    "tags": []
   },
   "outputs": [
    {
     "name": "stdout",
     "output_type": "stream",
     "text": [
      "Found 5751 validated image filenames belonging to 1 classes.\n"
     ]
    }
   ],
   "source": [
    "test_datagen=ImageDataGenerator(rescale=1./255.)\n",
    "\n",
    "test_df['label'] = test_df['label'].astype(str)\n",
    "\n",
    "test_generator=test_datagen.flow_from_dataframe(\n",
    "dataframe=test_df,\n",
    "directory=\"/kaggle/input/extracting-attributes-from-fashion-images-2/test\",\n",
    "x_col=\"file_name\",\n",
    "y_col=\"label\",\n",
    "batch_size=BATCH_SIZE,\n",
    "seed=42,\n",
    "shuffle=False,\n",
    "class_mode=\"sparse\",\n",
    "target_size=(INPUT_SHAPE,INPUT_SHAPE))\n"
   ]
  },
  {
   "cell_type": "markdown",
   "id": "c299de68",
   "metadata": {
    "papermill": {
     "duration": 0.009934,
     "end_time": "2023-06-03T17:35:40.578388",
     "exception": false,
     "start_time": "2023-06-03T17:35:40.568454",
     "status": "completed"
    },
    "tags": []
   },
   "source": [
    "# Creating the Deep learning model"
   ]
  },
  {
   "cell_type": "code",
   "execution_count": 14,
   "id": "08eee6ea",
   "metadata": {
    "execution": {
     "iopub.execute_input": "2023-06-03T17:35:40.600079Z",
     "iopub.status.busy": "2023-06-03T17:35:40.599236Z",
     "iopub.status.idle": "2023-06-03T17:35:44.359231Z",
     "shell.execute_reply": "2023-06-03T17:35:44.358334Z"
    },
    "papermill": {
     "duration": 3.773351,
     "end_time": "2023-06-03T17:35:44.361604",
     "exception": false,
     "start_time": "2023-06-03T17:35:40.588253",
     "status": "completed"
    },
    "tags": []
   },
   "outputs": [
    {
     "name": "stdout",
     "output_type": "stream",
     "text": [
      "Downloading data from https://storage.googleapis.com/tensorflow/keras-applications/vgg16/vgg16_weights_tf_dim_ordering_tf_kernels_notop.h5\n",
      "58889256/58889256 [==============================] - 0s 0us/step\n"
     ]
    }
   ],
   "source": [
    "from tensorflow.keras.models import Sequential\n",
    "from tensorflow.keras.layers import *\n",
    "from tensorflow import keras\n",
    "import tensorflow as tf\n",
    "from keras.applications import VGG16\n",
    "from tensorflow.python.keras import regularizers\n",
    "\n",
    "# Pre Trained Models \n",
    "\n",
    "conv_base = VGG16(weights=\"imagenet\",\n",
    "                 include_top=False,\n",
    "                 input_shape=(INPUT_SHAPE,INPUT_SHAPE,3)) # 244\n",
    "\n",
    "\n",
    "# conv_base = tf.keras.applications.mobilenet.MobileNet( include_top=False,\n",
    "#                                                            input_shape=(INPUT_SHAPE, INPUT_SHAPE,3),\n",
    "#                                                            weights='imagenet')    \n",
    "\n",
    "model = Sequential()\n",
    "\n",
    "model.add(conv_base)\n",
    "conv_base.trainable = False\n",
    "\n",
    "model.add(Flatten())\n",
    "\n",
    "model.add(Dense(128, activation='relu',kernel_regularizer=regularizers.l2(0.01)))\n",
    "model.add(BatchNormalization())\n",
    "\n",
    "\n",
    "model.add(Dense(7, activation='softmax'))\n",
    "\n",
    "model.compile(optimizer=keras.optimizers.Adam(lr=0.00001),loss=\"sparse_categorical_crossentropy\",metrics=[\"accuracy\"])"
   ]
  },
  {
   "cell_type": "code",
   "execution_count": 15,
   "id": "8d08a4ce",
   "metadata": {
    "execution": {
     "iopub.execute_input": "2023-06-03T17:35:44.386259Z",
     "iopub.status.busy": "2023-06-03T17:35:44.384519Z",
     "iopub.status.idle": "2023-06-03T17:35:44.429885Z",
     "shell.execute_reply": "2023-06-03T17:35:44.429128Z"
    },
    "papermill": {
     "duration": 0.082236,
     "end_time": "2023-06-03T17:35:44.454801",
     "exception": false,
     "start_time": "2023-06-03T17:35:44.372565",
     "status": "completed"
    },
    "tags": []
   },
   "outputs": [
    {
     "name": "stdout",
     "output_type": "stream",
     "text": [
      "Model: \"vgg16\"\n",
      "_________________________________________________________________\n",
      " Layer (type)                Output Shape              Param #   \n",
      "=================================================================\n",
      " input_1 (InputLayer)        [(None, 244, 244, 3)]     0         \n",
      "                                                                 \n",
      " block1_conv1 (Conv2D)       (None, 244, 244, 64)      1792      \n",
      "                                                                 \n",
      " block1_conv2 (Conv2D)       (None, 244, 244, 64)      36928     \n",
      "                                                                 \n",
      " block1_pool (MaxPooling2D)  (None, 122, 122, 64)      0         \n",
      "                                                                 \n",
      " block2_conv1 (Conv2D)       (None, 122, 122, 128)     73856     \n",
      "                                                                 \n",
      " block2_conv2 (Conv2D)       (None, 122, 122, 128)     147584    \n",
      "                                                                 \n",
      " block2_pool (MaxPooling2D)  (None, 61, 61, 128)       0         \n",
      "                                                                 \n",
      " block3_conv1 (Conv2D)       (None, 61, 61, 256)       295168    \n",
      "                                                                 \n",
      " block3_conv2 (Conv2D)       (None, 61, 61, 256)       590080    \n",
      "                                                                 \n",
      " block3_conv3 (Conv2D)       (None, 61, 61, 256)       590080    \n",
      "                                                                 \n",
      " block3_pool (MaxPooling2D)  (None, 30, 30, 256)       0         \n",
      "                                                                 \n",
      " block4_conv1 (Conv2D)       (None, 30, 30, 512)       1180160   \n",
      "                                                                 \n",
      " block4_conv2 (Conv2D)       (None, 30, 30, 512)       2359808   \n",
      "                                                                 \n",
      " block4_conv3 (Conv2D)       (None, 30, 30, 512)       2359808   \n",
      "                                                                 \n",
      " block4_pool (MaxPooling2D)  (None, 15, 15, 512)       0         \n",
      "                                                                 \n",
      " block5_conv1 (Conv2D)       (None, 15, 15, 512)       2359808   \n",
      "                                                                 \n",
      " block5_conv2 (Conv2D)       (None, 15, 15, 512)       2359808   \n",
      "                                                                 \n",
      " block5_conv3 (Conv2D)       (None, 15, 15, 512)       2359808   \n",
      "                                                                 \n",
      " block5_pool (MaxPooling2D)  (None, 7, 7, 512)         0         \n",
      "                                                                 \n",
      "=================================================================\n",
      "Total params: 14,714,688\n",
      "Trainable params: 0\n",
      "Non-trainable params: 14,714,688\n",
      "_________________________________________________________________\n"
     ]
    }
   ],
   "source": [
    "conv_base.summary()"
   ]
  },
  {
   "cell_type": "code",
   "execution_count": 16,
   "id": "18eac438",
   "metadata": {
    "execution": {
     "iopub.execute_input": "2023-06-03T17:35:44.484167Z",
     "iopub.status.busy": "2023-06-03T17:35:44.483842Z",
     "iopub.status.idle": "2023-06-03T17:35:44.504809Z",
     "shell.execute_reply": "2023-06-03T17:35:44.504102Z"
    },
    "papermill": {
     "duration": 0.046128,
     "end_time": "2023-06-03T17:35:44.514963",
     "exception": false,
     "start_time": "2023-06-03T17:35:44.468835",
     "status": "completed"
    },
    "tags": []
   },
   "outputs": [
    {
     "name": "stdout",
     "output_type": "stream",
     "text": [
      "Model: \"sequential\"\n",
      "_________________________________________________________________\n",
      " Layer (type)                Output Shape              Param #   \n",
      "=================================================================\n",
      " vgg16 (Functional)          (None, 7, 7, 512)         14714688  \n",
      "                                                                 \n",
      " flatten (Flatten)           (None, 25088)             0         \n",
      "                                                                 \n",
      " dense (Dense)               (None, 128)               3211392   \n",
      "                                                                 \n",
      " batch_normalization (BatchN  (None, 128)              512       \n",
      " ormalization)                                                   \n",
      "                                                                 \n",
      " dense_1 (Dense)             (None, 7)                 903       \n",
      "                                                                 \n",
      "=================================================================\n",
      "Total params: 17,927,495\n",
      "Trainable params: 3,212,551\n",
      "Non-trainable params: 14,714,944\n",
      "_________________________________________________________________\n"
     ]
    }
   ],
   "source": [
    "model.summary()"
   ]
  },
  {
   "cell_type": "markdown",
   "id": "ea4b67fb",
   "metadata": {
    "papermill": {
     "duration": 0.01539,
     "end_time": "2023-06-03T17:35:44.546446",
     "exception": false,
     "start_time": "2023-06-03T17:35:44.531056",
     "status": "completed"
    },
    "tags": []
   },
   "source": [
    "# Training"
   ]
  },
  {
   "cell_type": "code",
   "execution_count": 17,
   "id": "1f584f89",
   "metadata": {
    "execution": {
     "iopub.execute_input": "2023-06-03T17:35:44.578702Z",
     "iopub.status.busy": "2023-06-03T17:35:44.578369Z",
     "iopub.status.idle": "2023-06-03T17:35:45.578155Z",
     "shell.execute_reply": "2023-06-03T17:35:45.576874Z"
    },
    "papermill": {
     "duration": 1.019746,
     "end_time": "2023-06-03T17:35:45.581462",
     "exception": false,
     "start_time": "2023-06-03T17:35:44.561716",
     "status": "completed"
    },
    "tags": []
   },
   "outputs": [],
   "source": [
    "# Setting up model callbacks\n",
    "! mkdir /kaggle/working/model/\n",
    "\n",
    "checkpoint=tf.keras.callbacks.ModelCheckpoint(filepath=\"/kaggle/working/model/CNN.h5\", \n",
    "                                              monitor='val_accuracy', \n",
    "                                              verbose=0, \n",
    "                                              save_best_only=True,\n",
    "                                              save_weights_only=False, \n",
    "                                              mode='auto', \n",
    "                                              save_freq='epoch', \n",
    "                                              options=None)"
   ]
  },
  {
   "cell_type": "code",
   "execution_count": 18,
   "id": "a15266ca",
   "metadata": {
    "execution": {
     "iopub.execute_input": "2023-06-03T17:35:45.616352Z",
     "iopub.status.busy": "2023-06-03T17:35:45.615948Z",
     "iopub.status.idle": "2023-06-03T19:35:30.819959Z",
     "shell.execute_reply": "2023-06-03T19:35:30.819078Z"
    },
    "papermill": {
     "duration": 7185.250474,
     "end_time": "2023-06-03T19:35:30.849563",
     "exception": false,
     "start_time": "2023-06-03T17:35:45.599089",
     "status": "completed"
    },
    "tags": []
   },
   "outputs": [
    {
     "name": "stdout",
     "output_type": "stream",
     "text": [
      "Epoch 1/20\n",
      "287/287 [==============================] - 462s 2s/step - loss: 1.9537 - accuracy: 0.5154 - val_loss: 4.0158 - val_accuracy: 0.1122\n",
      "Epoch 2/20\n",
      "287/287 [==============================] - 339s 1s/step - loss: 1.4392 - accuracy: 0.5492 - val_loss: 4.3729 - val_accuracy: 0.0493\n",
      "Epoch 3/20\n",
      "287/287 [==============================] - 341s 1s/step - loss: 1.4203 - accuracy: 0.5481 - val_loss: 2.9185 - val_accuracy: 0.1619\n",
      "Epoch 4/20\n",
      "287/287 [==============================] - 333s 1s/step - loss: 1.3989 - accuracy: 0.5483 - val_loss: 3.0612 - val_accuracy: 0.1928\n",
      "Epoch 5/20\n",
      "287/287 [==============================] - 329s 1s/step - loss: 1.3931 - accuracy: 0.5500 - val_loss: 4.0373 - val_accuracy: 0.1185\n",
      "Epoch 6/20\n",
      "287/287 [==============================] - 341s 1s/step - loss: 1.3796 - accuracy: 0.5502 - val_loss: 4.3296 - val_accuracy: 0.0851\n",
      "Epoch 7/20\n",
      "287/287 [==============================] - 329s 1s/step - loss: 1.3708 - accuracy: 0.5476 - val_loss: 5.1001 - val_accuracy: 0.0607\n",
      "Epoch 8/20\n",
      "287/287 [==============================] - 343s 1s/step - loss: 1.3515 - accuracy: 0.5546 - val_loss: 4.6127 - val_accuracy: 0.0585\n",
      "Epoch 9/20\n",
      "287/287 [==============================] - 332s 1s/step - loss: 1.3645 - accuracy: 0.5582 - val_loss: 4.9545 - val_accuracy: 0.0279\n",
      "Epoch 10/20\n",
      "287/287 [==============================] - 341s 1s/step - loss: 1.3294 - accuracy: 0.5629 - val_loss: 6.0670 - val_accuracy: 0.0172\n",
      "Epoch 11/20\n",
      "287/287 [==============================] - 332s 1s/step - loss: 1.3086 - accuracy: 0.5697 - val_loss: 3.0429 - val_accuracy: 0.1252\n",
      "Epoch 12/20\n",
      "287/287 [==============================] - 331s 1s/step - loss: 1.2998 - accuracy: 0.5681 - val_loss: 2.5003 - val_accuracy: 0.3576\n",
      "Epoch 13/20\n",
      "287/287 [==============================] - 343s 1s/step - loss: 1.2781 - accuracy: 0.5729 - val_loss: 5.0672 - val_accuracy: 0.0335\n",
      "Epoch 14/20\n",
      "287/287 [==============================] - 334s 1s/step - loss: 1.2762 - accuracy: 0.5707 - val_loss: 51.8240 - val_accuracy: 0.0000e+00\n",
      "Epoch 15/20\n",
      "287/287 [==============================] - 344s 1s/step - loss: 1.3002 - accuracy: 0.5755 - val_loss: 3.4117 - val_accuracy: 0.1796\n",
      "Epoch 16/20\n",
      "287/287 [==============================] - 329s 1s/step - loss: 1.2689 - accuracy: 0.5782 - val_loss: 3.3566 - val_accuracy: 0.1942\n",
      "Epoch 17/20\n",
      "287/287 [==============================] - 344s 1s/step - loss: 1.2827 - accuracy: 0.5800 - val_loss: 5.2522 - val_accuracy: 0.0527\n",
      "Epoch 18/20\n",
      "287/287 [==============================] - 348s 1s/step - loss: 1.3126 - accuracy: 0.5845 - val_loss: 3.9007 - val_accuracy: 0.1259\n",
      "Epoch 19/20\n",
      "287/287 [==============================] - 352s 1s/step - loss: 1.2543 - accuracy: 0.5807 - val_loss: 6.6229 - val_accuracy: 0.0093\n",
      "Epoch 20/20\n",
      "287/287 [==============================] - 346s 1s/step - loss: 1.2397 - accuracy: 0.5825 - val_loss: 4.5535 - val_accuracy: 0.0762\n"
     ]
    },
    {
     "data": {
      "image/png": "[encoded data removed]",
      "text/plain": [
       "<Figure size 640x480 with 1 Axes>"
      ]
     },
     "metadata": {},
     "output_type": "display_data"
    },
    {
     "data": {
      "image/png": "[encoded data removed]",
      "text/plain": [
       "<Figure size 640x480 with 1 Axes>"
      ]
     },
     "metadata": {},
     "output_type": "display_data"
    }
   ],
   "source": [
    "# Training the model\n",
    "\n",
    "STEP_SIZE_TRAIN=train_generator.n//train_generator.batch_size\n",
    "STEP_SIZE_TEST=test_generator.n//test_generator.batch_size\n",
    "\n",
    "history = model.fit(train_generator,\n",
    "                    steps_per_epoch=STEP_SIZE_TRAIN,\n",
    "                    validation_data=test_generator,\n",
    "                    validation_steps=STEP_SIZE_TEST,\n",
    "                    epochs=EPOCHS,\n",
    "                    callbacks=[checkpoint])\n",
    "#                     class_weight=weights)\n",
    "\n",
    "\n",
    "# summarize history for accuracy\n",
    "plt.plot(history.history['accuracy'])\n",
    "plt.plot(history.history['val_accuracy'])\n",
    "plt.title('model accuracy')\n",
    "plt.ylabel('accuracy')\n",
    "plt.xlabel('epoch')\n",
    "plt.legend(['train', 'test'], loc='upper left')\n",
    "plt.grid()\n",
    "plt.show()\n",
    "\n",
    "\n",
    "# summarize history for loss\n",
    "plt.plot(history.history['loss'])\n",
    "plt.plot(history.history['val_loss'])\n",
    "plt.title('model loss')\n",
    "plt.ylabel('loss')\n",
    "plt.xlabel('epoch')\n",
    "plt.legend(['train', 'test'], loc='upper left')\n",
    "plt.grid()\n",
    "plt.show()"
   ]
  },
  {
   "cell_type": "markdown",
   "id": "cab49523",
   "metadata": {
    "papermill": {
     "duration": 0.446408,
     "end_time": "2023-06-03T19:35:31.739182",
     "exception": false,
     "start_time": "2023-06-03T19:35:31.292774",
     "status": "completed"
    },
    "tags": []
   },
   "source": [
    "# Testing"
   ]
  },
  {
   "cell_type": "code",
   "execution_count": 19,
   "id": "ba9259e2",
   "metadata": {
    "execution": {
     "iopub.execute_input": "2023-06-03T19:35:32.697226Z",
     "iopub.status.busy": "2023-06-03T19:35:32.696820Z",
     "iopub.status.idle": "2023-06-03T19:35:33.175988Z",
     "shell.execute_reply": "2023-06-03T19:35:33.175032Z"
    },
    "papermill": {
     "duration": 0.991003,
     "end_time": "2023-06-03T19:35:33.178517",
     "exception": false,
     "start_time": "2023-06-03T19:35:32.187514",
     "status": "completed"
    },
    "tags": []
   },
   "outputs": [],
   "source": [
    "# importing the best model\n",
    "\n",
    "model = tf.keras.models.load_model(\"/kaggle/working/model/CNN.h5\")"
   ]
  },
  {
   "cell_type": "code",
   "execution_count": 20,
   "id": "3febf58f",
   "metadata": {
    "execution": {
     "iopub.execute_input": "2023-06-03T19:35:34.172768Z",
     "iopub.status.busy": "2023-06-03T19:35:34.172421Z",
     "iopub.status.idle": "2023-06-03T19:36:15.690234Z",
     "shell.execute_reply": "2023-06-03T19:36:15.689297Z"
    },
    "papermill": {
     "duration": 42.047694,
     "end_time": "2023-06-03T19:36:15.692422",
     "exception": false,
     "start_time": "2023-06-03T19:35:33.644728",
     "status": "completed"
    },
    "tags": []
   },
   "outputs": [
    {
     "name": "stdout",
     "output_type": "stream",
     "text": [
      "89/89 [==============================] - 30s 332ms/step - loss: 2.5003 - accuracy: 0.3576\n"
     ]
    },
    {
     "data": {
      "text/plain": [
       "[2.500251054763794, 0.35761937499046326]"
      ]
     },
     "execution_count": 20,
     "metadata": {},
     "output_type": "execute_result"
    }
   ],
   "source": [
    "# Test accuracy\n",
    "test_generator.reset()\n",
    "model.evaluate(test_generator,\n",
    "steps=STEP_SIZE_TEST)"
   ]
  },
  {
   "cell_type": "code",
   "execution_count": 21,
   "id": "d9a04446",
   "metadata": {
    "execution": {
     "iopub.execute_input": "2023-06-03T19:36:16.597611Z",
     "iopub.status.busy": "2023-06-03T19:36:16.597253Z",
     "iopub.status.idle": "2023-06-03T19:36:58.064226Z",
     "shell.execute_reply": "2023-06-03T19:36:58.063219Z"
    },
    "papermill": {
     "duration": 41.920708,
     "end_time": "2023-06-03T19:36:58.066660",
     "exception": false,
     "start_time": "2023-06-03T19:36:16.145952",
     "status": "completed"
    },
    "tags": []
   },
   "outputs": [
    {
     "name": "stdout",
     "output_type": "stream",
     "text": [
      "90/90 [==============================] - 33s 368ms/step\n"
     ]
    }
   ],
   "source": [
    "test_generator.reset()\n",
    "pred=model.predict(test_generator)"
   ]
  },
  {
   "cell_type": "code",
   "execution_count": 22,
   "id": "ff6d6461",
   "metadata": {
    "execution": {
     "iopub.execute_input": "2023-06-03T19:36:58.990568Z",
     "iopub.status.busy": "2023-06-03T19:36:58.990186Z",
     "iopub.status.idle": "2023-06-03T19:36:59.081460Z",
     "shell.execute_reply": "2023-06-03T19:36:59.080408Z"
    },
    "papermill": {
     "duration": 0.558888,
     "end_time": "2023-06-03T19:36:59.083852",
     "exception": false,
     "start_time": "2023-06-03T19:36:58.524964",
     "status": "completed"
    },
    "tags": []
   },
   "outputs": [
    {
     "name": "stdout",
     "output_type": "stream",
     "text": [
      "[[2076  496 1221  745    5  467  741]\n",
      " [   0    0    0    0    0    0    0]\n",
      " [   0    0    0    0    0    0    0]\n",
      " [   0    0    0    0    0    0    0]\n",
      " [   0    0    0    0    0    0    0]\n",
      " [   0    0    0    0    0    0    0]\n",
      " [   0    0    0    0    0    0    0]]\n"
     ]
    }
   ],
   "source": [
    "from sklearn.metrics import confusion_matrix\n",
    "y_pred=np.argmax(pred,axis=1)\n",
    "\n",
    "test_df['label'] = test_df['label'].astype(int)\n",
    "\n",
    "cm=confusion_matrix(test_df.label, y_pred)\n",
    "print(cm)"
   ]
  },
  {
   "cell_type": "markdown",
   "id": "bfc1e4f2",
   "metadata": {
    "papermill": {
     "duration": 0.462832,
     "end_time": "2023-06-03T19:37:00.092721",
     "exception": false,
     "start_time": "2023-06-03T19:36:59.629889",
     "status": "completed"
    },
    "tags": []
   },
   "source": [
    "# Creating submission.csv"
   ]
  },
  {
   "cell_type": "code",
   "execution_count": 23,
   "id": "1303eb49",
   "metadata": {
    "execution": {
     "iopub.execute_input": "2023-06-03T19:37:01.055227Z",
     "iopub.status.busy": "2023-06-03T19:37:01.054854Z",
     "iopub.status.idle": "2023-06-03T19:37:01.081557Z",
     "shell.execute_reply": "2023-06-03T19:37:01.080570Z"
    },
    "papermill": {
     "duration": 0.522902,
     "end_time": "2023-06-03T19:37:01.083792",
     "exception": false,
     "start_time": "2023-06-03T19:37:00.560890",
     "status": "completed"
    },
    "tags": []
   },
   "outputs": [],
   "source": [
    "filenames=test_generator.filenames\n",
    "\n",
    "results=pd.DataFrame({\"file_name\":filenames,\n",
    "                      \"label\":y_pred})\n",
    "results.to_csv(\"submission.csv\",index=False)"
   ]
  },
  {
   "cell_type": "markdown",
   "id": "49fe82ac",
   "metadata": {
    "papermill": {
     "duration": 0.54683,
     "end_time": "2023-06-03T19:37:02.125915",
     "exception": false,
     "start_time": "2023-06-03T19:37:01.579085",
     "status": "completed"
    },
    "tags": []
   },
   "source": [
    "# Reasons for low testing accuracy \n",
    "**Problem**: Although the training and testing data belong to the same dataset, the split in the dataset is very different, training data has about 1402 belonging to class 0 and the testing data has all the data belonging to class 0. Inorder to make a model that generalizes well on the dataset we need at least a minimum of 5000 samples per class.So creating a good model with just 1402 images is a difficult task.\n",
    "\n",
    "**Solution 1**: Adding more data in the dataset would lead to better learning of the model and would remove any bias in the dataset. But this is not possible in our case.\n",
    "\n",
    "**Solution 2**: If adding data is not an option then using a pre-trained model could lead to better generalization. This is because pre trained models are trained for good feature extraction. This should work for our use case but from what I have learned while training the model, Due to the low amount of class 0 data in the dataset the pretrained model is also not able to learn well even though it generalizes well.\n",
    "\n"
   ]
  }
 ],
 "metadata": {
  "kernelspec": {
   "display_name": "Python 3",
   "language": "python",
   "name": "python3"
  },
  "language_info": {
   "codemirror_mode": {
    "name": "ipython",
    "version": 3
   },
   "file_extension": ".py",
   "mimetype": "text/x-python",
   "name": "python",
   "nbconvert_exporter": "python",
   "pygments_lexer": "ipython3",
   "version": "3.10.10"
  },
  "papermill": {
   "default_parameters": {},
   "duration": 7328.631771,
   "end_time": "2023-06-03T19:37:06.170998",
   "environment_variables": {},
   "exception": null,
   "input_path": "__notebook__.ipynb",
   "output_path": "__notebook__.ipynb",
   "parameters": {},
   "start_time": "2023-06-03T17:34:57.539227",
   "version": "2.4.0"
  }
 },
 "nbformat": 4,
 "nbformat_minor": 5
}
