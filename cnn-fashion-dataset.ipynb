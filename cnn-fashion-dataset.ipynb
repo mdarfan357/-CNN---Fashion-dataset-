{
 "cells": [
  {
   "cell_type": "code",
   "execution_count": 1,
   "id": "df74cb52",
   "metadata": {
    "_cell_guid": "b1076dfc-b9ad-4769-8c92-a6c4dae69d19",
    "_uuid": "8f2839f25d086af736a60e9eeb907d3b93b6e0e5",
    "execution": {
     "iopub.execute_input": "2023-06-02T17:57:47.162116Z",
     "iopub.status.busy": "2023-06-02T17:57:47.160996Z",
     "iopub.status.idle": "2023-06-02T17:58:04.527512Z",
     "shell.execute_reply": "2023-06-02T17:58:04.526560Z"
    },
    "papermill": {
     "duration": 17.379228,
     "end_time": "2023-06-02T17:58:04.530102",
     "exception": false,
     "start_time": "2023-06-02T17:57:47.150874",
     "status": "completed"
    },
    "tags": []
   },
   "outputs": [],
   "source": [
    "# This Python 3 environment comes with many helpful analytics libraries installed\n",
    "# It is defined by the kaggle/python Docker image: https://github.com/kaggle/docker-python\n",
    "# For example, here's several helpful packages to load\n",
    "\n",
    "import numpy as np # linear algebra\n",
    "import pandas as pd # data processing, CSV file I/O (e.g. pd.read_csv)\n",
    "\n",
    "# Input data files are available in the read-only \"../input/\" directory\n",
    "# For example, running this (by clicking run or pressing Shift+Enter) will list all files under the input directory\n",
    "\n",
    "import os\n",
    "for dirname, _, filenames in os.walk('/kaggle/input'):\n",
    "    for filename in filenames:\n",
    "        os.path.join(dirname, filename)\n"
   ]
  },
  {
   "cell_type": "markdown",
   "id": "ccf20f3e",
   "metadata": {
    "papermill": {
     "duration": 0.007836,
     "end_time": "2023-06-02T17:58:04.546517",
     "exception": false,
     "start_time": "2023-06-02T17:58:04.538681",
     "status": "completed"
    },
    "tags": []
   },
   "source": [
    "# Importing Required Modules "
   ]
  },
  {
   "cell_type": "code",
   "execution_count": 2,
   "id": "a3e2d412",
   "metadata": {
    "execution": {
     "iopub.execute_input": "2023-06-02T17:58:04.564925Z",
     "iopub.status.busy": "2023-06-02T17:58:04.563968Z",
     "iopub.status.idle": "2023-06-02T17:58:12.524106Z",
     "shell.execute_reply": "2023-06-02T17:58:12.523153Z"
    },
    "papermill": {
     "duration": 7.972015,
     "end_time": "2023-06-02T17:58:12.526479",
     "exception": false,
     "start_time": "2023-06-02T17:58:04.554464",
     "status": "completed"
    },
    "tags": []
   },
   "outputs": [
    {
     "name": "stderr",
     "output_type": "stream",
     "text": [
      "/opt/conda/lib/python3.10/site-packages/tensorflow_io/python/ops/__init__.py:98: UserWarning: unable to load libtensorflow_io_plugins.so: unable to open file: libtensorflow_io_plugins.so, from paths: ['/opt/conda/lib/python3.10/site-packages/tensorflow_io/python/ops/libtensorflow_io_plugins.so']\n",
      "caused by: ['/opt/conda/lib/python3.10/site-packages/tensorflow_io/python/ops/libtensorflow_io_plugins.so: undefined symbol: _ZN3tsl6StatusC1EN10tensorflow5error4CodeESt17basic_string_viewIcSt11char_traitsIcEENS_14SourceLocationE']\n",
      "  warnings.warn(f\"unable to load libtensorflow_io_plugins.so: {e}\")\n",
      "/opt/conda/lib/python3.10/site-packages/tensorflow_io/python/ops/__init__.py:104: UserWarning: file system plugins are not loaded: unable to open file: libtensorflow_io.so, from paths: ['/opt/conda/lib/python3.10/site-packages/tensorflow_io/python/ops/libtensorflow_io.so']\n",
      "caused by: ['/opt/conda/lib/python3.10/site-packages/tensorflow_io/python/ops/libtensorflow_io.so: undefined symbol: _ZTVN10tensorflow13GcsFileSystemE']\n",
      "  warnings.warn(f\"file system plugins are not loaded: {e}\")\n"
     ]
    }
   ],
   "source": [
    "import pandas as pd\n",
    "import cv2 as cv\n",
    "from tensorflow.keras.models import Sequential\n",
    "from tensorflow.keras.layers import *\n",
    "import os"
   ]
  },
  {
   "cell_type": "markdown",
   "id": "7438d32f",
   "metadata": {
    "papermill": {
     "duration": 0.007827,
     "end_time": "2023-06-02T17:58:12.542644",
     "exception": false,
     "start_time": "2023-06-02T17:58:12.534817",
     "status": "completed"
    },
    "tags": []
   },
   "source": [
    "# Model Hyper parameters"
   ]
  },
  {
   "cell_type": "code",
   "execution_count": 3,
   "id": "28c4617d",
   "metadata": {
    "execution": {
     "iopub.execute_input": "2023-06-02T17:58:12.561069Z",
     "iopub.status.busy": "2023-06-02T17:58:12.559878Z",
     "iopub.status.idle": "2023-06-02T17:58:12.564880Z",
     "shell.execute_reply": "2023-06-02T17:58:12.563951Z"
    },
    "papermill": {
     "duration": 0.015993,
     "end_time": "2023-06-02T17:58:12.566827",
     "exception": false,
     "start_time": "2023-06-02T17:58:12.550834",
     "status": "completed"
    },
    "tags": []
   },
   "outputs": [],
   "source": [
    "train_path = \"/kaggle/input/extracting-attributes-from-fashion-images-2/train\"\n",
    "BATCH_SIZE = 64\n",
    "EPOCHS = 15\n",
    "INPUT_SHAPE = 244"
   ]
  },
  {
   "cell_type": "markdown",
   "id": "4fb682e4",
   "metadata": {
    "papermill": {
     "duration": 0.007789,
     "end_time": "2023-06-02T17:58:12.582627",
     "exception": false,
     "start_time": "2023-06-02T17:58:12.574838",
     "status": "completed"
    },
    "tags": []
   },
   "source": [
    "# Data Importing"
   ]
  },
  {
   "cell_type": "code",
   "execution_count": 4,
   "id": "dadbbba4",
   "metadata": {
    "execution": {
     "iopub.execute_input": "2023-06-02T17:58:12.600804Z",
     "iopub.status.busy": "2023-06-02T17:58:12.599885Z",
     "iopub.status.idle": "2023-06-02T17:58:12.641555Z",
     "shell.execute_reply": "2023-06-02T17:58:12.640573Z"
    },
    "papermill": {
     "duration": 0.052991,
     "end_time": "2023-06-02T17:58:12.643742",
     "exception": false,
     "start_time": "2023-06-02T17:58:12.590751",
     "status": "completed"
    },
    "tags": []
   },
   "outputs": [
    {
     "data": {
      "text/html": [
       "<div>\n",
       "<style scoped>\n",
       "    .dataframe tbody tr th:only-of-type {\n",
       "        vertical-align: middle;\n",
       "    }\n",
       "\n",
       "    .dataframe tbody tr th {\n",
       "        vertical-align: top;\n",
       "    }\n",
       "\n",
       "    .dataframe thead th {\n",
       "        text-align: right;\n",
       "    }\n",
       "</style>\n",
       "<table border=\"1\" class=\"dataframe\">\n",
       "  <thead>\n",
       "    <tr style=\"text-align: right;\">\n",
       "      <th></th>\n",
       "      <th>file_name</th>\n",
       "      <th>label</th>\n",
       "    </tr>\n",
       "  </thead>\n",
       "  <tbody>\n",
       "    <tr>\n",
       "      <th>0</th>\n",
       "      <td>Image_train_00001.jpg</td>\n",
       "      <td>0</td>\n",
       "    </tr>\n",
       "    <tr>\n",
       "      <th>1</th>\n",
       "      <td>Image_train_00002.jpg</td>\n",
       "      <td>1</td>\n",
       "    </tr>\n",
       "    <tr>\n",
       "      <th>2</th>\n",
       "      <td>Image_train_00003.jpg</td>\n",
       "      <td>0</td>\n",
       "    </tr>\n",
       "    <tr>\n",
       "      <th>3</th>\n",
       "      <td>Image_train_00004.jpg</td>\n",
       "      <td>0</td>\n",
       "    </tr>\n",
       "    <tr>\n",
       "      <th>4</th>\n",
       "      <td>Image_train_00005.jpg</td>\n",
       "      <td>0</td>\n",
       "    </tr>\n",
       "    <tr>\n",
       "      <th>...</th>\n",
       "      <td>...</td>\n",
       "      <td>...</td>\n",
       "    </tr>\n",
       "    <tr>\n",
       "      <th>18386</th>\n",
       "      <td>Image_train_18387.jpg</td>\n",
       "      <td>1</td>\n",
       "    </tr>\n",
       "    <tr>\n",
       "      <th>18387</th>\n",
       "      <td>Image_train_18388.jpg</td>\n",
       "      <td>2</td>\n",
       "    </tr>\n",
       "    <tr>\n",
       "      <th>18388</th>\n",
       "      <td>Image_train_18389.jpg</td>\n",
       "      <td>1</td>\n",
       "    </tr>\n",
       "    <tr>\n",
       "      <th>18389</th>\n",
       "      <td>Image_train_18390.jpg</td>\n",
       "      <td>1</td>\n",
       "    </tr>\n",
       "    <tr>\n",
       "      <th>18390</th>\n",
       "      <td>Image_train_18391.jpg</td>\n",
       "      <td>1</td>\n",
       "    </tr>\n",
       "  </tbody>\n",
       "</table>\n",
       "<p>18391 rows × 2 columns</p>\n",
       "</div>"
      ],
      "text/plain": [
       "                   file_name  label\n",
       "0      Image_train_00001.jpg      0\n",
       "1      Image_train_00002.jpg      1\n",
       "2      Image_train_00003.jpg      0\n",
       "3      Image_train_00004.jpg      0\n",
       "4      Image_train_00005.jpg      0\n",
       "...                      ...    ...\n",
       "18386  Image_train_18387.jpg      1\n",
       "18387  Image_train_18388.jpg      2\n",
       "18388  Image_train_18389.jpg      1\n",
       "18389  Image_train_18390.jpg      1\n",
       "18390  Image_train_18391.jpg      1\n",
       "\n",
       "[18391 rows x 2 columns]"
      ]
     },
     "execution_count": 4,
     "metadata": {},
     "output_type": "execute_result"
    }
   ],
   "source": [
    "# training data\n",
    "train_df = pd.read_csv(\"/kaggle/input/extracting-attributes-from-fashion-images-2/train.csv\")\n",
    "train_df"
   ]
  },
  {
   "cell_type": "code",
   "execution_count": 5,
   "id": "75bb9b66",
   "metadata": {
    "execution": {
     "iopub.execute_input": "2023-06-02T17:58:12.662494Z",
     "iopub.status.busy": "2023-06-02T17:58:12.661633Z",
     "iopub.status.idle": "2023-06-02T17:58:12.685440Z",
     "shell.execute_reply": "2023-06-02T17:58:12.684501Z"
    },
    "papermill": {
     "duration": 0.035162,
     "end_time": "2023-06-02T17:58:12.687585",
     "exception": false,
     "start_time": "2023-06-02T17:58:12.652423",
     "status": "completed"
    },
    "tags": []
   },
   "outputs": [
    {
     "data": {
      "text/html": [
       "<div>\n",
       "<style scoped>\n",
       "    .dataframe tbody tr th:only-of-type {\n",
       "        vertical-align: middle;\n",
       "    }\n",
       "\n",
       "    .dataframe tbody tr th {\n",
       "        vertical-align: top;\n",
       "    }\n",
       "\n",
       "    .dataframe thead th {\n",
       "        text-align: right;\n",
       "    }\n",
       "</style>\n",
       "<table border=\"1\" class=\"dataframe\">\n",
       "  <thead>\n",
       "    <tr style=\"text-align: right;\">\n",
       "      <th></th>\n",
       "      <th>file_name</th>\n",
       "      <th>label</th>\n",
       "    </tr>\n",
       "  </thead>\n",
       "  <tbody>\n",
       "    <tr>\n",
       "      <th>0</th>\n",
       "      <td>Image_test_00001.jpg</td>\n",
       "      <td>0</td>\n",
       "    </tr>\n",
       "    <tr>\n",
       "      <th>1</th>\n",
       "      <td>Image_test_00002.jpg</td>\n",
       "      <td>0</td>\n",
       "    </tr>\n",
       "    <tr>\n",
       "      <th>2</th>\n",
       "      <td>Image_test_00003.jpg</td>\n",
       "      <td>0</td>\n",
       "    </tr>\n",
       "    <tr>\n",
       "      <th>3</th>\n",
       "      <td>Image_test_00004.jpg</td>\n",
       "      <td>0</td>\n",
       "    </tr>\n",
       "    <tr>\n",
       "      <th>4</th>\n",
       "      <td>Image_test_00005.jpg</td>\n",
       "      <td>0</td>\n",
       "    </tr>\n",
       "    <tr>\n",
       "      <th>...</th>\n",
       "      <td>...</td>\n",
       "      <td>...</td>\n",
       "    </tr>\n",
       "    <tr>\n",
       "      <th>5746</th>\n",
       "      <td>Image_test_05747.jpg</td>\n",
       "      <td>0</td>\n",
       "    </tr>\n",
       "    <tr>\n",
       "      <th>5747</th>\n",
       "      <td>Image_test_05748.jpg</td>\n",
       "      <td>0</td>\n",
       "    </tr>\n",
       "    <tr>\n",
       "      <th>5748</th>\n",
       "      <td>Image_test_05749.jpg</td>\n",
       "      <td>0</td>\n",
       "    </tr>\n",
       "    <tr>\n",
       "      <th>5749</th>\n",
       "      <td>Image_test_05750.jpg</td>\n",
       "      <td>0</td>\n",
       "    </tr>\n",
       "    <tr>\n",
       "      <th>5750</th>\n",
       "      <td>Image_test_05751.jpg</td>\n",
       "      <td>0</td>\n",
       "    </tr>\n",
       "  </tbody>\n",
       "</table>\n",
       "<p>5751 rows × 2 columns</p>\n",
       "</div>"
      ],
      "text/plain": [
       "                 file_name  label\n",
       "0     Image_test_00001.jpg      0\n",
       "1     Image_test_00002.jpg      0\n",
       "2     Image_test_00003.jpg      0\n",
       "3     Image_test_00004.jpg      0\n",
       "4     Image_test_00005.jpg      0\n",
       "...                    ...    ...\n",
       "5746  Image_test_05747.jpg      0\n",
       "5747  Image_test_05748.jpg      0\n",
       "5748  Image_test_05749.jpg      0\n",
       "5749  Image_test_05750.jpg      0\n",
       "5750  Image_test_05751.jpg      0\n",
       "\n",
       "[5751 rows x 2 columns]"
      ]
     },
     "execution_count": 5,
     "metadata": {},
     "output_type": "execute_result"
    }
   ],
   "source": [
    "# testing data\n",
    "test_df = pd.read_csv(\"/kaggle/input/extracting-attributes-from-fashion-images-2/sample_submission.csv\")\n",
    "test_df"
   ]
  },
  {
   "cell_type": "markdown",
   "id": "c6fd7f73",
   "metadata": {
    "papermill": {
     "duration": 0.008801,
     "end_time": "2023-06-02T17:58:12.705843",
     "exception": false,
     "start_time": "2023-06-02T17:58:12.697042",
     "status": "completed"
    },
    "tags": []
   },
   "source": [
    "## Checking for Imbalance in the dataset"
   ]
  },
  {
   "cell_type": "code",
   "execution_count": 6,
   "id": "155e88f4",
   "metadata": {
    "execution": {
     "iopub.execute_input": "2023-06-02T17:58:12.724668Z",
     "iopub.status.busy": "2023-06-02T17:58:12.724036Z",
     "iopub.status.idle": "2023-06-02T17:58:12.735949Z",
     "shell.execute_reply": "2023-06-02T17:58:12.735010Z"
    },
    "papermill": {
     "duration": 0.023535,
     "end_time": "2023-06-02T17:58:12.738024",
     "exception": false,
     "start_time": "2023-06-02T17:58:12.714489",
     "status": "completed"
    },
    "tags": []
   },
   "outputs": [
    {
     "data": {
      "text/plain": [
       "1    5384\n",
       "2    4084\n",
       "3    2008\n",
       "4    1972\n",
       "6    1925\n",
       "5    1616\n",
       "0    1402\n",
       "Name: label, dtype: int64"
      ]
     },
     "execution_count": 6,
     "metadata": {},
     "output_type": "execute_result"
    }
   ],
   "source": [
    "train_df.label.value_counts()"
   ]
  },
  {
   "cell_type": "code",
   "execution_count": 7,
   "id": "eae61b60",
   "metadata": {
    "execution": {
     "iopub.execute_input": "2023-06-02T17:58:12.756601Z",
     "iopub.status.busy": "2023-06-02T17:58:12.756320Z",
     "iopub.status.idle": "2023-06-02T17:58:12.763450Z",
     "shell.execute_reply": "2023-06-02T17:58:12.762590Z"
    },
    "papermill": {
     "duration": 0.018556,
     "end_time": "2023-06-02T17:58:12.765390",
     "exception": false,
     "start_time": "2023-06-02T17:58:12.746834",
     "status": "completed"
    },
    "tags": []
   },
   "outputs": [
    {
     "data": {
      "text/plain": [
       "0    5751\n",
       "Name: label, dtype: int64"
      ]
     },
     "execution_count": 7,
     "metadata": {},
     "output_type": "execute_result"
    }
   ],
   "source": [
    "test_df.label.value_counts()"
   ]
  },
  {
   "cell_type": "code",
   "execution_count": 8,
   "id": "4947b9c3",
   "metadata": {
    "execution": {
     "iopub.execute_input": "2023-06-02T17:58:12.784642Z",
     "iopub.status.busy": "2023-06-02T17:58:12.783842Z",
     "iopub.status.idle": "2023-06-02T17:58:12.791953Z",
     "shell.execute_reply": "2023-06-02T17:58:12.790936Z"
    },
    "papermill": {
     "duration": 0.019828,
     "end_time": "2023-06-02T17:58:12.794208",
     "exception": false,
     "start_time": "2023-06-02T17:58:12.774380",
     "status": "completed"
    },
    "tags": []
   },
   "outputs": [
    {
     "data": {
      "text/plain": [
       "array([0, 1, 2, 3, 5, 4, 6])"
      ]
     },
     "execution_count": 8,
     "metadata": {},
     "output_type": "execute_result"
    }
   ],
   "source": [
    "train_df.label.unique()"
   ]
  },
  {
   "cell_type": "code",
   "execution_count": 9,
   "id": "9b3cf27f",
   "metadata": {
    "execution": {
     "iopub.execute_input": "2023-06-02T17:58:12.813433Z",
     "iopub.status.busy": "2023-06-02T17:58:12.813145Z",
     "iopub.status.idle": "2023-06-02T17:58:13.692098Z",
     "shell.execute_reply": "2023-06-02T17:58:13.691158Z"
    },
    "papermill": {
     "duration": 0.890861,
     "end_time": "2023-06-02T17:58:13.694322",
     "exception": false,
     "start_time": "2023-06-02T17:58:12.803461",
     "status": "completed"
    },
    "tags": []
   },
   "outputs": [
    {
     "data": {
      "text/plain": [
       "[1.8739555736702669,\n",
       " 0.4879802589683719,\n",
       " 0.6433118791101161,\n",
       " 1.3084092202618098,\n",
       " 1.3322949869603014,\n",
       " 1.6257956152758133,\n",
       " 1.3648237476808904]"
      ]
     },
     "execution_count": 9,
     "metadata": {},
     "output_type": "execute_result"
    }
   ],
   "source": [
    "# Creating class weights for imbalance dataset\n",
    "from sklearn.utils import class_weight\n",
    "class_weights = list(class_weight.compute_class_weight('balanced',\n",
    "                                                 classes=np.unique(train_df.label.to_numpy()),\n",
    "                                                 y=train_df.label.to_numpy()))\n",
    "class_weights"
   ]
  },
  {
   "cell_type": "code",
   "execution_count": 10,
   "id": "7f43c4b3",
   "metadata": {
    "execution": {
     "iopub.execute_input": "2023-06-02T17:58:13.713704Z",
     "iopub.status.busy": "2023-06-02T17:58:13.713408Z",
     "iopub.status.idle": "2023-06-02T17:58:13.719790Z",
     "shell.execute_reply": "2023-06-02T17:58:13.718829Z"
    },
    "papermill": {
     "duration": 0.019594,
     "end_time": "2023-06-02T17:58:13.723001",
     "exception": false,
     "start_time": "2023-06-02T17:58:13.703407",
     "status": "completed"
    },
    "tags": []
   },
   "outputs": [
    {
     "data": {
      "text/plain": [
       "{0: 1.8739555736702669,\n",
       " 1: 0.4879802589683719,\n",
       " 2: 0.6433118791101161,\n",
       " 3: 1.3084092202618098,\n",
       " 4: 1.3322949869603014,\n",
       " 5: 1.6257956152758133,\n",
       " 6: 1.3648237476808904}"
      ]
     },
     "execution_count": 10,
     "metadata": {},
     "output_type": "execute_result"
    }
   ],
   "source": [
    "weights = {x:y for x,y in enumerate(class_weights)}\n",
    "weights"
   ]
  },
  {
   "cell_type": "markdown",
   "id": "d03f7fb3",
   "metadata": {
    "papermill": {
     "duration": 0.008915,
     "end_time": "2023-06-02T17:58:13.741097",
     "exception": false,
     "start_time": "2023-06-02T17:58:13.732182",
     "status": "completed"
    },
    "tags": []
   },
   "source": [
    "# Visualization the dataset"
   ]
  },
  {
   "cell_type": "code",
   "execution_count": 11,
   "id": "76c48fbd",
   "metadata": {
    "execution": {
     "iopub.execute_input": "2023-06-02T17:58:13.761646Z",
     "iopub.status.busy": "2023-06-02T17:58:13.760820Z",
     "iopub.status.idle": "2023-06-02T17:58:13.970052Z",
     "shell.execute_reply": "2023-06-02T17:58:13.968764Z"
    },
    "papermill": {
     "duration": 0.224025,
     "end_time": "2023-06-02T17:58:13.974383",
     "exception": false,
     "start_time": "2023-06-02T17:58:13.750358",
     "status": "completed"
    },
    "tags": []
   },
   "outputs": [
    {
     "data": {
      "image/png": "[encoded data removed]",
      "text/plain": [
       "<Figure size 640x480 with 1 Axes>"
      ]
     },
     "metadata": {},
     "output_type": "display_data"
    }
   ],
   "source": [
    "from matplotlib import pyplot as plt\n",
    "\n",
    "train_files = os.listdir(train_path)\n",
    "img = cv.imread(train_path+\"/\"+train_files[1])\n",
    "plt.imshow(img)\n",
    "plt.xticks([])\n",
    "plt.yticks([])\n",
    "plt.show()"
   ]
  },
  {
   "cell_type": "markdown",
   "id": "046c4b00",
   "metadata": {
    "papermill": {
     "duration": 0.009793,
     "end_time": "2023-06-02T17:58:14.002135",
     "exception": false,
     "start_time": "2023-06-02T17:58:13.992342",
     "status": "completed"
    },
    "tags": []
   },
   "source": [
    "# Creating Data Pipelines"
   ]
  },
  {
   "cell_type": "code",
   "execution_count": 12,
   "id": "80282b4b",
   "metadata": {
    "execution": {
     "iopub.execute_input": "2023-06-02T17:58:14.023881Z",
     "iopub.status.busy": "2023-06-02T17:58:14.023554Z",
     "iopub.status.idle": "2023-06-02T17:58:22.920557Z",
     "shell.execute_reply": "2023-06-02T17:58:22.919559Z"
    },
    "papermill": {
     "duration": 8.910586,
     "end_time": "2023-06-02T17:58:22.922971",
     "exception": false,
     "start_time": "2023-06-02T17:58:14.012385",
     "status": "completed"
    },
    "tags": []
   },
   "outputs": [
    {
     "name": "stdout",
     "output_type": "stream",
     "text": [
      "Found 18391 validated image filenames belonging to 7 classes.\n"
     ]
    }
   ],
   "source": [
    "from tensorflow.keras.preprocessing.image import ImageDataGenerator\n",
    "\n",
    "train_df['label'] = train_df['label'].astype(str)\n",
    "\n",
    "datagen = ImageDataGenerator(\n",
    "    rescale=1/255.0,\n",
    "    rotation_range=20,\n",
    "    zoom_range=0.05,\n",
    "    width_shift_range=0.05,\n",
    "    height_shift_range=0.05,\n",
    "    shear_range=0.05,\n",
    "    horizontal_flip=True,\n",
    "    fill_mode = \"nearest\",\n",
    ")\n",
    "\n",
    "train_generator=datagen.flow_from_dataframe(\n",
    "    dataframe=train_df,\n",
    "    directory=\"/kaggle/input/extracting-attributes-from-fashion-images-2/train\",\n",
    "    x_col=\"file_name\",\n",
    "    y_col=\"label\",\n",
    "    subset=\"training\",\n",
    "    batch_size=BATCH_SIZE,\n",
    "    seed=42,\n",
    "    shuffle=True,\n",
    "    class_mode=\"sparse\",\n",
    "    target_size=(INPUT_SHAPE,INPUT_SHAPE))\n"
   ]
  },
  {
   "cell_type": "code",
   "execution_count": 13,
   "id": "ec3b8624",
   "metadata": {
    "execution": {
     "iopub.execute_input": "2023-06-02T17:58:22.945553Z",
     "iopub.status.busy": "2023-06-02T17:58:22.944712Z",
     "iopub.status.idle": "2023-06-02T17:58:25.953745Z",
     "shell.execute_reply": "2023-06-02T17:58:25.952645Z"
    },
    "papermill": {
     "duration": 3.022755,
     "end_time": "2023-06-02T17:58:25.956208",
     "exception": false,
     "start_time": "2023-06-02T17:58:22.933453",
     "status": "completed"
    },
    "tags": []
   },
   "outputs": [
    {
     "name": "stdout",
     "output_type": "stream",
     "text": [
      "Found 5751 validated image filenames belonging to 1 classes.\n"
     ]
    }
   ],
   "source": [
    "test_datagen=ImageDataGenerator(rescale=1./255.)\n",
    "\n",
    "test_df['label'] = test_df['label'].astype(str)\n",
    "\n",
    "test_generator=test_datagen.flow_from_dataframe(\n",
    "dataframe=test_df,\n",
    "directory=\"/kaggle/input/extracting-attributes-from-fashion-images-2/test\",\n",
    "x_col=\"file_name\",\n",
    "y_col=\"label\",\n",
    "batch_size=BATCH_SIZE,\n",
    "seed=42,\n",
    "shuffle=False,\n",
    "class_mode=\"sparse\",\n",
    "target_size=(INPUT_SHAPE,INPUT_SHAPE))\n"
   ]
  },
  {
   "cell_type": "markdown",
   "id": "10060d2d",
   "metadata": {
    "papermill": {
     "duration": 0.010022,
     "end_time": "2023-06-02T17:58:25.976655",
     "exception": false,
     "start_time": "2023-06-02T17:58:25.966633",
     "status": "completed"
    },
    "tags": []
   },
   "source": [
    "# Creating the Deep learning model"
   ]
  },
  {
   "cell_type": "code",
   "execution_count": 14,
   "id": "a9044878",
   "metadata": {
    "execution": {
     "iopub.execute_input": "2023-06-02T17:58:25.999170Z",
     "iopub.status.busy": "2023-06-02T17:58:25.998163Z",
     "iopub.status.idle": "2023-06-02T17:58:30.096871Z",
     "shell.execute_reply": "2023-06-02T17:58:30.095921Z"
    },
    "papermill": {
     "duration": 4.112932,
     "end_time": "2023-06-02T17:58:30.099628",
     "exception": false,
     "start_time": "2023-06-02T17:58:25.986696",
     "status": "completed"
    },
    "tags": []
   },
   "outputs": [
    {
     "name": "stdout",
     "output_type": "stream",
     "text": [
      "Downloading data from https://storage.googleapis.com/tensorflow/keras-applications/mobilenet/mobilenet_1_0_224_tf_no_top.h5\n",
      "17225924/17225924 [==============================] - 0s 0us/step\n"
     ]
    }
   ],
   "source": [
    "from tensorflow.keras.models import Sequential\n",
    "from tensorflow.keras.layers import *\n",
    "from tensorflow import keras\n",
    "import tensorflow as tf\n",
    "from keras.applications import VGG16\n",
    "from tensorflow.python.keras import regularizers\n",
    "\n",
    "# Pre Trained Models \n",
    "\n",
    "# conv_base = VGG16(weights=\"imagenet\",\n",
    "#                  include_top=False,\n",
    "#                  input_shape=(INPUT_SHAPE,INPUT_SHAPE,3)) # 244\n",
    "\n",
    "# conv_base = tf.keras.applications.Xception(\n",
    "#                  weights=\"imagenet\",\n",
    "#                  include_top=False,\n",
    "#                  input_shape=(299,299,3))\n",
    "\n",
    "\n",
    "# conv_base = tf.keras.applications.ConvNeXtBase(\n",
    "#     model_name=\"convnext_base\",\n",
    "#     include_top=False,\n",
    "#     weights=\"imagenet\",\n",
    "#     input_shape=(256,256,3),\n",
    "# )\n",
    "\n",
    "conv_base = tf.keras.applications.mobilenet.MobileNet( include_top=False,\n",
    "                                                           input_shape=(INPUT_SHAPE, INPUT_SHAPE,3),\n",
    "                                                           weights='imagenet')    \n",
    "\n",
    "model = Sequential()\n",
    "\n",
    "model.add(conv_base)\n",
    "\n",
    "model.add(Flatten())\n",
    "\n",
    "model.add(Dense(7, activation='softmax'))\n",
    "\n",
    "model.compile(optimizer=keras.optimizers.Adam(lr=0.00001),loss=\"sparse_categorical_crossentropy\",metrics=[\"accuracy\"])"
   ]
  },
  {
   "cell_type": "code",
   "execution_count": 15,
   "id": "a7008fe6",
   "metadata": {
    "execution": {
     "iopub.execute_input": "2023-06-02T17:58:30.122871Z",
     "iopub.status.busy": "2023-06-02T17:58:30.121967Z",
     "iopub.status.idle": "2023-06-02T17:58:30.308584Z",
     "shell.execute_reply": "2023-06-02T17:58:30.307833Z"
    },
    "papermill": {
     "duration": 0.291371,
     "end_time": "2023-06-02T17:58:30.401626",
     "exception": false,
     "start_time": "2023-06-02T17:58:30.110255",
     "status": "completed"
    },
    "tags": []
   },
   "outputs": [
    {
     "name": "stdout",
     "output_type": "stream",
     "text": [
      "Model: \"mobilenet_1.00_224\"\n",
      "_________________________________________________________________\n",
      " Layer (type)                Output Shape              Param #   \n",
      "=================================================================\n",
      " input_1 (InputLayer)        [(None, 244, 244, 3)]     0         \n",
      "                                                                 \n",
      " conv1 (Conv2D)              (None, 122, 122, 32)      864       \n",
      "                                                                 \n",
      " conv1_bn (BatchNormalizatio  (None, 122, 122, 32)     128       \n",
      " n)                                                              \n",
      "                                                                 \n",
      " conv1_relu (ReLU)           (None, 122, 122, 32)      0         \n",
      "                                                                 \n",
      " conv_dw_1 (DepthwiseConv2D)  (None, 122, 122, 32)     288       \n",
      "                                                                 \n",
      " conv_dw_1_bn (BatchNormaliz  (None, 122, 122, 32)     128       \n",
      " ation)                                                          \n",
      "                                                                 \n",
      " conv_dw_1_relu (ReLU)       (None, 122, 122, 32)      0         \n",
      "                                                                 \n",
      " conv_pw_1 (Conv2D)          (None, 122, 122, 64)      2048      \n",
      "                                                                 \n",
      " conv_pw_1_bn (BatchNormaliz  (None, 122, 122, 64)     256       \n",
      " ation)                                                          \n",
      "                                                                 \n",
      " conv_pw_1_relu (ReLU)       (None, 122, 122, 64)      0         \n",
      "                                                                 \n",
      " conv_pad_2 (ZeroPadding2D)  (None, 123, 123, 64)      0         \n",
      "                                                                 \n",
      " conv_dw_2 (DepthwiseConv2D)  (None, 61, 61, 64)       576       \n",
      "                                                                 \n",
      " conv_dw_2_bn (BatchNormaliz  (None, 61, 61, 64)       256       \n",
      " ation)                                                          \n",
      "                                                                 \n",
      " conv_dw_2_relu (ReLU)       (None, 61, 61, 64)        0         \n",
      "                                                                 \n",
      " conv_pw_2 (Conv2D)          (None, 61, 61, 128)       8192      \n",
      "                                                                 \n",
      " conv_pw_2_bn (BatchNormaliz  (None, 61, 61, 128)      512       \n",
      " ation)                                                          \n",
      "                                                                 \n",
      " conv_pw_2_relu (ReLU)       (None, 61, 61, 128)       0         \n",
      "                                                                 \n",
      " conv_dw_3 (DepthwiseConv2D)  (None, 61, 61, 128)      1152      \n",
      "                                                                 \n",
      " conv_dw_3_bn (BatchNormaliz  (None, 61, 61, 128)      512       \n",
      " ation)                                                          \n",
      "                                                                 \n",
      " conv_dw_3_relu (ReLU)       (None, 61, 61, 128)       0         \n",
      "                                                                 \n",
      " conv_pw_3 (Conv2D)          (None, 61, 61, 128)       16384     \n",
      "                                                                 \n",
      " conv_pw_3_bn (BatchNormaliz  (None, 61, 61, 128)      512       \n",
      " ation)                                                          \n",
      "                                                                 \n",
      " conv_pw_3_relu (ReLU)       (None, 61, 61, 128)       0         \n",
      "                                                                 \n",
      " conv_pad_4 (ZeroPadding2D)  (None, 62, 62, 128)       0         \n",
      "                                                                 \n",
      " conv_dw_4 (DepthwiseConv2D)  (None, 30, 30, 128)      1152      \n",
      "                                                                 \n",
      " conv_dw_4_bn (BatchNormaliz  (None, 30, 30, 128)      512       \n",
      " ation)                                                          \n",
      "                                                                 \n",
      " conv_dw_4_relu (ReLU)       (None, 30, 30, 128)       0         \n",
      "                                                                 \n",
      " conv_pw_4 (Conv2D)          (None, 30, 30, 256)       32768     \n",
      "                                                                 \n",
      " conv_pw_4_bn (BatchNormaliz  (None, 30, 30, 256)      1024      \n",
      " ation)                                                          \n",
      "                                                                 \n",
      " conv_pw_4_relu (ReLU)       (None, 30, 30, 256)       0         \n",
      "                                                                 \n",
      " conv_dw_5 (DepthwiseConv2D)  (None, 30, 30, 256)      2304      \n",
      "                                                                 \n",
      " conv_dw_5_bn (BatchNormaliz  (None, 30, 30, 256)      1024      \n",
      " ation)                                                          \n",
      "                                                                 \n",
      " conv_dw_5_relu (ReLU)       (None, 30, 30, 256)       0         \n",
      "                                                                 \n",
      " conv_pw_5 (Conv2D)          (None, 30, 30, 256)       65536     \n",
      "                                                                 \n",
      " conv_pw_5_bn (BatchNormaliz  (None, 30, 30, 256)      1024      \n",
      " ation)                                                          \n",
      "                                                                 \n",
      " conv_pw_5_relu (ReLU)       (None, 30, 30, 256)       0         \n",
      "                                                                 \n",
      " conv_pad_6 (ZeroPadding2D)  (None, 31, 31, 256)       0         \n",
      "                                                                 \n",
      " conv_dw_6 (DepthwiseConv2D)  (None, 15, 15, 256)      2304      \n",
      "                                                                 \n",
      " conv_dw_6_bn (BatchNormaliz  (None, 15, 15, 256)      1024      \n",
      " ation)                                                          \n",
      "                                                                 \n",
      " conv_dw_6_relu (ReLU)       (None, 15, 15, 256)       0         \n",
      "                                                                 \n",
      " conv_pw_6 (Conv2D)          (None, 15, 15, 512)       131072    \n",
      "                                                                 \n",
      " conv_pw_6_bn (BatchNormaliz  (None, 15, 15, 512)      2048      \n",
      " ation)                                                          \n",
      "                                                                 \n",
      " conv_pw_6_relu (ReLU)       (None, 15, 15, 512)       0         \n",
      "                                                                 \n",
      " conv_dw_7 (DepthwiseConv2D)  (None, 15, 15, 512)      4608      \n",
      "                                                                 \n",
      " conv_dw_7_bn (BatchNormaliz  (None, 15, 15, 512)      2048      \n",
      " ation)                                                          \n",
      "                                                                 \n",
      " conv_dw_7_relu (ReLU)       (None, 15, 15, 512)       0         \n",
      "                                                                 \n",
      " conv_pw_7 (Conv2D)          (None, 15, 15, 512)       262144    \n",
      "                                                                 \n",
      " conv_pw_7_bn (BatchNormaliz  (None, 15, 15, 512)      2048      \n",
      " ation)                                                          \n",
      "                                                                 \n",
      " conv_pw_7_relu (ReLU)       (None, 15, 15, 512)       0         \n",
      "                                                                 \n",
      " conv_dw_8 (DepthwiseConv2D)  (None, 15, 15, 512)      4608      \n",
      "                                                                 \n",
      " conv_dw_8_bn (BatchNormaliz  (None, 15, 15, 512)      2048      \n",
      " ation)                                                          \n",
      "                                                                 \n",
      " conv_dw_8_relu (ReLU)       (None, 15, 15, 512)       0         \n",
      "                                                                 \n",
      " conv_pw_8 (Conv2D)          (None, 15, 15, 512)       262144    \n",
      "                                                                 \n",
      " conv_pw_8_bn (BatchNormaliz  (None, 15, 15, 512)      2048      \n",
      " ation)                                                          \n",
      "                                                                 \n",
      " conv_pw_8_relu (ReLU)       (None, 15, 15, 512)       0         \n",
      "                                                                 \n",
      " conv_dw_9 (DepthwiseConv2D)  (None, 15, 15, 512)      4608      \n",
      "                                                                 \n",
      " conv_dw_9_bn (BatchNormaliz  (None, 15, 15, 512)      2048      \n",
      " ation)                                                          \n",
      "                                                                 \n",
      " conv_dw_9_relu (ReLU)       (None, 15, 15, 512)       0         \n",
      "                                                                 \n",
      " conv_pw_9 (Conv2D)          (None, 15, 15, 512)       262144    \n",
      "                                                                 \n",
      " conv_pw_9_bn (BatchNormaliz  (None, 15, 15, 512)      2048      \n",
      " ation)                                                          \n",
      "                                                                 \n",
      " conv_pw_9_relu (ReLU)       (None, 15, 15, 512)       0         \n",
      "                                                                 \n",
      " conv_dw_10 (DepthwiseConv2D  (None, 15, 15, 512)      4608      \n",
      " )                                                               \n",
      "                                                                 \n",
      " conv_dw_10_bn (BatchNormali  (None, 15, 15, 512)      2048      \n",
      " zation)                                                         \n",
      "                                                                 \n",
      " conv_dw_10_relu (ReLU)      (None, 15, 15, 512)       0         \n",
      "                                                                 \n",
      " conv_pw_10 (Conv2D)         (None, 15, 15, 512)       262144    \n",
      "                                                                 \n",
      " conv_pw_10_bn (BatchNormali  (None, 15, 15, 512)      2048      \n",
      " zation)                                                         \n",
      "                                                                 \n",
      " conv_pw_10_relu (ReLU)      (None, 15, 15, 512)       0         \n",
      "                                                                 \n",
      " conv_dw_11 (DepthwiseConv2D  (None, 15, 15, 512)      4608      \n",
      " )                                                               \n",
      "                                                                 \n",
      " conv_dw_11_bn (BatchNormali  (None, 15, 15, 512)      2048      \n",
      " zation)                                                         \n",
      "                                                                 \n",
      " conv_dw_11_relu (ReLU)      (None, 15, 15, 512)       0         \n",
      "                                                                 \n",
      " conv_pw_11 (Conv2D)         (None, 15, 15, 512)       262144    \n",
      "                                                                 \n",
      " conv_pw_11_bn (BatchNormali  (None, 15, 15, 512)      2048      \n",
      " zation)                                                         \n",
      "                                                                 \n",
      " conv_pw_11_relu (ReLU)      (None, 15, 15, 512)       0         \n",
      "                                                                 \n",
      " conv_pad_12 (ZeroPadding2D)  (None, 16, 16, 512)      0         \n",
      "                                                                 \n",
      " conv_dw_12 (DepthwiseConv2D  (None, 7, 7, 512)        4608      \n",
      " )                                                               \n",
      "                                                                 \n",
      " conv_dw_12_bn (BatchNormali  (None, 7, 7, 512)        2048      \n",
      " zation)                                                         \n",
      "                                                                 \n",
      " conv_dw_12_relu (ReLU)      (None, 7, 7, 512)         0         \n",
      "                                                                 \n",
      " conv_pw_12 (Conv2D)         (None, 7, 7, 1024)        524288    \n",
      "                                                                 \n",
      " conv_pw_12_bn (BatchNormali  (None, 7, 7, 1024)       4096      \n",
      " zation)                                                         \n",
      "                                                                 \n",
      " conv_pw_12_relu (ReLU)      (None, 7, 7, 1024)        0         \n",
      "                                                                 \n",
      " conv_dw_13 (DepthwiseConv2D  (None, 7, 7, 1024)       9216      \n",
      " )                                                               \n",
      "                                                                 \n",
      " conv_dw_13_bn (BatchNormali  (None, 7, 7, 1024)       4096      \n",
      " zation)                                                         \n",
      "                                                                 \n",
      " conv_dw_13_relu (ReLU)      (None, 7, 7, 1024)        0         \n",
      "                                                                 \n",
      " conv_pw_13 (Conv2D)         (None, 7, 7, 1024)        1048576   \n",
      "                                                                 \n",
      " conv_pw_13_bn (BatchNormali  (None, 7, 7, 1024)       4096      \n",
      " zation)                                                         \n",
      "                                                                 \n",
      " conv_pw_13_relu (ReLU)      (None, 7, 7, 1024)        0         \n",
      "                                                                 \n",
      "=================================================================\n",
      "Total params: 3,228,864\n",
      "Trainable params: 3,206,976\n",
      "Non-trainable params: 21,888\n",
      "_________________________________________________________________\n"
     ]
    }
   ],
   "source": [
    "conv_base.summary()"
   ]
  },
  {
   "cell_type": "code",
   "execution_count": 16,
   "id": "1de8b422",
   "metadata": {
    "execution": {
     "iopub.execute_input": "2023-06-02T17:58:30.456416Z",
     "iopub.status.busy": "2023-06-02T17:58:30.456053Z",
     "iopub.status.idle": "2023-06-02T17:58:30.484448Z",
     "shell.execute_reply": "2023-06-02T17:58:30.483647Z"
    },
    "papermill": {
     "duration": 0.058048,
     "end_time": "2023-06-02T17:58:30.486595",
     "exception": false,
     "start_time": "2023-06-02T17:58:30.428547",
     "status": "completed"
    },
    "tags": []
   },
   "outputs": [
    {
     "name": "stdout",
     "output_type": "stream",
     "text": [
      "Model: \"sequential\"\n",
      "_________________________________________________________________\n",
      " Layer (type)                Output Shape              Param #   \n",
      "=================================================================\n",
      " mobilenet_1.00_224 (Functio  (None, 7, 7, 1024)       3228864   \n",
      " nal)                                                            \n",
      "                                                                 \n",
      " flatten (Flatten)           (None, 50176)             0         \n",
      "                                                                 \n",
      " dense (Dense)               (None, 7)                 351239    \n",
      "                                                                 \n",
      "=================================================================\n",
      "Total params: 3,580,103\n",
      "Trainable params: 3,558,215\n",
      "Non-trainable params: 21,888\n",
      "_________________________________________________________________\n"
     ]
    }
   ],
   "source": [
    "model.summary()"
   ]
  },
  {
   "cell_type": "markdown",
   "id": "e3e4361c",
   "metadata": {
    "papermill": {
     "duration": 0.026334,
     "end_time": "2023-06-02T17:58:30.540386",
     "exception": false,
     "start_time": "2023-06-02T17:58:30.514052",
     "status": "completed"
    },
    "tags": []
   },
   "source": [
    "# Training"
   ]
  },
  {
   "cell_type": "code",
   "execution_count": 17,
   "id": "88d37acc",
   "metadata": {
    "execution": {
     "iopub.execute_input": "2023-06-02T17:58:30.594993Z",
     "iopub.status.busy": "2023-06-02T17:58:30.594635Z",
     "iopub.status.idle": "2023-06-02T17:58:31.572010Z",
     "shell.execute_reply": "2023-06-02T17:58:31.570796Z"
    },
    "papermill": {
     "duration": 1.007773,
     "end_time": "2023-06-02T17:58:31.574767",
     "exception": false,
     "start_time": "2023-06-02T17:58:30.566994",
     "status": "completed"
    },
    "tags": []
   },
   "outputs": [],
   "source": [
    "# Setting up model callbacks\n",
    "! mkdir /kaggle/working/model/\n",
    "\n",
    "checkpoint=tf.keras.callbacks.ModelCheckpoint(filepath=\"/kaggle/working/model/CNN.h5\", \n",
    "                                              monitor='val_accuracy', \n",
    "                                              verbose=0, \n",
    "                                              save_best_only=True,\n",
    "                                              save_weights_only=False, \n",
    "                                              mode='auto', \n",
    "                                              save_freq='epoch', \n",
    "                                              options=None)"
   ]
  },
  {
   "cell_type": "code",
   "execution_count": 18,
   "id": "b79f12cb",
   "metadata": {
    "execution": {
     "iopub.execute_input": "2023-06-02T17:58:31.632532Z",
     "iopub.status.busy": "2023-06-02T17:58:31.631491Z",
     "iopub.status.idle": "2023-06-02T19:31:01.582184Z",
     "shell.execute_reply": "2023-06-02T19:31:01.581073Z"
    },
    "papermill": {
     "duration": 5549.982278,
     "end_time": "2023-06-02T19:31:01.585160",
     "exception": false,
     "start_time": "2023-06-02T17:58:31.602882",
     "status": "completed"
    },
    "tags": []
   },
   "outputs": [
    {
     "name": "stdout",
     "output_type": "stream",
     "text": [
      "Epoch 1/15\n",
      "287/287 [==============================] - 485s 2s/step - loss: 2.2240 - accuracy: 0.4693 - val_loss: 13.2080 - val_accuracy: 0.0688\n",
      "Epoch 2/15\n",
      "287/287 [==============================] - 347s 1s/step - loss: 0.8565 - accuracy: 0.5871 - val_loss: 6.4816 - val_accuracy: 0.1587\n",
      "Epoch 3/15\n",
      "287/287 [==============================] - 355s 1s/step - loss: 0.7745 - accuracy: 0.6199 - val_loss: 3.8299 - val_accuracy: 0.3055\n",
      "Epoch 4/15\n",
      "287/287 [==============================] - 343s 1s/step - loss: 0.7144 - accuracy: 0.6409 - val_loss: 5.7577 - val_accuracy: 0.2270\n",
      "Epoch 5/15\n",
      "287/287 [==============================] - 343s 1s/step - loss: 0.6766 - accuracy: 0.6603 - val_loss: 6.0837 - val_accuracy: 0.1936\n",
      "Epoch 6/15\n",
      "287/287 [==============================] - 343s 1s/step - loss: 0.6543 - accuracy: 0.6726 - val_loss: 7.7104 - val_accuracy: 0.1282\n",
      "Epoch 7/15\n",
      "287/287 [==============================] - 344s 1s/step - loss: 0.6218 - accuracy: 0.6801 - val_loss: 6.1764 - val_accuracy: 0.1559\n",
      "Epoch 8/15\n",
      "287/287 [==============================] - 342s 1s/step - loss: 0.6157 - accuracy: 0.6860 - val_loss: 6.3088 - val_accuracy: 0.1578\n",
      "Epoch 9/15\n",
      "287/287 [==============================] - 343s 1s/step - loss: 0.6036 - accuracy: 0.6911 - val_loss: 8.4447 - val_accuracy: 0.1169\n",
      "Epoch 10/15\n",
      "287/287 [==============================] - 344s 1s/step - loss: 0.5884 - accuracy: 0.7024 - val_loss: 7.3544 - val_accuracy: 0.1822\n",
      "Epoch 11/15\n",
      "287/287 [==============================] - 330s 1s/step - loss: 0.5729 - accuracy: 0.7015 - val_loss: 9.4827 - val_accuracy: 0.0507\n",
      "Epoch 12/15\n",
      "287/287 [==============================] - 330s 1s/step - loss: 0.5532 - accuracy: 0.7126 - val_loss: 8.0639 - val_accuracy: 0.1053\n",
      "Epoch 13/15\n",
      "287/287 [==============================] - 328s 1s/step - loss: 0.5454 - accuracy: 0.7199 - val_loss: 8.6871 - val_accuracy: 0.1419\n",
      "Epoch 14/15\n",
      "287/287 [==============================] - 329s 1s/step - loss: 0.5374 - accuracy: 0.7205 - val_loss: 5.7516 - val_accuracy: 0.1763\n",
      "Epoch 15/15\n",
      "287/287 [==============================] - 347s 1s/step - loss: 0.5208 - accuracy: 0.7286 - val_loss: 6.2038 - val_accuracy: 0.1694\n"
     ]
    },
    {
     "data": {
      "image/png": "[encoded data removed]",
      "text/plain": [
       "<Figure size 640x480 with 1 Axes>"
      ]
     },
     "metadata": {},
     "output_type": "display_data"
    },
    {
     "data": {
      "image/png": "[encoded data removed]",
      "text/plain": [
       "<Figure size 640x480 with 1 Axes>"
      ]
     },
     "metadata": {},
     "output_type": "display_data"
    }
   ],
   "source": [
    "# Training the model\n",
    "\n",
    "STEP_SIZE_TRAIN=train_generator.n//train_generator.batch_size\n",
    "STEP_SIZE_TEST=test_generator.n//test_generator.batch_size\n",
    "\n",
    "history = model.fit(train_generator,\n",
    "                    steps_per_epoch=STEP_SIZE_TRAIN,\n",
    "                    validation_data=test_generator,\n",
    "                    validation_steps=STEP_SIZE_TEST,\n",
    "                    epochs=EPOCHS,\n",
    "                    callbacks=[checkpoint],\n",
    "                    class_weight=weights)\n",
    "\n",
    "\n",
    "# summarize history for accuracy\n",
    "plt.plot(history.history['accuracy'])\n",
    "plt.plot(history.history['val_accuracy'])\n",
    "plt.title('model accuracy')\n",
    "plt.ylabel('accuracy')\n",
    "plt.xlabel('epoch')\n",
    "plt.legend(['train', 'test'], loc='upper left')\n",
    "plt.grid()\n",
    "plt.show()\n",
    "\n",
    "\n",
    "# summarize history for loss\n",
    "plt.plot(history.history['loss'])\n",
    "plt.plot(history.history['val_loss'])\n",
    "plt.title('model loss')\n",
    "plt.ylabel('loss')\n",
    "plt.xlabel('epoch')\n",
    "plt.legend(['train', 'test'], loc='upper left')\n",
    "plt.grid()\n",
    "plt.show()"
   ]
  },
  {
   "cell_type": "markdown",
   "id": "7ec17d09",
   "metadata": {
    "papermill": {
     "duration": 0.350118,
     "end_time": "2023-06-02T19:31:02.341062",
     "exception": false,
     "start_time": "2023-06-02T19:31:01.990944",
     "status": "completed"
    },
    "tags": []
   },
   "source": [
    "# Testing"
   ]
  },
  {
   "cell_type": "code",
   "execution_count": 19,
   "id": "a44734e2",
   "metadata": {
    "execution": {
     "iopub.execute_input": "2023-06-02T19:31:03.055643Z",
     "iopub.status.busy": "2023-06-02T19:31:03.055276Z",
     "iopub.status.idle": "2023-06-02T19:31:04.637244Z",
     "shell.execute_reply": "2023-06-02T19:31:04.635979Z"
    },
    "papermill": {
     "duration": 1.943722,
     "end_time": "2023-06-02T19:31:04.639872",
     "exception": false,
     "start_time": "2023-06-02T19:31:02.696150",
     "status": "completed"
    },
    "tags": []
   },
   "outputs": [],
   "source": [
    "# importing the best model\n",
    "\n",
    "model = tf.keras.models.load_model(\"/kaggle/working/model/CNN.h5\")"
   ]
  },
  {
   "cell_type": "code",
   "execution_count": 20,
   "id": "f91086f3",
   "metadata": {
    "execution": {
     "iopub.execute_input": "2023-06-02T19:31:05.400872Z",
     "iopub.status.busy": "2023-06-02T19:31:05.400525Z",
     "iopub.status.idle": "2023-06-02T19:31:33.603514Z",
     "shell.execute_reply": "2023-06-02T19:31:33.600795Z"
    },
    "papermill": {
     "duration": 28.559832,
     "end_time": "2023-06-02T19:31:33.606309",
     "exception": false,
     "start_time": "2023-06-02T19:31:05.046477",
     "status": "completed"
    },
    "tags": []
   },
   "outputs": [
    {
     "name": "stdout",
     "output_type": "stream",
     "text": [
      "89/89 [==============================] - 28s 305ms/step - loss: 3.8299 - accuracy: 0.3055\n"
     ]
    },
    {
     "data": {
      "text/plain": [
       "[3.8298513889312744, 0.3054775297641754]"
      ]
     },
     "execution_count": 20,
     "metadata": {},
     "output_type": "execute_result"
    }
   ],
   "source": [
    "# Test accuracy\n",
    "test_generator.reset()\n",
    "model.evaluate(test_generator,\n",
    "steps=STEP_SIZE_TEST)"
   ]
  },
  {
   "cell_type": "code",
   "execution_count": 21,
   "id": "c4e9624a",
   "metadata": {
    "execution": {
     "iopub.execute_input": "2023-06-02T19:31:34.324513Z",
     "iopub.status.busy": "2023-06-02T19:31:34.324140Z",
     "iopub.status.idle": "2023-06-02T19:32:02.519930Z",
     "shell.execute_reply": "2023-06-02T19:32:02.518957Z"
    },
    "papermill": {
     "duration": 28.556676,
     "end_time": "2023-06-02T19:32:02.522190",
     "exception": false,
     "start_time": "2023-06-02T19:31:33.965514",
     "status": "completed"
    },
    "tags": []
   },
   "outputs": [
    {
     "name": "stdout",
     "output_type": "stream",
     "text": [
      "90/90 [==============================] - 28s 304ms/step\n"
     ]
    }
   ],
   "source": [
    "test_generator.reset()\n",
    "pred=model.predict(test_generator)"
   ]
  },
  {
   "cell_type": "code",
   "execution_count": 22,
   "id": "fd900b40",
   "metadata": {
    "execution": {
     "iopub.execute_input": "2023-06-02T19:32:03.309598Z",
     "iopub.status.busy": "2023-06-02T19:32:03.309193Z",
     "iopub.status.idle": "2023-06-02T19:32:03.399330Z",
     "shell.execute_reply": "2023-06-02T19:32:03.398052Z"
    },
    "papermill": {
     "duration": 0.453821,
     "end_time": "2023-06-02T19:32:03.401539",
     "exception": false,
     "start_time": "2023-06-02T19:32:02.947718",
     "status": "completed"
    },
    "tags": []
   },
   "outputs": [
    {
     "name": "stdout",
     "output_type": "stream",
     "text": [
      "[[1770  729  605  751  295  613  988]\n",
      " [   0    0    0    0    0    0    0]\n",
      " [   0    0    0    0    0    0    0]\n",
      " [   0    0    0    0    0    0    0]\n",
      " [   0    0    0    0    0    0    0]\n",
      " [   0    0    0    0    0    0    0]\n",
      " [   0    0    0    0    0    0    0]]\n"
     ]
    }
   ],
   "source": [
    "from sklearn.metrics import confusion_matrix\n",
    "y_pred=np.argmax(pred,axis=1)\n",
    "\n",
    "test_df['label'] = test_df['label'].astype(int)\n",
    "\n",
    "cm=confusion_matrix(test_df.label, y_pred)\n",
    "print(cm)"
   ]
  },
  {
   "cell_type": "markdown",
   "id": "6630ac87",
   "metadata": {
    "papermill": {
     "duration": 0.358546,
     "end_time": "2023-06-02T19:32:04.130187",
     "exception": false,
     "start_time": "2023-06-02T19:32:03.771641",
     "status": "completed"
    },
    "tags": []
   },
   "source": [
    "# Creating submission.csv"
   ]
  },
  {
   "cell_type": "code",
   "execution_count": 23,
   "id": "2b77631c",
   "metadata": {
    "execution": {
     "iopub.execute_input": "2023-06-02T19:32:04.857512Z",
     "iopub.status.busy": "2023-06-02T19:32:04.857124Z",
     "iopub.status.idle": "2023-06-02T19:32:04.881370Z",
     "shell.execute_reply": "2023-06-02T19:32:04.880471Z"
    },
    "papermill": {
     "duration": 0.388047,
     "end_time": "2023-06-02T19:32:04.883394",
     "exception": false,
     "start_time": "2023-06-02T19:32:04.495347",
     "status": "completed"
    },
    "tags": []
   },
   "outputs": [],
   "source": [
    "filenames=test_generator.filenames\n",
    "predictions=np.argmax(pred,axis=1)\n",
    "results=pd.DataFrame({\"Filename\":filenames,\n",
    "                      \"Predictions\":predictions})\n",
    "results.to_csv(\"submission.csv\",index=False)"
   ]
  },
  {
   "cell_type": "markdown",
   "id": "462e51e6",
   "metadata": {
    "papermill": {
     "duration": 0.369163,
     "end_time": "2023-06-02T19:32:05.613836",
     "exception": false,
     "start_time": "2023-06-02T19:32:05.244673",
     "status": "completed"
    },
    "tags": []
   },
   "source": [
    "# Reasons for low testing accuracy \n",
    "**Problem**: Although the training and testing data belong to the same dataset, the split in the dataset is very different, training data has about 1402 belonging to class 0 and the testing data has all the data belonging to class 0. Inorder to make a model that generalizes well on the dataset we need at least a minimum of 5000 samples per class.So creating a good model with just 1402 images is a difficult task.\n",
    "\n",
    "**Solution 1**: Adding more data in the dataset would lead to better learning of the model and would remove any bias in the dataset. But this is not possible in our case.\n",
    "\n",
    "**Solution 2**: If adding data is not an option then using a pre-trained model could lead to better generalization. This is because pre trained models are trained for good feature extraction. This should work for our use case but from what I have learned while training the model, Due to the low amount of class 0 data in the dataset the pretrained model is also not able to learn well even though it generalizes well.\n",
    "\n"
   ]
  }
 ],
 "metadata": {
  "kernelspec": {
   "display_name": "Python 3",
   "language": "python",
   "name": "python3"
  },
  "language_info": {
   "codemirror_mode": {
    "name": "ipython",
    "version": 3
   },
   "file_extension": ".py",
   "mimetype": "text/x-python",
   "name": "python",
   "nbconvert_exporter": "python",
   "pygments_lexer": "ipython3",
   "version": "3.10.10"
  },
  "papermill": {
   "default_parameters": {},
   "duration": 5672.578377,
   "end_time": "2023-06-02T19:32:08.904795",
   "environment_variables": {},
   "exception": null,
   "input_path": "__notebook__.ipynb",
   "output_path": "__notebook__.ipynb",
   "parameters": {},
   "start_time": "2023-06-02T17:57:36.326418",
   "version": "2.4.0"
  }
 },
 "nbformat": 4,
 "nbformat_minor": 5
}
