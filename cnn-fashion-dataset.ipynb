{
 "cells": [
  {
   "cell_type": "code",
   "execution_count": 1,
   "id": "db6b2320",
   "metadata": {
    "_cell_guid": "b1076dfc-b9ad-4769-8c92-a6c4dae69d19",
    "_uuid": "8f2839f25d086af736a60e9eeb907d3b93b6e0e5",
    "execution": {
     "iopub.execute_input": "2023-06-04T05:38:50.476816Z",
     "iopub.status.busy": "2023-06-04T05:38:50.476218Z",
     "iopub.status.idle": "2023-06-04T05:39:05.069886Z",
     "shell.execute_reply": "2023-06-04T05:39:05.068985Z"
    },
    "papermill": {
     "duration": 14.606398,
     "end_time": "2023-06-04T05:39:05.072210",
     "exception": false,
     "start_time": "2023-06-04T05:38:50.465812",
     "status": "completed"
    },
    "tags": []
   },
   "outputs": [],
   "source": [
    "# This Python 3 environment comes with many helpful analytics libraries installed\n",
    "# It is defined by the kaggle/python Docker image: https://github.com/kaggle/docker-python\n",
    "# For example, here's several helpful packages to load\n",
    "\n",
    "import numpy as np # linear algebra\n",
    "import pandas as pd # data processing, CSV file I/O (e.g. pd.read_csv)\n",
    "\n",
    "# Input data files are available in the read-only \"../input/\" directory\n",
    "# For example, running this (by clicking run or pressing Shift+Enter) will list all files under the input directory\n",
    "\n",
    "import os\n",
    "for dirname, _, filenames in os.walk('/kaggle/input'):\n",
    "    for filename in filenames:\n",
    "        os.path.join(dirname, filename)\n"
   ]
  },
  {
   "cell_type": "markdown",
   "id": "81a33938",
   "metadata": {
    "papermill": {
     "duration": 0.007829,
     "end_time": "2023-06-04T05:39:05.088337",
     "exception": false,
     "start_time": "2023-06-04T05:39:05.080508",
     "status": "completed"
    },
    "tags": []
   },
   "source": [
    "# Importing Required Modules "
   ]
  },
  {
   "cell_type": "code",
   "execution_count": 2,
   "id": "17d163cf",
   "metadata": {
    "execution": {
     "iopub.execute_input": "2023-06-04T05:39:05.105102Z",
     "iopub.status.busy": "2023-06-04T05:39:05.104800Z",
     "iopub.status.idle": "2023-06-04T05:39:12.937159Z",
     "shell.execute_reply": "2023-06-04T05:39:12.936223Z"
    },
    "papermill": {
     "duration": 7.843262,
     "end_time": "2023-06-04T05:39:12.939465",
     "exception": false,
     "start_time": "2023-06-04T05:39:05.096203",
     "status": "completed"
    },
    "tags": []
   },
   "outputs": [
    {
     "name": "stderr",
     "output_type": "stream",
     "text": [
      "/opt/conda/lib/python3.10/site-packages/tensorflow_io/python/ops/__init__.py:98: UserWarning: unable to load libtensorflow_io_plugins.so: unable to open file: libtensorflow_io_plugins.so, from paths: ['/opt/conda/lib/python3.10/site-packages/tensorflow_io/python/ops/libtensorflow_io_plugins.so']\n",
      "caused by: ['/opt/conda/lib/python3.10/site-packages/tensorflow_io/python/ops/libtensorflow_io_plugins.so: undefined symbol: _ZN3tsl6StatusC1EN10tensorflow5error4CodeESt17basic_string_viewIcSt11char_traitsIcEENS_14SourceLocationE']\n",
      "  warnings.warn(f\"unable to load libtensorflow_io_plugins.so: {e}\")\n",
      "/opt/conda/lib/python3.10/site-packages/tensorflow_io/python/ops/__init__.py:104: UserWarning: file system plugins are not loaded: unable to open file: libtensorflow_io.so, from paths: ['/opt/conda/lib/python3.10/site-packages/tensorflow_io/python/ops/libtensorflow_io.so']\n",
      "caused by: ['/opt/conda/lib/python3.10/site-packages/tensorflow_io/python/ops/libtensorflow_io.so: undefined symbol: _ZTVN10tensorflow13GcsFileSystemE']\n",
      "  warnings.warn(f\"file system plugins are not loaded: {e}\")\n"
     ]
    }
   ],
   "source": [
    "import pandas as pd\n",
    "import cv2 as cv\n",
    "from tensorflow.keras.models import Sequential\n",
    "from tensorflow.keras.layers import *\n",
    "import os"
   ]
  },
  {
   "cell_type": "markdown",
   "id": "02bc4a3b",
   "metadata": {
    "papermill": {
     "duration": 0.007778,
     "end_time": "2023-06-04T05:39:12.955541",
     "exception": false,
     "start_time": "2023-06-04T05:39:12.947763",
     "status": "completed"
    },
    "tags": []
   },
   "source": [
    "# Model Hyper parameters"
   ]
  },
  {
   "cell_type": "code",
   "execution_count": 3,
   "id": "b85891ea",
   "metadata": {
    "execution": {
     "iopub.execute_input": "2023-06-04T05:39:12.973028Z",
     "iopub.status.busy": "2023-06-04T05:39:12.972430Z",
     "iopub.status.idle": "2023-06-04T05:39:12.977367Z",
     "shell.execute_reply": "2023-06-04T05:39:12.976481Z"
    },
    "papermill": {
     "duration": 0.015776,
     "end_time": "2023-06-04T05:39:12.979398",
     "exception": false,
     "start_time": "2023-06-04T05:39:12.963622",
     "status": "completed"
    },
    "tags": []
   },
   "outputs": [],
   "source": [
    "train_path = \"/kaggle/input/extracting-attributes-from-fashion-images-2/train\"\n",
    "BATCH_SIZE = 64\n",
    "EPOCHS = 20\n",
    "INPUT_SHAPE = 244"
   ]
  },
  {
   "cell_type": "markdown",
   "id": "1d578ba6",
   "metadata": {
    "papermill": {
     "duration": 0.007635,
     "end_time": "2023-06-04T05:39:12.994926",
     "exception": false,
     "start_time": "2023-06-04T05:39:12.987291",
     "status": "completed"
    },
    "tags": []
   },
   "source": [
    "# Data Importing"
   ]
  },
  {
   "cell_type": "code",
   "execution_count": 4,
   "id": "6d24fa3a",
   "metadata": {
    "execution": {
     "iopub.execute_input": "2023-06-04T05:39:13.012425Z",
     "iopub.status.busy": "2023-06-04T05:39:13.012159Z",
     "iopub.status.idle": "2023-06-04T05:39:13.051450Z",
     "shell.execute_reply": "2023-06-04T05:39:13.050621Z"
    },
    "papermill": {
     "duration": 0.050652,
     "end_time": "2023-06-04T05:39:13.053521",
     "exception": false,
     "start_time": "2023-06-04T05:39:13.002869",
     "status": "completed"
    },
    "tags": []
   },
   "outputs": [
    {
     "data": {
      "text/html": [
       "<div>\n",
       "<style scoped>\n",
       "    .dataframe tbody tr th:only-of-type {\n",
       "        vertical-align: middle;\n",
       "    }\n",
       "\n",
       "    .dataframe tbody tr th {\n",
       "        vertical-align: top;\n",
       "    }\n",
       "\n",
       "    .dataframe thead th {\n",
       "        text-align: right;\n",
       "    }\n",
       "</style>\n",
       "<table border=\"1\" class=\"dataframe\">\n",
       "  <thead>\n",
       "    <tr style=\"text-align: right;\">\n",
       "      <th></th>\n",
       "      <th>file_name</th>\n",
       "      <th>label</th>\n",
       "    </tr>\n",
       "  </thead>\n",
       "  <tbody>\n",
       "    <tr>\n",
       "      <th>0</th>\n",
       "      <td>Image_train_00001.jpg</td>\n",
       "      <td>0</td>\n",
       "    </tr>\n",
       "    <tr>\n",
       "      <th>1</th>\n",
       "      <td>Image_train_00002.jpg</td>\n",
       "      <td>1</td>\n",
       "    </tr>\n",
       "    <tr>\n",
       "      <th>2</th>\n",
       "      <td>Image_train_00003.jpg</td>\n",
       "      <td>0</td>\n",
       "    </tr>\n",
       "    <tr>\n",
       "      <th>3</th>\n",
       "      <td>Image_train_00004.jpg</td>\n",
       "      <td>0</td>\n",
       "    </tr>\n",
       "    <tr>\n",
       "      <th>4</th>\n",
       "      <td>Image_train_00005.jpg</td>\n",
       "      <td>0</td>\n",
       "    </tr>\n",
       "    <tr>\n",
       "      <th>...</th>\n",
       "      <td>...</td>\n",
       "      <td>...</td>\n",
       "    </tr>\n",
       "    <tr>\n",
       "      <th>18386</th>\n",
       "      <td>Image_train_18387.jpg</td>\n",
       "      <td>1</td>\n",
       "    </tr>\n",
       "    <tr>\n",
       "      <th>18387</th>\n",
       "      <td>Image_train_18388.jpg</td>\n",
       "      <td>2</td>\n",
       "    </tr>\n",
       "    <tr>\n",
       "      <th>18388</th>\n",
       "      <td>Image_train_18389.jpg</td>\n",
       "      <td>1</td>\n",
       "    </tr>\n",
       "    <tr>\n",
       "      <th>18389</th>\n",
       "      <td>Image_train_18390.jpg</td>\n",
       "      <td>1</td>\n",
       "    </tr>\n",
       "    <tr>\n",
       "      <th>18390</th>\n",
       "      <td>Image_train_18391.jpg</td>\n",
       "      <td>1</td>\n",
       "    </tr>\n",
       "  </tbody>\n",
       "</table>\n",
       "<p>18391 rows × 2 columns</p>\n",
       "</div>"
      ],
      "text/plain": [
       "                   file_name  label\n",
       "0      Image_train_00001.jpg      0\n",
       "1      Image_train_00002.jpg      1\n",
       "2      Image_train_00003.jpg      0\n",
       "3      Image_train_00004.jpg      0\n",
       "4      Image_train_00005.jpg      0\n",
       "...                      ...    ...\n",
       "18386  Image_train_18387.jpg      1\n",
       "18387  Image_train_18388.jpg      2\n",
       "18388  Image_train_18389.jpg      1\n",
       "18389  Image_train_18390.jpg      1\n",
       "18390  Image_train_18391.jpg      1\n",
       "\n",
       "[18391 rows x 2 columns]"
      ]
     },
     "execution_count": 4,
     "metadata": {},
     "output_type": "execute_result"
    }
   ],
   "source": [
    "# training data\n",
    "train_df = pd.read_csv(\"/kaggle/input/extracting-attributes-from-fashion-images-2/train.csv\")\n",
    "train_df"
   ]
  },
  {
   "cell_type": "code",
   "execution_count": 5,
   "id": "e821f57f",
   "metadata": {
    "execution": {
     "iopub.execute_input": "2023-06-04T05:39:13.070895Z",
     "iopub.status.busy": "2023-06-04T05:39:13.070630Z",
     "iopub.status.idle": "2023-06-04T05:39:13.090422Z",
     "shell.execute_reply": "2023-06-04T05:39:13.089552Z"
    },
    "papermill": {
     "duration": 0.030697,
     "end_time": "2023-06-04T05:39:13.092390",
     "exception": false,
     "start_time": "2023-06-04T05:39:13.061693",
     "status": "completed"
    },
    "tags": []
   },
   "outputs": [
    {
     "data": {
      "text/html": [
       "<div>\n",
       "<style scoped>\n",
       "    .dataframe tbody tr th:only-of-type {\n",
       "        vertical-align: middle;\n",
       "    }\n",
       "\n",
       "    .dataframe tbody tr th {\n",
       "        vertical-align: top;\n",
       "    }\n",
       "\n",
       "    .dataframe thead th {\n",
       "        text-align: right;\n",
       "    }\n",
       "</style>\n",
       "<table border=\"1\" class=\"dataframe\">\n",
       "  <thead>\n",
       "    <tr style=\"text-align: right;\">\n",
       "      <th></th>\n",
       "      <th>file_name</th>\n",
       "      <th>label</th>\n",
       "    </tr>\n",
       "  </thead>\n",
       "  <tbody>\n",
       "    <tr>\n",
       "      <th>0</th>\n",
       "      <td>Image_test_00001.jpg</td>\n",
       "      <td>0</td>\n",
       "    </tr>\n",
       "    <tr>\n",
       "      <th>1</th>\n",
       "      <td>Image_test_00002.jpg</td>\n",
       "      <td>0</td>\n",
       "    </tr>\n",
       "    <tr>\n",
       "      <th>2</th>\n",
       "      <td>Image_test_00003.jpg</td>\n",
       "      <td>0</td>\n",
       "    </tr>\n",
       "    <tr>\n",
       "      <th>3</th>\n",
       "      <td>Image_test_00004.jpg</td>\n",
       "      <td>0</td>\n",
       "    </tr>\n",
       "    <tr>\n",
       "      <th>4</th>\n",
       "      <td>Image_test_00005.jpg</td>\n",
       "      <td>0</td>\n",
       "    </tr>\n",
       "    <tr>\n",
       "      <th>...</th>\n",
       "      <td>...</td>\n",
       "      <td>...</td>\n",
       "    </tr>\n",
       "    <tr>\n",
       "      <th>5746</th>\n",
       "      <td>Image_test_05747.jpg</td>\n",
       "      <td>0</td>\n",
       "    </tr>\n",
       "    <tr>\n",
       "      <th>5747</th>\n",
       "      <td>Image_test_05748.jpg</td>\n",
       "      <td>0</td>\n",
       "    </tr>\n",
       "    <tr>\n",
       "      <th>5748</th>\n",
       "      <td>Image_test_05749.jpg</td>\n",
       "      <td>0</td>\n",
       "    </tr>\n",
       "    <tr>\n",
       "      <th>5749</th>\n",
       "      <td>Image_test_05750.jpg</td>\n",
       "      <td>0</td>\n",
       "    </tr>\n",
       "    <tr>\n",
       "      <th>5750</th>\n",
       "      <td>Image_test_05751.jpg</td>\n",
       "      <td>0</td>\n",
       "    </tr>\n",
       "  </tbody>\n",
       "</table>\n",
       "<p>5751 rows × 2 columns</p>\n",
       "</div>"
      ],
      "text/plain": [
       "                 file_name  label\n",
       "0     Image_test_00001.jpg      0\n",
       "1     Image_test_00002.jpg      0\n",
       "2     Image_test_00003.jpg      0\n",
       "3     Image_test_00004.jpg      0\n",
       "4     Image_test_00005.jpg      0\n",
       "...                    ...    ...\n",
       "5746  Image_test_05747.jpg      0\n",
       "5747  Image_test_05748.jpg      0\n",
       "5748  Image_test_05749.jpg      0\n",
       "5749  Image_test_05750.jpg      0\n",
       "5750  Image_test_05751.jpg      0\n",
       "\n",
       "[5751 rows x 2 columns]"
      ]
     },
     "execution_count": 5,
     "metadata": {},
     "output_type": "execute_result"
    }
   ],
   "source": [
    "# testing data\n",
    "test_df = pd.read_csv(\"/kaggle/input/extracting-attributes-from-fashion-images-2/sample_submission.csv\")\n",
    "test_df"
   ]
  },
  {
   "cell_type": "markdown",
   "id": "7338928d",
   "metadata": {
    "papermill": {
     "duration": 0.008216,
     "end_time": "2023-06-04T05:39:13.109204",
     "exception": false,
     "start_time": "2023-06-04T05:39:13.100988",
     "status": "completed"
    },
    "tags": []
   },
   "source": [
    "## Checking for Imbalance in the dataset"
   ]
  },
  {
   "cell_type": "code",
   "execution_count": 6,
   "id": "7ad5b4c3",
   "metadata": {
    "execution": {
     "iopub.execute_input": "2023-06-04T05:39:13.128060Z",
     "iopub.status.busy": "2023-06-04T05:39:13.127445Z",
     "iopub.status.idle": "2023-06-04T05:39:13.138754Z",
     "shell.execute_reply": "2023-06-04T05:39:13.137793Z"
    },
    "papermill": {
     "duration": 0.023235,
     "end_time": "2023-06-04T05:39:13.140711",
     "exception": false,
     "start_time": "2023-06-04T05:39:13.117476",
     "status": "completed"
    },
    "tags": []
   },
   "outputs": [
    {
     "data": {
      "text/plain": [
       "1    5384\n",
       "2    4084\n",
       "3    2008\n",
       "4    1972\n",
       "6    1925\n",
       "5    1616\n",
       "0    1402\n",
       "Name: label, dtype: int64"
      ]
     },
     "execution_count": 6,
     "metadata": {},
     "output_type": "execute_result"
    }
   ],
   "source": [
    "train_df.label.value_counts()"
   ]
  },
  {
   "cell_type": "code",
   "execution_count": 7,
   "id": "f907b0a9",
   "metadata": {
    "execution": {
     "iopub.execute_input": "2023-06-04T05:39:13.159458Z",
     "iopub.status.busy": "2023-06-04T05:39:13.158697Z",
     "iopub.status.idle": "2023-06-04T05:39:13.165957Z",
     "shell.execute_reply": "2023-06-04T05:39:13.165073Z"
    },
    "papermill": {
     "duration": 0.018712,
     "end_time": "2023-06-04T05:39:13.167885",
     "exception": false,
     "start_time": "2023-06-04T05:39:13.149173",
     "status": "completed"
    },
    "tags": []
   },
   "outputs": [
    {
     "data": {
      "text/plain": [
       "0    5751\n",
       "Name: label, dtype: int64"
      ]
     },
     "execution_count": 7,
     "metadata": {},
     "output_type": "execute_result"
    }
   ],
   "source": [
    "test_df.label.value_counts()"
   ]
  },
  {
   "cell_type": "code",
   "execution_count": 8,
   "id": "c4a89270",
   "metadata": {
    "execution": {
     "iopub.execute_input": "2023-06-04T05:39:13.187021Z",
     "iopub.status.busy": "2023-06-04T05:39:13.186273Z",
     "iopub.status.idle": "2023-06-04T05:39:13.194070Z",
     "shell.execute_reply": "2023-06-04T05:39:13.193124Z"
    },
    "papermill": {
     "duration": 0.019361,
     "end_time": "2023-06-04T05:39:13.196116",
     "exception": false,
     "start_time": "2023-06-04T05:39:13.176755",
     "status": "completed"
    },
    "tags": []
   },
   "outputs": [
    {
     "data": {
      "text/plain": [
       "array([0, 1, 2, 3, 5, 4, 6])"
      ]
     },
     "execution_count": 8,
     "metadata": {},
     "output_type": "execute_result"
    }
   ],
   "source": [
    "train_df.label.unique()"
   ]
  },
  {
   "cell_type": "code",
   "execution_count": 9,
   "id": "03ad451d",
   "metadata": {
    "execution": {
     "iopub.execute_input": "2023-06-04T05:39:13.215386Z",
     "iopub.status.busy": "2023-06-04T05:39:13.214642Z",
     "iopub.status.idle": "2023-06-04T05:39:14.017764Z",
     "shell.execute_reply": "2023-06-04T05:39:14.016777Z"
    },
    "papermill": {
     "duration": 0.814746,
     "end_time": "2023-06-04T05:39:14.019731",
     "exception": false,
     "start_time": "2023-06-04T05:39:13.204985",
     "status": "completed"
    },
    "tags": []
   },
   "outputs": [
    {
     "data": {
      "text/plain": [
       "[1.8739555736702669,\n",
       " 0.4879802589683719,\n",
       " 0.6433118791101161,\n",
       " 1.3084092202618098,\n",
       " 1.3322949869603014,\n",
       " 1.6257956152758133,\n",
       " 1.3648237476808904]"
      ]
     },
     "execution_count": 9,
     "metadata": {},
     "output_type": "execute_result"
    }
   ],
   "source": [
    "# Creating class weights for imbalance dataset\n",
    "from sklearn.utils import class_weight\n",
    "class_weights = list(class_weight.compute_class_weight('balanced',\n",
    "                                                 classes=np.unique(train_df.label.to_numpy()),\n",
    "                                                 y=train_df.label.to_numpy()))\n",
    "class_weights"
   ]
  },
  {
   "cell_type": "code",
   "execution_count": 10,
   "id": "f474638b",
   "metadata": {
    "execution": {
     "iopub.execute_input": "2023-06-04T05:39:14.039872Z",
     "iopub.status.busy": "2023-06-04T05:39:14.039134Z",
     "iopub.status.idle": "2023-06-04T05:39:14.045510Z",
     "shell.execute_reply": "2023-06-04T05:39:14.044493Z"
    },
    "papermill": {
     "duration": 0.019333,
     "end_time": "2023-06-04T05:39:14.048530",
     "exception": false,
     "start_time": "2023-06-04T05:39:14.029197",
     "status": "completed"
    },
    "tags": []
   },
   "outputs": [
    {
     "data": {
      "text/plain": [
       "{0: 1.8739555736702669,\n",
       " 1: 0.4879802589683719,\n",
       " 2: 0.6433118791101161,\n",
       " 3: 1.3084092202618098,\n",
       " 4: 1.3322949869603014,\n",
       " 5: 1.6257956152758133,\n",
       " 6: 1.3648237476808904}"
      ]
     },
     "execution_count": 10,
     "metadata": {},
     "output_type": "execute_result"
    }
   ],
   "source": [
    "weights = {x:y for x,y in enumerate(class_weights)}\n",
    "weights"
   ]
  },
  {
   "cell_type": "markdown",
   "id": "5555c16c",
   "metadata": {
    "papermill": {
     "duration": 0.008717,
     "end_time": "2023-06-04T05:39:14.066244",
     "exception": false,
     "start_time": "2023-06-04T05:39:14.057527",
     "status": "completed"
    },
    "tags": []
   },
   "source": [
    "# Visualization the dataset"
   ]
  },
  {
   "cell_type": "code",
   "execution_count": 11,
   "id": "a944c4ec",
   "metadata": {
    "execution": {
     "iopub.execute_input": "2023-06-04T05:39:14.085174Z",
     "iopub.status.busy": "2023-06-04T05:39:14.084898Z",
     "iopub.status.idle": "2023-06-04T05:39:14.281839Z",
     "shell.execute_reply": "2023-06-04T05:39:14.280940Z"
    },
    "papermill": {
     "duration": 0.211324,
     "end_time": "2023-06-04T05:39:14.286463",
     "exception": false,
     "start_time": "2023-06-04T05:39:14.075139",
     "status": "completed"
    },
    "tags": []
   },
   "outputs": [
    {
     "data": {
      "image/png": "[encoded data removed]",
      "text/plain": [
       "<Figure size 640x480 with 1 Axes>"
      ]
     },
     "metadata": {},
     "output_type": "display_data"
    }
   ],
   "source": [
    "from matplotlib import pyplot as plt\n",
    "\n",
    "train_files = os.listdir(train_path)\n",
    "img = cv.imread(train_path+\"/\"+train_files[1])\n",
    "plt.imshow(img)\n",
    "plt.xticks([])\n",
    "plt.yticks([])\n",
    "plt.show()"
   ]
  },
  {
   "cell_type": "markdown",
   "id": "bcc742cf",
   "metadata": {
    "papermill": {
     "duration": 0.01129,
     "end_time": "2023-06-04T05:39:14.318778",
     "exception": false,
     "start_time": "2023-06-04T05:39:14.307488",
     "status": "completed"
    },
    "tags": []
   },
   "source": [
    "# Creating Data Pipelines"
   ]
  },
  {
   "cell_type": "code",
   "execution_count": 12,
   "id": "8abac659",
   "metadata": {
    "execution": {
     "iopub.execute_input": "2023-06-04T05:39:14.339646Z",
     "iopub.status.busy": "2023-06-04T05:39:14.339319Z",
     "iopub.status.idle": "2023-06-04T05:39:21.433529Z",
     "shell.execute_reply": "2023-06-04T05:39:21.432623Z"
    },
    "papermill": {
     "duration": 7.107269,
     "end_time": "2023-06-04T05:39:21.435872",
     "exception": false,
     "start_time": "2023-06-04T05:39:14.328603",
     "status": "completed"
    },
    "tags": []
   },
   "outputs": [
    {
     "name": "stdout",
     "output_type": "stream",
     "text": [
      "Found 18391 validated image filenames belonging to 7 classes.\n"
     ]
    }
   ],
   "source": [
    "from tensorflow.keras.preprocessing.image import ImageDataGenerator\n",
    "\n",
    "train_df['label'] = train_df['label'].astype(str)\n",
    "\n",
    "datagen = ImageDataGenerator(\n",
    "    rescale=1/255.0,\n",
    "    rotation_range=20,\n",
    "    zoom_range=0.05,\n",
    "    width_shift_range=0.05,\n",
    "    height_shift_range=0.05,\n",
    "    shear_range=0.05,\n",
    "    horizontal_flip=True,\n",
    "    fill_mode = \"nearest\",\n",
    ")\n",
    "\n",
    "train_generator=datagen.flow_from_dataframe(\n",
    "    dataframe=train_df,\n",
    "    directory=\"/kaggle/input/extracting-attributes-from-fashion-images-2/train\",\n",
    "    x_col=\"file_name\",\n",
    "    y_col=\"label\",\n",
    "    subset=\"training\",\n",
    "    batch_size=BATCH_SIZE,\n",
    "    seed=42,\n",
    "    shuffle=True,\n",
    "    class_mode=\"sparse\",\n",
    "    target_size=(INPUT_SHAPE,INPUT_SHAPE))\n"
   ]
  },
  {
   "cell_type": "code",
   "execution_count": 13,
   "id": "63245535",
   "metadata": {
    "execution": {
     "iopub.execute_input": "2023-06-04T05:39:21.457478Z",
     "iopub.status.busy": "2023-06-04T05:39:21.457197Z",
     "iopub.status.idle": "2023-06-04T05:39:23.979370Z",
     "shell.execute_reply": "2023-06-04T05:39:23.978379Z"
    },
    "papermill": {
     "duration": 2.53553,
     "end_time": "2023-06-04T05:39:23.981695",
     "exception": false,
     "start_time": "2023-06-04T05:39:21.446165",
     "status": "completed"
    },
    "tags": []
   },
   "outputs": [
    {
     "name": "stdout",
     "output_type": "stream",
     "text": [
      "Found 5751 validated image filenames belonging to 1 classes.\n"
     ]
    }
   ],
   "source": [
    "test_datagen=ImageDataGenerator(rescale=1./255.)\n",
    "\n",
    "test_df['label'] = test_df['label'].astype(str)\n",
    "\n",
    "test_generator=test_datagen.flow_from_dataframe(\n",
    "dataframe=test_df,\n",
    "directory=\"/kaggle/input/extracting-attributes-from-fashion-images-2/test\",\n",
    "x_col=\"file_name\",\n",
    "y_col=\"label\",\n",
    "batch_size=BATCH_SIZE,\n",
    "seed=42,\n",
    "shuffle=False,\n",
    "class_mode=\"sparse\",\n",
    "target_size=(INPUT_SHAPE,INPUT_SHAPE))\n"
   ]
  },
  {
   "cell_type": "markdown",
   "id": "0be34348",
   "metadata": {
    "papermill": {
     "duration": 0.009797,
     "end_time": "2023-06-04T05:39:24.002027",
     "exception": false,
     "start_time": "2023-06-04T05:39:23.992230",
     "status": "completed"
    },
    "tags": []
   },
   "source": [
    "# Creating the Deep learning model"
   ]
  },
  {
   "cell_type": "code",
   "execution_count": 14,
   "id": "6106641a",
   "metadata": {
    "execution": {
     "iopub.execute_input": "2023-06-04T05:39:24.023756Z",
     "iopub.status.busy": "2023-06-04T05:39:24.022960Z",
     "iopub.status.idle": "2023-06-04T05:39:29.790722Z",
     "shell.execute_reply": "2023-06-04T05:39:29.789801Z"
    },
    "papermill": {
     "duration": 5.781068,
     "end_time": "2023-06-04T05:39:29.793045",
     "exception": false,
     "start_time": "2023-06-04T05:39:24.011977",
     "status": "completed"
    },
    "tags": []
   },
   "outputs": [
    {
     "name": "stdout",
     "output_type": "stream",
     "text": [
      "Downloading data from https://storage.googleapis.com/tensorflow/keras-applications/vgg16/vgg16_weights_tf_dim_ordering_tf_kernels_notop.h5\n",
      "58889256/58889256 [==============================] - 2s 0us/step\n"
     ]
    }
   ],
   "source": [
    "from tensorflow.keras.models import Sequential\n",
    "from tensorflow.keras.layers import *\n",
    "from tensorflow import keras\n",
    "import tensorflow as tf\n",
    "from keras.applications import VGG16\n",
    "from tensorflow.python.keras import regularizers\n",
    "\n",
    "# Pre Trained Models \n",
    "\n",
    "conv_base = VGG16(weights=\"imagenet\",\n",
    "                 include_top=False,\n",
    "                 input_shape=(INPUT_SHAPE,INPUT_SHAPE,3)) # 244\n",
    "\n",
    "\n",
    "# conv_base = tf.keras.applications.mobilenet.MobileNet( include_top=False,\n",
    "#                                                            input_shape=(INPUT_SHAPE, INPUT_SHAPE,3),\n",
    "#                                                            weights='imagenet')    \n",
    "\n",
    "model = Sequential()\n",
    "\n",
    "model.add(conv_base)\n",
    "conv_base.trainable = False\n",
    "\n",
    "model.add(Flatten())\n",
    "\n",
    "model.add(Dense(256))\n",
    "model.add(Activation('relu'))\n",
    "model.add(BatchNormalization())\n",
    "\n",
    "model.add(Dense(128))\n",
    "model.add(Activation('relu'))\n",
    "model.add(BatchNormalization())\n",
    "\n",
    "model.add(Dense(64))\n",
    "model.add(Activation('relu'))\n",
    "model.add(BatchNormalization())\n",
    "\n",
    "\n",
    "model.add(Dense(7, activation='softmax'))\n",
    "\n",
    "model.compile(optimizer=keras.optimizers.Adam(lr=0.00001),loss=\"sparse_categorical_crossentropy\",metrics=[\"accuracy\"])"
   ]
  },
  {
   "cell_type": "code",
   "execution_count": 15,
   "id": "1be4c601",
   "metadata": {
    "execution": {
     "iopub.execute_input": "2023-06-04T05:39:29.821447Z",
     "iopub.status.busy": "2023-06-04T05:39:29.820645Z",
     "iopub.status.idle": "2023-06-04T05:39:29.857655Z",
     "shell.execute_reply": "2023-06-04T05:39:29.856894Z"
    },
    "papermill": {
     "duration": 0.082012,
     "end_time": "2023-06-04T05:39:29.888446",
     "exception": false,
     "start_time": "2023-06-04T05:39:29.806434",
     "status": "completed"
    },
    "tags": []
   },
   "outputs": [
    {
     "name": "stdout",
     "output_type": "stream",
     "text": [
      "Model: \"vgg16\"\n",
      "_________________________________________________________________\n",
      " Layer (type)                Output Shape              Param #   \n",
      "=================================================================\n",
      " input_1 (InputLayer)        [(None, 244, 244, 3)]     0         \n",
      "                                                                 \n",
      " block1_conv1 (Conv2D)       (None, 244, 244, 64)      1792      \n",
      "                                                                 \n",
      " block1_conv2 (Conv2D)       (None, 244, 244, 64)      36928     \n",
      "                                                                 \n",
      " block1_pool (MaxPooling2D)  (None, 122, 122, 64)      0         \n",
      "                                                                 \n",
      " block2_conv1 (Conv2D)       (None, 122, 122, 128)     73856     \n",
      "                                                                 \n",
      " block2_conv2 (Conv2D)       (None, 122, 122, 128)     147584    \n",
      "                                                                 \n",
      " block2_pool (MaxPooling2D)  (None, 61, 61, 128)       0         \n",
      "                                                                 \n",
      " block3_conv1 (Conv2D)       (None, 61, 61, 256)       295168    \n",
      "                                                                 \n",
      " block3_conv2 (Conv2D)       (None, 61, 61, 256)       590080    \n",
      "                                                                 \n",
      " block3_conv3 (Conv2D)       (None, 61, 61, 256)       590080    \n",
      "                                                                 \n",
      " block3_pool (MaxPooling2D)  (None, 30, 30, 256)       0         \n",
      "                                                                 \n",
      " block4_conv1 (Conv2D)       (None, 30, 30, 512)       1180160   \n",
      "                                                                 \n",
      " block4_conv2 (Conv2D)       (None, 30, 30, 512)       2359808   \n",
      "                                                                 \n",
      " block4_conv3 (Conv2D)       (None, 30, 30, 512)       2359808   \n",
      "                                                                 \n",
      " block4_pool (MaxPooling2D)  (None, 15, 15, 512)       0         \n",
      "                                                                 \n",
      " block5_conv1 (Conv2D)       (None, 15, 15, 512)       2359808   \n",
      "                                                                 \n",
      " block5_conv2 (Conv2D)       (None, 15, 15, 512)       2359808   \n",
      "                                                                 \n",
      " block5_conv3 (Conv2D)       (None, 15, 15, 512)       2359808   \n",
      "                                                                 \n",
      " block5_pool (MaxPooling2D)  (None, 7, 7, 512)         0         \n",
      "                                                                 \n",
      "=================================================================\n",
      "Total params: 14,714,688\n",
      "Trainable params: 0\n",
      "Non-trainable params: 14,714,688\n",
      "_________________________________________________________________\n"
     ]
    }
   ],
   "source": [
    "conv_base.summary()"
   ]
  },
  {
   "cell_type": "code",
   "execution_count": 16,
   "id": "35f8e8fe",
   "metadata": {
    "execution": {
     "iopub.execute_input": "2023-06-04T05:39:29.922278Z",
     "iopub.status.busy": "2023-06-04T05:39:29.921973Z",
     "iopub.status.idle": "2023-06-04T05:39:29.956117Z",
     "shell.execute_reply": "2023-06-04T05:39:29.955390Z"
    },
    "papermill": {
     "duration": 0.068294,
     "end_time": "2023-06-04T05:39:29.973131",
     "exception": false,
     "start_time": "2023-06-04T05:39:29.904837",
     "status": "completed"
    },
    "tags": []
   },
   "outputs": [
    {
     "name": "stdout",
     "output_type": "stream",
     "text": [
      "Model: \"sequential\"\n",
      "_________________________________________________________________\n",
      " Layer (type)                Output Shape              Param #   \n",
      "=================================================================\n",
      " vgg16 (Functional)          (None, 7, 7, 512)         14714688  \n",
      "                                                                 \n",
      " flatten (Flatten)           (None, 25088)             0         \n",
      "                                                                 \n",
      " dense (Dense)               (None, 256)               6422784   \n",
      "                                                                 \n",
      " activation (Activation)     (None, 256)               0         \n",
      "                                                                 \n",
      " batch_normalization (BatchN  (None, 256)              1024      \n",
      " ormalization)                                                   \n",
      "                                                                 \n",
      " dense_1 (Dense)             (None, 128)               32896     \n",
      "                                                                 \n",
      " activation_1 (Activation)   (None, 128)               0         \n",
      "                                                                 \n",
      " batch_normalization_1 (Batc  (None, 128)              512       \n",
      " hNormalization)                                                 \n",
      "                                                                 \n",
      " dense_2 (Dense)             (None, 64)                8256      \n",
      "                                                                 \n",
      " activation_2 (Activation)   (None, 64)                0         \n",
      "                                                                 \n",
      " batch_normalization_2 (Batc  (None, 64)               256       \n",
      " hNormalization)                                                 \n",
      "                                                                 \n",
      " dense_3 (Dense)             (None, 7)                 455       \n",
      "                                                                 \n",
      "=================================================================\n",
      "Total params: 21,180,871\n",
      "Trainable params: 6,465,287\n",
      "Non-trainable params: 14,715,584\n",
      "_________________________________________________________________\n"
     ]
    }
   ],
   "source": [
    "model.summary()"
   ]
  },
  {
   "cell_type": "markdown",
   "id": "0a30db75",
   "metadata": {
    "papermill": {
     "duration": 0.018799,
     "end_time": "2023-06-04T05:39:30.010641",
     "exception": false,
     "start_time": "2023-06-04T05:39:29.991842",
     "status": "completed"
    },
    "tags": []
   },
   "source": [
    "# Training"
   ]
  },
  {
   "cell_type": "code",
   "execution_count": 17,
   "id": "ef113c71",
   "metadata": {
    "execution": {
     "iopub.execute_input": "2023-06-04T05:39:30.050685Z",
     "iopub.status.busy": "2023-06-04T05:39:30.050347Z",
     "iopub.status.idle": "2023-06-04T05:39:31.011344Z",
     "shell.execute_reply": "2023-06-04T05:39:31.010075Z"
    },
    "papermill": {
     "duration": 0.984007,
     "end_time": "2023-06-04T05:39:31.013815",
     "exception": false,
     "start_time": "2023-06-04T05:39:30.029808",
     "status": "completed"
    },
    "tags": []
   },
   "outputs": [],
   "source": [
    "# Setting up model callbacks\n",
    "! mkdir /kaggle/working/model/\n",
    "\n",
    "checkpoint=tf.keras.callbacks.ModelCheckpoint(filepath=\"/kaggle/working/model/CNN.h5\", \n",
    "                                              monitor='val_accuracy', \n",
    "                                              verbose=0, \n",
    "                                              save_best_only=True,\n",
    "                                              save_weights_only=False, \n",
    "                                              mode='auto', \n",
    "                                              save_freq='epoch', \n",
    "                                              options=None)"
   ]
  },
  {
   "cell_type": "code",
   "execution_count": 18,
   "id": "fe7aa93c",
   "metadata": {
    "execution": {
     "iopub.execute_input": "2023-06-04T05:39:31.053791Z",
     "iopub.status.busy": "2023-06-04T05:39:31.052893Z",
     "iopub.status.idle": "2023-06-04T07:52:54.156179Z",
     "shell.execute_reply": "2023-06-04T07:52:54.155025Z"
    },
    "papermill": {
     "duration": 8003.451305,
     "end_time": "2023-06-04T07:52:54.484198",
     "exception": false,
     "start_time": "2023-06-04T05:39:31.032893",
     "status": "completed"
    },
    "tags": []
   },
   "outputs": [
    {
     "name": "stdout",
     "output_type": "stream",
     "text": [
      "Epoch 1/20\n",
      "287/287 [==============================] - 460s 2s/step - loss: 1.2863 - accuracy: 0.5106 - val_loss: 3.6065 - val_accuracy: 0.1083\n",
      "Epoch 2/20\n",
      "287/287 [==============================] - 378s 1s/step - loss: 1.0149 - accuracy: 0.6024 - val_loss: 4.0634 - val_accuracy: 0.0823\n",
      "Epoch 3/20\n",
      "287/287 [==============================] - 376s 1s/step - loss: 0.9386 - accuracy: 0.6292 - val_loss: 4.8396 - val_accuracy: 0.0866\n",
      "Epoch 4/20\n",
      "287/287 [==============================] - 379s 1s/step - loss: 0.8914 - accuracy: 0.6468 - val_loss: 5.4923 - val_accuracy: 0.0381\n",
      "Epoch 5/20\n",
      "287/287 [==============================] - 365s 1s/step - loss: 0.8410 - accuracy: 0.6649 - val_loss: 4.6851 - val_accuracy: 0.0960\n",
      "Epoch 6/20\n",
      "287/287 [==============================] - 378s 1s/step - loss: 0.8088 - accuracy: 0.6787 - val_loss: 6.0802 - val_accuracy: 0.0377\n",
      "Epoch 7/20\n",
      "287/287 [==============================] - 382s 1s/step - loss: 0.7747 - accuracy: 0.6947 - val_loss: 5.2355 - val_accuracy: 0.0806\n",
      "Epoch 8/20\n",
      "287/287 [==============================] - 377s 1s/step - loss: 0.7569 - accuracy: 0.7021 - val_loss: 5.3110 - val_accuracy: 0.0739\n",
      "Epoch 9/20\n",
      "287/287 [==============================] - 379s 1s/step - loss: 0.7288 - accuracy: 0.7102 - val_loss: 5.3981 - val_accuracy: 0.0693\n",
      "Epoch 10/20\n",
      "287/287 [==============================] - 379s 1s/step - loss: 0.7088 - accuracy: 0.7223 - val_loss: 5.3657 - val_accuracy: 0.0597\n",
      "Epoch 11/20\n",
      "287/287 [==============================] - 380s 1s/step - loss: 0.6780 - accuracy: 0.7335 - val_loss: 5.7196 - val_accuracy: 0.0550\n",
      "Epoch 12/20\n",
      "287/287 [==============================] - 377s 1s/step - loss: 0.6748 - accuracy: 0.7345 - val_loss: 6.4192 - val_accuracy: 0.0534\n",
      "Epoch 13/20\n",
      "287/287 [==============================] - 366s 1s/step - loss: 0.6433 - accuracy: 0.7465 - val_loss: 6.2482 - val_accuracy: 0.0843\n",
      "Epoch 14/20\n",
      "287/287 [==============================] - 384s 1s/step - loss: 0.6370 - accuracy: 0.7479 - val_loss: 5.6203 - val_accuracy: 0.1027\n",
      "Epoch 15/20\n",
      "287/287 [==============================] - 383s 1s/step - loss: 0.6169 - accuracy: 0.7581 - val_loss: 6.3335 - val_accuracy: 0.0795\n",
      "Epoch 16/20\n",
      "287/287 [==============================] - 383s 1s/step - loss: 0.5982 - accuracy: 0.7655 - val_loss: 6.2570 - val_accuracy: 0.0927\n",
      "Epoch 17/20\n",
      "287/287 [==============================] - 373s 1s/step - loss: 0.5851 - accuracy: 0.7694 - val_loss: 5.1897 - val_accuracy: 0.1232\n",
      "Epoch 18/20\n",
      "287/287 [==============================] - 382s 1s/step - loss: 0.5731 - accuracy: 0.7730 - val_loss: 7.2725 - val_accuracy: 0.0535\n",
      "Epoch 19/20\n",
      "287/287 [==============================] - 367s 1s/step - loss: 0.5613 - accuracy: 0.7820 - val_loss: 6.9818 - val_accuracy: 0.0683\n",
      "Epoch 20/20\n",
      "287/287 [==============================] - 386s 1s/step - loss: 0.5431 - accuracy: 0.7856 - val_loss: 6.6703 - val_accuracy: 0.1085\n"
     ]
    },
    {
     "data": {
      "image/png": "[encoded data removed]",
      "text/plain": [
       "<Figure size 640x480 with 1 Axes>"
      ]
     },
     "metadata": {},
     "output_type": "display_data"
    },
    {
     "data": {
      "image/png": "[encoded data removed]",
      "text/plain": [
       "<Figure size 640x480 with 1 Axes>"
      ]
     },
     "metadata": {},
     "output_type": "display_data"
    }
   ],
   "source": [
    "# Training the model\n",
    "\n",
    "STEP_SIZE_TRAIN=train_generator.n//train_generator.batch_size\n",
    "STEP_SIZE_TEST=test_generator.n//test_generator.batch_size\n",
    "\n",
    "history = model.fit(train_generator,\n",
    "                    steps_per_epoch=STEP_SIZE_TRAIN,\n",
    "                    validation_data=test_generator,\n",
    "                    validation_steps=STEP_SIZE_TEST,\n",
    "                    epochs=EPOCHS,\n",
    "                    callbacks=[checkpoint])\n",
    "#                     class_weight=weights)\n",
    "\n",
    "\n",
    "# summarize history for accuracy\n",
    "plt.plot(history.history['accuracy'])\n",
    "plt.plot(history.history['val_accuracy'])\n",
    "plt.title('model accuracy')\n",
    "plt.ylabel('accuracy')\n",
    "plt.xlabel('epoch')\n",
    "plt.legend(['train', 'test'], loc='upper left')\n",
    "plt.grid()\n",
    "plt.show()\n",
    "\n",
    "\n",
    "# summarize history for loss\n",
    "plt.plot(history.history['loss'])\n",
    "plt.plot(history.history['val_loss'])\n",
    "plt.title('model loss')\n",
    "plt.ylabel('loss')\n",
    "plt.xlabel('epoch')\n",
    "plt.legend(['train', 'test'], loc='upper left')\n",
    "plt.grid()\n",
    "plt.show()"
   ]
  },
  {
   "cell_type": "markdown",
   "id": "b5f284b2",
   "metadata": {
    "papermill": {
     "duration": 0.441564,
     "end_time": "2023-06-04T07:52:55.368486",
     "exception": false,
     "start_time": "2023-06-04T07:52:54.926922",
     "status": "completed"
    },
    "tags": []
   },
   "source": [
    "# Testing"
   ]
  },
  {
   "cell_type": "code",
   "execution_count": 19,
   "id": "d7803992",
   "metadata": {
    "execution": {
     "iopub.execute_input": "2023-06-04T07:52:56.268486Z",
     "iopub.status.busy": "2023-06-04T07:52:56.267291Z",
     "iopub.status.idle": "2023-06-04T07:52:56.940535Z",
     "shell.execute_reply": "2023-06-04T07:52:56.939555Z"
    },
    "papermill": {
     "duration": 1.132281,
     "end_time": "2023-06-04T07:52:56.942931",
     "exception": false,
     "start_time": "2023-06-04T07:52:55.810650",
     "status": "completed"
    },
    "tags": []
   },
   "outputs": [],
   "source": [
    "# importing the best model\n",
    "\n",
    "model = tf.keras.models.load_model(\"/kaggle/working/model/CNN.h5\")"
   ]
  },
  {
   "cell_type": "code",
   "execution_count": 20,
   "id": "a506bae5",
   "metadata": {
    "execution": {
     "iopub.execute_input": "2023-06-04T07:52:57.886114Z",
     "iopub.status.busy": "2023-06-04T07:52:57.885755Z",
     "iopub.status.idle": "2023-06-04T07:53:39.370499Z",
     "shell.execute_reply": "2023-06-04T07:53:39.369539Z"
    },
    "papermill": {
     "duration": 42.437788,
     "end_time": "2023-06-04T07:53:39.823225",
     "exception": false,
     "start_time": "2023-06-04T07:52:57.385437",
     "status": "completed"
    },
    "tags": []
   },
   "outputs": [
    {
     "name": "stdout",
     "output_type": "stream",
     "text": [
      "89/89 [==============================] - 28s 307ms/step - loss: 5.1897 - accuracy: 0.1232\n"
     ]
    },
    {
     "data": {
      "text/plain": [
       "[5.189659595489502, 0.12324438244104385]"
      ]
     },
     "execution_count": 20,
     "metadata": {},
     "output_type": "execute_result"
    }
   ],
   "source": [
    "# Test accuracy\n",
    "test_generator.reset()\n",
    "model.evaluate(test_generator,\n",
    "steps=STEP_SIZE_TEST)"
   ]
  },
  {
   "cell_type": "code",
   "execution_count": 21,
   "id": "51087ec2",
   "metadata": {
    "execution": {
     "iopub.execute_input": "2023-06-04T07:53:40.727723Z",
     "iopub.status.busy": "2023-06-04T07:53:40.727301Z",
     "iopub.status.idle": "2023-06-04T07:54:22.163493Z",
     "shell.execute_reply": "2023-06-04T07:54:22.162437Z"
    },
    "papermill": {
     "duration": 41.891072,
     "end_time": "2023-06-04T07:54:22.165886",
     "exception": false,
     "start_time": "2023-06-04T07:53:40.274814",
     "status": "completed"
    },
    "tags": []
   },
   "outputs": [
    {
     "name": "stdout",
     "output_type": "stream",
     "text": [
      "90/90 [==============================] - 32s 353ms/step\n"
     ]
    }
   ],
   "source": [
    "test_generator.reset()\n",
    "pred=model.predict(test_generator)"
   ]
  },
  {
   "cell_type": "code",
   "execution_count": 22,
   "id": "52a0c463",
   "metadata": {
    "execution": {
     "iopub.execute_input": "2023-06-04T07:54:23.138079Z",
     "iopub.status.busy": "2023-06-04T07:54:23.137713Z",
     "iopub.status.idle": "2023-06-04T07:54:23.219963Z",
     "shell.execute_reply": "2023-06-04T07:54:23.218799Z"
    },
    "papermill": {
     "duration": 0.600404,
     "end_time": "2023-06-04T07:54:23.222001",
     "exception": false,
     "start_time": "2023-06-04T07:54:22.621597",
     "status": "completed"
    },
    "tags": []
   },
   "outputs": [
    {
     "name": "stdout",
     "output_type": "stream",
     "text": [
      "[[ 710 2042  941  503  381  442  732]\n",
      " [   0    0    0    0    0    0    0]\n",
      " [   0    0    0    0    0    0    0]\n",
      " [   0    0    0    0    0    0    0]\n",
      " [   0    0    0    0    0    0    0]\n",
      " [   0    0    0    0    0    0    0]\n",
      " [   0    0    0    0    0    0    0]]\n"
     ]
    }
   ],
   "source": [
    "from sklearn.metrics import confusion_matrix\n",
    "y_pred=np.argmax(pred,axis=1)\n",
    "\n",
    "test_df['label'] = test_df['label'].astype(int)\n",
    "\n",
    "cm=confusion_matrix(test_df.label, y_pred)\n",
    "print(cm)"
   ]
  },
  {
   "cell_type": "markdown",
   "id": "871074c6",
   "metadata": {
    "papermill": {
     "duration": 0.450569,
     "end_time": "2023-06-04T07:54:24.161098",
     "exception": false,
     "start_time": "2023-06-04T07:54:23.710529",
     "status": "completed"
    },
    "tags": []
   },
   "source": [
    "# Creating submission.csv"
   ]
  },
  {
   "cell_type": "code",
   "execution_count": 23,
   "id": "f60b0675",
   "metadata": {
    "execution": {
     "iopub.execute_input": "2023-06-04T07:54:25.066716Z",
     "iopub.status.busy": "2023-06-04T07:54:25.065689Z",
     "iopub.status.idle": "2023-06-04T07:54:25.090390Z",
     "shell.execute_reply": "2023-06-04T07:54:25.089535Z"
    },
    "papermill": {
     "duration": 0.480561,
     "end_time": "2023-06-04T07:54:25.092516",
     "exception": false,
     "start_time": "2023-06-04T07:54:24.611955",
     "status": "completed"
    },
    "tags": []
   },
   "outputs": [],
   "source": [
    "filenames=test_generator.filenames\n",
    "\n",
    "results=pd.DataFrame({\"file_name\":filenames,\n",
    "                      \"label\":y_pred})\n",
    "results.to_csv(\"submission.csv\",index=False)"
   ]
  },
  {
   "cell_type": "markdown",
   "id": "6ab48d66",
   "metadata": {
    "papermill": {
     "duration": 0.514608,
     "end_time": "2023-06-04T07:54:26.057513",
     "exception": false,
     "start_time": "2023-06-04T07:54:25.542905",
     "status": "completed"
    },
    "tags": []
   },
   "source": [
    "# Reasons for low testing accuracy \n",
    "**Problem**: Although the training and testing data belong to the same dataset, the split in the dataset is very different, training data has about 1402 belonging to class 0 and the testing data has all the data belonging to class 0. Inorder to make a model that generalizes well on the dataset we need at least a minimum of 5000 samples per class.So creating a good model with just 1402 images is a difficult task.\n",
    "\n",
    "**Solution 1**: Adding more data in the dataset would lead to better learning of the model and would remove any bias in the dataset. But this is not possible in our case.\n",
    "\n",
    "**Solution 2**: If adding data is not an option then using a pre-trained model could lead to better generalization. This is because pre trained models are trained for good feature extraction. This should work for our use case but from what I have learned while training the model, Due to the low amount of class 0 data in the dataset the pretrained model is also not able to learn well even though it generalizes well.\n",
    "\n"
   ]
  }
 ],
 "metadata": {
  "kernelspec": {
   "display_name": "Python 3",
   "language": "python",
   "name": "python3"
  },
  "language_info": {
   "codemirror_mode": {
    "name": "ipython",
    "version": 3
   },
   "file_extension": ".py",
   "mimetype": "text/x-python",
   "name": "python",
   "nbconvert_exporter": "python",
   "pygments_lexer": "ipython3",
   "version": "3.10.10"
  },
  "papermill": {
   "default_parameters": {},
   "duration": 8149.861133,
   "end_time": "2023-06-04T07:54:30.055338",
   "environment_variables": {},
   "exception": null,
   "input_path": "__notebook__.ipynb",
   "output_path": "__notebook__.ipynb",
   "parameters": {},
   "start_time": "2023-06-04T05:38:40.194205",
   "version": "2.4.0"
  }
 },
 "nbformat": 4,
 "nbformat_minor": 5
}
