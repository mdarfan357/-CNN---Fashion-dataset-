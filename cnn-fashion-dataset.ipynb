{
 "cells": [
  {
   "cell_type": "code",
   "execution_count": 1,
   "id": "e45a0ea7",
   "metadata": {
    "_cell_guid": "b1076dfc-b9ad-4769-8c92-a6c4dae69d19",
    "_uuid": "8f2839f25d086af736a60e9eeb907d3b93b6e0e5",
    "execution": {
     "iopub.execute_input": "2023-06-03T15:28:40.742018Z",
     "iopub.status.busy": "2023-06-03T15:28:40.741557Z",
     "iopub.status.idle": "2023-06-03T15:28:48.630420Z",
     "shell.execute_reply": "2023-06-03T15:28:48.629458Z"
    },
    "papermill": {
     "duration": 7.901818,
     "end_time": "2023-06-03T15:28:48.633041",
     "exception": false,
     "start_time": "2023-06-03T15:28:40.731223",
     "status": "completed"
    },
    "tags": []
   },
   "outputs": [],
   "source": [
    "# This Python 3 environment comes with many helpful analytics libraries installed\n",
    "# It is defined by the kaggle/python Docker image: https://github.com/kaggle/docker-python\n",
    "# For example, here's several helpful packages to load\n",
    "\n",
    "import numpy as np # linear algebra\n",
    "import pandas as pd # data processing, CSV file I/O (e.g. pd.read_csv)\n",
    "\n",
    "# Input data files are available in the read-only \"../input/\" directory\n",
    "# For example, running this (by clicking run or pressing Shift+Enter) will list all files under the input directory\n",
    "\n",
    "import os\n",
    "for dirname, _, filenames in os.walk('/kaggle/input'):\n",
    "    for filename in filenames:\n",
    "        os.path.join(dirname, filename)\n"
   ]
  },
  {
   "cell_type": "markdown",
   "id": "676b3898",
   "metadata": {
    "papermill": {
     "duration": 0.007684,
     "end_time": "2023-06-03T15:28:48.649162",
     "exception": false,
     "start_time": "2023-06-03T15:28:48.641478",
     "status": "completed"
    },
    "tags": []
   },
   "source": [
    "# Importing Required Modules "
   ]
  },
  {
   "cell_type": "code",
   "execution_count": 2,
   "id": "c33b10ee",
   "metadata": {
    "execution": {
     "iopub.execute_input": "2023-06-03T15:28:48.667361Z",
     "iopub.status.busy": "2023-06-03T15:28:48.666426Z",
     "iopub.status.idle": "2023-06-03T15:28:56.867162Z",
     "shell.execute_reply": "2023-06-03T15:28:56.866232Z"
    },
    "papermill": {
     "duration": 8.212241,
     "end_time": "2023-06-03T15:28:56.869556",
     "exception": false,
     "start_time": "2023-06-03T15:28:48.657315",
     "status": "completed"
    },
    "tags": []
   },
   "outputs": [
    {
     "name": "stderr",
     "output_type": "stream",
     "text": [
      "/opt/conda/lib/python3.10/site-packages/tensorflow_io/python/ops/__init__.py:98: UserWarning: unable to load libtensorflow_io_plugins.so: unable to open file: libtensorflow_io_plugins.so, from paths: ['/opt/conda/lib/python3.10/site-packages/tensorflow_io/python/ops/libtensorflow_io_plugins.so']\n",
      "caused by: ['/opt/conda/lib/python3.10/site-packages/tensorflow_io/python/ops/libtensorflow_io_plugins.so: undefined symbol: _ZN3tsl6StatusC1EN10tensorflow5error4CodeESt17basic_string_viewIcSt11char_traitsIcEENS_14SourceLocationE']\n",
      "  warnings.warn(f\"unable to load libtensorflow_io_plugins.so: {e}\")\n",
      "/opt/conda/lib/python3.10/site-packages/tensorflow_io/python/ops/__init__.py:104: UserWarning: file system plugins are not loaded: unable to open file: libtensorflow_io.so, from paths: ['/opt/conda/lib/python3.10/site-packages/tensorflow_io/python/ops/libtensorflow_io.so']\n",
      "caused by: ['/opt/conda/lib/python3.10/site-packages/tensorflow_io/python/ops/libtensorflow_io.so: undefined symbol: _ZTVN10tensorflow13GcsFileSystemE']\n",
      "  warnings.warn(f\"file system plugins are not loaded: {e}\")\n"
     ]
    }
   ],
   "source": [
    "import pandas as pd\n",
    "import cv2 as cv\n",
    "from tensorflow.keras.models import Sequential\n",
    "from tensorflow.keras.layers import *\n",
    "import os"
   ]
  },
  {
   "cell_type": "markdown",
   "id": "be0a4b48",
   "metadata": {
    "papermill": {
     "duration": 0.00804,
     "end_time": "2023-06-03T15:28:56.886079",
     "exception": false,
     "start_time": "2023-06-03T15:28:56.878039",
     "status": "completed"
    },
    "tags": []
   },
   "source": [
    "# Model Hyper parameters"
   ]
  },
  {
   "cell_type": "code",
   "execution_count": 3,
   "id": "c61774ac",
   "metadata": {
    "execution": {
     "iopub.execute_input": "2023-06-03T15:28:56.903777Z",
     "iopub.status.busy": "2023-06-03T15:28:56.903210Z",
     "iopub.status.idle": "2023-06-03T15:28:56.907591Z",
     "shell.execute_reply": "2023-06-03T15:28:56.906745Z"
    },
    "papermill": {
     "duration": 0.015337,
     "end_time": "2023-06-03T15:28:56.909536",
     "exception": false,
     "start_time": "2023-06-03T15:28:56.894199",
     "status": "completed"
    },
    "tags": []
   },
   "outputs": [],
   "source": [
    "train_path = \"/kaggle/input/extracting-attributes-from-fashion-images-2/train\"\n",
    "BATCH_SIZE = 64\n",
    "EPOCHS = 20\n",
    "INPUT_SHAPE = 244"
   ]
  },
  {
   "cell_type": "markdown",
   "id": "64eefe48",
   "metadata": {
    "papermill": {
     "duration": 0.007889,
     "end_time": "2023-06-03T15:28:56.925474",
     "exception": false,
     "start_time": "2023-06-03T15:28:56.917585",
     "status": "completed"
    },
    "tags": []
   },
   "source": [
    "# Data Importing"
   ]
  },
  {
   "cell_type": "code",
   "execution_count": 4,
   "id": "a5872456",
   "metadata": {
    "execution": {
     "iopub.execute_input": "2023-06-03T15:28:56.942911Z",
     "iopub.status.busy": "2023-06-03T15:28:56.942594Z",
     "iopub.status.idle": "2023-06-03T15:28:56.984128Z",
     "shell.execute_reply": "2023-06-03T15:28:56.983138Z"
    },
    "papermill": {
     "duration": 0.053158,
     "end_time": "2023-06-03T15:28:56.986732",
     "exception": false,
     "start_time": "2023-06-03T15:28:56.933574",
     "status": "completed"
    },
    "tags": []
   },
   "outputs": [
    {
     "data": {
      "text/html": [
       "<div>\n",
       "<style scoped>\n",
       "    .dataframe tbody tr th:only-of-type {\n",
       "        vertical-align: middle;\n",
       "    }\n",
       "\n",
       "    .dataframe tbody tr th {\n",
       "        vertical-align: top;\n",
       "    }\n",
       "\n",
       "    .dataframe thead th {\n",
       "        text-align: right;\n",
       "    }\n",
       "</style>\n",
       "<table border=\"1\" class=\"dataframe\">\n",
       "  <thead>\n",
       "    <tr style=\"text-align: right;\">\n",
       "      <th></th>\n",
       "      <th>file_name</th>\n",
       "      <th>label</th>\n",
       "    </tr>\n",
       "  </thead>\n",
       "  <tbody>\n",
       "    <tr>\n",
       "      <th>0</th>\n",
       "      <td>Image_train_00001.jpg</td>\n",
       "      <td>0</td>\n",
       "    </tr>\n",
       "    <tr>\n",
       "      <th>1</th>\n",
       "      <td>Image_train_00002.jpg</td>\n",
       "      <td>1</td>\n",
       "    </tr>\n",
       "    <tr>\n",
       "      <th>2</th>\n",
       "      <td>Image_train_00003.jpg</td>\n",
       "      <td>0</td>\n",
       "    </tr>\n",
       "    <tr>\n",
       "      <th>3</th>\n",
       "      <td>Image_train_00004.jpg</td>\n",
       "      <td>0</td>\n",
       "    </tr>\n",
       "    <tr>\n",
       "      <th>4</th>\n",
       "      <td>Image_train_00005.jpg</td>\n",
       "      <td>0</td>\n",
       "    </tr>\n",
       "    <tr>\n",
       "      <th>...</th>\n",
       "      <td>...</td>\n",
       "      <td>...</td>\n",
       "    </tr>\n",
       "    <tr>\n",
       "      <th>18386</th>\n",
       "      <td>Image_train_18387.jpg</td>\n",
       "      <td>1</td>\n",
       "    </tr>\n",
       "    <tr>\n",
       "      <th>18387</th>\n",
       "      <td>Image_train_18388.jpg</td>\n",
       "      <td>2</td>\n",
       "    </tr>\n",
       "    <tr>\n",
       "      <th>18388</th>\n",
       "      <td>Image_train_18389.jpg</td>\n",
       "      <td>1</td>\n",
       "    </tr>\n",
       "    <tr>\n",
       "      <th>18389</th>\n",
       "      <td>Image_train_18390.jpg</td>\n",
       "      <td>1</td>\n",
       "    </tr>\n",
       "    <tr>\n",
       "      <th>18390</th>\n",
       "      <td>Image_train_18391.jpg</td>\n",
       "      <td>1</td>\n",
       "    </tr>\n",
       "  </tbody>\n",
       "</table>\n",
       "<p>18391 rows × 2 columns</p>\n",
       "</div>"
      ],
      "text/plain": [
       "                   file_name  label\n",
       "0      Image_train_00001.jpg      0\n",
       "1      Image_train_00002.jpg      1\n",
       "2      Image_train_00003.jpg      0\n",
       "3      Image_train_00004.jpg      0\n",
       "4      Image_train_00005.jpg      0\n",
       "...                      ...    ...\n",
       "18386  Image_train_18387.jpg      1\n",
       "18387  Image_train_18388.jpg      2\n",
       "18388  Image_train_18389.jpg      1\n",
       "18389  Image_train_18390.jpg      1\n",
       "18390  Image_train_18391.jpg      1\n",
       "\n",
       "[18391 rows x 2 columns]"
      ]
     },
     "execution_count": 4,
     "metadata": {},
     "output_type": "execute_result"
    }
   ],
   "source": [
    "# training data\n",
    "train_df = pd.read_csv(\"/kaggle/input/extracting-attributes-from-fashion-images-2/train.csv\")\n",
    "train_df"
   ]
  },
  {
   "cell_type": "code",
   "execution_count": 5,
   "id": "58c01100",
   "metadata": {
    "execution": {
     "iopub.execute_input": "2023-06-03T15:28:57.005173Z",
     "iopub.status.busy": "2023-06-03T15:28:57.004856Z",
     "iopub.status.idle": "2023-06-03T15:28:57.025330Z",
     "shell.execute_reply": "2023-06-03T15:28:57.024303Z"
    },
    "papermill": {
     "duration": 0.032293,
     "end_time": "2023-06-03T15:28:57.027739",
     "exception": false,
     "start_time": "2023-06-03T15:28:56.995446",
     "status": "completed"
    },
    "tags": []
   },
   "outputs": [
    {
     "data": {
      "text/html": [
       "<div>\n",
       "<style scoped>\n",
       "    .dataframe tbody tr th:only-of-type {\n",
       "        vertical-align: middle;\n",
       "    }\n",
       "\n",
       "    .dataframe tbody tr th {\n",
       "        vertical-align: top;\n",
       "    }\n",
       "\n",
       "    .dataframe thead th {\n",
       "        text-align: right;\n",
       "    }\n",
       "</style>\n",
       "<table border=\"1\" class=\"dataframe\">\n",
       "  <thead>\n",
       "    <tr style=\"text-align: right;\">\n",
       "      <th></th>\n",
       "      <th>file_name</th>\n",
       "      <th>label</th>\n",
       "    </tr>\n",
       "  </thead>\n",
       "  <tbody>\n",
       "    <tr>\n",
       "      <th>0</th>\n",
       "      <td>Image_test_00001.jpg</td>\n",
       "      <td>0</td>\n",
       "    </tr>\n",
       "    <tr>\n",
       "      <th>1</th>\n",
       "      <td>Image_test_00002.jpg</td>\n",
       "      <td>0</td>\n",
       "    </tr>\n",
       "    <tr>\n",
       "      <th>2</th>\n",
       "      <td>Image_test_00003.jpg</td>\n",
       "      <td>0</td>\n",
       "    </tr>\n",
       "    <tr>\n",
       "      <th>3</th>\n",
       "      <td>Image_test_00004.jpg</td>\n",
       "      <td>0</td>\n",
       "    </tr>\n",
       "    <tr>\n",
       "      <th>4</th>\n",
       "      <td>Image_test_00005.jpg</td>\n",
       "      <td>0</td>\n",
       "    </tr>\n",
       "    <tr>\n",
       "      <th>...</th>\n",
       "      <td>...</td>\n",
       "      <td>...</td>\n",
       "    </tr>\n",
       "    <tr>\n",
       "      <th>5746</th>\n",
       "      <td>Image_test_05747.jpg</td>\n",
       "      <td>0</td>\n",
       "    </tr>\n",
       "    <tr>\n",
       "      <th>5747</th>\n",
       "      <td>Image_test_05748.jpg</td>\n",
       "      <td>0</td>\n",
       "    </tr>\n",
       "    <tr>\n",
       "      <th>5748</th>\n",
       "      <td>Image_test_05749.jpg</td>\n",
       "      <td>0</td>\n",
       "    </tr>\n",
       "    <tr>\n",
       "      <th>5749</th>\n",
       "      <td>Image_test_05750.jpg</td>\n",
       "      <td>0</td>\n",
       "    </tr>\n",
       "    <tr>\n",
       "      <th>5750</th>\n",
       "      <td>Image_test_05751.jpg</td>\n",
       "      <td>0</td>\n",
       "    </tr>\n",
       "  </tbody>\n",
       "</table>\n",
       "<p>5751 rows × 2 columns</p>\n",
       "</div>"
      ],
      "text/plain": [
       "                 file_name  label\n",
       "0     Image_test_00001.jpg      0\n",
       "1     Image_test_00002.jpg      0\n",
       "2     Image_test_00003.jpg      0\n",
       "3     Image_test_00004.jpg      0\n",
       "4     Image_test_00005.jpg      0\n",
       "...                    ...    ...\n",
       "5746  Image_test_05747.jpg      0\n",
       "5747  Image_test_05748.jpg      0\n",
       "5748  Image_test_05749.jpg      0\n",
       "5749  Image_test_05750.jpg      0\n",
       "5750  Image_test_05751.jpg      0\n",
       "\n",
       "[5751 rows x 2 columns]"
      ]
     },
     "execution_count": 5,
     "metadata": {},
     "output_type": "execute_result"
    }
   ],
   "source": [
    "# testing data\n",
    "test_df = pd.read_csv(\"/kaggle/input/extracting-attributes-from-fashion-images-2/sample_submission.csv\")\n",
    "test_df"
   ]
  },
  {
   "cell_type": "markdown",
   "id": "7100c0d3",
   "metadata": {
    "papermill": {
     "duration": 0.008547,
     "end_time": "2023-06-03T15:28:57.045285",
     "exception": false,
     "start_time": "2023-06-03T15:28:57.036738",
     "status": "completed"
    },
    "tags": []
   },
   "source": [
    "## Checking for Imbalance in the dataset"
   ]
  },
  {
   "cell_type": "code",
   "execution_count": 6,
   "id": "88acb0fe",
   "metadata": {
    "execution": {
     "iopub.execute_input": "2023-06-03T15:28:57.063988Z",
     "iopub.status.busy": "2023-06-03T15:28:57.063381Z",
     "iopub.status.idle": "2023-06-03T15:28:57.075688Z",
     "shell.execute_reply": "2023-06-03T15:28:57.074749Z"
    },
    "papermill": {
     "duration": 0.02385,
     "end_time": "2023-06-03T15:28:57.077636",
     "exception": false,
     "start_time": "2023-06-03T15:28:57.053786",
     "status": "completed"
    },
    "tags": []
   },
   "outputs": [
    {
     "data": {
      "text/plain": [
       "1    5384\n",
       "2    4084\n",
       "3    2008\n",
       "4    1972\n",
       "6    1925\n",
       "5    1616\n",
       "0    1402\n",
       "Name: label, dtype: int64"
      ]
     },
     "execution_count": 6,
     "metadata": {},
     "output_type": "execute_result"
    }
   ],
   "source": [
    "train_df.label.value_counts()"
   ]
  },
  {
   "cell_type": "code",
   "execution_count": 7,
   "id": "93aec75f",
   "metadata": {
    "execution": {
     "iopub.execute_input": "2023-06-03T15:28:57.096742Z",
     "iopub.status.busy": "2023-06-03T15:28:57.096008Z",
     "iopub.status.idle": "2023-06-03T15:28:57.103346Z",
     "shell.execute_reply": "2023-06-03T15:28:57.102464Z"
    },
    "papermill": {
     "duration": 0.018788,
     "end_time": "2023-06-03T15:28:57.105281",
     "exception": false,
     "start_time": "2023-06-03T15:28:57.086493",
     "status": "completed"
    },
    "tags": []
   },
   "outputs": [
    {
     "data": {
      "text/plain": [
       "0    5751\n",
       "Name: label, dtype: int64"
      ]
     },
     "execution_count": 7,
     "metadata": {},
     "output_type": "execute_result"
    }
   ],
   "source": [
    "test_df.label.value_counts()"
   ]
  },
  {
   "cell_type": "code",
   "execution_count": 8,
   "id": "7b71442b",
   "metadata": {
    "execution": {
     "iopub.execute_input": "2023-06-03T15:28:57.131812Z",
     "iopub.status.busy": "2023-06-03T15:28:57.130959Z",
     "iopub.status.idle": "2023-06-03T15:28:57.138833Z",
     "shell.execute_reply": "2023-06-03T15:28:57.137865Z"
    },
    "papermill": {
     "duration": 0.021321,
     "end_time": "2023-06-03T15:28:57.140742",
     "exception": false,
     "start_time": "2023-06-03T15:28:57.119421",
     "status": "completed"
    },
    "tags": []
   },
   "outputs": [
    {
     "data": {
      "text/plain": [
       "array([0, 1, 2, 3, 5, 4, 6])"
      ]
     },
     "execution_count": 8,
     "metadata": {},
     "output_type": "execute_result"
    }
   ],
   "source": [
    "train_df.label.unique()"
   ]
  },
  {
   "cell_type": "code",
   "execution_count": 9,
   "id": "e858c3c0",
   "metadata": {
    "execution": {
     "iopub.execute_input": "2023-06-03T15:28:57.160818Z",
     "iopub.status.busy": "2023-06-03T15:28:57.159503Z",
     "iopub.status.idle": "2023-06-03T15:28:58.001692Z",
     "shell.execute_reply": "2023-06-03T15:28:58.000663Z"
    },
    "papermill": {
     "duration": 0.854214,
     "end_time": "2023-06-03T15:28:58.004006",
     "exception": false,
     "start_time": "2023-06-03T15:28:57.149792",
     "status": "completed"
    },
    "tags": []
   },
   "outputs": [
    {
     "data": {
      "text/plain": [
       "[1.8739555736702669,\n",
       " 0.4879802589683719,\n",
       " 0.6433118791101161,\n",
       " 1.3084092202618098,\n",
       " 1.3322949869603014,\n",
       " 1.6257956152758133,\n",
       " 1.3648237476808904]"
      ]
     },
     "execution_count": 9,
     "metadata": {},
     "output_type": "execute_result"
    }
   ],
   "source": [
    "# Creating class weights for imbalance dataset\n",
    "from sklearn.utils import class_weight\n",
    "class_weights = list(class_weight.compute_class_weight('balanced',\n",
    "                                                 classes=np.unique(train_df.label.to_numpy()),\n",
    "                                                 y=train_df.label.to_numpy()))\n",
    "class_weights"
   ]
  },
  {
   "cell_type": "code",
   "execution_count": 10,
   "id": "8f6bc207",
   "metadata": {
    "execution": {
     "iopub.execute_input": "2023-06-03T15:28:58.025163Z",
     "iopub.status.busy": "2023-06-03T15:28:58.024821Z",
     "iopub.status.idle": "2023-06-03T15:28:58.031237Z",
     "shell.execute_reply": "2023-06-03T15:28:58.030405Z"
    },
    "papermill": {
     "duration": 0.018769,
     "end_time": "2023-06-03T15:28:58.033361",
     "exception": false,
     "start_time": "2023-06-03T15:28:58.014592",
     "status": "completed"
    },
    "tags": []
   },
   "outputs": [
    {
     "data": {
      "text/plain": [
       "{0: 1.8739555736702669,\n",
       " 1: 0.4879802589683719,\n",
       " 2: 0.6433118791101161,\n",
       " 3: 1.3084092202618098,\n",
       " 4: 1.3322949869603014,\n",
       " 5: 1.6257956152758133,\n",
       " 6: 1.3648237476808904}"
      ]
     },
     "execution_count": 10,
     "metadata": {},
     "output_type": "execute_result"
    }
   ],
   "source": [
    "weights = {x:y for x,y in enumerate(class_weights)}\n",
    "weights"
   ]
  },
  {
   "cell_type": "markdown",
   "id": "51612b44",
   "metadata": {
    "papermill": {
     "duration": 0.00878,
     "end_time": "2023-06-03T15:28:58.051381",
     "exception": false,
     "start_time": "2023-06-03T15:28:58.042601",
     "status": "completed"
    },
    "tags": []
   },
   "source": [
    "# Visualization the dataset"
   ]
  },
  {
   "cell_type": "code",
   "execution_count": 11,
   "id": "88de2619",
   "metadata": {
    "execution": {
     "iopub.execute_input": "2023-06-03T15:28:58.071295Z",
     "iopub.status.busy": "2023-06-03T15:28:58.070530Z",
     "iopub.status.idle": "2023-06-03T15:28:58.274927Z",
     "shell.execute_reply": "2023-06-03T15:28:58.273630Z"
    },
    "papermill": {
     "duration": 0.220204,
     "end_time": "2023-06-03T15:28:58.280625",
     "exception": false,
     "start_time": "2023-06-03T15:28:58.060421",
     "status": "completed"
    },
    "tags": []
   },
   "outputs": [
    {
     "data": {
      "image/png": "[encoded data removed]",
      "text/plain": [
       "<Figure size 640x480 with 1 Axes>"
      ]
     },
     "metadata": {},
     "output_type": "display_data"
    }
   ],
   "source": [
    "from matplotlib import pyplot as plt\n",
    "\n",
    "train_files = os.listdir(train_path)\n",
    "img = cv.imread(train_path+\"/\"+train_files[1])\n",
    "plt.imshow(img)\n",
    "plt.xticks([])\n",
    "plt.yticks([])\n",
    "plt.show()"
   ]
  },
  {
   "cell_type": "markdown",
   "id": "06d9573a",
   "metadata": {
    "papermill": {
     "duration": 0.010058,
     "end_time": "2023-06-03T15:28:58.310662",
     "exception": false,
     "start_time": "2023-06-03T15:28:58.300604",
     "status": "completed"
    },
    "tags": []
   },
   "source": [
    "# Creating Data Pipelines"
   ]
  },
  {
   "cell_type": "code",
   "execution_count": 12,
   "id": "4ad8a2c4",
   "metadata": {
    "execution": {
     "iopub.execute_input": "2023-06-03T15:28:58.332131Z",
     "iopub.status.busy": "2023-06-03T15:28:58.331787Z",
     "iopub.status.idle": "2023-06-03T15:29:08.297390Z",
     "shell.execute_reply": "2023-06-03T15:29:08.296484Z"
    },
    "papermill": {
     "duration": 9.978778,
     "end_time": "2023-06-03T15:29:08.299489",
     "exception": false,
     "start_time": "2023-06-03T15:28:58.320711",
     "status": "completed"
    },
    "tags": []
   },
   "outputs": [
    {
     "name": "stdout",
     "output_type": "stream",
     "text": [
      "Found 18391 validated image filenames belonging to 7 classes.\n"
     ]
    }
   ],
   "source": [
    "from tensorflow.keras.preprocessing.image import ImageDataGenerator\n",
    "\n",
    "train_df['label'] = train_df['label'].astype(str)\n",
    "\n",
    "datagen = ImageDataGenerator(\n",
    "    rescale=1/255.0,\n",
    "    rotation_range=20,\n",
    "    zoom_range=0.05,\n",
    "    width_shift_range=0.05,\n",
    "    height_shift_range=0.05,\n",
    "    shear_range=0.05,\n",
    "    horizontal_flip=True,\n",
    "    fill_mode = \"nearest\",\n",
    ")\n",
    "\n",
    "train_generator=datagen.flow_from_dataframe(\n",
    "    dataframe=train_df,\n",
    "    directory=\"/kaggle/input/extracting-attributes-from-fashion-images-2/train\",\n",
    "    x_col=\"file_name\",\n",
    "    y_col=\"label\",\n",
    "    subset=\"training\",\n",
    "    batch_size=BATCH_SIZE,\n",
    "    seed=42,\n",
    "    shuffle=True,\n",
    "    class_mode=\"sparse\",\n",
    "    target_size=(INPUT_SHAPE,INPUT_SHAPE))\n"
   ]
  },
  {
   "cell_type": "code",
   "execution_count": 13,
   "id": "085c64f0",
   "metadata": {
    "execution": {
     "iopub.execute_input": "2023-06-03T15:29:08.322252Z",
     "iopub.status.busy": "2023-06-03T15:29:08.321353Z",
     "iopub.status.idle": "2023-06-03T15:29:11.419133Z",
     "shell.execute_reply": "2023-06-03T15:29:11.418247Z"
    },
    "papermill": {
     "duration": 3.111292,
     "end_time": "2023-06-03T15:29:11.421345",
     "exception": false,
     "start_time": "2023-06-03T15:29:08.310053",
     "status": "completed"
    },
    "tags": []
   },
   "outputs": [
    {
     "name": "stdout",
     "output_type": "stream",
     "text": [
      "Found 5751 validated image filenames belonging to 1 classes.\n"
     ]
    }
   ],
   "source": [
    "test_datagen=ImageDataGenerator(rescale=1./255.)\n",
    "\n",
    "test_df['label'] = test_df['label'].astype(str)\n",
    "\n",
    "test_generator=test_datagen.flow_from_dataframe(\n",
    "dataframe=test_df,\n",
    "directory=\"/kaggle/input/extracting-attributes-from-fashion-images-2/test\",\n",
    "x_col=\"file_name\",\n",
    "y_col=\"label\",\n",
    "batch_size=BATCH_SIZE,\n",
    "seed=42,\n",
    "shuffle=False,\n",
    "class_mode=\"sparse\",\n",
    "target_size=(INPUT_SHAPE,INPUT_SHAPE))\n"
   ]
  },
  {
   "cell_type": "markdown",
   "id": "39beebd5",
   "metadata": {
    "papermill": {
     "duration": 0.010095,
     "end_time": "2023-06-03T15:29:11.442013",
     "exception": false,
     "start_time": "2023-06-03T15:29:11.431918",
     "status": "completed"
    },
    "tags": []
   },
   "source": [
    "# Creating the Deep learning model"
   ]
  },
  {
   "cell_type": "code",
   "execution_count": 14,
   "id": "8804fc19",
   "metadata": {
    "execution": {
     "iopub.execute_input": "2023-06-03T15:29:11.464382Z",
     "iopub.status.busy": "2023-06-03T15:29:11.463777Z",
     "iopub.status.idle": "2023-06-03T15:29:15.249817Z",
     "shell.execute_reply": "2023-06-03T15:29:15.248905Z"
    },
    "papermill": {
     "duration": 3.800146,
     "end_time": "2023-06-03T15:29:15.252453",
     "exception": false,
     "start_time": "2023-06-03T15:29:11.452307",
     "status": "completed"
    },
    "tags": []
   },
   "outputs": [
    {
     "name": "stdout",
     "output_type": "stream",
     "text": [
      "Downloading data from https://storage.googleapis.com/tensorflow/keras-applications/vgg16/vgg16_weights_tf_dim_ordering_tf_kernels_notop.h5\n",
      "58889256/58889256 [==============================] - 0s 0us/step\n"
     ]
    }
   ],
   "source": [
    "from tensorflow.keras.models import Sequential\n",
    "from tensorflow.keras.layers import *\n",
    "from tensorflow import keras\n",
    "import tensorflow as tf\n",
    "from keras.applications import VGG16\n",
    "from tensorflow.python.keras import regularizers\n",
    "\n",
    "# Pre Trained Models \n",
    "\n",
    "conv_base = VGG16(weights=\"imagenet\",\n",
    "                 include_top=False,\n",
    "                 input_shape=(INPUT_SHAPE,INPUT_SHAPE,3)) # 244\n",
    "\n",
    "\n",
    "# conv_base = tf.keras.applications.mobilenet.MobileNet( include_top=False,\n",
    "#                                                            input_shape=(INPUT_SHAPE, INPUT_SHAPE,3),\n",
    "#                                                            weights='imagenet')    \n",
    "\n",
    "model = Sequential()\n",
    "\n",
    "model.add(conv_base)\n",
    "conv_base.trainable = False\n",
    "\n",
    "model.add(Flatten())\n",
    "\n",
    "model.add(Dense(512, activation='relu',kernel_regularizer=regularizers.l2(0.01)))\n",
    "model.add(BatchNormalization())\n",
    "\n",
    "\n",
    "model.add(Dense(7, activation='softmax'))\n",
    "\n",
    "model.compile(optimizer=keras.optimizers.Adam(lr=0.00001),loss=\"sparse_categorical_crossentropy\",metrics=[\"accuracy\"])"
   ]
  },
  {
   "cell_type": "code",
   "execution_count": 15,
   "id": "da705999",
   "metadata": {
    "execution": {
     "iopub.execute_input": "2023-06-03T15:29:15.275961Z",
     "iopub.status.busy": "2023-06-03T15:29:15.275646Z",
     "iopub.status.idle": "2023-06-03T15:29:15.313658Z",
     "shell.execute_reply": "2023-06-03T15:29:15.312691Z"
    },
    "papermill": {
     "duration": 0.08289,
     "end_time": "2023-06-03T15:29:15.346585",
     "exception": false,
     "start_time": "2023-06-03T15:29:15.263695",
     "status": "completed"
    },
    "tags": []
   },
   "outputs": [
    {
     "name": "stdout",
     "output_type": "stream",
     "text": [
      "Model: \"vgg16\"\n",
      "_________________________________________________________________\n",
      " Layer (type)                Output Shape              Param #   \n",
      "=================================================================\n",
      " input_1 (InputLayer)        [(None, 244, 244, 3)]     0         \n",
      "                                                                 \n",
      " block1_conv1 (Conv2D)       (None, 244, 244, 64)      1792      \n",
      "                                                                 \n",
      " block1_conv2 (Conv2D)       (None, 244, 244, 64)      36928     \n",
      "                                                                 \n",
      " block1_pool (MaxPooling2D)  (None, 122, 122, 64)      0         \n",
      "                                                                 \n",
      " block2_conv1 (Conv2D)       (None, 122, 122, 128)     73856     \n",
      "                                                                 \n",
      " block2_conv2 (Conv2D)       (None, 122, 122, 128)     147584    \n",
      "                                                                 \n",
      " block2_pool (MaxPooling2D)  (None, 61, 61, 128)       0         \n",
      "                                                                 \n",
      " block3_conv1 (Conv2D)       (None, 61, 61, 256)       295168    \n",
      "                                                                 \n",
      " block3_conv2 (Conv2D)       (None, 61, 61, 256)       590080    \n",
      "                                                                 \n",
      " block3_conv3 (Conv2D)       (None, 61, 61, 256)       590080    \n",
      "                                                                 \n",
      " block3_pool (MaxPooling2D)  (None, 30, 30, 256)       0         \n",
      "                                                                 \n",
      " block4_conv1 (Conv2D)       (None, 30, 30, 512)       1180160   \n",
      "                                                                 \n",
      " block4_conv2 (Conv2D)       (None, 30, 30, 512)       2359808   \n",
      "                                                                 \n",
      " block4_conv3 (Conv2D)       (None, 30, 30, 512)       2359808   \n",
      "                                                                 \n",
      " block4_pool (MaxPooling2D)  (None, 15, 15, 512)       0         \n",
      "                                                                 \n",
      " block5_conv1 (Conv2D)       (None, 15, 15, 512)       2359808   \n",
      "                                                                 \n",
      " block5_conv2 (Conv2D)       (None, 15, 15, 512)       2359808   \n",
      "                                                                 \n",
      " block5_conv3 (Conv2D)       (None, 15, 15, 512)       2359808   \n",
      "                                                                 \n",
      " block5_pool (MaxPooling2D)  (None, 7, 7, 512)         0         \n",
      "                                                                 \n",
      "=================================================================\n",
      "Total params: 14,714,688\n",
      "Trainable params: 0\n",
      "Non-trainable params: 14,714,688\n",
      "_________________________________________________________________\n"
     ]
    }
   ],
   "source": [
    "conv_base.summary()"
   ]
  },
  {
   "cell_type": "code",
   "execution_count": 16,
   "id": "2509b709",
   "metadata": {
    "execution": {
     "iopub.execute_input": "2023-06-03T15:29:15.376747Z",
     "iopub.status.busy": "2023-06-03T15:29:15.376470Z",
     "iopub.status.idle": "2023-06-03T15:29:15.397397Z",
     "shell.execute_reply": "2023-06-03T15:29:15.396456Z"
    },
    "papermill": {
     "duration": 0.04581,
     "end_time": "2023-06-03T15:29:15.406856",
     "exception": false,
     "start_time": "2023-06-03T15:29:15.361046",
     "status": "completed"
    },
    "tags": []
   },
   "outputs": [
    {
     "name": "stdout",
     "output_type": "stream",
     "text": [
      "Model: \"sequential\"\n",
      "_________________________________________________________________\n",
      " Layer (type)                Output Shape              Param #   \n",
      "=================================================================\n",
      " vgg16 (Functional)          (None, 7, 7, 512)         14714688  \n",
      "                                                                 \n",
      " flatten (Flatten)           (None, 25088)             0         \n",
      "                                                                 \n",
      " dense (Dense)               (None, 512)               12845568  \n",
      "                                                                 \n",
      " batch_normalization (BatchN  (None, 512)              2048      \n",
      " ormalization)                                                   \n",
      "                                                                 \n",
      " dense_1 (Dense)             (None, 7)                 3591      \n",
      "                                                                 \n",
      "=================================================================\n",
      "Total params: 27,565,895\n",
      "Trainable params: 12,850,183\n",
      "Non-trainable params: 14,715,712\n",
      "_________________________________________________________________\n"
     ]
    }
   ],
   "source": [
    "model.summary()"
   ]
  },
  {
   "cell_type": "markdown",
   "id": "7d3720cf",
   "metadata": {
    "papermill": {
     "duration": 0.015454,
     "end_time": "2023-06-03T15:29:15.438004",
     "exception": false,
     "start_time": "2023-06-03T15:29:15.422550",
     "status": "completed"
    },
    "tags": []
   },
   "source": [
    "# Training"
   ]
  },
  {
   "cell_type": "code",
   "execution_count": 17,
   "id": "1e91e2e5",
   "metadata": {
    "execution": {
     "iopub.execute_input": "2023-06-03T15:29:15.470451Z",
     "iopub.status.busy": "2023-06-03T15:29:15.470168Z",
     "iopub.status.idle": "2023-06-03T15:29:16.450192Z",
     "shell.execute_reply": "2023-06-03T15:29:16.448954Z"
    },
    "papermill": {
     "duration": 0.999169,
     "end_time": "2023-06-03T15:29:16.452864",
     "exception": false,
     "start_time": "2023-06-03T15:29:15.453695",
     "status": "completed"
    },
    "tags": []
   },
   "outputs": [],
   "source": [
    "# Setting up model callbacks\n",
    "! mkdir /kaggle/working/model/\n",
    "\n",
    "checkpoint=tf.keras.callbacks.ModelCheckpoint(filepath=\"/kaggle/working/model/CNN.h5\", \n",
    "                                              monitor='val_accuracy', \n",
    "                                              verbose=0, \n",
    "                                              save_best_only=True,\n",
    "                                              save_weights_only=False, \n",
    "                                              mode='auto', \n",
    "                                              save_freq='epoch', \n",
    "                                              options=None)"
   ]
  },
  {
   "cell_type": "code",
   "execution_count": 18,
   "id": "fab050a0",
   "metadata": {
    "execution": {
     "iopub.execute_input": "2023-06-03T15:29:16.487075Z",
     "iopub.status.busy": "2023-06-03T15:29:16.486735Z",
     "iopub.status.idle": "2023-06-03T17:30:14.350924Z",
     "shell.execute_reply": "2023-06-03T17:30:14.349848Z"
    },
    "papermill": {
     "duration": 7258.182454,
     "end_time": "2023-06-03T17:30:14.651350",
     "exception": false,
     "start_time": "2023-06-03T15:29:16.468896",
     "status": "completed"
    },
    "tags": []
   },
   "outputs": [
    {
     "name": "stdout",
     "output_type": "stream",
     "text": [
      "Epoch 1/20\n",
      "287/287 [==============================] - 430s 1s/step - loss: 3.0036 - accuracy: 0.4944 - val_loss: 4.7106 - val_accuracy: 0.0539\n",
      "Epoch 2/20\n",
      "287/287 [==============================] - 347s 1s/step - loss: 1.6161 - accuracy: 0.5256 - val_loss: 4.6321 - val_accuracy: 0.0204\n",
      "Epoch 3/20\n",
      "287/287 [==============================] - 348s 1s/step - loss: 1.5310 - accuracy: 0.5210 - val_loss: 3.4273 - val_accuracy: 0.1073\n",
      "Epoch 4/20\n",
      "287/287 [==============================] - 346s 1s/step - loss: 1.4769 - accuracy: 0.5333 - val_loss: 3.1345 - val_accuracy: 0.1246\n",
      "Epoch 5/20\n",
      "287/287 [==============================] - 345s 1s/step - loss: 1.4459 - accuracy: 0.5359 - val_loss: 5.4869 - val_accuracy: 0.0713\n",
      "Epoch 6/20\n",
      "287/287 [==============================] - 347s 1s/step - loss: 1.4355 - accuracy: 0.5401 - val_loss: 3.8439 - val_accuracy: 0.0637\n",
      "Epoch 7/20\n",
      "287/287 [==============================] - 348s 1s/step - loss: 1.4021 - accuracy: 0.5519 - val_loss: 9.9910 - val_accuracy: 0.0000e+00\n",
      "Epoch 8/20\n",
      "287/287 [==============================] - 350s 1s/step - loss: 1.3725 - accuracy: 0.5551 - val_loss: 14.6613 - val_accuracy: 0.0000e+00\n",
      "Epoch 9/20\n",
      "287/287 [==============================] - 345s 1s/step - loss: 1.3238 - accuracy: 0.5644 - val_loss: 5.7851 - val_accuracy: 0.0040\n",
      "Epoch 10/20\n",
      "287/287 [==============================] - 332s 1s/step - loss: 1.3167 - accuracy: 0.5702 - val_loss: 5.7862 - val_accuracy: 0.0154\n",
      "Epoch 11/20\n",
      "287/287 [==============================] - 336s 1s/step - loss: 1.2904 - accuracy: 0.5756 - val_loss: 3.9841 - val_accuracy: 0.0957\n",
      "Epoch 12/20\n",
      "287/287 [==============================] - 347s 1s/step - loss: 1.3012 - accuracy: 0.5700 - val_loss: 6.4671 - val_accuracy: 0.0406\n",
      "Epoch 13/20\n",
      "287/287 [==============================] - 334s 1s/step - loss: 1.2851 - accuracy: 0.5722 - val_loss: 6.6537 - val_accuracy: 0.0311\n",
      "Epoch 14/20\n",
      "287/287 [==============================] - 346s 1s/step - loss: 1.2613 - accuracy: 0.5829 - val_loss: 4.3712 - val_accuracy: 0.1399\n",
      "Epoch 15/20\n",
      "287/287 [==============================] - 345s 1s/step - loss: 1.2573 - accuracy: 0.5799 - val_loss: 11.0980 - val_accuracy: 0.0000e+00\n",
      "Epoch 16/20\n",
      "287/287 [==============================] - 347s 1s/step - loss: 1.2442 - accuracy: 0.5813 - val_loss: 18.0922 - val_accuracy: 0.0000e+00\n",
      "Epoch 17/20\n",
      "287/287 [==============================] - 346s 1s/step - loss: 1.2534 - accuracy: 0.5792 - val_loss: 4.8266 - val_accuracy: 0.0471\n",
      "Epoch 18/20\n",
      "287/287 [==============================] - 338s 1s/step - loss: 1.2353 - accuracy: 0.5902 - val_loss: 11.6304 - val_accuracy: 0.0081\n",
      "Epoch 19/20\n",
      "287/287 [==============================] - 352s 1s/step - loss: 1.2430 - accuracy: 0.5850 - val_loss: 3.0457 - val_accuracy: 0.3060\n",
      "Epoch 20/20\n",
      "287/287 [==============================] - 347s 1s/step - loss: 1.2253 - accuracy: 0.5831 - val_loss: 4.5857 - val_accuracy: 0.0806\n"
     ]
    },
    {
     "data": {
      "image/png": "[encoded data removed]",
      "text/plain": [
       "<Figure size 640x480 with 1 Axes>"
      ]
     },
     "metadata": {},
     "output_type": "display_data"
    },
    {
     "data": {
      "image/png": "[encoded data removed]",
      "text/plain": [
       "<Figure size 640x480 with 1 Axes>"
      ]
     },
     "metadata": {},
     "output_type": "display_data"
    }
   ],
   "source": [
    "# Training the model\n",
    "\n",
    "STEP_SIZE_TRAIN=train_generator.n//train_generator.batch_size\n",
    "STEP_SIZE_TEST=test_generator.n//test_generator.batch_size\n",
    "\n",
    "history = model.fit(train_generator,\n",
    "                    steps_per_epoch=STEP_SIZE_TRAIN,\n",
    "                    validation_data=test_generator,\n",
    "                    validation_steps=STEP_SIZE_TEST,\n",
    "                    epochs=EPOCHS,\n",
    "                    callbacks=[checkpoint])\n",
    "#                     class_weight=weights)\n",
    "\n",
    "\n",
    "# summarize history for accuracy\n",
    "plt.plot(history.history['accuracy'])\n",
    "plt.plot(history.history['val_accuracy'])\n",
    "plt.title('model accuracy')\n",
    "plt.ylabel('accuracy')\n",
    "plt.xlabel('epoch')\n",
    "plt.legend(['train', 'test'], loc='upper left')\n",
    "plt.grid()\n",
    "plt.show()\n",
    "\n",
    "\n",
    "# summarize history for loss\n",
    "plt.plot(history.history['loss'])\n",
    "plt.plot(history.history['val_loss'])\n",
    "plt.title('model loss')\n",
    "plt.ylabel('loss')\n",
    "plt.xlabel('epoch')\n",
    "plt.legend(['train', 'test'], loc='upper left')\n",
    "plt.grid()\n",
    "plt.show()"
   ]
  },
  {
   "cell_type": "markdown",
   "id": "b8aa660e",
   "metadata": {
    "papermill": {
     "duration": 0.452359,
     "end_time": "2023-06-03T17:30:15.549008",
     "exception": false,
     "start_time": "2023-06-03T17:30:15.096649",
     "status": "completed"
    },
    "tags": []
   },
   "source": [
    "# Testing"
   ]
  },
  {
   "cell_type": "code",
   "execution_count": 19,
   "id": "0b6c7137",
   "metadata": {
    "execution": {
     "iopub.execute_input": "2023-06-03T17:30:16.514542Z",
     "iopub.status.busy": "2023-06-03T17:30:16.514180Z",
     "iopub.status.idle": "2023-06-03T17:30:17.588871Z",
     "shell.execute_reply": "2023-06-03T17:30:17.587922Z"
    },
    "papermill": {
     "duration": 1.594434,
     "end_time": "2023-06-03T17:30:17.591583",
     "exception": false,
     "start_time": "2023-06-03T17:30:15.997149",
     "status": "completed"
    },
    "tags": []
   },
   "outputs": [],
   "source": [
    "# importing the best model\n",
    "\n",
    "model = tf.keras.models.load_model(\"/kaggle/working/model/CNN.h5\")"
   ]
  },
  {
   "cell_type": "code",
   "execution_count": 20,
   "id": "ff5b4c52",
   "metadata": {
    "execution": {
     "iopub.execute_input": "2023-06-03T17:30:18.642839Z",
     "iopub.status.busy": "2023-06-03T17:30:18.642368Z",
     "iopub.status.idle": "2023-06-03T17:31:00.348875Z",
     "shell.execute_reply": "2023-06-03T17:31:00.347912Z"
    },
    "papermill": {
     "duration": 42.769449,
     "end_time": "2023-06-03T17:31:00.809509",
     "exception": false,
     "start_time": "2023-06-03T17:30:18.040060",
     "status": "completed"
    },
    "tags": []
   },
   "outputs": [
    {
     "name": "stdout",
     "output_type": "stream",
     "text": [
      "89/89 [==============================] - 29s 322ms/step - loss: 3.0457 - accuracy: 0.3060\n"
     ]
    },
    {
     "data": {
      "text/plain": [
       "[3.0456533432006836, 0.30600422620773315]"
      ]
     },
     "execution_count": 20,
     "metadata": {},
     "output_type": "execute_result"
    }
   ],
   "source": [
    "# Test accuracy\n",
    "test_generator.reset()\n",
    "model.evaluate(test_generator,\n",
    "steps=STEP_SIZE_TEST)"
   ]
  },
  {
   "cell_type": "code",
   "execution_count": 21,
   "id": "a4efd246",
   "metadata": {
    "execution": {
     "iopub.execute_input": "2023-06-03T17:31:01.799637Z",
     "iopub.status.busy": "2023-06-03T17:31:01.799281Z",
     "iopub.status.idle": "2023-06-03T17:31:35.468611Z",
     "shell.execute_reply": "2023-06-03T17:31:35.467618Z"
    },
    "papermill": {
     "duration": 34.586294,
     "end_time": "2023-06-03T17:31:35.856327",
     "exception": false,
     "start_time": "2023-06-03T17:31:01.270033",
     "status": "completed"
    },
    "tags": []
   },
   "outputs": [
    {
     "name": "stdout",
     "output_type": "stream",
     "text": [
      "90/90 [==============================] - 33s 367ms/step\n"
     ]
    }
   ],
   "source": [
    "test_generator.reset()\n",
    "pred=model.predict(test_generator)"
   ]
  },
  {
   "cell_type": "code",
   "execution_count": 22,
   "id": "7028d77c",
   "metadata": {
    "execution": {
     "iopub.execute_input": "2023-06-03T17:31:36.797586Z",
     "iopub.status.busy": "2023-06-03T17:31:36.796668Z",
     "iopub.status.idle": "2023-06-03T17:31:36.892521Z",
     "shell.execute_reply": "2023-06-03T17:31:36.891442Z"
    },
    "papermill": {
     "duration": 0.56995,
     "end_time": "2023-06-03T17:31:36.894628",
     "exception": false,
     "start_time": "2023-06-03T17:31:36.324678",
     "status": "completed"
    },
    "tags": []
   },
   "outputs": [
    {
     "name": "stdout",
     "output_type": "stream",
     "text": [
      "[[1771  966  555   80  101  779 1499]\n",
      " [   0    0    0    0    0    0    0]\n",
      " [   0    0    0    0    0    0    0]\n",
      " [   0    0    0    0    0    0    0]\n",
      " [   0    0    0    0    0    0    0]\n",
      " [   0    0    0    0    0    0    0]\n",
      " [   0    0    0    0    0    0    0]]\n"
     ]
    }
   ],
   "source": [
    "from sklearn.metrics import confusion_matrix\n",
    "y_pred=np.argmax(pred,axis=1)\n",
    "\n",
    "test_df['label'] = test_df['label'].astype(int)\n",
    "\n",
    "cm=confusion_matrix(test_df.label, y_pred)\n",
    "print(cm)"
   ]
  },
  {
   "cell_type": "markdown",
   "id": "79706470",
   "metadata": {
    "papermill": {
     "duration": 0.45962,
     "end_time": "2023-06-03T17:31:37.828391",
     "exception": false,
     "start_time": "2023-06-03T17:31:37.368771",
     "status": "completed"
    },
    "tags": []
   },
   "source": [
    "# Creating submission.csv"
   ]
  },
  {
   "cell_type": "code",
   "execution_count": 23,
   "id": "a4f7f217",
   "metadata": {
    "execution": {
     "iopub.execute_input": "2023-06-03T17:31:38.814706Z",
     "iopub.status.busy": "2023-06-03T17:31:38.814311Z",
     "iopub.status.idle": "2023-06-03T17:31:38.839092Z",
     "shell.execute_reply": "2023-06-03T17:31:38.838192Z"
    },
    "papermill": {
     "duration": 0.493174,
     "end_time": "2023-06-03T17:31:38.841358",
     "exception": false,
     "start_time": "2023-06-03T17:31:38.348184",
     "status": "completed"
    },
    "tags": []
   },
   "outputs": [],
   "source": [
    "filenames=test_generator.filenames\n",
    "\n",
    "results=pd.DataFrame({\"Filename\":filenames,\n",
    "                      \"Predictions\":y_pred})\n",
    "results.to_csv(\"submission.csv\",index=False)"
   ]
  },
  {
   "cell_type": "markdown",
   "id": "4ff31026",
   "metadata": {
    "papermill": {
     "duration": 0.468124,
     "end_time": "2023-06-03T17:31:39.771839",
     "exception": false,
     "start_time": "2023-06-03T17:31:39.303715",
     "status": "completed"
    },
    "tags": []
   },
   "source": [
    "# Reasons for low testing accuracy \n",
    "**Problem**: Although the training and testing data belong to the same dataset, the split in the dataset is very different, training data has about 1402 belonging to class 0 and the testing data has all the data belonging to class 0. Inorder to make a model that generalizes well on the dataset we need at least a minimum of 5000 samples per class.So creating a good model with just 1402 images is a difficult task.\n",
    "\n",
    "**Solution 1**: Adding more data in the dataset would lead to better learning of the model and would remove any bias in the dataset. But this is not possible in our case.\n",
    "\n",
    "**Solution 2**: If adding data is not an option then using a pre-trained model could lead to better generalization. This is because pre trained models are trained for good feature extraction. This should work for our use case but from what I have learned while training the model, Due to the low amount of class 0 data in the dataset the pretrained model is also not able to learn well even though it generalizes well.\n",
    "\n"
   ]
  }
 ],
 "metadata": {
  "kernelspec": {
   "display_name": "Python 3",
   "language": "python",
   "name": "python3"
  },
  "language_info": {
   "codemirror_mode": {
    "name": "ipython",
    "version": 3
   },
   "file_extension": ".py",
   "mimetype": "text/x-python",
   "name": "python",
   "nbconvert_exporter": "python",
   "pygments_lexer": "ipython3",
   "version": "3.10.10"
  },
  "papermill": {
   "default_parameters": {},
   "duration": 7393.563048,
   "end_time": "2023-06-03T17:31:43.680615",
   "environment_variables": {},
   "exception": null,
   "input_path": "__notebook__.ipynb",
   "output_path": "__notebook__.ipynb",
   "parameters": {},
   "start_time": "2023-06-03T15:28:30.117567",
   "version": "2.4.0"
  }
 },
 "nbformat": 4,
 "nbformat_minor": 5
}
