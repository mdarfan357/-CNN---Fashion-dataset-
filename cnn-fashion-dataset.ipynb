{
 "cells": [
  {
   "cell_type": "code",
   "execution_count": 1,
   "id": "28298d63",
   "metadata": {
    "_cell_guid": "b1076dfc-b9ad-4769-8c92-a6c4dae69d19",
    "_uuid": "8f2839f25d086af736a60e9eeb907d3b93b6e0e5",
    "execution": {
     "iopub.execute_input": "2023-06-03T17:36:03.195400Z",
     "iopub.status.busy": "2023-06-03T17:36:03.194670Z",
     "iopub.status.idle": "2023-06-03T17:36:11.989716Z",
     "shell.execute_reply": "2023-06-03T17:36:11.988448Z"
    },
    "papermill": {
     "duration": 8.808682,
     "end_time": "2023-06-03T17:36:11.993115",
     "exception": false,
     "start_time": "2023-06-03T17:36:03.184433",
     "status": "completed"
    },
    "tags": []
   },
   "outputs": [],
   "source": [
    "# This Python 3 environment comes with many helpful analytics libraries installed\n",
    "# It is defined by the kaggle/python Docker image: https://github.com/kaggle/docker-python\n",
    "# For example, here's several helpful packages to load\n",
    "\n",
    "import numpy as np # linear algebra\n",
    "import pandas as pd # data processing, CSV file I/O (e.g. pd.read_csv)\n",
    "\n",
    "# Input data files are available in the read-only \"../input/\" directory\n",
    "# For example, running this (by clicking run or pressing Shift+Enter) will list all files under the input directory\n",
    "\n",
    "import os\n",
    "for dirname, _, filenames in os.walk('/kaggle/input'):\n",
    "    for filename in filenames:\n",
    "        os.path.join(dirname, filename)\n"
   ]
  },
  {
   "cell_type": "markdown",
   "id": "39a97c94",
   "metadata": {
    "papermill": {
     "duration": 0.01395,
     "end_time": "2023-06-03T17:36:12.026696",
     "exception": false,
     "start_time": "2023-06-03T17:36:12.012746",
     "status": "completed"
    },
    "tags": []
   },
   "source": [
    "# Importing Required Modules "
   ]
  },
  {
   "cell_type": "code",
   "execution_count": 2,
   "id": "760b8822",
   "metadata": {
    "execution": {
     "iopub.execute_input": "2023-06-03T17:36:12.050937Z",
     "iopub.status.busy": "2023-06-03T17:36:12.050448Z",
     "iopub.status.idle": "2023-06-03T17:36:20.565146Z",
     "shell.execute_reply": "2023-06-03T17:36:20.564144Z"
    },
    "papermill": {
     "duration": 8.528343,
     "end_time": "2023-06-03T17:36:20.567689",
     "exception": false,
     "start_time": "2023-06-03T17:36:12.039346",
     "status": "completed"
    },
    "tags": []
   },
   "outputs": [
    {
     "name": "stderr",
     "output_type": "stream",
     "text": [
      "/opt/conda/lib/python3.10/site-packages/tensorflow_io/python/ops/__init__.py:98: UserWarning: unable to load libtensorflow_io_plugins.so: unable to open file: libtensorflow_io_plugins.so, from paths: ['/opt/conda/lib/python3.10/site-packages/tensorflow_io/python/ops/libtensorflow_io_plugins.so']\n",
      "caused by: ['/opt/conda/lib/python3.10/site-packages/tensorflow_io/python/ops/libtensorflow_io_plugins.so: undefined symbol: _ZN3tsl6StatusC1EN10tensorflow5error4CodeESt17basic_string_viewIcSt11char_traitsIcEENS_14SourceLocationE']\n",
      "  warnings.warn(f\"unable to load libtensorflow_io_plugins.so: {e}\")\n",
      "/opt/conda/lib/python3.10/site-packages/tensorflow_io/python/ops/__init__.py:104: UserWarning: file system plugins are not loaded: unable to open file: libtensorflow_io.so, from paths: ['/opt/conda/lib/python3.10/site-packages/tensorflow_io/python/ops/libtensorflow_io.so']\n",
      "caused by: ['/opt/conda/lib/python3.10/site-packages/tensorflow_io/python/ops/libtensorflow_io.so: undefined symbol: _ZTVN10tensorflow13GcsFileSystemE']\n",
      "  warnings.warn(f\"file system plugins are not loaded: {e}\")\n"
     ]
    }
   ],
   "source": [
    "import pandas as pd\n",
    "import cv2 as cv\n",
    "from tensorflow.keras.models import Sequential\n",
    "from tensorflow.keras.layers import *\n",
    "import os"
   ]
  },
  {
   "cell_type": "markdown",
   "id": "d18b364f",
   "metadata": {
    "papermill": {
     "duration": 0.008136,
     "end_time": "2023-06-03T17:36:20.585024",
     "exception": false,
     "start_time": "2023-06-03T17:36:20.576888",
     "status": "completed"
    },
    "tags": []
   },
   "source": [
    "# Model Hyper parameters"
   ]
  },
  {
   "cell_type": "code",
   "execution_count": 3,
   "id": "93ad930c",
   "metadata": {
    "execution": {
     "iopub.execute_input": "2023-06-03T17:36:20.604667Z",
     "iopub.status.busy": "2023-06-03T17:36:20.602899Z",
     "iopub.status.idle": "2023-06-03T17:36:20.609141Z",
     "shell.execute_reply": "2023-06-03T17:36:20.608314Z"
    },
    "papermill": {
     "duration": 0.017467,
     "end_time": "2023-06-03T17:36:20.610888",
     "exception": false,
     "start_time": "2023-06-03T17:36:20.593421",
     "status": "completed"
    },
    "tags": []
   },
   "outputs": [],
   "source": [
    "train_path = \"/kaggle/input/extracting-attributes-from-fashion-images-2/train\"\n",
    "BATCH_SIZE = 64\n",
    "EPOCHS = 20\n",
    "INPUT_SHAPE = 244"
   ]
  },
  {
   "cell_type": "markdown",
   "id": "15c7fef1",
   "metadata": {
    "papermill": {
     "duration": 0.008139,
     "end_time": "2023-06-03T17:36:20.627572",
     "exception": false,
     "start_time": "2023-06-03T17:36:20.619433",
     "status": "completed"
    },
    "tags": []
   },
   "source": [
    "# Data Importing"
   ]
  },
  {
   "cell_type": "code",
   "execution_count": 4,
   "id": "383a4bea",
   "metadata": {
    "execution": {
     "iopub.execute_input": "2023-06-03T17:36:20.645079Z",
     "iopub.status.busy": "2023-06-03T17:36:20.644815Z",
     "iopub.status.idle": "2023-06-03T17:36:20.690911Z",
     "shell.execute_reply": "2023-06-03T17:36:20.690114Z"
    },
    "papermill": {
     "duration": 0.057434,
     "end_time": "2023-06-03T17:36:20.693118",
     "exception": false,
     "start_time": "2023-06-03T17:36:20.635684",
     "status": "completed"
    },
    "tags": []
   },
   "outputs": [
    {
     "data": {
      "text/html": [
       "<div>\n",
       "<style scoped>\n",
       "    .dataframe tbody tr th:only-of-type {\n",
       "        vertical-align: middle;\n",
       "    }\n",
       "\n",
       "    .dataframe tbody tr th {\n",
       "        vertical-align: top;\n",
       "    }\n",
       "\n",
       "    .dataframe thead th {\n",
       "        text-align: right;\n",
       "    }\n",
       "</style>\n",
       "<table border=\"1\" class=\"dataframe\">\n",
       "  <thead>\n",
       "    <tr style=\"text-align: right;\">\n",
       "      <th></th>\n",
       "      <th>file_name</th>\n",
       "      <th>label</th>\n",
       "    </tr>\n",
       "  </thead>\n",
       "  <tbody>\n",
       "    <tr>\n",
       "      <th>0</th>\n",
       "      <td>Image_train_00001.jpg</td>\n",
       "      <td>0</td>\n",
       "    </tr>\n",
       "    <tr>\n",
       "      <th>1</th>\n",
       "      <td>Image_train_00002.jpg</td>\n",
       "      <td>1</td>\n",
       "    </tr>\n",
       "    <tr>\n",
       "      <th>2</th>\n",
       "      <td>Image_train_00003.jpg</td>\n",
       "      <td>0</td>\n",
       "    </tr>\n",
       "    <tr>\n",
       "      <th>3</th>\n",
       "      <td>Image_train_00004.jpg</td>\n",
       "      <td>0</td>\n",
       "    </tr>\n",
       "    <tr>\n",
       "      <th>4</th>\n",
       "      <td>Image_train_00005.jpg</td>\n",
       "      <td>0</td>\n",
       "    </tr>\n",
       "    <tr>\n",
       "      <th>...</th>\n",
       "      <td>...</td>\n",
       "      <td>...</td>\n",
       "    </tr>\n",
       "    <tr>\n",
       "      <th>18386</th>\n",
       "      <td>Image_train_18387.jpg</td>\n",
       "      <td>1</td>\n",
       "    </tr>\n",
       "    <tr>\n",
       "      <th>18387</th>\n",
       "      <td>Image_train_18388.jpg</td>\n",
       "      <td>2</td>\n",
       "    </tr>\n",
       "    <tr>\n",
       "      <th>18388</th>\n",
       "      <td>Image_train_18389.jpg</td>\n",
       "      <td>1</td>\n",
       "    </tr>\n",
       "    <tr>\n",
       "      <th>18389</th>\n",
       "      <td>Image_train_18390.jpg</td>\n",
       "      <td>1</td>\n",
       "    </tr>\n",
       "    <tr>\n",
       "      <th>18390</th>\n",
       "      <td>Image_train_18391.jpg</td>\n",
       "      <td>1</td>\n",
       "    </tr>\n",
       "  </tbody>\n",
       "</table>\n",
       "<p>18391 rows × 2 columns</p>\n",
       "</div>"
      ],
      "text/plain": [
       "                   file_name  label\n",
       "0      Image_train_00001.jpg      0\n",
       "1      Image_train_00002.jpg      1\n",
       "2      Image_train_00003.jpg      0\n",
       "3      Image_train_00004.jpg      0\n",
       "4      Image_train_00005.jpg      0\n",
       "...                      ...    ...\n",
       "18386  Image_train_18387.jpg      1\n",
       "18387  Image_train_18388.jpg      2\n",
       "18388  Image_train_18389.jpg      1\n",
       "18389  Image_train_18390.jpg      1\n",
       "18390  Image_train_18391.jpg      1\n",
       "\n",
       "[18391 rows x 2 columns]"
      ]
     },
     "execution_count": 4,
     "metadata": {},
     "output_type": "execute_result"
    }
   ],
   "source": [
    "# training data\n",
    "train_df = pd.read_csv(\"/kaggle/input/extracting-attributes-from-fashion-images-2/train.csv\")\n",
    "train_df"
   ]
  },
  {
   "cell_type": "code",
   "execution_count": 5,
   "id": "e8342c33",
   "metadata": {
    "execution": {
     "iopub.execute_input": "2023-06-03T17:36:20.711454Z",
     "iopub.status.busy": "2023-06-03T17:36:20.711153Z",
     "iopub.status.idle": "2023-06-03T17:36:20.732353Z",
     "shell.execute_reply": "2023-06-03T17:36:20.731266Z"
    },
    "papermill": {
     "duration": 0.032492,
     "end_time": "2023-06-03T17:36:20.734298",
     "exception": false,
     "start_time": "2023-06-03T17:36:20.701806",
     "status": "completed"
    },
    "tags": []
   },
   "outputs": [
    {
     "data": {
      "text/html": [
       "<div>\n",
       "<style scoped>\n",
       "    .dataframe tbody tr th:only-of-type {\n",
       "        vertical-align: middle;\n",
       "    }\n",
       "\n",
       "    .dataframe tbody tr th {\n",
       "        vertical-align: top;\n",
       "    }\n",
       "\n",
       "    .dataframe thead th {\n",
       "        text-align: right;\n",
       "    }\n",
       "</style>\n",
       "<table border=\"1\" class=\"dataframe\">\n",
       "  <thead>\n",
       "    <tr style=\"text-align: right;\">\n",
       "      <th></th>\n",
       "      <th>file_name</th>\n",
       "      <th>label</th>\n",
       "    </tr>\n",
       "  </thead>\n",
       "  <tbody>\n",
       "    <tr>\n",
       "      <th>0</th>\n",
       "      <td>Image_test_00001.jpg</td>\n",
       "      <td>0</td>\n",
       "    </tr>\n",
       "    <tr>\n",
       "      <th>1</th>\n",
       "      <td>Image_test_00002.jpg</td>\n",
       "      <td>0</td>\n",
       "    </tr>\n",
       "    <tr>\n",
       "      <th>2</th>\n",
       "      <td>Image_test_00003.jpg</td>\n",
       "      <td>0</td>\n",
       "    </tr>\n",
       "    <tr>\n",
       "      <th>3</th>\n",
       "      <td>Image_test_00004.jpg</td>\n",
       "      <td>0</td>\n",
       "    </tr>\n",
       "    <tr>\n",
       "      <th>4</th>\n",
       "      <td>Image_test_00005.jpg</td>\n",
       "      <td>0</td>\n",
       "    </tr>\n",
       "    <tr>\n",
       "      <th>...</th>\n",
       "      <td>...</td>\n",
       "      <td>...</td>\n",
       "    </tr>\n",
       "    <tr>\n",
       "      <th>5746</th>\n",
       "      <td>Image_test_05747.jpg</td>\n",
       "      <td>0</td>\n",
       "    </tr>\n",
       "    <tr>\n",
       "      <th>5747</th>\n",
       "      <td>Image_test_05748.jpg</td>\n",
       "      <td>0</td>\n",
       "    </tr>\n",
       "    <tr>\n",
       "      <th>5748</th>\n",
       "      <td>Image_test_05749.jpg</td>\n",
       "      <td>0</td>\n",
       "    </tr>\n",
       "    <tr>\n",
       "      <th>5749</th>\n",
       "      <td>Image_test_05750.jpg</td>\n",
       "      <td>0</td>\n",
       "    </tr>\n",
       "    <tr>\n",
       "      <th>5750</th>\n",
       "      <td>Image_test_05751.jpg</td>\n",
       "      <td>0</td>\n",
       "    </tr>\n",
       "  </tbody>\n",
       "</table>\n",
       "<p>5751 rows × 2 columns</p>\n",
       "</div>"
      ],
      "text/plain": [
       "                 file_name  label\n",
       "0     Image_test_00001.jpg      0\n",
       "1     Image_test_00002.jpg      0\n",
       "2     Image_test_00003.jpg      0\n",
       "3     Image_test_00004.jpg      0\n",
       "4     Image_test_00005.jpg      0\n",
       "...                    ...    ...\n",
       "5746  Image_test_05747.jpg      0\n",
       "5747  Image_test_05748.jpg      0\n",
       "5748  Image_test_05749.jpg      0\n",
       "5749  Image_test_05750.jpg      0\n",
       "5750  Image_test_05751.jpg      0\n",
       "\n",
       "[5751 rows x 2 columns]"
      ]
     },
     "execution_count": 5,
     "metadata": {},
     "output_type": "execute_result"
    }
   ],
   "source": [
    "# testing data\n",
    "test_df = pd.read_csv(\"/kaggle/input/extracting-attributes-from-fashion-images-2/sample_submission.csv\")\n",
    "test_df"
   ]
  },
  {
   "cell_type": "markdown",
   "id": "66be7755",
   "metadata": {
    "papermill": {
     "duration": 0.008497,
     "end_time": "2023-06-03T17:36:20.752046",
     "exception": false,
     "start_time": "2023-06-03T17:36:20.743549",
     "status": "completed"
    },
    "tags": []
   },
   "source": [
    "## Checking for Imbalance in the dataset"
   ]
  },
  {
   "cell_type": "code",
   "execution_count": 6,
   "id": "2fa4de7b",
   "metadata": {
    "execution": {
     "iopub.execute_input": "2023-06-03T17:36:20.770529Z",
     "iopub.status.busy": "2023-06-03T17:36:20.770255Z",
     "iopub.status.idle": "2023-06-03T17:36:20.782357Z",
     "shell.execute_reply": "2023-06-03T17:36:20.781401Z"
    },
    "papermill": {
     "duration": 0.023707,
     "end_time": "2023-06-03T17:36:20.784353",
     "exception": false,
     "start_time": "2023-06-03T17:36:20.760646",
     "status": "completed"
    },
    "tags": []
   },
   "outputs": [
    {
     "data": {
      "text/plain": [
       "1    5384\n",
       "2    4084\n",
       "3    2008\n",
       "4    1972\n",
       "6    1925\n",
       "5    1616\n",
       "0    1402\n",
       "Name: label, dtype: int64"
      ]
     },
     "execution_count": 6,
     "metadata": {},
     "output_type": "execute_result"
    }
   ],
   "source": [
    "train_df.label.value_counts()"
   ]
  },
  {
   "cell_type": "code",
   "execution_count": 7,
   "id": "cac5e9b4",
   "metadata": {
    "execution": {
     "iopub.execute_input": "2023-06-03T17:36:20.803059Z",
     "iopub.status.busy": "2023-06-03T17:36:20.802812Z",
     "iopub.status.idle": "2023-06-03T17:36:20.809312Z",
     "shell.execute_reply": "2023-06-03T17:36:20.808490Z"
    },
    "papermill": {
     "duration": 0.017969,
     "end_time": "2023-06-03T17:36:20.811184",
     "exception": false,
     "start_time": "2023-06-03T17:36:20.793215",
     "status": "completed"
    },
    "tags": []
   },
   "outputs": [
    {
     "data": {
      "text/plain": [
       "0    5751\n",
       "Name: label, dtype: int64"
      ]
     },
     "execution_count": 7,
     "metadata": {},
     "output_type": "execute_result"
    }
   ],
   "source": [
    "test_df.label.value_counts()"
   ]
  },
  {
   "cell_type": "code",
   "execution_count": 8,
   "id": "00fcbb4f",
   "metadata": {
    "execution": {
     "iopub.execute_input": "2023-06-03T17:36:20.830865Z",
     "iopub.status.busy": "2023-06-03T17:36:20.830172Z",
     "iopub.status.idle": "2023-06-03T17:36:20.837665Z",
     "shell.execute_reply": "2023-06-03T17:36:20.836506Z"
    },
    "papermill": {
     "duration": 0.019371,
     "end_time": "2023-06-03T17:36:20.839737",
     "exception": false,
     "start_time": "2023-06-03T17:36:20.820366",
     "status": "completed"
    },
    "tags": []
   },
   "outputs": [
    {
     "data": {
      "text/plain": [
       "array([0, 1, 2, 3, 5, 4, 6])"
      ]
     },
     "execution_count": 8,
     "metadata": {},
     "output_type": "execute_result"
    }
   ],
   "source": [
    "train_df.label.unique()"
   ]
  },
  {
   "cell_type": "code",
   "execution_count": 9,
   "id": "6a4fa4d4",
   "metadata": {
    "execution": {
     "iopub.execute_input": "2023-06-03T17:36:20.860430Z",
     "iopub.status.busy": "2023-06-03T17:36:20.860186Z",
     "iopub.status.idle": "2023-06-03T17:36:21.730989Z",
     "shell.execute_reply": "2023-06-03T17:36:21.730055Z"
    },
    "papermill": {
     "duration": 0.884209,
     "end_time": "2023-06-03T17:36:21.733336",
     "exception": false,
     "start_time": "2023-06-03T17:36:20.849127",
     "status": "completed"
    },
    "tags": []
   },
   "outputs": [
    {
     "data": {
      "text/plain": [
       "[1.8739555736702669,\n",
       " 0.4879802589683719,\n",
       " 0.6433118791101161,\n",
       " 1.3084092202618098,\n",
       " 1.3322949869603014,\n",
       " 1.6257956152758133,\n",
       " 1.3648237476808904]"
      ]
     },
     "execution_count": 9,
     "metadata": {},
     "output_type": "execute_result"
    }
   ],
   "source": [
    "# Creating class weights for imbalance dataset\n",
    "from sklearn.utils import class_weight\n",
    "class_weights = list(class_weight.compute_class_weight('balanced',\n",
    "                                                 classes=np.unique(train_df.label.to_numpy()),\n",
    "                                                 y=train_df.label.to_numpy()))\n",
    "class_weights"
   ]
  },
  {
   "cell_type": "code",
   "execution_count": 10,
   "id": "a1f3c4ee",
   "metadata": {
    "execution": {
     "iopub.execute_input": "2023-06-03T17:36:21.755082Z",
     "iopub.status.busy": "2023-06-03T17:36:21.753481Z",
     "iopub.status.idle": "2023-06-03T17:36:21.760779Z",
     "shell.execute_reply": "2023-06-03T17:36:21.759806Z"
    },
    "papermill": {
     "duration": 0.020342,
     "end_time": "2023-06-03T17:36:21.763359",
     "exception": false,
     "start_time": "2023-06-03T17:36:21.743017",
     "status": "completed"
    },
    "tags": []
   },
   "outputs": [
    {
     "data": {
      "text/plain": [
       "{0: 1.8739555736702669,\n",
       " 1: 0.4879802589683719,\n",
       " 2: 0.6433118791101161,\n",
       " 3: 1.3084092202618098,\n",
       " 4: 1.3322949869603014,\n",
       " 5: 1.6257956152758133,\n",
       " 6: 1.3648237476808904}"
      ]
     },
     "execution_count": 10,
     "metadata": {},
     "output_type": "execute_result"
    }
   ],
   "source": [
    "weights = {x:y for x,y in enumerate(class_weights)}\n",
    "weights"
   ]
  },
  {
   "cell_type": "markdown",
   "id": "f862f26d",
   "metadata": {
    "papermill": {
     "duration": 0.009207,
     "end_time": "2023-06-03T17:36:21.782036",
     "exception": false,
     "start_time": "2023-06-03T17:36:21.772829",
     "status": "completed"
    },
    "tags": []
   },
   "source": [
    "# Visualization the dataset"
   ]
  },
  {
   "cell_type": "code",
   "execution_count": 11,
   "id": "79358022",
   "metadata": {
    "execution": {
     "iopub.execute_input": "2023-06-03T17:36:21.802261Z",
     "iopub.status.busy": "2023-06-03T17:36:21.801396Z",
     "iopub.status.idle": "2023-06-03T17:36:22.011365Z",
     "shell.execute_reply": "2023-06-03T17:36:22.010459Z"
    },
    "papermill": {
     "duration": 0.224554,
     "end_time": "2023-06-03T17:36:22.015744",
     "exception": false,
     "start_time": "2023-06-03T17:36:21.791190",
     "status": "completed"
    },
    "tags": []
   },
   "outputs": [
    {
     "data": {
      "image/png": "[encoded data removed]",
      "text/plain": [
       "<Figure size 640x480 with 1 Axes>"
      ]
     },
     "metadata": {},
     "output_type": "display_data"
    }
   ],
   "source": [
    "from matplotlib import pyplot as plt\n",
    "\n",
    "train_files = os.listdir(train_path)\n",
    "img = cv.imread(train_path+\"/\"+train_files[1])\n",
    "plt.imshow(img)\n",
    "plt.xticks([])\n",
    "plt.yticks([])\n",
    "plt.show()"
   ]
  },
  {
   "cell_type": "markdown",
   "id": "43a77500",
   "metadata": {
    "papermill": {
     "duration": 0.010077,
     "end_time": "2023-06-03T17:36:22.045320",
     "exception": false,
     "start_time": "2023-06-03T17:36:22.035243",
     "status": "completed"
    },
    "tags": []
   },
   "source": [
    "# Creating Data Pipelines"
   ]
  },
  {
   "cell_type": "code",
   "execution_count": 12,
   "id": "cee08c2f",
   "metadata": {
    "execution": {
     "iopub.execute_input": "2023-06-03T17:36:22.067142Z",
     "iopub.status.busy": "2023-06-03T17:36:22.066820Z",
     "iopub.status.idle": "2023-06-03T17:36:32.128856Z",
     "shell.execute_reply": "2023-06-03T17:36:32.127353Z"
    },
    "papermill": {
     "duration": 10.075608,
     "end_time": "2023-06-03T17:36:32.131218",
     "exception": false,
     "start_time": "2023-06-03T17:36:22.055610",
     "status": "completed"
    },
    "tags": []
   },
   "outputs": [
    {
     "name": "stdout",
     "output_type": "stream",
     "text": [
      "Found 18391 validated image filenames belonging to 7 classes.\n"
     ]
    }
   ],
   "source": [
    "from tensorflow.keras.preprocessing.image import ImageDataGenerator\n",
    "\n",
    "train_df['label'] = train_df['label'].astype(str)\n",
    "\n",
    "datagen = ImageDataGenerator(\n",
    "    rescale=1/255.0,\n",
    "    rotation_range=20,\n",
    "    zoom_range=0.05,\n",
    "    width_shift_range=0.05,\n",
    "    height_shift_range=0.05,\n",
    "    shear_range=0.05,\n",
    "    horizontal_flip=True,\n",
    "    fill_mode = \"nearest\",\n",
    ")\n",
    "\n",
    "train_generator=datagen.flow_from_dataframe(\n",
    "    dataframe=train_df,\n",
    "    directory=\"/kaggle/input/extracting-attributes-from-fashion-images-2/train\",\n",
    "    x_col=\"file_name\",\n",
    "    y_col=\"label\",\n",
    "    subset=\"training\",\n",
    "    batch_size=BATCH_SIZE,\n",
    "    seed=42,\n",
    "    shuffle=True,\n",
    "    class_mode=\"sparse\",\n",
    "    target_size=(INPUT_SHAPE,INPUT_SHAPE))\n"
   ]
  },
  {
   "cell_type": "code",
   "execution_count": 13,
   "id": "49534662",
   "metadata": {
    "execution": {
     "iopub.execute_input": "2023-06-03T17:36:32.154493Z",
     "iopub.status.busy": "2023-06-03T17:36:32.153570Z",
     "iopub.status.idle": "2023-06-03T17:36:34.966088Z",
     "shell.execute_reply": "2023-06-03T17:36:34.965193Z"
    },
    "papermill": {
     "duration": 2.826564,
     "end_time": "2023-06-03T17:36:34.968541",
     "exception": false,
     "start_time": "2023-06-03T17:36:32.141977",
     "status": "completed"
    },
    "tags": []
   },
   "outputs": [
    {
     "name": "stdout",
     "output_type": "stream",
     "text": [
      "Found 5751 validated image filenames belonging to 1 classes.\n"
     ]
    }
   ],
   "source": [
    "test_datagen=ImageDataGenerator(rescale=1./255.)\n",
    "\n",
    "test_df['label'] = test_df['label'].astype(str)\n",
    "\n",
    "test_generator=test_datagen.flow_from_dataframe(\n",
    "dataframe=test_df,\n",
    "directory=\"/kaggle/input/extracting-attributes-from-fashion-images-2/test\",\n",
    "x_col=\"file_name\",\n",
    "y_col=\"label\",\n",
    "batch_size=BATCH_SIZE,\n",
    "seed=42,\n",
    "shuffle=False,\n",
    "class_mode=\"sparse\",\n",
    "target_size=(INPUT_SHAPE,INPUT_SHAPE))\n"
   ]
  },
  {
   "cell_type": "markdown",
   "id": "e64896e8",
   "metadata": {
    "papermill": {
     "duration": 0.010854,
     "end_time": "2023-06-03T17:36:34.990139",
     "exception": false,
     "start_time": "2023-06-03T17:36:34.979285",
     "status": "completed"
    },
    "tags": []
   },
   "source": [
    "# Creating the Deep learning model"
   ]
  },
  {
   "cell_type": "code",
   "execution_count": 14,
   "id": "e37fa9a6",
   "metadata": {
    "execution": {
     "iopub.execute_input": "2023-06-03T17:36:35.012890Z",
     "iopub.status.busy": "2023-06-03T17:36:35.012556Z",
     "iopub.status.idle": "2023-06-03T17:36:39.015135Z",
     "shell.execute_reply": "2023-06-03T17:36:39.014212Z"
    },
    "papermill": {
     "duration": 4.016688,
     "end_time": "2023-06-03T17:36:39.017541",
     "exception": false,
     "start_time": "2023-06-03T17:36:35.000853",
     "status": "completed"
    },
    "tags": []
   },
   "outputs": [
    {
     "name": "stdout",
     "output_type": "stream",
     "text": [
      "Downloading data from https://storage.googleapis.com/tensorflow/keras-applications/vgg16/vgg16_weights_tf_dim_ordering_tf_kernels_notop.h5\n",
      "58889256/58889256 [==============================] - 0s 0us/step\n"
     ]
    }
   ],
   "source": [
    "from tensorflow.keras.models import Sequential\n",
    "from tensorflow.keras.layers import *\n",
    "from tensorflow import keras\n",
    "import tensorflow as tf\n",
    "from keras.applications import VGG16\n",
    "from tensorflow.python.keras import regularizers\n",
    "\n",
    "# Pre Trained Models \n",
    "\n",
    "conv_base = VGG16(weights=\"imagenet\",\n",
    "                 include_top=False,\n",
    "                 input_shape=(INPUT_SHAPE,INPUT_SHAPE,3)) # 244\n",
    "\n",
    "\n",
    "# conv_base = tf.keras.applications.mobilenet.MobileNet( include_top=False,\n",
    "#                                                            input_shape=(INPUT_SHAPE, INPUT_SHAPE,3),\n",
    "#                                                            weights='imagenet')    \n",
    "\n",
    "model = Sequential()\n",
    "\n",
    "model.add(conv_base)\n",
    "conv_base.trainable = False\n",
    "\n",
    "model.add(Flatten())\n",
    "\n",
    "model.add(Dense(256, activation='relu',kernel_regularizer=regularizers.l2(0.01)))\n",
    "model.add(BatchNormalization())\n",
    "\n",
    "\n",
    "model.add(Dense(7, activation='softmax'))\n",
    "\n",
    "model.compile(optimizer=keras.optimizers.Adam(lr=0.00001),loss=\"sparse_categorical_crossentropy\",metrics=[\"accuracy\"])"
   ]
  },
  {
   "cell_type": "code",
   "execution_count": 15,
   "id": "d9532f05",
   "metadata": {
    "execution": {
     "iopub.execute_input": "2023-06-03T17:36:39.041641Z",
     "iopub.status.busy": "2023-06-03T17:36:39.041341Z",
     "iopub.status.idle": "2023-06-03T17:36:39.081446Z",
     "shell.execute_reply": "2023-06-03T17:36:39.080740Z"
    },
    "papermill": {
     "duration": 0.086401,
     "end_time": "2023-06-03T17:36:39.115663",
     "exception": false,
     "start_time": "2023-06-03T17:36:39.029262",
     "status": "completed"
    },
    "tags": []
   },
   "outputs": [
    {
     "name": "stdout",
     "output_type": "stream",
     "text": [
      "Model: \"vgg16\"\n",
      "_________________________________________________________________\n",
      " Layer (type)                Output Shape              Param #   \n",
      "=================================================================\n",
      " input_1 (InputLayer)        [(None, 244, 244, 3)]     0         \n",
      "                                                                 \n",
      " block1_conv1 (Conv2D)       (None, 244, 244, 64)      1792      \n",
      "                                                                 \n",
      " block1_conv2 (Conv2D)       (None, 244, 244, 64)      36928     \n",
      "                                                                 \n",
      " block1_pool (MaxPooling2D)  (None, 122, 122, 64)      0         \n",
      "                                                                 \n",
      " block2_conv1 (Conv2D)       (None, 122, 122, 128)     73856     \n",
      "                                                                 \n",
      " block2_conv2 (Conv2D)       (None, 122, 122, 128)     147584    \n",
      "                                                                 \n",
      " block2_pool (MaxPooling2D)  (None, 61, 61, 128)       0         \n",
      "                                                                 \n",
      " block3_conv1 (Conv2D)       (None, 61, 61, 256)       295168    \n",
      "                                                                 \n",
      " block3_conv2 (Conv2D)       (None, 61, 61, 256)       590080    \n",
      "                                                                 \n",
      " block3_conv3 (Conv2D)       (None, 61, 61, 256)       590080    \n",
      "                                                                 \n",
      " block3_pool (MaxPooling2D)  (None, 30, 30, 256)       0         \n",
      "                                                                 \n",
      " block4_conv1 (Conv2D)       (None, 30, 30, 512)       1180160   \n",
      "                                                                 \n",
      " block4_conv2 (Conv2D)       (None, 30, 30, 512)       2359808   \n",
      "                                                                 \n",
      " block4_conv3 (Conv2D)       (None, 30, 30, 512)       2359808   \n",
      "                                                                 \n",
      " block4_pool (MaxPooling2D)  (None, 15, 15, 512)       0         \n",
      "                                                                 \n",
      " block5_conv1 (Conv2D)       (None, 15, 15, 512)       2359808   \n",
      "                                                                 \n",
      " block5_conv2 (Conv2D)       (None, 15, 15, 512)       2359808   \n",
      "                                                                 \n",
      " block5_conv3 (Conv2D)       (None, 15, 15, 512)       2359808   \n",
      "                                                                 \n",
      " block5_pool (MaxPooling2D)  (None, 7, 7, 512)         0         \n",
      "                                                                 \n",
      "=================================================================\n",
      "Total params: 14,714,688\n",
      "Trainable params: 0\n",
      "Non-trainable params: 14,714,688\n",
      "_________________________________________________________________\n"
     ]
    }
   ],
   "source": [
    "conv_base.summary()"
   ]
  },
  {
   "cell_type": "code",
   "execution_count": 16,
   "id": "a565e1ae",
   "metadata": {
    "execution": {
     "iopub.execute_input": "2023-06-03T17:36:39.146661Z",
     "iopub.status.busy": "2023-06-03T17:36:39.146378Z",
     "iopub.status.idle": "2023-06-03T17:36:39.168672Z",
     "shell.execute_reply": "2023-06-03T17:36:39.167860Z"
    },
    "papermill": {
     "duration": 0.049155,
     "end_time": "2023-06-03T17:36:39.180185",
     "exception": false,
     "start_time": "2023-06-03T17:36:39.131030",
     "status": "completed"
    },
    "tags": []
   },
   "outputs": [
    {
     "name": "stdout",
     "output_type": "stream",
     "text": [
      "Model: \"sequential\"\n",
      "_________________________________________________________________\n",
      " Layer (type)                Output Shape              Param #   \n",
      "=================================================================\n",
      " vgg16 (Functional)          (None, 7, 7, 512)         14714688  \n",
      "                                                                 \n",
      " flatten (Flatten)           (None, 25088)             0         \n",
      "                                                                 \n",
      " dense (Dense)               (None, 256)               6422784   \n",
      "                                                                 \n",
      " batch_normalization (BatchN  (None, 256)              1024      \n",
      " ormalization)                                                   \n",
      "                                                                 \n",
      " dense_1 (Dense)             (None, 7)                 1799      \n",
      "                                                                 \n",
      "=================================================================\n",
      "Total params: 21,140,295\n",
      "Trainable params: 6,425,095\n",
      "Non-trainable params: 14,715,200\n",
      "_________________________________________________________________\n"
     ]
    }
   ],
   "source": [
    "model.summary()"
   ]
  },
  {
   "cell_type": "markdown",
   "id": "8559c25e",
   "metadata": {
    "papermill": {
     "duration": 0.015939,
     "end_time": "2023-06-03T17:36:39.212206",
     "exception": false,
     "start_time": "2023-06-03T17:36:39.196267",
     "status": "completed"
    },
    "tags": []
   },
   "source": [
    "# Training"
   ]
  },
  {
   "cell_type": "code",
   "execution_count": 17,
   "id": "8fa968c1",
   "metadata": {
    "execution": {
     "iopub.execute_input": "2023-06-03T17:36:39.245723Z",
     "iopub.status.busy": "2023-06-03T17:36:39.245153Z",
     "iopub.status.idle": "2023-06-03T17:36:40.248111Z",
     "shell.execute_reply": "2023-06-03T17:36:40.246772Z"
    },
    "papermill": {
     "duration": 1.022252,
     "end_time": "2023-06-03T17:36:40.250574",
     "exception": false,
     "start_time": "2023-06-03T17:36:39.228322",
     "status": "completed"
    },
    "tags": []
   },
   "outputs": [],
   "source": [
    "# Setting up model callbacks\n",
    "! mkdir /kaggle/working/model/\n",
    "\n",
    "checkpoint=tf.keras.callbacks.ModelCheckpoint(filepath=\"/kaggle/working/model/CNN.h5\", \n",
    "                                              monitor='val_accuracy', \n",
    "                                              verbose=0, \n",
    "                                              save_best_only=True,\n",
    "                                              save_weights_only=False, \n",
    "                                              mode='auto', \n",
    "                                              save_freq='epoch', \n",
    "                                              options=None)"
   ]
  },
  {
   "cell_type": "code",
   "execution_count": 18,
   "id": "14e71f70",
   "metadata": {
    "execution": {
     "iopub.execute_input": "2023-06-03T17:36:40.284839Z",
     "iopub.status.busy": "2023-06-03T17:36:40.284498Z",
     "iopub.status.idle": "2023-06-03T19:40:27.649230Z",
     "shell.execute_reply": "2023-06-03T19:40:27.648202Z"
    },
    "papermill": {
     "duration": 7427.668079,
     "end_time": "2023-06-03T19:40:27.935016",
     "exception": false,
     "start_time": "2023-06-03T17:36:40.266937",
     "status": "completed"
    },
    "tags": []
   },
   "outputs": [
    {
     "name": "stdout",
     "output_type": "stream",
     "text": [
      "Epoch 1/20\n",
      "287/287 [==============================] - 427s 1s/step - loss: 2.3422 - accuracy: 0.5029 - val_loss: 5.3612 - val_accuracy: 0.0232\n",
      "Epoch 2/20\n",
      "287/287 [==============================] - 341s 1s/step - loss: 1.5326 - accuracy: 0.5402 - val_loss: 5.2192 - val_accuracy: 0.0233\n",
      "Epoch 3/20\n",
      "287/287 [==============================] - 342s 1s/step - loss: 1.4653 - accuracy: 0.5361 - val_loss: 3.0889 - val_accuracy: 0.1900\n",
      "Epoch 4/20\n",
      "287/287 [==============================] - 351s 1s/step - loss: 1.4334 - accuracy: 0.5446 - val_loss: 7.7241 - val_accuracy: 5.2669e-04\n",
      "Epoch 5/20\n",
      "287/287 [==============================] - 341s 1s/step - loss: 1.4215 - accuracy: 0.5407 - val_loss: 3.9512 - val_accuracy: 0.1259\n",
      "Epoch 6/20\n",
      "287/287 [==============================] - 357s 1s/step - loss: 1.4157 - accuracy: 0.5392 - val_loss: 1.0113 - val_accuracy: 0.6803\n",
      "Epoch 7/20\n",
      "287/287 [==============================] - 347s 1s/step - loss: 1.3872 - accuracy: 0.5459 - val_loss: 12.1099 - val_accuracy: 0.0000e+00\n",
      "Epoch 8/20\n",
      "287/287 [==============================] - 351s 1s/step - loss: 1.3590 - accuracy: 0.5518 - val_loss: 7.3739 - val_accuracy: 0.0111\n",
      "Epoch 9/20\n",
      "287/287 [==============================] - 353s 1s/step - loss: 1.3431 - accuracy: 0.5579 - val_loss: 4.2845 - val_accuracy: 0.1271\n",
      "Epoch 10/20\n",
      "287/287 [==============================] - 340s 1s/step - loss: 1.3202 - accuracy: 0.5674 - val_loss: 8.6133 - val_accuracy: 0.0011\n",
      "Epoch 11/20\n",
      "287/287 [==============================] - 352s 1s/step - loss: 1.3169 - accuracy: 0.5652 - val_loss: 2.8621 - val_accuracy: 0.1369\n",
      "Epoch 12/20\n",
      "287/287 [==============================] - 341s 1s/step - loss: 1.2959 - accuracy: 0.5673 - val_loss: 3.3931 - val_accuracy: 0.2056\n",
      "Epoch 13/20\n",
      "287/287 [==============================] - 341s 1s/step - loss: 1.3057 - accuracy: 0.5654 - val_loss: 6.7753 - val_accuracy: 0.0112\n",
      "Epoch 14/20\n",
      "287/287 [==============================] - 351s 1s/step - loss: 1.2756 - accuracy: 0.5771 - val_loss: 1.0654 - val_accuracy: 0.7075\n",
      "Epoch 15/20\n",
      "287/287 [==============================] - 341s 1s/step - loss: 1.2589 - accuracy: 0.5831 - val_loss: 5.4335 - val_accuracy: 0.0623\n",
      "Epoch 16/20\n",
      "287/287 [==============================] - 343s 1s/step - loss: 1.2396 - accuracy: 0.5841 - val_loss: 4.5329 - val_accuracy: 0.0300\n",
      "Epoch 17/20\n",
      "287/287 [==============================] - 351s 1s/step - loss: 1.2487 - accuracy: 0.5817 - val_loss: 8.1596 - val_accuracy: 0.0061\n",
      "Epoch 18/20\n",
      "287/287 [==============================] - 347s 1s/step - loss: 1.2342 - accuracy: 0.5825 - val_loss: 7.6845 - val_accuracy: 0.0241\n",
      "Epoch 19/20\n",
      "287/287 [==============================] - 355s 1s/step - loss: 1.2400 - accuracy: 0.5856 - val_loss: 5.2941 - val_accuracy: 0.0718\n",
      "Epoch 20/20\n",
      "287/287 [==============================] - 345s 1s/step - loss: 1.2215 - accuracy: 0.5934 - val_loss: 3.6918 - val_accuracy: 0.0857\n"
     ]
    },
    {
     "data": {
      "image/png": "[encoded data removed]",
      "text/plain": [
       "<Figure size 640x480 with 1 Axes>"
      ]
     },
     "metadata": {},
     "output_type": "display_data"
    },
    {
     "data": {
      "image/png": "[encoded data removed]",
      "text/plain": [
       "<Figure size 640x480 with 1 Axes>"
      ]
     },
     "metadata": {},
     "output_type": "display_data"
    }
   ],
   "source": [
    "# Training the model\n",
    "\n",
    "STEP_SIZE_TRAIN=train_generator.n//train_generator.batch_size\n",
    "STEP_SIZE_TEST=test_generator.n//test_generator.batch_size\n",
    "\n",
    "history = model.fit(train_generator,\n",
    "                    steps_per_epoch=STEP_SIZE_TRAIN,\n",
    "                    validation_data=test_generator,\n",
    "                    validation_steps=STEP_SIZE_TEST,\n",
    "                    epochs=EPOCHS,\n",
    "                    callbacks=[checkpoint])\n",
    "#                     class_weight=weights)\n",
    "\n",
    "\n",
    "# summarize history for accuracy\n",
    "plt.plot(history.history['accuracy'])\n",
    "plt.plot(history.history['val_accuracy'])\n",
    "plt.title('model accuracy')\n",
    "plt.ylabel('accuracy')\n",
    "plt.xlabel('epoch')\n",
    "plt.legend(['train', 'test'], loc='upper left')\n",
    "plt.grid()\n",
    "plt.show()\n",
    "\n",
    "\n",
    "# summarize history for loss\n",
    "plt.plot(history.history['loss'])\n",
    "plt.plot(history.history['val_loss'])\n",
    "plt.title('model loss')\n",
    "plt.ylabel('loss')\n",
    "plt.xlabel('epoch')\n",
    "plt.legend(['train', 'test'], loc='upper left')\n",
    "plt.grid()\n",
    "plt.show()"
   ]
  },
  {
   "cell_type": "markdown",
   "id": "26997a07",
   "metadata": {
    "papermill": {
     "duration": 0.465769,
     "end_time": "2023-06-03T19:40:28.864367",
     "exception": false,
     "start_time": "2023-06-03T19:40:28.398598",
     "status": "completed"
    },
    "tags": []
   },
   "source": [
    "# Testing"
   ]
  },
  {
   "cell_type": "code",
   "execution_count": 19,
   "id": "38985f9b",
   "metadata": {
    "execution": {
     "iopub.execute_input": "2023-06-03T19:40:30.328354Z",
     "iopub.status.busy": "2023-06-03T19:40:30.327900Z",
     "iopub.status.idle": "2023-06-03T19:40:31.023909Z",
     "shell.execute_reply": "2023-06-03T19:40:31.022775Z"
    },
    "papermill": {
     "duration": 1.471318,
     "end_time": "2023-06-03T19:40:31.026509",
     "exception": false,
     "start_time": "2023-06-03T19:40:29.555191",
     "status": "completed"
    },
    "tags": []
   },
   "outputs": [],
   "source": [
    "# importing the best model\n",
    "\n",
    "model = tf.keras.models.load_model(\"/kaggle/working/model/CNN.h5\")"
   ]
  },
  {
   "cell_type": "code",
   "execution_count": 20,
   "id": "87ca0e75",
   "metadata": {
    "execution": {
     "iopub.execute_input": "2023-06-03T19:40:32.029065Z",
     "iopub.status.busy": "2023-06-03T19:40:32.028651Z",
     "iopub.status.idle": "2023-06-03T19:41:00.208553Z",
     "shell.execute_reply": "2023-06-03T19:41:00.207597Z"
    },
    "papermill": {
     "duration": 28.71098,
     "end_time": "2023-06-03T19:41:00.210753",
     "exception": false,
     "start_time": "2023-06-03T19:40:31.499773",
     "status": "completed"
    },
    "tags": []
   },
   "outputs": [
    {
     "name": "stdout",
     "output_type": "stream",
     "text": [
      "89/89 [==============================] - 28s 308ms/step - loss: 1.0654 - accuracy: 0.7075\n"
     ]
    },
    {
     "data": {
      "text/plain": [
       "[1.0653965473175049, 0.7075140476226807]"
      ]
     },
     "execution_count": 20,
     "metadata": {},
     "output_type": "execute_result"
    }
   ],
   "source": [
    "# Test accuracy\n",
    "test_generator.reset()\n",
    "model.evaluate(test_generator,\n",
    "steps=STEP_SIZE_TEST)"
   ]
  },
  {
   "cell_type": "code",
   "execution_count": 21,
   "id": "00e5a4f5",
   "metadata": {
    "execution": {
     "iopub.execute_input": "2023-06-03T19:41:01.352579Z",
     "iopub.status.busy": "2023-06-03T19:41:01.352056Z",
     "iopub.status.idle": "2023-06-03T19:41:33.620034Z",
     "shell.execute_reply": "2023-06-03T19:41:33.619066Z"
    },
    "papermill": {
     "duration": 33.384495,
     "end_time": "2023-06-03T19:41:34.066554",
     "exception": false,
     "start_time": "2023-06-03T19:41:00.682059",
     "status": "completed"
    },
    "tags": []
   },
   "outputs": [
    {
     "name": "stdout",
     "output_type": "stream",
     "text": [
      "90/90 [==============================] - 32s 349ms/step\n"
     ]
    }
   ],
   "source": [
    "test_generator.reset()\n",
    "pred=model.predict(test_generator)"
   ]
  },
  {
   "cell_type": "code",
   "execution_count": 22,
   "id": "96c5fda2",
   "metadata": {
    "execution": {
     "iopub.execute_input": "2023-06-03T19:41:35.029999Z",
     "iopub.status.busy": "2023-06-03T19:41:35.029643Z",
     "iopub.status.idle": "2023-06-03T19:41:35.126255Z",
     "shell.execute_reply": "2023-06-03T19:41:35.125276Z"
    },
    "papermill": {
     "duration": 0.585943,
     "end_time": "2023-06-03T19:41:35.128584",
     "exception": false,
     "start_time": "2023-06-03T19:41:34.542641",
     "status": "completed"
    },
    "tags": []
   },
   "outputs": [
    {
     "name": "stdout",
     "output_type": "stream",
     "text": [
      "[[4072  845    7  111  326  390]\n",
      " [   0    0    0    0    0    0]\n",
      " [   0    0    0    0    0    0]\n",
      " [   0    0    0    0    0    0]\n",
      " [   0    0    0    0    0    0]\n",
      " [   0    0    0    0    0    0]]\n"
     ]
    }
   ],
   "source": [
    "from sklearn.metrics import confusion_matrix\n",
    "y_pred=np.argmax(pred,axis=1)\n",
    "\n",
    "test_df['label'] = test_df['label'].astype(int)\n",
    "\n",
    "cm=confusion_matrix(test_df.label, y_pred)\n",
    "print(cm)"
   ]
  },
  {
   "cell_type": "markdown",
   "id": "603f22b1",
   "metadata": {
    "papermill": {
     "duration": 0.554448,
     "end_time": "2023-06-03T19:41:36.224794",
     "exception": false,
     "start_time": "2023-06-03T19:41:35.670346",
     "status": "completed"
    },
    "tags": []
   },
   "source": [
    "# Creating submission.csv"
   ]
  },
  {
   "cell_type": "code",
   "execution_count": 23,
   "id": "08ef6d06",
   "metadata": {
    "execution": {
     "iopub.execute_input": "2023-06-03T19:41:37.183415Z",
     "iopub.status.busy": "2023-06-03T19:41:37.183020Z",
     "iopub.status.idle": "2023-06-03T19:41:37.208269Z",
     "shell.execute_reply": "2023-06-03T19:41:37.207348Z"
    },
    "papermill": {
     "duration": 0.507975,
     "end_time": "2023-06-03T19:41:37.210551",
     "exception": false,
     "start_time": "2023-06-03T19:41:36.702576",
     "status": "completed"
    },
    "tags": []
   },
   "outputs": [],
   "source": [
    "filenames=test_generator.filenames\n",
    "\n",
    "results=pd.DataFrame({\"file_name\":filenames,\n",
    "                      \"label\":y_pred})\n",
    "results.to_csv(\"submission.csv\",index=False)"
   ]
  },
  {
   "cell_type": "markdown",
   "id": "2c4ab149",
   "metadata": {
    "papermill": {
     "duration": 0.473431,
     "end_time": "2023-06-03T19:41:38.154977",
     "exception": false,
     "start_time": "2023-06-03T19:41:37.681546",
     "status": "completed"
    },
    "tags": []
   },
   "source": [
    "# Reasons for low testing accuracy \n",
    "**Problem**: Although the training and testing data belong to the same dataset, the split in the dataset is very different, training data has about 1402 belonging to class 0 and the testing data has all the data belonging to class 0. Inorder to make a model that generalizes well on the dataset we need at least a minimum of 5000 samples per class.So creating a good model with just 1402 images is a difficult task.\n",
    "\n",
    "**Solution 1**: Adding more data in the dataset would lead to better learning of the model and would remove any bias in the dataset. But this is not possible in our case.\n",
    "\n",
    "**Solution 2**: If adding data is not an option then using a pre-trained model could lead to better generalization. This is because pre trained models are trained for good feature extraction. This should work for our use case but from what I have learned while training the model, Due to the low amount of class 0 data in the dataset the pretrained model is also not able to learn well even though it generalizes well.\n",
    "\n"
   ]
  }
 ],
 "metadata": {
  "kernelspec": {
   "display_name": "Python 3",
   "language": "python",
   "name": "python3"
  },
  "language_info": {
   "codemirror_mode": {
    "name": "ipython",
    "version": 3
   },
   "file_extension": ".py",
   "mimetype": "text/x-python",
   "name": "python",
   "nbconvert_exporter": "python",
   "pygments_lexer": "ipython3",
   "version": "3.10.10"
  },
  "papermill": {
   "default_parameters": {},
   "duration": 7549.779151,
   "end_time": "2023-06-03T19:41:42.061746",
   "environment_variables": {},
   "exception": null,
   "input_path": "__notebook__.ipynb",
   "output_path": "__notebook__.ipynb",
   "parameters": {},
   "start_time": "2023-06-03T17:35:52.282595",
   "version": "2.4.0"
  }
 },
 "nbformat": 4,
 "nbformat_minor": 5
}
