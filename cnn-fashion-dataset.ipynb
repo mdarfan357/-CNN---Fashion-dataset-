{
 "cells": [
  {
   "cell_type": "code",
   "execution_count": 1,
   "id": "422d6a5b",
   "metadata": {
    "_cell_guid": "b1076dfc-b9ad-4769-8c92-a6c4dae69d19",
    "_uuid": "8f2839f25d086af736a60e9eeb907d3b93b6e0e5",
    "execution": {
     "iopub.execute_input": "2023-06-05T07:21:24.995288Z",
     "iopub.status.busy": "2023-06-05T07:21:24.994269Z",
     "iopub.status.idle": "2023-06-05T07:21:32.050182Z",
     "shell.execute_reply": "2023-06-05T07:21:32.049178Z"
    },
    "papermill": {
     "duration": 7.069128,
     "end_time": "2023-06-05T07:21:32.052549",
     "exception": false,
     "start_time": "2023-06-05T07:21:24.983421",
     "status": "completed"
    },
    "tags": []
   },
   "outputs": [],
   "source": [
    "# This Python 3 environment comes with many helpful analytics libraries installed\n",
    "# It is defined by the kaggle/python Docker image: https://github.com/kaggle/docker-python\n",
    "# For example, here's several helpful packages to load\n",
    "\n",
    "import numpy as np # linear algebra\n",
    "import pandas as pd # data processing, CSV file I/O (e.g. pd.read_csv)\n",
    "\n",
    "# Input data files are available in the read-only \"../input/\" directory\n",
    "# For example, running this (by clicking run or pressing Shift+Enter) will list all files under the input directory\n",
    "\n",
    "import os\n",
    "for dirname, _, filenames in os.walk('/kaggle/input'):\n",
    "    for filename in filenames:\n",
    "        os.path.join(dirname, filename)\n"
   ]
  },
  {
   "cell_type": "markdown",
   "id": "fed28109",
   "metadata": {
    "papermill": {
     "duration": 0.008543,
     "end_time": "2023-06-05T07:21:32.070131",
     "exception": false,
     "start_time": "2023-06-05T07:21:32.061588",
     "status": "completed"
    },
    "tags": []
   },
   "source": [
    "# Importing Required Modules "
   ]
  },
  {
   "cell_type": "code",
   "execution_count": 2,
   "id": "2e554d08",
   "metadata": {
    "execution": {
     "iopub.execute_input": "2023-06-05T07:21:32.088815Z",
     "iopub.status.busy": "2023-06-05T07:21:32.088477Z",
     "iopub.status.idle": "2023-06-05T07:21:40.123556Z",
     "shell.execute_reply": "2023-06-05T07:21:40.122567Z"
    },
    "papermill": {
     "duration": 8.04737,
     "end_time": "2023-06-05T07:21:40.126030",
     "exception": false,
     "start_time": "2023-06-05T07:21:32.078660",
     "status": "completed"
    },
    "tags": []
   },
   "outputs": [
    {
     "name": "stderr",
     "output_type": "stream",
     "text": [
      "/opt/conda/lib/python3.10/site-packages/tensorflow_io/python/ops/__init__.py:98: UserWarning: unable to load libtensorflow_io_plugins.so: unable to open file: libtensorflow_io_plugins.so, from paths: ['/opt/conda/lib/python3.10/site-packages/tensorflow_io/python/ops/libtensorflow_io_plugins.so']\n",
      "caused by: ['/opt/conda/lib/python3.10/site-packages/tensorflow_io/python/ops/libtensorflow_io_plugins.so: undefined symbol: _ZN3tsl6StatusC1EN10tensorflow5error4CodeESt17basic_string_viewIcSt11char_traitsIcEENS_14SourceLocationE']\n",
      "  warnings.warn(f\"unable to load libtensorflow_io_plugins.so: {e}\")\n",
      "/opt/conda/lib/python3.10/site-packages/tensorflow_io/python/ops/__init__.py:104: UserWarning: file system plugins are not loaded: unable to open file: libtensorflow_io.so, from paths: ['/opt/conda/lib/python3.10/site-packages/tensorflow_io/python/ops/libtensorflow_io.so']\n",
      "caused by: ['/opt/conda/lib/python3.10/site-packages/tensorflow_io/python/ops/libtensorflow_io.so: undefined symbol: _ZTVN10tensorflow13GcsFileSystemE']\n",
      "  warnings.warn(f\"file system plugins are not loaded: {e}\")\n"
     ]
    }
   ],
   "source": [
    "import pandas as pd\n",
    "import cv2 as cv\n",
    "from tensorflow.keras.models import Sequential\n",
    "from tensorflow.keras.layers import *\n",
    "import os"
   ]
  },
  {
   "cell_type": "markdown",
   "id": "fd3ee87b",
   "metadata": {
    "papermill": {
     "duration": 0.008325,
     "end_time": "2023-06-05T07:21:40.143288",
     "exception": false,
     "start_time": "2023-06-05T07:21:40.134963",
     "status": "completed"
    },
    "tags": []
   },
   "source": [
    "# Model Hyper parameters"
   ]
  },
  {
   "cell_type": "code",
   "execution_count": 3,
   "id": "6967f0a2",
   "metadata": {
    "execution": {
     "iopub.execute_input": "2023-06-05T07:21:40.162655Z",
     "iopub.status.busy": "2023-06-05T07:21:40.161414Z",
     "iopub.status.idle": "2023-06-05T07:21:40.166521Z",
     "shell.execute_reply": "2023-06-05T07:21:40.165666Z"
    },
    "papermill": {
     "duration": 0.016745,
     "end_time": "2023-06-05T07:21:40.168602",
     "exception": false,
     "start_time": "2023-06-05T07:21:40.151857",
     "status": "completed"
    },
    "tags": []
   },
   "outputs": [],
   "source": [
    "train_path = \"/kaggle/input/extracting-attributes-from-fashion-images-2/train\"\n",
    "BATCH_SIZE = 64\n",
    "EPOCHS = 5\n",
    "INPUT_SHAPE = 224\n",
    "LR = 0.00000001"
   ]
  },
  {
   "cell_type": "markdown",
   "id": "9a796bd4",
   "metadata": {
    "papermill": {
     "duration": 0.008284,
     "end_time": "2023-06-05T07:21:40.185372",
     "exception": false,
     "start_time": "2023-06-05T07:21:40.177088",
     "status": "completed"
    },
    "tags": []
   },
   "source": [
    "# Data Importing"
   ]
  },
  {
   "cell_type": "code",
   "execution_count": 4,
   "id": "4e89ec8a",
   "metadata": {
    "execution": {
     "iopub.execute_input": "2023-06-05T07:21:40.204257Z",
     "iopub.status.busy": "2023-06-05T07:21:40.203467Z",
     "iopub.status.idle": "2023-06-05T07:21:40.244968Z",
     "shell.execute_reply": "2023-06-05T07:21:40.243965Z"
    },
    "papermill": {
     "duration": 0.052951,
     "end_time": "2023-06-05T07:21:40.247097",
     "exception": false,
     "start_time": "2023-06-05T07:21:40.194146",
     "status": "completed"
    },
    "tags": []
   },
   "outputs": [
    {
     "data": {
      "text/html": [
       "<div>\n",
       "<style scoped>\n",
       "    .dataframe tbody tr th:only-of-type {\n",
       "        vertical-align: middle;\n",
       "    }\n",
       "\n",
       "    .dataframe tbody tr th {\n",
       "        vertical-align: top;\n",
       "    }\n",
       "\n",
       "    .dataframe thead th {\n",
       "        text-align: right;\n",
       "    }\n",
       "</style>\n",
       "<table border=\"1\" class=\"dataframe\">\n",
       "  <thead>\n",
       "    <tr style=\"text-align: right;\">\n",
       "      <th></th>\n",
       "      <th>file_name</th>\n",
       "      <th>label</th>\n",
       "    </tr>\n",
       "  </thead>\n",
       "  <tbody>\n",
       "    <tr>\n",
       "      <th>0</th>\n",
       "      <td>Image_train_00001.jpg</td>\n",
       "      <td>0</td>\n",
       "    </tr>\n",
       "    <tr>\n",
       "      <th>1</th>\n",
       "      <td>Image_train_00002.jpg</td>\n",
       "      <td>1</td>\n",
       "    </tr>\n",
       "    <tr>\n",
       "      <th>2</th>\n",
       "      <td>Image_train_00003.jpg</td>\n",
       "      <td>0</td>\n",
       "    </tr>\n",
       "    <tr>\n",
       "      <th>3</th>\n",
       "      <td>Image_train_00004.jpg</td>\n",
       "      <td>0</td>\n",
       "    </tr>\n",
       "    <tr>\n",
       "      <th>4</th>\n",
       "      <td>Image_train_00005.jpg</td>\n",
       "      <td>0</td>\n",
       "    </tr>\n",
       "    <tr>\n",
       "      <th>...</th>\n",
       "      <td>...</td>\n",
       "      <td>...</td>\n",
       "    </tr>\n",
       "    <tr>\n",
       "      <th>18386</th>\n",
       "      <td>Image_train_18387.jpg</td>\n",
       "      <td>1</td>\n",
       "    </tr>\n",
       "    <tr>\n",
       "      <th>18387</th>\n",
       "      <td>Image_train_18388.jpg</td>\n",
       "      <td>2</td>\n",
       "    </tr>\n",
       "    <tr>\n",
       "      <th>18388</th>\n",
       "      <td>Image_train_18389.jpg</td>\n",
       "      <td>1</td>\n",
       "    </tr>\n",
       "    <tr>\n",
       "      <th>18389</th>\n",
       "      <td>Image_train_18390.jpg</td>\n",
       "      <td>1</td>\n",
       "    </tr>\n",
       "    <tr>\n",
       "      <th>18390</th>\n",
       "      <td>Image_train_18391.jpg</td>\n",
       "      <td>1</td>\n",
       "    </tr>\n",
       "  </tbody>\n",
       "</table>\n",
       "<p>18391 rows × 2 columns</p>\n",
       "</div>"
      ],
      "text/plain": [
       "                   file_name  label\n",
       "0      Image_train_00001.jpg      0\n",
       "1      Image_train_00002.jpg      1\n",
       "2      Image_train_00003.jpg      0\n",
       "3      Image_train_00004.jpg      0\n",
       "4      Image_train_00005.jpg      0\n",
       "...                      ...    ...\n",
       "18386  Image_train_18387.jpg      1\n",
       "18387  Image_train_18388.jpg      2\n",
       "18388  Image_train_18389.jpg      1\n",
       "18389  Image_train_18390.jpg      1\n",
       "18390  Image_train_18391.jpg      1\n",
       "\n",
       "[18391 rows x 2 columns]"
      ]
     },
     "execution_count": 4,
     "metadata": {},
     "output_type": "execute_result"
    }
   ],
   "source": [
    "# training data\n",
    "train_df = pd.read_csv(\"/kaggle/input/extracting-attributes-from-fashion-images-2/train.csv\")\n",
    "train_df"
   ]
  },
  {
   "cell_type": "code",
   "execution_count": 5,
   "id": "ac9a1f65",
   "metadata": {
    "execution": {
     "iopub.execute_input": "2023-06-05T07:21:40.266608Z",
     "iopub.status.busy": "2023-06-05T07:21:40.265854Z",
     "iopub.status.idle": "2023-06-05T07:21:40.285556Z",
     "shell.execute_reply": "2023-06-05T07:21:40.284517Z"
    },
    "papermill": {
     "duration": 0.031851,
     "end_time": "2023-06-05T07:21:40.288033",
     "exception": false,
     "start_time": "2023-06-05T07:21:40.256182",
     "status": "completed"
    },
    "tags": []
   },
   "outputs": [
    {
     "data": {
      "text/html": [
       "<div>\n",
       "<style scoped>\n",
       "    .dataframe tbody tr th:only-of-type {\n",
       "        vertical-align: middle;\n",
       "    }\n",
       "\n",
       "    .dataframe tbody tr th {\n",
       "        vertical-align: top;\n",
       "    }\n",
       "\n",
       "    .dataframe thead th {\n",
       "        text-align: right;\n",
       "    }\n",
       "</style>\n",
       "<table border=\"1\" class=\"dataframe\">\n",
       "  <thead>\n",
       "    <tr style=\"text-align: right;\">\n",
       "      <th></th>\n",
       "      <th>file_name</th>\n",
       "      <th>label</th>\n",
       "    </tr>\n",
       "  </thead>\n",
       "  <tbody>\n",
       "    <tr>\n",
       "      <th>0</th>\n",
       "      <td>Image_test_00001.jpg</td>\n",
       "      <td>0</td>\n",
       "    </tr>\n",
       "    <tr>\n",
       "      <th>1</th>\n",
       "      <td>Image_test_00002.jpg</td>\n",
       "      <td>0</td>\n",
       "    </tr>\n",
       "    <tr>\n",
       "      <th>2</th>\n",
       "      <td>Image_test_00003.jpg</td>\n",
       "      <td>0</td>\n",
       "    </tr>\n",
       "    <tr>\n",
       "      <th>3</th>\n",
       "      <td>Image_test_00004.jpg</td>\n",
       "      <td>0</td>\n",
       "    </tr>\n",
       "    <tr>\n",
       "      <th>4</th>\n",
       "      <td>Image_test_00005.jpg</td>\n",
       "      <td>0</td>\n",
       "    </tr>\n",
       "    <tr>\n",
       "      <th>...</th>\n",
       "      <td>...</td>\n",
       "      <td>...</td>\n",
       "    </tr>\n",
       "    <tr>\n",
       "      <th>5746</th>\n",
       "      <td>Image_test_05747.jpg</td>\n",
       "      <td>0</td>\n",
       "    </tr>\n",
       "    <tr>\n",
       "      <th>5747</th>\n",
       "      <td>Image_test_05748.jpg</td>\n",
       "      <td>0</td>\n",
       "    </tr>\n",
       "    <tr>\n",
       "      <th>5748</th>\n",
       "      <td>Image_test_05749.jpg</td>\n",
       "      <td>0</td>\n",
       "    </tr>\n",
       "    <tr>\n",
       "      <th>5749</th>\n",
       "      <td>Image_test_05750.jpg</td>\n",
       "      <td>0</td>\n",
       "    </tr>\n",
       "    <tr>\n",
       "      <th>5750</th>\n",
       "      <td>Image_test_05751.jpg</td>\n",
       "      <td>0</td>\n",
       "    </tr>\n",
       "  </tbody>\n",
       "</table>\n",
       "<p>5751 rows × 2 columns</p>\n",
       "</div>"
      ],
      "text/plain": [
       "                 file_name  label\n",
       "0     Image_test_00001.jpg      0\n",
       "1     Image_test_00002.jpg      0\n",
       "2     Image_test_00003.jpg      0\n",
       "3     Image_test_00004.jpg      0\n",
       "4     Image_test_00005.jpg      0\n",
       "...                    ...    ...\n",
       "5746  Image_test_05747.jpg      0\n",
       "5747  Image_test_05748.jpg      0\n",
       "5748  Image_test_05749.jpg      0\n",
       "5749  Image_test_05750.jpg      0\n",
       "5750  Image_test_05751.jpg      0\n",
       "\n",
       "[5751 rows x 2 columns]"
      ]
     },
     "execution_count": 5,
     "metadata": {},
     "output_type": "execute_result"
    }
   ],
   "source": [
    "# testing data\n",
    "test_df = pd.read_csv(\"/kaggle/input/extracting-attributes-from-fashion-images-2/sample_submission.csv\")\n",
    "test_df"
   ]
  },
  {
   "cell_type": "markdown",
   "id": "f749373a",
   "metadata": {
    "papermill": {
     "duration": 0.008958,
     "end_time": "2023-06-05T07:21:40.306270",
     "exception": false,
     "start_time": "2023-06-05T07:21:40.297312",
     "status": "completed"
    },
    "tags": []
   },
   "source": [
    "## Checking for Imbalance in the dataset"
   ]
  },
  {
   "cell_type": "code",
   "execution_count": 6,
   "id": "475c26bc",
   "metadata": {
    "execution": {
     "iopub.execute_input": "2023-06-05T07:21:40.325922Z",
     "iopub.status.busy": "2023-06-05T07:21:40.325308Z",
     "iopub.status.idle": "2023-06-05T07:21:40.337042Z",
     "shell.execute_reply": "2023-06-05T07:21:40.336080Z"
    },
    "papermill": {
     "duration": 0.023735,
     "end_time": "2023-06-05T07:21:40.338965",
     "exception": false,
     "start_time": "2023-06-05T07:21:40.315230",
     "status": "completed"
    },
    "tags": []
   },
   "outputs": [
    {
     "data": {
      "text/plain": [
       "1    5384\n",
       "2    4084\n",
       "3    2008\n",
       "4    1972\n",
       "6    1925\n",
       "5    1616\n",
       "0    1402\n",
       "Name: label, dtype: int64"
      ]
     },
     "execution_count": 6,
     "metadata": {},
     "output_type": "execute_result"
    }
   ],
   "source": [
    "train_df.label.value_counts()"
   ]
  },
  {
   "cell_type": "code",
   "execution_count": 7,
   "id": "d8e45f00",
   "metadata": {
    "execution": {
     "iopub.execute_input": "2023-06-05T07:21:40.359312Z",
     "iopub.status.busy": "2023-06-05T07:21:40.358538Z",
     "iopub.status.idle": "2023-06-05T07:21:40.365862Z",
     "shell.execute_reply": "2023-06-05T07:21:40.364922Z"
    },
    "papermill": {
     "duration": 0.019248,
     "end_time": "2023-06-05T07:21:40.367771",
     "exception": false,
     "start_time": "2023-06-05T07:21:40.348523",
     "status": "completed"
    },
    "tags": []
   },
   "outputs": [
    {
     "data": {
      "text/plain": [
       "0    5751\n",
       "Name: label, dtype: int64"
      ]
     },
     "execution_count": 7,
     "metadata": {},
     "output_type": "execute_result"
    }
   ],
   "source": [
    "test_df.label.value_counts()"
   ]
  },
  {
   "cell_type": "code",
   "execution_count": 8,
   "id": "d9e02f32",
   "metadata": {
    "execution": {
     "iopub.execute_input": "2023-06-05T07:21:40.387818Z",
     "iopub.status.busy": "2023-06-05T07:21:40.387090Z",
     "iopub.status.idle": "2023-06-05T07:21:40.394595Z",
     "shell.execute_reply": "2023-06-05T07:21:40.393667Z"
    },
    "papermill": {
     "duration": 0.019698,
     "end_time": "2023-06-05T07:21:40.396638",
     "exception": false,
     "start_time": "2023-06-05T07:21:40.376940",
     "status": "completed"
    },
    "tags": []
   },
   "outputs": [
    {
     "data": {
      "text/plain": [
       "array([0, 1, 2, 3, 5, 4, 6])"
      ]
     },
     "execution_count": 8,
     "metadata": {},
     "output_type": "execute_result"
    }
   ],
   "source": [
    "train_df.label.unique()"
   ]
  },
  {
   "cell_type": "code",
   "execution_count": 9,
   "id": "9b62ed47",
   "metadata": {
    "execution": {
     "iopub.execute_input": "2023-06-05T07:21:40.417179Z",
     "iopub.status.busy": "2023-06-05T07:21:40.416425Z",
     "iopub.status.idle": "2023-06-05T07:21:41.346562Z",
     "shell.execute_reply": "2023-06-05T07:21:41.345501Z"
    },
    "papermill": {
     "duration": 0.942878,
     "end_time": "2023-06-05T07:21:41.349019",
     "exception": false,
     "start_time": "2023-06-05T07:21:40.406141",
     "status": "completed"
    },
    "tags": []
   },
   "outputs": [
    {
     "data": {
      "text/plain": [
       "[1.8739555736702669,\n",
       " 0.4879802589683719,\n",
       " 0.6433118791101161,\n",
       " 1.3084092202618098,\n",
       " 1.3322949869603014,\n",
       " 1.6257956152758133,\n",
       " 1.3648237476808904]"
      ]
     },
     "execution_count": 9,
     "metadata": {},
     "output_type": "execute_result"
    }
   ],
   "source": [
    "from sklearn.utils import class_weight\n",
    "class_weights = list(class_weight.compute_class_weight('balanced',\n",
    "                                                 classes=np.unique(train_df.label.to_numpy()),\n",
    "                                                 y=train_df.label.to_numpy()))\n",
    "class_weights"
   ]
  },
  {
   "cell_type": "code",
   "execution_count": 10,
   "id": "c5badce4",
   "metadata": {
    "execution": {
     "iopub.execute_input": "2023-06-05T07:21:41.374376Z",
     "iopub.status.busy": "2023-06-05T07:21:41.373402Z",
     "iopub.status.idle": "2023-06-05T07:21:41.381113Z",
     "shell.execute_reply": "2023-06-05T07:21:41.380048Z"
    },
    "papermill": {
     "duration": 0.022324,
     "end_time": "2023-06-05T07:21:41.383362",
     "exception": false,
     "start_time": "2023-06-05T07:21:41.361038",
     "status": "completed"
    },
    "tags": []
   },
   "outputs": [
    {
     "data": {
      "text/plain": [
       "{0: 1.8739555736702669,\n",
       " 1: 0.4879802589683719,\n",
       " 2: 0.6433118791101161,\n",
       " 3: 1.3084092202618098,\n",
       " 4: 1.3322949869603014,\n",
       " 5: 1.6257956152758133,\n",
       " 6: 1.3648237476808904}"
      ]
     },
     "execution_count": 10,
     "metadata": {},
     "output_type": "execute_result"
    }
   ],
   "source": [
    "weights = {x:y for x,y in enumerate(class_weights)}\n",
    "weights"
   ]
  },
  {
   "cell_type": "markdown",
   "id": "cb65d6a9",
   "metadata": {
    "papermill": {
     "duration": 0.011095,
     "end_time": "2023-06-05T07:21:41.405908",
     "exception": false,
     "start_time": "2023-06-05T07:21:41.394813",
     "status": "completed"
    },
    "tags": []
   },
   "source": [
    "# Visualization the dataset"
   ]
  },
  {
   "cell_type": "code",
   "execution_count": 11,
   "id": "a032f716",
   "metadata": {
    "execution": {
     "iopub.execute_input": "2023-06-05T07:21:41.429231Z",
     "iopub.status.busy": "2023-06-05T07:21:41.428423Z",
     "iopub.status.idle": "2023-06-05T07:21:41.646809Z",
     "shell.execute_reply": "2023-06-05T07:21:41.645887Z"
    },
    "papermill": {
     "duration": 0.234418,
     "end_time": "2023-06-05T07:21:41.651133",
     "exception": false,
     "start_time": "2023-06-05T07:21:41.416715",
     "status": "completed"
    },
    "tags": []
   },
   "outputs": [
    {
     "data": {
      "image/png": "[encoded data removed]",
      "text/plain": [
       "<Figure size 640x480 with 1 Axes>"
      ]
     },
     "metadata": {},
     "output_type": "display_data"
    }
   ],
   "source": [
    "from matplotlib import pyplot as plt\n",
    "\n",
    "train_files = os.listdir(train_path)\n",
    "img = cv.imread(train_path+\"/\"+train_files[1])\n",
    "plt.imshow(img)\n",
    "plt.xticks([])\n",
    "plt.yticks([])\n",
    "plt.show()"
   ]
  },
  {
   "cell_type": "markdown",
   "id": "ca8046bd",
   "metadata": {
    "papermill": {
     "duration": 0.01038,
     "end_time": "2023-06-05T07:21:41.678807",
     "exception": false,
     "start_time": "2023-06-05T07:21:41.668427",
     "status": "completed"
    },
    "tags": []
   },
   "source": [
    "# Creating Data Pipelines"
   ]
  },
  {
   "cell_type": "code",
   "execution_count": 12,
   "id": "61e70845",
   "metadata": {
    "execution": {
     "iopub.execute_input": "2023-06-05T07:21:41.701669Z",
     "iopub.status.busy": "2023-06-05T07:21:41.701290Z",
     "iopub.status.idle": "2023-06-05T07:21:56.869864Z",
     "shell.execute_reply": "2023-06-05T07:21:56.868937Z"
    },
    "papermill": {
     "duration": 15.182731,
     "end_time": "2023-06-05T07:21:56.872003",
     "exception": false,
     "start_time": "2023-06-05T07:21:41.689272",
     "status": "completed"
    },
    "tags": []
   },
   "outputs": [
    {
     "name": "stdout",
     "output_type": "stream",
     "text": [
      "Found 15633 validated image filenames belonging to 7 classes.\n",
      "Found 2758 validated image filenames belonging to 7 classes.\n"
     ]
    }
   ],
   "source": [
    "from tensorflow.keras.preprocessing.image import ImageDataGenerator\n",
    "\n",
    "test_df['label'] = test_df['label'].astype(str)\n",
    "train_df['label'] = train_df['label'].astype(str)\n",
    "\n",
    "datagen = ImageDataGenerator(\n",
    "    rescale=1/255.0,\n",
    "    rotation_range=20,\n",
    "    zoom_range=0.05,\n",
    "    width_shift_range=0.05,\n",
    "    height_shift_range=0.05,\n",
    "    shear_range=0.05,\n",
    "    horizontal_flip=True,\n",
    "    fill_mode = \"nearest\",\n",
    "    validation_split=0.15\n",
    ")\n",
    "\n",
    "train_generator=datagen.flow_from_dataframe(\n",
    "    dataframe=train_df,\n",
    "    directory=\"/kaggle/input/extracting-attributes-from-fashion-images-2/train\",\n",
    "    x_col=\"file_name\",\n",
    "    y_col=\"label\",\n",
    "    subset=\"training\",\n",
    "    batch_size=BATCH_SIZE,\n",
    "    seed=42,\n",
    "    shuffle=True,\n",
    "    class_mode=\"sparse\",\n",
    "    target_size=(INPUT_SHAPE,INPUT_SHAPE))\n",
    "\n",
    "valid_generator=datagen.flow_from_dataframe(\n",
    "    dataframe=train_df,\n",
    "    directory=\"/kaggle/input/extracting-attributes-from-fashion-images-2/train\",\n",
    "    x_col=\"file_name\",\n",
    "    y_col=\"label\",\n",
    "    subset=\"validation\",\n",
    "    batch_size=BATCH_SIZE,\n",
    "    seed=42,\n",
    "    shuffle=True,\n",
    "    class_mode=\"sparse\",\n",
    "    target_size=(INPUT_SHAPE,INPUT_SHAPE))\n",
    "\n"
   ]
  },
  {
   "cell_type": "code",
   "execution_count": 13,
   "id": "c5af9bc5",
   "metadata": {
    "execution": {
     "iopub.execute_input": "2023-06-05T07:21:56.894919Z",
     "iopub.status.busy": "2023-06-05T07:21:56.894601Z",
     "iopub.status.idle": "2023-06-05T07:21:59.239890Z",
     "shell.execute_reply": "2023-06-05T07:21:59.238954Z"
    },
    "papermill": {
     "duration": 2.358991,
     "end_time": "2023-06-05T07:21:59.242079",
     "exception": false,
     "start_time": "2023-06-05T07:21:56.883088",
     "status": "completed"
    },
    "tags": []
   },
   "outputs": [
    {
     "name": "stdout",
     "output_type": "stream",
     "text": [
      "Found 5751 validated image filenames belonging to 1 classes.\n"
     ]
    }
   ],
   "source": [
    "test_datagen=ImageDataGenerator(rescale=1./255.)\n",
    "\n",
    "\n",
    "\n",
    "test_generator=test_datagen.flow_from_dataframe(\n",
    "dataframe=test_df,\n",
    "directory=\"/kaggle/input/extracting-attributes-from-fashion-images-2/test\",\n",
    "x_col=\"file_name\",\n",
    "y_col=\"label\",\n",
    "batch_size=BATCH_SIZE,\n",
    "seed=42,\n",
    "shuffle=False,\n",
    "class_mode=\"sparse\",\n",
    "target_size=(INPUT_SHAPE,INPUT_SHAPE))\n"
   ]
  },
  {
   "cell_type": "markdown",
   "id": "5b2dbbc9",
   "metadata": {
    "papermill": {
     "duration": 0.010515,
     "end_time": "2023-06-05T07:21:59.263693",
     "exception": false,
     "start_time": "2023-06-05T07:21:59.253178",
     "status": "completed"
    },
    "tags": []
   },
   "source": [
    "# Creating the Deep learning model"
   ]
  },
  {
   "cell_type": "code",
   "execution_count": 14,
   "id": "a442f7d4",
   "metadata": {
    "execution": {
     "iopub.execute_input": "2023-06-05T07:21:59.287803Z",
     "iopub.status.busy": "2023-06-05T07:21:59.286271Z",
     "iopub.status.idle": "2023-06-05T07:22:03.374482Z",
     "shell.execute_reply": "2023-06-05T07:22:03.373573Z"
    },
    "papermill": {
     "duration": 4.102406,
     "end_time": "2023-06-05T07:22:03.376851",
     "exception": false,
     "start_time": "2023-06-05T07:21:59.274445",
     "status": "completed"
    },
    "tags": []
   },
   "outputs": [
    {
     "name": "stdout",
     "output_type": "stream",
     "text": [
      "Downloading data from https://storage.googleapis.com/tensorflow/keras-applications/mobilenet/mobilenet_1_0_224_tf_no_top.h5\n",
      "17225924/17225924 [==============================] - 0s 0us/step\n"
     ]
    }
   ],
   "source": [
    "from tensorflow.keras.models import Sequential\n",
    "from tensorflow.keras.layers import *\n",
    "from tensorflow import keras\n",
    "import tensorflow as tf\n",
    "from keras.applications import VGG16\n",
    "from tensorflow.python.keras import regularizers\n",
    "\n",
    "# conv_base = VGG16(weights=\"imagenet\",\n",
    "#                  include_top=False,\n",
    "#                  input_shape=(INPUT_SHAPE,INPUT_SHAPE,3)) # 244\n",
    "\n",
    "\n",
    "conv_base = tf.keras.applications.mobilenet.MobileNet( include_top=False,\n",
    "                                                           input_shape=(224, 224,3),\n",
    "                                                           weights='imagenet')    \n",
    "\n",
    "\n",
    "model = Sequential()\n",
    "\n",
    "model.add(conv_base)\n",
    "# conv_base.trainable = False\n",
    "\n",
    "model.add(Flatten())\n",
    "\n",
    "model.add(Dense(512))\n",
    "model.add(Activation('relu'))\n",
    "model.add(BatchNormalization())\n",
    "\n",
    "\n",
    "model.add(Dense(7, activation='softmax'))\n",
    "\n",
    "model.compile(optimizer=keras.optimizers.Adam(lr=LR),loss=\"sparse_categorical_crossentropy\",metrics=[\"accuracy\"])"
   ]
  },
  {
   "cell_type": "code",
   "execution_count": 15,
   "id": "2e80583b",
   "metadata": {
    "execution": {
     "iopub.execute_input": "2023-06-05T07:22:03.400792Z",
     "iopub.status.busy": "2023-06-05T07:22:03.400473Z",
     "iopub.status.idle": "2023-06-05T07:22:03.564133Z",
     "shell.execute_reply": "2023-06-05T07:22:03.563219Z"
    },
    "papermill": {
     "duration": 0.301935,
     "end_time": "2023-06-05T07:22:03.690325",
     "exception": false,
     "start_time": "2023-06-05T07:22:03.388390",
     "status": "completed"
    },
    "tags": []
   },
   "outputs": [
    {
     "name": "stdout",
     "output_type": "stream",
     "text": [
      "Model: \"mobilenet_1.00_224\"\n",
      "_________________________________________________________________\n",
      " Layer (type)                Output Shape              Param #   \n",
      "=================================================================\n",
      " input_1 (InputLayer)        [(None, 224, 224, 3)]     0         \n",
      "                                                                 \n",
      " conv1 (Conv2D)              (None, 112, 112, 32)      864       \n",
      "                                                                 \n",
      " conv1_bn (BatchNormalizatio  (None, 112, 112, 32)     128       \n",
      " n)                                                              \n",
      "                                                                 \n",
      " conv1_relu (ReLU)           (None, 112, 112, 32)      0         \n",
      "                                                                 \n",
      " conv_dw_1 (DepthwiseConv2D)  (None, 112, 112, 32)     288       \n",
      "                                                                 \n",
      " conv_dw_1_bn (BatchNormaliz  (None, 112, 112, 32)     128       \n",
      " ation)                                                          \n",
      "                                                                 \n",
      " conv_dw_1_relu (ReLU)       (None, 112, 112, 32)      0         \n",
      "                                                                 \n",
      " conv_pw_1 (Conv2D)          (None, 112, 112, 64)      2048      \n",
      "                                                                 \n",
      " conv_pw_1_bn (BatchNormaliz  (None, 112, 112, 64)     256       \n",
      " ation)                                                          \n",
      "                                                                 \n",
      " conv_pw_1_relu (ReLU)       (None, 112, 112, 64)      0         \n",
      "                                                                 \n",
      " conv_pad_2 (ZeroPadding2D)  (None, 113, 113, 64)      0         \n",
      "                                                                 \n",
      " conv_dw_2 (DepthwiseConv2D)  (None, 56, 56, 64)       576       \n",
      "                                                                 \n",
      " conv_dw_2_bn (BatchNormaliz  (None, 56, 56, 64)       256       \n",
      " ation)                                                          \n",
      "                                                                 \n",
      " conv_dw_2_relu (ReLU)       (None, 56, 56, 64)        0         \n",
      "                                                                 \n",
      " conv_pw_2 (Conv2D)          (None, 56, 56, 128)       8192      \n",
      "                                                                 \n",
      " conv_pw_2_bn (BatchNormaliz  (None, 56, 56, 128)      512       \n",
      " ation)                                                          \n",
      "                                                                 \n",
      " conv_pw_2_relu (ReLU)       (None, 56, 56, 128)       0         \n",
      "                                                                 \n",
      " conv_dw_3 (DepthwiseConv2D)  (None, 56, 56, 128)      1152      \n",
      "                                                                 \n",
      " conv_dw_3_bn (BatchNormaliz  (None, 56, 56, 128)      512       \n",
      " ation)                                                          \n",
      "                                                                 \n",
      " conv_dw_3_relu (ReLU)       (None, 56, 56, 128)       0         \n",
      "                                                                 \n",
      " conv_pw_3 (Conv2D)          (None, 56, 56, 128)       16384     \n",
      "                                                                 \n",
      " conv_pw_3_bn (BatchNormaliz  (None, 56, 56, 128)      512       \n",
      " ation)                                                          \n",
      "                                                                 \n",
      " conv_pw_3_relu (ReLU)       (None, 56, 56, 128)       0         \n",
      "                                                                 \n",
      " conv_pad_4 (ZeroPadding2D)  (None, 57, 57, 128)       0         \n",
      "                                                                 \n",
      " conv_dw_4 (DepthwiseConv2D)  (None, 28, 28, 128)      1152      \n",
      "                                                                 \n",
      " conv_dw_4_bn (BatchNormaliz  (None, 28, 28, 128)      512       \n",
      " ation)                                                          \n",
      "                                                                 \n",
      " conv_dw_4_relu (ReLU)       (None, 28, 28, 128)       0         \n",
      "                                                                 \n",
      " conv_pw_4 (Conv2D)          (None, 28, 28, 256)       32768     \n",
      "                                                                 \n",
      " conv_pw_4_bn (BatchNormaliz  (None, 28, 28, 256)      1024      \n",
      " ation)                                                          \n",
      "                                                                 \n",
      " conv_pw_4_relu (ReLU)       (None, 28, 28, 256)       0         \n",
      "                                                                 \n",
      " conv_dw_5 (DepthwiseConv2D)  (None, 28, 28, 256)      2304      \n",
      "                                                                 \n",
      " conv_dw_5_bn (BatchNormaliz  (None, 28, 28, 256)      1024      \n",
      " ation)                                                          \n",
      "                                                                 \n",
      " conv_dw_5_relu (ReLU)       (None, 28, 28, 256)       0         \n",
      "                                                                 \n",
      " conv_pw_5 (Conv2D)          (None, 28, 28, 256)       65536     \n",
      "                                                                 \n",
      " conv_pw_5_bn (BatchNormaliz  (None, 28, 28, 256)      1024      \n",
      " ation)                                                          \n",
      "                                                                 \n",
      " conv_pw_5_relu (ReLU)       (None, 28, 28, 256)       0         \n",
      "                                                                 \n",
      " conv_pad_6 (ZeroPadding2D)  (None, 29, 29, 256)       0         \n",
      "                                                                 \n",
      " conv_dw_6 (DepthwiseConv2D)  (None, 14, 14, 256)      2304      \n",
      "                                                                 \n",
      " conv_dw_6_bn (BatchNormaliz  (None, 14, 14, 256)      1024      \n",
      " ation)                                                          \n",
      "                                                                 \n",
      " conv_dw_6_relu (ReLU)       (None, 14, 14, 256)       0         \n",
      "                                                                 \n",
      " conv_pw_6 (Conv2D)          (None, 14, 14, 512)       131072    \n",
      "                                                                 \n",
      " conv_pw_6_bn (BatchNormaliz  (None, 14, 14, 512)      2048      \n",
      " ation)                                                          \n",
      "                                                                 \n",
      " conv_pw_6_relu (ReLU)       (None, 14, 14, 512)       0         \n",
      "                                                                 \n",
      " conv_dw_7 (DepthwiseConv2D)  (None, 14, 14, 512)      4608      \n",
      "                                                                 \n",
      " conv_dw_7_bn (BatchNormaliz  (None, 14, 14, 512)      2048      \n",
      " ation)                                                          \n",
      "                                                                 \n",
      " conv_dw_7_relu (ReLU)       (None, 14, 14, 512)       0         \n",
      "                                                                 \n",
      " conv_pw_7 (Conv2D)          (None, 14, 14, 512)       262144    \n",
      "                                                                 \n",
      " conv_pw_7_bn (BatchNormaliz  (None, 14, 14, 512)      2048      \n",
      " ation)                                                          \n",
      "                                                                 \n",
      " conv_pw_7_relu (ReLU)       (None, 14, 14, 512)       0         \n",
      "                                                                 \n",
      " conv_dw_8 (DepthwiseConv2D)  (None, 14, 14, 512)      4608      \n",
      "                                                                 \n",
      " conv_dw_8_bn (BatchNormaliz  (None, 14, 14, 512)      2048      \n",
      " ation)                                                          \n",
      "                                                                 \n",
      " conv_dw_8_relu (ReLU)       (None, 14, 14, 512)       0         \n",
      "                                                                 \n",
      " conv_pw_8 (Conv2D)          (None, 14, 14, 512)       262144    \n",
      "                                                                 \n",
      " conv_pw_8_bn (BatchNormaliz  (None, 14, 14, 512)      2048      \n",
      " ation)                                                          \n",
      "                                                                 \n",
      " conv_pw_8_relu (ReLU)       (None, 14, 14, 512)       0         \n",
      "                                                                 \n",
      " conv_dw_9 (DepthwiseConv2D)  (None, 14, 14, 512)      4608      \n",
      "                                                                 \n",
      " conv_dw_9_bn (BatchNormaliz  (None, 14, 14, 512)      2048      \n",
      " ation)                                                          \n",
      "                                                                 \n",
      " conv_dw_9_relu (ReLU)       (None, 14, 14, 512)       0         \n",
      "                                                                 \n",
      " conv_pw_9 (Conv2D)          (None, 14, 14, 512)       262144    \n",
      "                                                                 \n",
      " conv_pw_9_bn (BatchNormaliz  (None, 14, 14, 512)      2048      \n",
      " ation)                                                          \n",
      "                                                                 \n",
      " conv_pw_9_relu (ReLU)       (None, 14, 14, 512)       0         \n",
      "                                                                 \n",
      " conv_dw_10 (DepthwiseConv2D  (None, 14, 14, 512)      4608      \n",
      " )                                                               \n",
      "                                                                 \n",
      " conv_dw_10_bn (BatchNormali  (None, 14, 14, 512)      2048      \n",
      " zation)                                                         \n",
      "                                                                 \n",
      " conv_dw_10_relu (ReLU)      (None, 14, 14, 512)       0         \n",
      "                                                                 \n",
      " conv_pw_10 (Conv2D)         (None, 14, 14, 512)       262144    \n",
      "                                                                 \n",
      " conv_pw_10_bn (BatchNormali  (None, 14, 14, 512)      2048      \n",
      " zation)                                                         \n",
      "                                                                 \n",
      " conv_pw_10_relu (ReLU)      (None, 14, 14, 512)       0         \n",
      "                                                                 \n",
      " conv_dw_11 (DepthwiseConv2D  (None, 14, 14, 512)      4608      \n",
      " )                                                               \n",
      "                                                                 \n",
      " conv_dw_11_bn (BatchNormali  (None, 14, 14, 512)      2048      \n",
      " zation)                                                         \n",
      "                                                                 \n",
      " conv_dw_11_relu (ReLU)      (None, 14, 14, 512)       0         \n",
      "                                                                 \n",
      " conv_pw_11 (Conv2D)         (None, 14, 14, 512)       262144    \n",
      "                                                                 \n",
      " conv_pw_11_bn (BatchNormali  (None, 14, 14, 512)      2048      \n",
      " zation)                                                         \n",
      "                                                                 \n",
      " conv_pw_11_relu (ReLU)      (None, 14, 14, 512)       0         \n",
      "                                                                 \n",
      " conv_pad_12 (ZeroPadding2D)  (None, 15, 15, 512)      0         \n",
      "                                                                 \n",
      " conv_dw_12 (DepthwiseConv2D  (None, 7, 7, 512)        4608      \n",
      " )                                                               \n",
      "                                                                 \n",
      " conv_dw_12_bn (BatchNormali  (None, 7, 7, 512)        2048      \n",
      " zation)                                                         \n",
      "                                                                 \n",
      " conv_dw_12_relu (ReLU)      (None, 7, 7, 512)         0         \n",
      "                                                                 \n",
      " conv_pw_12 (Conv2D)         (None, 7, 7, 1024)        524288    \n",
      "                                                                 \n",
      " conv_pw_12_bn (BatchNormali  (None, 7, 7, 1024)       4096      \n",
      " zation)                                                         \n",
      "                                                                 \n",
      " conv_pw_12_relu (ReLU)      (None, 7, 7, 1024)        0         \n",
      "                                                                 \n",
      " conv_dw_13 (DepthwiseConv2D  (None, 7, 7, 1024)       9216      \n",
      " )                                                               \n",
      "                                                                 \n",
      " conv_dw_13_bn (BatchNormali  (None, 7, 7, 1024)       4096      \n",
      " zation)                                                         \n",
      "                                                                 \n",
      " conv_dw_13_relu (ReLU)      (None, 7, 7, 1024)        0         \n",
      "                                                                 \n",
      " conv_pw_13 (Conv2D)         (None, 7, 7, 1024)        1048576   \n",
      "                                                                 \n",
      " conv_pw_13_bn (BatchNormali  (None, 7, 7, 1024)       4096      \n",
      " zation)                                                         \n",
      "                                                                 \n",
      " conv_pw_13_relu (ReLU)      (None, 7, 7, 1024)        0         \n",
      "                                                                 \n",
      "=================================================================\n",
      "Total params: 3,228,864\n",
      "Trainable params: 3,206,976\n",
      "Non-trainable params: 21,888\n",
      "_________________________________________________________________\n"
     ]
    }
   ],
   "source": [
    "conv_base.summary()"
   ]
  },
  {
   "cell_type": "code",
   "execution_count": 16,
   "id": "7ae36339",
   "metadata": {
    "execution": {
     "iopub.execute_input": "2023-06-05T07:22:03.745814Z",
     "iopub.status.busy": "2023-06-05T07:22:03.745450Z",
     "iopub.status.idle": "2023-06-05T07:22:03.789354Z",
     "shell.execute_reply": "2023-06-05T07:22:03.787520Z"
    },
    "papermill": {
     "duration": 0.073921,
     "end_time": "2023-06-05T07:22:03.791411",
     "exception": false,
     "start_time": "2023-06-05T07:22:03.717490",
     "status": "completed"
    },
    "tags": []
   },
   "outputs": [
    {
     "name": "stdout",
     "output_type": "stream",
     "text": [
      "Model: \"sequential\"\n",
      "_________________________________________________________________\n",
      " Layer (type)                Output Shape              Param #   \n",
      "=================================================================\n",
      " mobilenet_1.00_224 (Functio  (None, 7, 7, 1024)       3228864   \n",
      " nal)                                                            \n",
      "                                                                 \n",
      " flatten (Flatten)           (None, 50176)             0         \n",
      "                                                                 \n",
      " dense (Dense)               (None, 512)               25690624  \n",
      "                                                                 \n",
      " activation (Activation)     (None, 512)               0         \n",
      "                                                                 \n",
      " batch_normalization (BatchN  (None, 512)              2048      \n",
      " ormalization)                                                   \n",
      "                                                                 \n",
      " dense_1 (Dense)             (None, 7)                 3591      \n",
      "                                                                 \n",
      "=================================================================\n",
      "Total params: 28,925,127\n",
      "Trainable params: 28,902,215\n",
      "Non-trainable params: 22,912\n",
      "_________________________________________________________________\n"
     ]
    }
   ],
   "source": [
    "model.summary()"
   ]
  },
  {
   "cell_type": "markdown",
   "id": "56bf5f31",
   "metadata": {
    "papermill": {
     "duration": 0.027408,
     "end_time": "2023-06-05T07:22:03.846827",
     "exception": false,
     "start_time": "2023-06-05T07:22:03.819419",
     "status": "completed"
    },
    "tags": []
   },
   "source": [
    "# Training"
   ]
  },
  {
   "cell_type": "code",
   "execution_count": 17,
   "id": "06274b96",
   "metadata": {
    "execution": {
     "iopub.execute_input": "2023-06-05T07:22:03.904443Z",
     "iopub.status.busy": "2023-06-05T07:22:03.903504Z",
     "iopub.status.idle": "2023-06-05T07:22:04.866263Z",
     "shell.execute_reply": "2023-06-05T07:22:04.865060Z"
    },
    "papermill": {
     "duration": 0.99476,
     "end_time": "2023-06-05T07:22:04.869130",
     "exception": false,
     "start_time": "2023-06-05T07:22:03.874370",
     "status": "completed"
    },
    "tags": []
   },
   "outputs": [],
   "source": [
    "! mkdir /kaggle/working/model/\n",
    "\n",
    "checkpoint=tf.keras.callbacks.ModelCheckpoint(filepath=\"/kaggle/working/model/CNN.h5\", \n",
    "                                              monitor='val_accuracy', \n",
    "                                              verbose=0, \n",
    "                                              save_best_only=True,\n",
    "                                              save_weights_only=False, \n",
    "                                              mode='auto', \n",
    "                                              save_freq='epoch', \n",
    "                                              options=None)"
   ]
  },
  {
   "cell_type": "code",
   "execution_count": 18,
   "id": "b6ad721c",
   "metadata": {
    "execution": {
     "iopub.execute_input": "2023-06-05T07:22:04.928233Z",
     "iopub.status.busy": "2023-06-05T07:22:04.926383Z",
     "iopub.status.idle": "2023-06-05T07:47:23.254585Z",
     "shell.execute_reply": "2023-06-05T07:47:23.253519Z"
    },
    "papermill": {
     "duration": 1518.359745,
     "end_time": "2023-06-05T07:47:23.256759",
     "exception": false,
     "start_time": "2023-06-05T07:22:04.897014",
     "status": "completed"
    },
    "tags": []
   },
   "outputs": [
    {
     "name": "stdout",
     "output_type": "stream",
     "text": [
      "Epoch 1/5\n",
      "244/244 [==============================] - 340s 1s/step - loss: 1.1222 - accuracy: 0.6043 - val_loss: 2.9083 - val_accuracy: 0.2591\n",
      "Epoch 2/5\n",
      "244/244 [==============================] - 264s 1s/step - loss: 0.7995 - accuracy: 0.6891 - val_loss: 1.9986 - val_accuracy: 0.3445\n",
      "Epoch 3/5\n",
      "244/244 [==============================] - 265s 1s/step - loss: 0.7191 - accuracy: 0.7173 - val_loss: 1.3322 - val_accuracy: 0.4186\n",
      "Epoch 4/5\n",
      "244/244 [==============================] - 268s 1s/step - loss: 0.6778 - accuracy: 0.7366 - val_loss: 1.3052 - val_accuracy: 0.4906\n",
      "Epoch 5/5\n",
      "244/244 [==============================] - 268s 1s/step - loss: 0.6644 - accuracy: 0.7396 - val_loss: 1.5763 - val_accuracy: 0.4226\n",
      "dict_keys(['loss', 'accuracy', 'val_loss', 'val_accuracy'])\n"
     ]
    },
    {
     "data": {
      "image/png": "[encoded data removed]",
      "text/plain": [
       "<Figure size 640x480 with 1 Axes>"
      ]
     },
     "metadata": {},
     "output_type": "display_data"
    },
    {
     "data": {
      "image/png": "[encoded data removed]",
      "text/plain": [
       "<Figure size 640x480 with 1 Axes>"
      ]
     },
     "metadata": {},
     "output_type": "display_data"
    }
   ],
   "source": [
    "STEP_SIZE_TRAIN=train_generator.n//train_generator.batch_size\n",
    "STEP_SIZE_VALID=valid_generator.n//valid_generator.batch_size\n",
    "STEP_SIZE_TEST=test_generator.n//test_generator.batch_size\n",
    "\n",
    "history = model.fit(train_generator,\n",
    "                    steps_per_epoch=STEP_SIZE_TRAIN,\n",
    "                    validation_data=valid_generator,\n",
    "                    validation_steps=STEP_SIZE_VALID,\n",
    "                    epochs=EPOCHS,\n",
    "                   callbacks=[checkpoint])\n",
    "#                    class_weight=weights)\n",
    "\n",
    "\n",
    "\n",
    "print(history.history.keys())\n",
    "# summarize history for accuracy\n",
    "plt.plot(history.history['accuracy'])\n",
    "plt.plot(history.history['val_accuracy'])\n",
    "plt.title('model accuracy')\n",
    "plt.ylabel('accuracy')\n",
    "plt.xlabel('epoch')\n",
    "plt.legend(['train', 'test'], loc='upper left')\n",
    "plt.grid()\n",
    "plt.show()\n",
    "# summarize history for loss\n",
    "plt.plot(history.history['loss'])\n",
    "plt.plot(history.history['val_loss'])\n",
    "plt.title('model loss')\n",
    "plt.ylabel('loss')\n",
    "plt.xlabel('epoch')\n",
    "plt.legend(['train', 'test'], loc='upper left')\n",
    "plt.grid()\n",
    "plt.show()"
   ]
  },
  {
   "cell_type": "code",
   "execution_count": 19,
   "id": "2ec19266",
   "metadata": {
    "execution": {
     "iopub.execute_input": "2023-06-05T07:47:23.496378Z",
     "iopub.status.busy": "2023-06-05T07:47:23.495381Z",
     "iopub.status.idle": "2023-06-05T07:47:26.166167Z",
     "shell.execute_reply": "2023-06-05T07:47:26.164998Z"
    },
    "papermill": {
     "duration": 2.793121,
     "end_time": "2023-06-05T07:47:26.168886",
     "exception": false,
     "start_time": "2023-06-05T07:47:23.375765",
     "status": "completed"
    },
    "tags": []
   },
   "outputs": [],
   "source": [
    "model = tf.keras.models.load_model(\"/kaggle/working/model/CNN.h5\")"
   ]
  },
  {
   "cell_type": "markdown",
   "id": "1ba5815c",
   "metadata": {
    "papermill": {
     "duration": 0.118269,
     "end_time": "2023-06-05T07:47:26.406641",
     "exception": false,
     "start_time": "2023-06-05T07:47:26.288372",
     "status": "completed"
    },
    "tags": []
   },
   "source": [
    "# Testing"
   ]
  },
  {
   "cell_type": "code",
   "execution_count": 20,
   "id": "eaaffed3",
   "metadata": {
    "execution": {
     "iopub.execute_input": "2023-06-05T07:47:26.645130Z",
     "iopub.status.busy": "2023-06-05T07:47:26.644764Z",
     "iopub.status.idle": "2023-06-05T07:48:06.558903Z",
     "shell.execute_reply": "2023-06-05T07:48:06.557890Z"
    },
    "papermill": {
     "duration": 40.036362,
     "end_time": "2023-06-05T07:48:06.561109",
     "exception": false,
     "start_time": "2023-06-05T07:47:26.524747",
     "status": "completed"
    },
    "tags": []
   },
   "outputs": [
    {
     "name": "stdout",
     "output_type": "stream",
     "text": [
      "89/89 [==============================] - 39s 428ms/step - loss: 1.3175 - accuracy: 0.4862\n"
     ]
    },
    {
     "data": {
      "text/plain": [
       "[1.3175047636032104, 0.48622190952301025]"
      ]
     },
     "execution_count": 20,
     "metadata": {},
     "output_type": "execute_result"
    }
   ],
   "source": [
    "valid_generator.reset()\n",
    "model.evaluate(valid_generator,\n",
    "steps=STEP_SIZE_TEST)"
   ]
  },
  {
   "cell_type": "code",
   "execution_count": 21,
   "id": "4a804fd5",
   "metadata": {
    "execution": {
     "iopub.execute_input": "2023-06-05T07:48:06.808041Z",
     "iopub.status.busy": "2023-06-05T07:48:06.807341Z",
     "iopub.status.idle": "2023-06-05T07:48:47.930530Z",
     "shell.execute_reply": "2023-06-05T07:48:47.929523Z"
    },
    "papermill": {
     "duration": 41.24824,
     "end_time": "2023-06-05T07:48:47.932785",
     "exception": false,
     "start_time": "2023-06-05T07:48:06.684545",
     "status": "completed"
    },
    "tags": []
   },
   "outputs": [
    {
     "name": "stdout",
     "output_type": "stream",
     "text": [
      "90/90 [==============================] - 41s 447ms/step\n"
     ]
    }
   ],
   "source": [
    "test_generator.reset()\n",
    "pred=model.predict(test_generator)"
   ]
  },
  {
   "cell_type": "code",
   "execution_count": 22,
   "id": "eda39559",
   "metadata": {
    "execution": {
     "iopub.execute_input": "2023-06-05T07:48:48.190700Z",
     "iopub.status.busy": "2023-06-05T07:48:48.190016Z",
     "iopub.status.idle": "2023-06-05T07:48:48.197403Z",
     "shell.execute_reply": "2023-06-05T07:48:48.196484Z"
    },
    "papermill": {
     "duration": 0.138527,
     "end_time": "2023-06-05T07:48:48.199349",
     "exception": false,
     "start_time": "2023-06-05T07:48:48.060822",
     "status": "completed"
    },
    "tags": []
   },
   "outputs": [
    {
     "data": {
      "text/plain": [
       "array([2, 2, 2, ..., 2, 1, 1])"
      ]
     },
     "execution_count": 22,
     "metadata": {},
     "output_type": "execute_result"
    }
   ],
   "source": [
    "y_pred=np.argmax(pred,axis=1)\n",
    "y_pred"
   ]
  },
  {
   "cell_type": "code",
   "execution_count": 23,
   "id": "25188adc",
   "metadata": {
    "execution": {
     "iopub.execute_input": "2023-06-05T07:48:48.457672Z",
     "iopub.status.busy": "2023-06-05T07:48:48.457308Z",
     "iopub.status.idle": "2023-06-05T07:48:48.552019Z",
     "shell.execute_reply": "2023-06-05T07:48:48.550208Z"
    },
    "papermill": {
     "duration": 0.226175,
     "end_time": "2023-06-05T07:48:48.554480",
     "exception": false,
     "start_time": "2023-06-05T07:48:48.328305",
     "status": "completed"
    },
    "tags": []
   },
   "outputs": [
    {
     "name": "stdout",
     "output_type": "stream",
     "text": [
      "[[  89 1897 1284  707  400  472  902]\n",
      " [   0    0    0    0    0    0    0]\n",
      " [   0    0    0    0    0    0    0]\n",
      " [   0    0    0    0    0    0    0]\n",
      " [   0    0    0    0    0    0    0]\n",
      " [   0    0    0    0    0    0    0]\n",
      " [   0    0    0    0    0    0    0]]\n"
     ]
    },
    {
     "data": {
      "text/plain": [
       "0.015475569466179794"
      ]
     },
     "execution_count": 23,
     "metadata": {},
     "output_type": "execute_result"
    }
   ],
   "source": [
    "from sklearn.metrics import confusion_matrix,accuracy_score\n",
    "test_df['label'] = test_df['label'].astype(int)\n",
    "\n",
    "cm=confusion_matrix(test_df.label, y_pred)\n",
    "print(cm)\n",
    "\n",
    "accuracy_score(test_df.label.to_numpy(), y_pred)\n",
    "# tn,fp,fn,tp = confusion_matrix(test_df.label, y_pred).ravel()"
   ]
  },
  {
   "cell_type": "markdown",
   "id": "746cc78a",
   "metadata": {
    "papermill": {
     "duration": 0.128067,
     "end_time": "2023-06-05T07:48:48.811593",
     "exception": false,
     "start_time": "2023-06-05T07:48:48.683526",
     "status": "completed"
    },
    "tags": []
   },
   "source": [
    "# Creating submission.csv"
   ]
  },
  {
   "cell_type": "code",
   "execution_count": 24,
   "id": "5b66d4f8",
   "metadata": {
    "execution": {
     "iopub.execute_input": "2023-06-05T07:48:49.068245Z",
     "iopub.status.busy": "2023-06-05T07:48:49.067892Z",
     "iopub.status.idle": "2023-06-05T07:48:49.090864Z",
     "shell.execute_reply": "2023-06-05T07:48:49.089989Z"
    },
    "papermill": {
     "duration": 0.153414,
     "end_time": "2023-06-05T07:48:49.092958",
     "exception": false,
     "start_time": "2023-06-05T07:48:48.939544",
     "status": "completed"
    },
    "tags": []
   },
   "outputs": [],
   "source": [
    "filenames=test_generator.filenames\n",
    "results=pd.DataFrame({\"file_name\":filenames,\n",
    "                      \"label\":y_pred})\n",
    "results.to_csv(\"submission.csv\",index=False)"
   ]
  },
  {
   "cell_type": "code",
   "execution_count": 25,
   "id": "6a2777ea",
   "metadata": {
    "execution": {
     "iopub.execute_input": "2023-06-05T07:48:49.367942Z",
     "iopub.status.busy": "2023-06-05T07:48:49.367532Z",
     "iopub.status.idle": "2023-06-05T07:48:49.372072Z",
     "shell.execute_reply": "2023-06-05T07:48:49.371100Z"
    },
    "papermill": {
     "duration": 0.147057,
     "end_time": "2023-06-05T07:48:49.373942",
     "exception": false,
     "start_time": "2023-06-05T07:48:49.226885",
     "status": "completed"
    },
    "tags": []
   },
   "outputs": [],
   "source": [
    "# test_df['label'] = test_df['label'].astype(int)"
   ]
  },
  {
   "cell_type": "markdown",
   "id": "5c5ef4fe",
   "metadata": {
    "papermill": {
     "duration": 0.127678,
     "end_time": "2023-06-05T07:48:49.629915",
     "exception": false,
     "start_time": "2023-06-05T07:48:49.502237",
     "status": "completed"
    },
    "tags": []
   },
   "source": [
    "# Reasons for low testing accuracy \n",
    "**Problem**: Although the training and testing data belong to the same dataset, the split in the dataset is very different, training data has about 1402 belonging to class 0 and the testing data has all the data belonging to class 0. Inorder to make a model that generalizes well on the dataset we need atleast a minimun of 5000 samples per class.\n",
    "\n",
    "**Solution 1**: Adding more data in the dataset would lead to better learning of the model and would remove any bias in the dataset. But this is not possible in our case.\n",
    "\n",
    "**Solution 2**: If adding data is not an option then using a pre-trained model could lead to better generalization. This is because pre trained models are trained for good feature extration. This should work for our use case but from what I have learned while training the model, Due to the low amount of class 0 data in the dataset the pretrained model is also not able to learn well even though it generalizes well.\n"
   ]
  },
  {
   "cell_type": "code",
   "execution_count": null,
   "id": "358d7f90",
   "metadata": {
    "papermill": {
     "duration": 0.127106,
     "end_time": "2023-06-05T07:48:49.885105",
     "exception": false,
     "start_time": "2023-06-05T07:48:49.757999",
     "status": "completed"
    },
    "tags": []
   },
   "outputs": [],
   "source": []
  }
 ],
 "metadata": {
  "kernelspec": {
   "display_name": "Python 3",
   "language": "python",
   "name": "python3"
  },
  "language_info": {
   "codemirror_mode": {
    "name": "ipython",
    "version": 3
   },
   "file_extension": ".py",
   "mimetype": "text/x-python",
   "name": "python",
   "nbconvert_exporter": "python",
   "pygments_lexer": "ipython3",
   "version": "3.10.10"
  },
  "papermill": {
   "default_parameters": {},
   "duration": 1659.546361,
   "end_time": "2023-06-05T07:48:53.812115",
   "environment_variables": {},
   "exception": null,
   "input_path": "__notebook__.ipynb",
   "output_path": "__notebook__.ipynb",
   "parameters": {},
   "start_time": "2023-06-05T07:21:14.265754",
   "version": "2.4.0"
  }
 },
 "nbformat": 4,
 "nbformat_minor": 5
}
