{
 "cells": [
  {
   "cell_type": "code",
   "execution_count": 1,
   "id": "7c504017",
   "metadata": {
    "_cell_guid": "b1076dfc-b9ad-4769-8c92-a6c4dae69d19",
    "_uuid": "8f2839f25d086af736a60e9eeb907d3b93b6e0e5",
    "execution": {
     "iopub.execute_input": "2023-06-04T07:30:22.867634Z",
     "iopub.status.busy": "2023-06-04T07:30:22.867234Z",
     "iopub.status.idle": "2023-06-04T07:30:38.851686Z",
     "shell.execute_reply": "2023-06-04T07:30:38.850748Z"
    },
    "papermill": {
     "duration": 15.997702,
     "end_time": "2023-06-04T07:30:38.854053",
     "exception": false,
     "start_time": "2023-06-04T07:30:22.856351",
     "status": "completed"
    },
    "tags": []
   },
   "outputs": [],
   "source": [
    "# This Python 3 environment comes with many helpful analytics libraries installed\n",
    "# It is defined by the kaggle/python Docker image: https://github.com/kaggle/docker-python\n",
    "# For example, here's several helpful packages to load\n",
    "\n",
    "import numpy as np # linear algebra\n",
    "import pandas as pd # data processing, CSV file I/O (e.g. pd.read_csv)\n",
    "\n",
    "# Input data files are available in the read-only \"../input/\" directory\n",
    "# For example, running this (by clicking run or pressing Shift+Enter) will list all files under the input directory\n",
    "\n",
    "import os\n",
    "for dirname, _, filenames in os.walk('/kaggle/input'):\n",
    "    for filename in filenames:\n",
    "        os.path.join(dirname, filename)\n"
   ]
  },
  {
   "cell_type": "markdown",
   "id": "acdc5b99",
   "metadata": {
    "papermill": {
     "duration": 0.008466,
     "end_time": "2023-06-04T07:30:38.871808",
     "exception": false,
     "start_time": "2023-06-04T07:30:38.863342",
     "status": "completed"
    },
    "tags": []
   },
   "source": [
    "# Importing Required Modules "
   ]
  },
  {
   "cell_type": "code",
   "execution_count": 2,
   "id": "c6373f9d",
   "metadata": {
    "execution": {
     "iopub.execute_input": "2023-06-04T07:30:38.890519Z",
     "iopub.status.busy": "2023-06-04T07:30:38.890227Z",
     "iopub.status.idle": "2023-06-04T07:30:47.054437Z",
     "shell.execute_reply": "2023-06-04T07:30:47.053242Z"
    },
    "papermill": {
     "duration": 8.177146,
     "end_time": "2023-06-04T07:30:47.057668",
     "exception": false,
     "start_time": "2023-06-04T07:30:38.880522",
     "status": "completed"
    },
    "tags": []
   },
   "outputs": [
    {
     "name": "stderr",
     "output_type": "stream",
     "text": [
      "/opt/conda/lib/python3.10/site-packages/tensorflow_io/python/ops/__init__.py:98: UserWarning: unable to load libtensorflow_io_plugins.so: unable to open file: libtensorflow_io_plugins.so, from paths: ['/opt/conda/lib/python3.10/site-packages/tensorflow_io/python/ops/libtensorflow_io_plugins.so']\n",
      "caused by: ['/opt/conda/lib/python3.10/site-packages/tensorflow_io/python/ops/libtensorflow_io_plugins.so: undefined symbol: _ZN3tsl6StatusC1EN10tensorflow5error4CodeESt17basic_string_viewIcSt11char_traitsIcEENS_14SourceLocationE']\n",
      "  warnings.warn(f\"unable to load libtensorflow_io_plugins.so: {e}\")\n",
      "/opt/conda/lib/python3.10/site-packages/tensorflow_io/python/ops/__init__.py:104: UserWarning: file system plugins are not loaded: unable to open file: libtensorflow_io.so, from paths: ['/opt/conda/lib/python3.10/site-packages/tensorflow_io/python/ops/libtensorflow_io.so']\n",
      "caused by: ['/opt/conda/lib/python3.10/site-packages/tensorflow_io/python/ops/libtensorflow_io.so: undefined symbol: _ZTVN10tensorflow13GcsFileSystemE']\n",
      "  warnings.warn(f\"file system plugins are not loaded: {e}\")\n"
     ]
    }
   ],
   "source": [
    "import pandas as pd\n",
    "import cv2 as cv\n",
    "from tensorflow.keras.models import Sequential\n",
    "from tensorflow.keras.layers import *\n",
    "import os"
   ]
  },
  {
   "cell_type": "markdown",
   "id": "b09adb70",
   "metadata": {
    "papermill": {
     "duration": 0.013062,
     "end_time": "2023-06-04T07:30:47.084758",
     "exception": false,
     "start_time": "2023-06-04T07:30:47.071696",
     "status": "completed"
    },
    "tags": []
   },
   "source": [
    "# Model Hyper parameters"
   ]
  },
  {
   "cell_type": "code",
   "execution_count": 3,
   "id": "1f1fbf10",
   "metadata": {
    "execution": {
     "iopub.execute_input": "2023-06-04T07:30:47.111930Z",
     "iopub.status.busy": "2023-06-04T07:30:47.111291Z",
     "iopub.status.idle": "2023-06-04T07:30:47.123409Z",
     "shell.execute_reply": "2023-06-04T07:30:47.122278Z"
    },
    "papermill": {
     "duration": 0.029004,
     "end_time": "2023-06-04T07:30:47.126670",
     "exception": false,
     "start_time": "2023-06-04T07:30:47.097666",
     "status": "completed"
    },
    "tags": []
   },
   "outputs": [],
   "source": [
    "train_path = \"/kaggle/input/extracting-attributes-from-fashion-images-2/train\"\n",
    "BATCH_SIZE = 64\n",
    "EPOCHS = 7\n",
    "INPUT_SHAPE = 224\n",
    "LR = 0.0000001"
   ]
  },
  {
   "cell_type": "markdown",
   "id": "a648210c",
   "metadata": {
    "papermill": {
     "duration": 0.012416,
     "end_time": "2023-06-04T07:30:47.155294",
     "exception": false,
     "start_time": "2023-06-04T07:30:47.142878",
     "status": "completed"
    },
    "tags": []
   },
   "source": [
    "# Data Importing"
   ]
  },
  {
   "cell_type": "code",
   "execution_count": 4,
   "id": "9d1974bc",
   "metadata": {
    "execution": {
     "iopub.execute_input": "2023-06-04T07:30:47.181353Z",
     "iopub.status.busy": "2023-06-04T07:30:47.180980Z",
     "iopub.status.idle": "2023-06-04T07:30:47.236241Z",
     "shell.execute_reply": "2023-06-04T07:30:47.235297Z"
    },
    "papermill": {
     "duration": 0.071098,
     "end_time": "2023-06-04T07:30:47.239039",
     "exception": false,
     "start_time": "2023-06-04T07:30:47.167941",
     "status": "completed"
    },
    "tags": []
   },
   "outputs": [
    {
     "data": {
      "text/html": [
       "<div>\n",
       "<style scoped>\n",
       "    .dataframe tbody tr th:only-of-type {\n",
       "        vertical-align: middle;\n",
       "    }\n",
       "\n",
       "    .dataframe tbody tr th {\n",
       "        vertical-align: top;\n",
       "    }\n",
       "\n",
       "    .dataframe thead th {\n",
       "        text-align: right;\n",
       "    }\n",
       "</style>\n",
       "<table border=\"1\" class=\"dataframe\">\n",
       "  <thead>\n",
       "    <tr style=\"text-align: right;\">\n",
       "      <th></th>\n",
       "      <th>file_name</th>\n",
       "      <th>label</th>\n",
       "    </tr>\n",
       "  </thead>\n",
       "  <tbody>\n",
       "    <tr>\n",
       "      <th>0</th>\n",
       "      <td>Image_train_00001.jpg</td>\n",
       "      <td>0</td>\n",
       "    </tr>\n",
       "    <tr>\n",
       "      <th>1</th>\n",
       "      <td>Image_train_00002.jpg</td>\n",
       "      <td>1</td>\n",
       "    </tr>\n",
       "    <tr>\n",
       "      <th>2</th>\n",
       "      <td>Image_train_00003.jpg</td>\n",
       "      <td>0</td>\n",
       "    </tr>\n",
       "    <tr>\n",
       "      <th>3</th>\n",
       "      <td>Image_train_00004.jpg</td>\n",
       "      <td>0</td>\n",
       "    </tr>\n",
       "    <tr>\n",
       "      <th>4</th>\n",
       "      <td>Image_train_00005.jpg</td>\n",
       "      <td>0</td>\n",
       "    </tr>\n",
       "    <tr>\n",
       "      <th>...</th>\n",
       "      <td>...</td>\n",
       "      <td>...</td>\n",
       "    </tr>\n",
       "    <tr>\n",
       "      <th>18386</th>\n",
       "      <td>Image_train_18387.jpg</td>\n",
       "      <td>1</td>\n",
       "    </tr>\n",
       "    <tr>\n",
       "      <th>18387</th>\n",
       "      <td>Image_train_18388.jpg</td>\n",
       "      <td>2</td>\n",
       "    </tr>\n",
       "    <tr>\n",
       "      <th>18388</th>\n",
       "      <td>Image_train_18389.jpg</td>\n",
       "      <td>1</td>\n",
       "    </tr>\n",
       "    <tr>\n",
       "      <th>18389</th>\n",
       "      <td>Image_train_18390.jpg</td>\n",
       "      <td>1</td>\n",
       "    </tr>\n",
       "    <tr>\n",
       "      <th>18390</th>\n",
       "      <td>Image_train_18391.jpg</td>\n",
       "      <td>1</td>\n",
       "    </tr>\n",
       "  </tbody>\n",
       "</table>\n",
       "<p>18391 rows × 2 columns</p>\n",
       "</div>"
      ],
      "text/plain": [
       "                   file_name  label\n",
       "0      Image_train_00001.jpg      0\n",
       "1      Image_train_00002.jpg      1\n",
       "2      Image_train_00003.jpg      0\n",
       "3      Image_train_00004.jpg      0\n",
       "4      Image_train_00005.jpg      0\n",
       "...                      ...    ...\n",
       "18386  Image_train_18387.jpg      1\n",
       "18387  Image_train_18388.jpg      2\n",
       "18388  Image_train_18389.jpg      1\n",
       "18389  Image_train_18390.jpg      1\n",
       "18390  Image_train_18391.jpg      1\n",
       "\n",
       "[18391 rows x 2 columns]"
      ]
     },
     "execution_count": 4,
     "metadata": {},
     "output_type": "execute_result"
    }
   ],
   "source": [
    "# training data\n",
    "train_df = pd.read_csv(\"/kaggle/input/extracting-attributes-from-fashion-images-2/train.csv\")\n",
    "train_df"
   ]
  },
  {
   "cell_type": "code",
   "execution_count": 5,
   "id": "0abcdca9",
   "metadata": {
    "execution": {
     "iopub.execute_input": "2023-06-04T07:30:47.269533Z",
     "iopub.status.busy": "2023-06-04T07:30:47.269102Z",
     "iopub.status.idle": "2023-06-04T07:30:47.299925Z",
     "shell.execute_reply": "2023-06-04T07:30:47.298999Z"
    },
    "papermill": {
     "duration": 0.049031,
     "end_time": "2023-06-04T07:30:47.302897",
     "exception": false,
     "start_time": "2023-06-04T07:30:47.253866",
     "status": "completed"
    },
    "tags": []
   },
   "outputs": [
    {
     "data": {
      "text/html": [
       "<div>\n",
       "<style scoped>\n",
       "    .dataframe tbody tr th:only-of-type {\n",
       "        vertical-align: middle;\n",
       "    }\n",
       "\n",
       "    .dataframe tbody tr th {\n",
       "        vertical-align: top;\n",
       "    }\n",
       "\n",
       "    .dataframe thead th {\n",
       "        text-align: right;\n",
       "    }\n",
       "</style>\n",
       "<table border=\"1\" class=\"dataframe\">\n",
       "  <thead>\n",
       "    <tr style=\"text-align: right;\">\n",
       "      <th></th>\n",
       "      <th>file_name</th>\n",
       "      <th>label</th>\n",
       "    </tr>\n",
       "  </thead>\n",
       "  <tbody>\n",
       "    <tr>\n",
       "      <th>0</th>\n",
       "      <td>Image_test_00001.jpg</td>\n",
       "      <td>0</td>\n",
       "    </tr>\n",
       "    <tr>\n",
       "      <th>1</th>\n",
       "      <td>Image_test_00002.jpg</td>\n",
       "      <td>0</td>\n",
       "    </tr>\n",
       "    <tr>\n",
       "      <th>2</th>\n",
       "      <td>Image_test_00003.jpg</td>\n",
       "      <td>0</td>\n",
       "    </tr>\n",
       "    <tr>\n",
       "      <th>3</th>\n",
       "      <td>Image_test_00004.jpg</td>\n",
       "      <td>0</td>\n",
       "    </tr>\n",
       "    <tr>\n",
       "      <th>4</th>\n",
       "      <td>Image_test_00005.jpg</td>\n",
       "      <td>0</td>\n",
       "    </tr>\n",
       "    <tr>\n",
       "      <th>...</th>\n",
       "      <td>...</td>\n",
       "      <td>...</td>\n",
       "    </tr>\n",
       "    <tr>\n",
       "      <th>5746</th>\n",
       "      <td>Image_test_05747.jpg</td>\n",
       "      <td>0</td>\n",
       "    </tr>\n",
       "    <tr>\n",
       "      <th>5747</th>\n",
       "      <td>Image_test_05748.jpg</td>\n",
       "      <td>0</td>\n",
       "    </tr>\n",
       "    <tr>\n",
       "      <th>5748</th>\n",
       "      <td>Image_test_05749.jpg</td>\n",
       "      <td>0</td>\n",
       "    </tr>\n",
       "    <tr>\n",
       "      <th>5749</th>\n",
       "      <td>Image_test_05750.jpg</td>\n",
       "      <td>0</td>\n",
       "    </tr>\n",
       "    <tr>\n",
       "      <th>5750</th>\n",
       "      <td>Image_test_05751.jpg</td>\n",
       "      <td>0</td>\n",
       "    </tr>\n",
       "  </tbody>\n",
       "</table>\n",
       "<p>5751 rows × 2 columns</p>\n",
       "</div>"
      ],
      "text/plain": [
       "                 file_name  label\n",
       "0     Image_test_00001.jpg      0\n",
       "1     Image_test_00002.jpg      0\n",
       "2     Image_test_00003.jpg      0\n",
       "3     Image_test_00004.jpg      0\n",
       "4     Image_test_00005.jpg      0\n",
       "...                    ...    ...\n",
       "5746  Image_test_05747.jpg      0\n",
       "5747  Image_test_05748.jpg      0\n",
       "5748  Image_test_05749.jpg      0\n",
       "5749  Image_test_05750.jpg      0\n",
       "5750  Image_test_05751.jpg      0\n",
       "\n",
       "[5751 rows x 2 columns]"
      ]
     },
     "execution_count": 5,
     "metadata": {},
     "output_type": "execute_result"
    }
   ],
   "source": [
    "# testing data\n",
    "test_df = pd.read_csv(\"/kaggle/input/extracting-attributes-from-fashion-images-2/sample_submission.csv\")\n",
    "test_df"
   ]
  },
  {
   "cell_type": "markdown",
   "id": "4762324c",
   "metadata": {
    "papermill": {
     "duration": 0.012782,
     "end_time": "2023-06-04T07:30:47.329759",
     "exception": false,
     "start_time": "2023-06-04T07:30:47.316977",
     "status": "completed"
    },
    "tags": []
   },
   "source": [
    "## Checking for Imbalance in the dataset"
   ]
  },
  {
   "cell_type": "code",
   "execution_count": 6,
   "id": "c35560ec",
   "metadata": {
    "execution": {
     "iopub.execute_input": "2023-06-04T07:30:47.358443Z",
     "iopub.status.busy": "2023-06-04T07:30:47.357534Z",
     "iopub.status.idle": "2023-06-04T07:30:47.369874Z",
     "shell.execute_reply": "2023-06-04T07:30:47.369081Z"
    },
    "papermill": {
     "duration": 0.031025,
     "end_time": "2023-06-04T07:30:47.373717",
     "exception": false,
     "start_time": "2023-06-04T07:30:47.342692",
     "status": "completed"
    },
    "tags": []
   },
   "outputs": [
    {
     "data": {
      "text/plain": [
       "1    5384\n",
       "2    4084\n",
       "3    2008\n",
       "4    1972\n",
       "6    1925\n",
       "5    1616\n",
       "0    1402\n",
       "Name: label, dtype: int64"
      ]
     },
     "execution_count": 6,
     "metadata": {},
     "output_type": "execute_result"
    }
   ],
   "source": [
    "train_df.label.value_counts()"
   ]
  },
  {
   "cell_type": "code",
   "execution_count": 7,
   "id": "15f48c0b",
   "metadata": {
    "execution": {
     "iopub.execute_input": "2023-06-04T07:30:47.401636Z",
     "iopub.status.busy": "2023-06-04T07:30:47.401276Z",
     "iopub.status.idle": "2023-06-04T07:30:47.409158Z",
     "shell.execute_reply": "2023-06-04T07:30:47.408283Z"
    },
    "papermill": {
     "duration": 0.026806,
     "end_time": "2023-06-04T07:30:47.413989",
     "exception": false,
     "start_time": "2023-06-04T07:30:47.387183",
     "status": "completed"
    },
    "tags": []
   },
   "outputs": [
    {
     "data": {
      "text/plain": [
       "0    5751\n",
       "Name: label, dtype: int64"
      ]
     },
     "execution_count": 7,
     "metadata": {},
     "output_type": "execute_result"
    }
   ],
   "source": [
    "test_df.label.value_counts()"
   ]
  },
  {
   "cell_type": "code",
   "execution_count": 8,
   "id": "b2bc8b0d",
   "metadata": {
    "execution": {
     "iopub.execute_input": "2023-06-04T07:30:47.442448Z",
     "iopub.status.busy": "2023-06-04T07:30:47.442100Z",
     "iopub.status.idle": "2023-06-04T07:30:47.450655Z",
     "shell.execute_reply": "2023-06-04T07:30:47.449805Z"
    },
    "papermill": {
     "duration": 0.028633,
     "end_time": "2023-06-04T07:30:47.456423",
     "exception": false,
     "start_time": "2023-06-04T07:30:47.427790",
     "status": "completed"
    },
    "tags": []
   },
   "outputs": [
    {
     "data": {
      "text/plain": [
       "array([0, 1, 2, 3, 5, 4, 6])"
      ]
     },
     "execution_count": 8,
     "metadata": {},
     "output_type": "execute_result"
    }
   ],
   "source": [
    "train_df.label.unique()"
   ]
  },
  {
   "cell_type": "code",
   "execution_count": 9,
   "id": "f58ce1e1",
   "metadata": {
    "execution": {
     "iopub.execute_input": "2023-06-04T07:30:47.487761Z",
     "iopub.status.busy": "2023-06-04T07:30:47.487460Z",
     "iopub.status.idle": "2023-06-04T07:30:48.454911Z",
     "shell.execute_reply": "2023-06-04T07:30:48.453975Z"
    },
    "papermill": {
     "duration": 0.985855,
     "end_time": "2023-06-04T07:30:48.457121",
     "exception": false,
     "start_time": "2023-06-04T07:30:47.471266",
     "status": "completed"
    },
    "tags": []
   },
   "outputs": [
    {
     "data": {
      "text/plain": [
       "[1.8739555736702669,\n",
       " 0.4879802589683719,\n",
       " 0.6433118791101161,\n",
       " 1.3084092202618098,\n",
       " 1.3322949869603014,\n",
       " 1.6257956152758133,\n",
       " 1.3648237476808904]"
      ]
     },
     "execution_count": 9,
     "metadata": {},
     "output_type": "execute_result"
    }
   ],
   "source": [
    "from sklearn.utils import class_weight\n",
    "class_weights = list(class_weight.compute_class_weight('balanced',\n",
    "                                                 classes=np.unique(train_df.label.to_numpy()),\n",
    "                                                 y=train_df.label.to_numpy()))\n",
    "class_weights"
   ]
  },
  {
   "cell_type": "code",
   "execution_count": 10,
   "id": "653896ab",
   "metadata": {
    "execution": {
     "iopub.execute_input": "2023-06-04T07:30:48.477893Z",
     "iopub.status.busy": "2023-06-04T07:30:48.477608Z",
     "iopub.status.idle": "2023-06-04T07:30:48.483945Z",
     "shell.execute_reply": "2023-06-04T07:30:48.483097Z"
    },
    "papermill": {
     "duration": 0.018934,
     "end_time": "2023-06-04T07:30:48.485942",
     "exception": false,
     "start_time": "2023-06-04T07:30:48.467008",
     "status": "completed"
    },
    "tags": []
   },
   "outputs": [
    {
     "data": {
      "text/plain": [
       "{0: 1.8739555736702669,\n",
       " 1: 0.4879802589683719,\n",
       " 2: 0.6433118791101161,\n",
       " 3: 1.3084092202618098,\n",
       " 4: 1.3322949869603014,\n",
       " 5: 1.6257956152758133,\n",
       " 6: 1.3648237476808904}"
      ]
     },
     "execution_count": 10,
     "metadata": {},
     "output_type": "execute_result"
    }
   ],
   "source": [
    "weights = {x:y for x,y in enumerate(class_weights)}\n",
    "weights"
   ]
  },
  {
   "cell_type": "markdown",
   "id": "e6ba9122",
   "metadata": {
    "papermill": {
     "duration": 0.00981,
     "end_time": "2023-06-04T07:30:48.505332",
     "exception": false,
     "start_time": "2023-06-04T07:30:48.495522",
     "status": "completed"
    },
    "tags": []
   },
   "source": [
    "# Visualization the dataset"
   ]
  },
  {
   "cell_type": "code",
   "execution_count": 11,
   "id": "8daabc25",
   "metadata": {
    "execution": {
     "iopub.execute_input": "2023-06-04T07:30:48.526382Z",
     "iopub.status.busy": "2023-06-04T07:30:48.526118Z",
     "iopub.status.idle": "2023-06-04T07:30:48.746741Z",
     "shell.execute_reply": "2023-06-04T07:30:48.745483Z"
    },
    "papermill": {
     "duration": 0.23576,
     "end_time": "2023-06-04T07:30:48.750854",
     "exception": false,
     "start_time": "2023-06-04T07:30:48.515094",
     "status": "completed"
    },
    "tags": []
   },
   "outputs": [
    {
     "data": {
      "image/png": "[encoded data removed]",
      "text/plain": [
       "<Figure size 640x480 with 1 Axes>"
      ]
     },
     "metadata": {},
     "output_type": "display_data"
    }
   ],
   "source": [
    "from matplotlib import pyplot as plt\n",
    "\n",
    "train_files = os.listdir(train_path)\n",
    "img = cv.imread(train_path+\"/\"+train_files[1])\n",
    "plt.imshow(img)\n",
    "plt.xticks([])\n",
    "plt.yticks([])\n",
    "plt.show()"
   ]
  },
  {
   "cell_type": "markdown",
   "id": "c7915501",
   "metadata": {
    "papermill": {
     "duration": 0.010698,
     "end_time": "2023-06-04T07:30:48.773875",
     "exception": false,
     "start_time": "2023-06-04T07:30:48.763177",
     "status": "completed"
    },
    "tags": []
   },
   "source": [
    "# Creating Data Pipelines"
   ]
  },
  {
   "cell_type": "code",
   "execution_count": 12,
   "id": "38b530e0",
   "metadata": {
    "execution": {
     "iopub.execute_input": "2023-06-04T07:30:48.796525Z",
     "iopub.status.busy": "2023-06-04T07:30:48.796229Z",
     "iopub.status.idle": "2023-06-04T07:31:05.247799Z",
     "shell.execute_reply": "2023-06-04T07:31:05.246872Z"
    },
    "papermill": {
     "duration": 16.465726,
     "end_time": "2023-06-04T07:31:05.250159",
     "exception": false,
     "start_time": "2023-06-04T07:30:48.784433",
     "status": "completed"
    },
    "tags": []
   },
   "outputs": [
    {
     "name": "stdout",
     "output_type": "stream",
     "text": [
      "Found 15633 validated image filenames belonging to 7 classes.\n",
      "Found 2758 validated image filenames belonging to 7 classes.\n"
     ]
    }
   ],
   "source": [
    "from tensorflow.keras.preprocessing.image import ImageDataGenerator\n",
    "\n",
    "test_df['label'] = test_df['label'].astype(str)\n",
    "train_df['label'] = train_df['label'].astype(str)\n",
    "\n",
    "datagen = ImageDataGenerator(\n",
    "    rescale=1/255.0,\n",
    "    rotation_range=20,\n",
    "    zoom_range=0.05,\n",
    "    width_shift_range=0.05,\n",
    "    height_shift_range=0.05,\n",
    "    shear_range=0.05,\n",
    "    horizontal_flip=True,\n",
    "    fill_mode = \"nearest\",\n",
    "    validation_split=0.15\n",
    ")\n",
    "\n",
    "train_generator=datagen.flow_from_dataframe(\n",
    "    dataframe=train_df,\n",
    "    directory=\"/kaggle/input/extracting-attributes-from-fashion-images-2/train\",\n",
    "    x_col=\"file_name\",\n",
    "    y_col=\"label\",\n",
    "    subset=\"training\",\n",
    "    batch_size=BATCH_SIZE,\n",
    "    seed=42,\n",
    "    shuffle=True,\n",
    "    class_mode=\"sparse\",\n",
    "    target_size=(INPUT_SHAPE,INPUT_SHAPE))\n",
    "\n",
    "valid_generator=datagen.flow_from_dataframe(\n",
    "    dataframe=train_df,\n",
    "    directory=\"/kaggle/input/extracting-attributes-from-fashion-images-2/train\",\n",
    "    x_col=\"file_name\",\n",
    "    y_col=\"label\",\n",
    "    subset=\"validation\",\n",
    "    batch_size=BATCH_SIZE,\n",
    "    seed=42,\n",
    "    shuffle=True,\n",
    "    class_mode=\"sparse\",\n",
    "    target_size=(INPUT_SHAPE,INPUT_SHAPE))\n",
    "\n"
   ]
  },
  {
   "cell_type": "code",
   "execution_count": 13,
   "id": "2815b953",
   "metadata": {
    "execution": {
     "iopub.execute_input": "2023-06-04T07:31:05.273567Z",
     "iopub.status.busy": "2023-06-04T07:31:05.273267Z",
     "iopub.status.idle": "2023-06-04T07:31:07.925916Z",
     "shell.execute_reply": "2023-06-04T07:31:07.924987Z"
    },
    "papermill": {
     "duration": 2.666641,
     "end_time": "2023-06-04T07:31:07.928031",
     "exception": false,
     "start_time": "2023-06-04T07:31:05.261390",
     "status": "completed"
    },
    "tags": []
   },
   "outputs": [
    {
     "name": "stdout",
     "output_type": "stream",
     "text": [
      "Found 5751 validated image filenames belonging to 1 classes.\n"
     ]
    }
   ],
   "source": [
    "test_datagen=ImageDataGenerator(rescale=1./255.)\n",
    "\n",
    "\n",
    "\n",
    "test_generator=test_datagen.flow_from_dataframe(\n",
    "dataframe=test_df,\n",
    "directory=\"/kaggle/input/extracting-attributes-from-fashion-images-2/test\",\n",
    "x_col=\"file_name\",\n",
    "y_col=\"label\",\n",
    "batch_size=BATCH_SIZE,\n",
    "seed=42,\n",
    "shuffle=False,\n",
    "class_mode=\"sparse\",\n",
    "target_size=(INPUT_SHAPE,INPUT_SHAPE))\n"
   ]
  },
  {
   "cell_type": "markdown",
   "id": "d2c13c50",
   "metadata": {
    "papermill": {
     "duration": 0.010941,
     "end_time": "2023-06-04T07:31:07.950140",
     "exception": false,
     "start_time": "2023-06-04T07:31:07.939199",
     "status": "completed"
    },
    "tags": []
   },
   "source": [
    "# Creating the Deep learning model"
   ]
  },
  {
   "cell_type": "code",
   "execution_count": 14,
   "id": "72728b18",
   "metadata": {
    "execution": {
     "iopub.execute_input": "2023-06-04T07:31:07.973636Z",
     "iopub.status.busy": "2023-06-04T07:31:07.972772Z",
     "iopub.status.idle": "2023-06-04T07:31:12.138959Z",
     "shell.execute_reply": "2023-06-04T07:31:12.138062Z"
    },
    "papermill": {
     "duration": 4.18034,
     "end_time": "2023-06-04T07:31:12.141386",
     "exception": false,
     "start_time": "2023-06-04T07:31:07.961046",
     "status": "completed"
    },
    "tags": []
   },
   "outputs": [
    {
     "name": "stdout",
     "output_type": "stream",
     "text": [
      "Downloading data from https://storage.googleapis.com/tensorflow/keras-applications/mobilenet/mobilenet_1_0_224_tf_no_top.h5\n",
      "17225924/17225924 [==============================] - 0s 0us/step\n"
     ]
    }
   ],
   "source": [
    "from tensorflow.keras.models import Sequential\n",
    "from tensorflow.keras.layers import *\n",
    "from tensorflow import keras\n",
    "import tensorflow as tf\n",
    "from keras.applications import VGG16\n",
    "from tensorflow.python.keras import regularizers\n",
    "\n",
    "# conv_base = VGG16(weights=\"imagenet\",\n",
    "#                  include_top=False,\n",
    "#                  input_shape=(INPUT_SHAPE,INPUT_SHAPE,3)) # 244\n",
    "\n",
    "\n",
    "conv_base = tf.keras.applications.mobilenet.MobileNet( include_top=False,\n",
    "                                                           input_shape=(224, 224,3),\n",
    "                                                           weights='imagenet')    \n",
    "\n",
    "\n",
    "model = Sequential()\n",
    "\n",
    "model.add(conv_base)\n",
    "# conv_base.trainable = False\n",
    "\n",
    "model.add(Flatten())\n",
    "\n",
    "model.add(Dense(128))\n",
    "model.add(Activation('relu'))\n",
    "model.add(BatchNormalization())\n",
    "\n",
    "\n",
    "model.add(Dense(7, activation='softmax'))\n",
    "\n",
    "model.compile(optimizer=keras.optimizers.Adam(lr=LR),loss=\"sparse_categorical_crossentropy\",metrics=[\"accuracy\"])"
   ]
  },
  {
   "cell_type": "code",
   "execution_count": 15,
   "id": "1d971516",
   "metadata": {
    "execution": {
     "iopub.execute_input": "2023-06-04T07:31:12.165711Z",
     "iopub.status.busy": "2023-06-04T07:31:12.165423Z",
     "iopub.status.idle": "2023-06-04T07:31:12.170845Z",
     "shell.execute_reply": "2023-06-04T07:31:12.170020Z"
    },
    "papermill": {
     "duration": 0.019757,
     "end_time": "2023-06-04T07:31:12.172805",
     "exception": false,
     "start_time": "2023-06-04T07:31:12.153048",
     "status": "completed"
    },
    "tags": []
   },
   "outputs": [],
   "source": [
    "# mobile = tf.keras.applications.mobilenet.MobileNet( include_top=False,\n",
    "#                                                            input_shape=(224, 224,3),\n",
    "#                                                            pooling='max', weights='imagenet',\n",
    "#                                                            alpha=1, depth_multiplier=1,dropout=.5)                                                          \n",
    "# x=mobile.layers[-1].output\n",
    "# x=keras.layers.BatchNormalization(axis=-1, momentum=0.99, epsilon=0.001 )(x)\n",
    "# predictions=Dense (7, activation='softmax')(x)\n",
    "\n",
    "# model = tf.keras.Model(inputs=mobile.input, outputs=predictions)    \n",
    "# for layer in model.layers:\n",
    "#     layer.trainable=True\n",
    "# model.compile(tf.keras.optimizers.Adamax(lr=LR), loss='categorical_crossentropy', metrics=['accuracy'])\n",
    "\n",
    "# checkpoint=tf.keras.callbacks.ModelCheckpoint(filepath=\"/kaggle/working/model/\", monitor='val_loss', verbose=0, save_best_only=True,save_weights_only=False, mode='auto', save_freq='epoch', options=None)\n",
    "# lr_adjust=tf.keras.callbacks.ReduceLROnPlateau( monitor=\"val_loss\", factor=0.5, patience=1, verbose=0, mode=\"auto\",\n",
    "#     min_delta=0.00001,  cooldown=0,  min_lr=0) \n",
    "# callbacks=[checkpoint, lr_adjust]\n"
   ]
  },
  {
   "cell_type": "code",
   "execution_count": 16,
   "id": "f8a9e544",
   "metadata": {
    "execution": {
     "iopub.execute_input": "2023-06-04T07:31:12.196181Z",
     "iopub.status.busy": "2023-06-04T07:31:12.195892Z",
     "iopub.status.idle": "2023-06-04T07:31:12.347581Z",
     "shell.execute_reply": "2023-06-04T07:31:12.346854Z"
    },
    "papermill": {
     "duration": 0.295515,
     "end_time": "2023-06-04T07:31:12.479547",
     "exception": false,
     "start_time": "2023-06-04T07:31:12.184032",
     "status": "completed"
    },
    "tags": []
   },
   "outputs": [
    {
     "name": "stdout",
     "output_type": "stream",
     "text": [
      "Model: \"mobilenet_1.00_224\"\n",
      "_________________________________________________________________\n",
      " Layer (type)                Output Shape              Param #   \n",
      "=================================================================\n",
      " input_1 (InputLayer)        [(None, 224, 224, 3)]     0         \n",
      "                                                                 \n",
      " conv1 (Conv2D)              (None, 112, 112, 32)      864       \n",
      "                                                                 \n",
      " conv1_bn (BatchNormalizatio  (None, 112, 112, 32)     128       \n",
      " n)                                                              \n",
      "                                                                 \n",
      " conv1_relu (ReLU)           (None, 112, 112, 32)      0         \n",
      "                                                                 \n",
      " conv_dw_1 (DepthwiseConv2D)  (None, 112, 112, 32)     288       \n",
      "                                                                 \n",
      " conv_dw_1_bn (BatchNormaliz  (None, 112, 112, 32)     128       \n",
      " ation)                                                          \n",
      "                                                                 \n",
      " conv_dw_1_relu (ReLU)       (None, 112, 112, 32)      0         \n",
      "                                                                 \n",
      " conv_pw_1 (Conv2D)          (None, 112, 112, 64)      2048      \n",
      "                                                                 \n",
      " conv_pw_1_bn (BatchNormaliz  (None, 112, 112, 64)     256       \n",
      " ation)                                                          \n",
      "                                                                 \n",
      " conv_pw_1_relu (ReLU)       (None, 112, 112, 64)      0         \n",
      "                                                                 \n",
      " conv_pad_2 (ZeroPadding2D)  (None, 113, 113, 64)      0         \n",
      "                                                                 \n",
      " conv_dw_2 (DepthwiseConv2D)  (None, 56, 56, 64)       576       \n",
      "                                                                 \n",
      " conv_dw_2_bn (BatchNormaliz  (None, 56, 56, 64)       256       \n",
      " ation)                                                          \n",
      "                                                                 \n",
      " conv_dw_2_relu (ReLU)       (None, 56, 56, 64)        0         \n",
      "                                                                 \n",
      " conv_pw_2 (Conv2D)          (None, 56, 56, 128)       8192      \n",
      "                                                                 \n",
      " conv_pw_2_bn (BatchNormaliz  (None, 56, 56, 128)      512       \n",
      " ation)                                                          \n",
      "                                                                 \n",
      " conv_pw_2_relu (ReLU)       (None, 56, 56, 128)       0         \n",
      "                                                                 \n",
      " conv_dw_3 (DepthwiseConv2D)  (None, 56, 56, 128)      1152      \n",
      "                                                                 \n",
      " conv_dw_3_bn (BatchNormaliz  (None, 56, 56, 128)      512       \n",
      " ation)                                                          \n",
      "                                                                 \n",
      " conv_dw_3_relu (ReLU)       (None, 56, 56, 128)       0         \n",
      "                                                                 \n",
      " conv_pw_3 (Conv2D)          (None, 56, 56, 128)       16384     \n",
      "                                                                 \n",
      " conv_pw_3_bn (BatchNormaliz  (None, 56, 56, 128)      512       \n",
      " ation)                                                          \n",
      "                                                                 \n",
      " conv_pw_3_relu (ReLU)       (None, 56, 56, 128)       0         \n",
      "                                                                 \n",
      " conv_pad_4 (ZeroPadding2D)  (None, 57, 57, 128)       0         \n",
      "                                                                 \n",
      " conv_dw_4 (DepthwiseConv2D)  (None, 28, 28, 128)      1152      \n",
      "                                                                 \n",
      " conv_dw_4_bn (BatchNormaliz  (None, 28, 28, 128)      512       \n",
      " ation)                                                          \n",
      "                                                                 \n",
      " conv_dw_4_relu (ReLU)       (None, 28, 28, 128)       0         \n",
      "                                                                 \n",
      " conv_pw_4 (Conv2D)          (None, 28, 28, 256)       32768     \n",
      "                                                                 \n",
      " conv_pw_4_bn (BatchNormaliz  (None, 28, 28, 256)      1024      \n",
      " ation)                                                          \n",
      "                                                                 \n",
      " conv_pw_4_relu (ReLU)       (None, 28, 28, 256)       0         \n",
      "                                                                 \n",
      " conv_dw_5 (DepthwiseConv2D)  (None, 28, 28, 256)      2304      \n",
      "                                                                 \n",
      " conv_dw_5_bn (BatchNormaliz  (None, 28, 28, 256)      1024      \n",
      " ation)                                                          \n",
      "                                                                 \n",
      " conv_dw_5_relu (ReLU)       (None, 28, 28, 256)       0         \n",
      "                                                                 \n",
      " conv_pw_5 (Conv2D)          (None, 28, 28, 256)       65536     \n",
      "                                                                 \n",
      " conv_pw_5_bn (BatchNormaliz  (None, 28, 28, 256)      1024      \n",
      " ation)                                                          \n",
      "                                                                 \n",
      " conv_pw_5_relu (ReLU)       (None, 28, 28, 256)       0         \n",
      "                                                                 \n",
      " conv_pad_6 (ZeroPadding2D)  (None, 29, 29, 256)       0         \n",
      "                                                                 \n",
      " conv_dw_6 (DepthwiseConv2D)  (None, 14, 14, 256)      2304      \n",
      "                                                                 \n",
      " conv_dw_6_bn (BatchNormaliz  (None, 14, 14, 256)      1024      \n",
      " ation)                                                          \n",
      "                                                                 \n",
      " conv_dw_6_relu (ReLU)       (None, 14, 14, 256)       0         \n",
      "                                                                 \n",
      " conv_pw_6 (Conv2D)          (None, 14, 14, 512)       131072    \n",
      "                                                                 \n",
      " conv_pw_6_bn (BatchNormaliz  (None, 14, 14, 512)      2048      \n",
      " ation)                                                          \n",
      "                                                                 \n",
      " conv_pw_6_relu (ReLU)       (None, 14, 14, 512)       0         \n",
      "                                                                 \n",
      " conv_dw_7 (DepthwiseConv2D)  (None, 14, 14, 512)      4608      \n",
      "                                                                 \n",
      " conv_dw_7_bn (BatchNormaliz  (None, 14, 14, 512)      2048      \n",
      " ation)                                                          \n",
      "                                                                 \n",
      " conv_dw_7_relu (ReLU)       (None, 14, 14, 512)       0         \n",
      "                                                                 \n",
      " conv_pw_7 (Conv2D)          (None, 14, 14, 512)       262144    \n",
      "                                                                 \n",
      " conv_pw_7_bn (BatchNormaliz  (None, 14, 14, 512)      2048      \n",
      " ation)                                                          \n",
      "                                                                 \n",
      " conv_pw_7_relu (ReLU)       (None, 14, 14, 512)       0         \n",
      "                                                                 \n",
      " conv_dw_8 (DepthwiseConv2D)  (None, 14, 14, 512)      4608      \n",
      "                                                                 \n",
      " conv_dw_8_bn (BatchNormaliz  (None, 14, 14, 512)      2048      \n",
      " ation)                                                          \n",
      "                                                                 \n",
      " conv_dw_8_relu (ReLU)       (None, 14, 14, 512)       0         \n",
      "                                                                 \n",
      " conv_pw_8 (Conv2D)          (None, 14, 14, 512)       262144    \n",
      "                                                                 \n",
      " conv_pw_8_bn (BatchNormaliz  (None, 14, 14, 512)      2048      \n",
      " ation)                                                          \n",
      "                                                                 \n",
      " conv_pw_8_relu (ReLU)       (None, 14, 14, 512)       0         \n",
      "                                                                 \n",
      " conv_dw_9 (DepthwiseConv2D)  (None, 14, 14, 512)      4608      \n",
      "                                                                 \n",
      " conv_dw_9_bn (BatchNormaliz  (None, 14, 14, 512)      2048      \n",
      " ation)                                                          \n",
      "                                                                 \n",
      " conv_dw_9_relu (ReLU)       (None, 14, 14, 512)       0         \n",
      "                                                                 \n",
      " conv_pw_9 (Conv2D)          (None, 14, 14, 512)       262144    \n",
      "                                                                 \n",
      " conv_pw_9_bn (BatchNormaliz  (None, 14, 14, 512)      2048      \n",
      " ation)                                                          \n",
      "                                                                 \n",
      " conv_pw_9_relu (ReLU)       (None, 14, 14, 512)       0         \n",
      "                                                                 \n",
      " conv_dw_10 (DepthwiseConv2D  (None, 14, 14, 512)      4608      \n",
      " )                                                               \n",
      "                                                                 \n",
      " conv_dw_10_bn (BatchNormali  (None, 14, 14, 512)      2048      \n",
      " zation)                                                         \n",
      "                                                                 \n",
      " conv_dw_10_relu (ReLU)      (None, 14, 14, 512)       0         \n",
      "                                                                 \n",
      " conv_pw_10 (Conv2D)         (None, 14, 14, 512)       262144    \n",
      "                                                                 \n",
      " conv_pw_10_bn (BatchNormali  (None, 14, 14, 512)      2048      \n",
      " zation)                                                         \n",
      "                                                                 \n",
      " conv_pw_10_relu (ReLU)      (None, 14, 14, 512)       0         \n",
      "                                                                 \n",
      " conv_dw_11 (DepthwiseConv2D  (None, 14, 14, 512)      4608      \n",
      " )                                                               \n",
      "                                                                 \n",
      " conv_dw_11_bn (BatchNormali  (None, 14, 14, 512)      2048      \n",
      " zation)                                                         \n",
      "                                                                 \n",
      " conv_dw_11_relu (ReLU)      (None, 14, 14, 512)       0         \n",
      "                                                                 \n",
      " conv_pw_11 (Conv2D)         (None, 14, 14, 512)       262144    \n",
      "                                                                 \n",
      " conv_pw_11_bn (BatchNormali  (None, 14, 14, 512)      2048      \n",
      " zation)                                                         \n",
      "                                                                 \n",
      " conv_pw_11_relu (ReLU)      (None, 14, 14, 512)       0         \n",
      "                                                                 \n",
      " conv_pad_12 (ZeroPadding2D)  (None, 15, 15, 512)      0         \n",
      "                                                                 \n",
      " conv_dw_12 (DepthwiseConv2D  (None, 7, 7, 512)        4608      \n",
      " )                                                               \n",
      "                                                                 \n",
      " conv_dw_12_bn (BatchNormali  (None, 7, 7, 512)        2048      \n",
      " zation)                                                         \n",
      "                                                                 \n",
      " conv_dw_12_relu (ReLU)      (None, 7, 7, 512)         0         \n",
      "                                                                 \n",
      " conv_pw_12 (Conv2D)         (None, 7, 7, 1024)        524288    \n",
      "                                                                 \n",
      " conv_pw_12_bn (BatchNormali  (None, 7, 7, 1024)       4096      \n",
      " zation)                                                         \n",
      "                                                                 \n",
      " conv_pw_12_relu (ReLU)      (None, 7, 7, 1024)        0         \n",
      "                                                                 \n",
      " conv_dw_13 (DepthwiseConv2D  (None, 7, 7, 1024)       9216      \n",
      " )                                                               \n",
      "                                                                 \n",
      " conv_dw_13_bn (BatchNormali  (None, 7, 7, 1024)       4096      \n",
      " zation)                                                         \n",
      "                                                                 \n",
      " conv_dw_13_relu (ReLU)      (None, 7, 7, 1024)        0         \n",
      "                                                                 \n",
      " conv_pw_13 (Conv2D)         (None, 7, 7, 1024)        1048576   \n",
      "                                                                 \n",
      " conv_pw_13_bn (BatchNormali  (None, 7, 7, 1024)       4096      \n",
      " zation)                                                         \n",
      "                                                                 \n",
      " conv_pw_13_relu (ReLU)      (None, 7, 7, 1024)        0         \n",
      "                                                                 \n",
      "=================================================================\n",
      "Total params: 3,228,864\n",
      "Trainable params: 3,206,976\n",
      "Non-trainable params: 21,888\n",
      "_________________________________________________________________\n"
     ]
    }
   ],
   "source": [
    "conv_base.summary()"
   ]
  },
  {
   "cell_type": "code",
   "execution_count": 17,
   "id": "b6a9aed5",
   "metadata": {
    "execution": {
     "iopub.execute_input": "2023-06-04T07:31:12.536666Z",
     "iopub.status.busy": "2023-06-04T07:31:12.536338Z",
     "iopub.status.idle": "2023-06-04T07:31:12.574262Z",
     "shell.execute_reply": "2023-06-04T07:31:12.573506Z"
    },
    "papermill": {
     "duration": 0.069002,
     "end_time": "2023-06-04T07:31:12.576527",
     "exception": false,
     "start_time": "2023-06-04T07:31:12.507525",
     "status": "completed"
    },
    "tags": []
   },
   "outputs": [
    {
     "name": "stdout",
     "output_type": "stream",
     "text": [
      "Model: \"sequential\"\n",
      "_________________________________________________________________\n",
      " Layer (type)                Output Shape              Param #   \n",
      "=================================================================\n",
      " mobilenet_1.00_224 (Functio  (None, 7, 7, 1024)       3228864   \n",
      " nal)                                                            \n",
      "                                                                 \n",
      " flatten (Flatten)           (None, 50176)             0         \n",
      "                                                                 \n",
      " dense (Dense)               (None, 128)               6422656   \n",
      "                                                                 \n",
      " activation (Activation)     (None, 128)               0         \n",
      "                                                                 \n",
      " batch_normalization (BatchN  (None, 128)              512       \n",
      " ormalization)                                                   \n",
      "                                                                 \n",
      " dense_1 (Dense)             (None, 7)                 903       \n",
      "                                                                 \n",
      "=================================================================\n",
      "Total params: 9,652,935\n",
      "Trainable params: 9,630,791\n",
      "Non-trainable params: 22,144\n",
      "_________________________________________________________________\n"
     ]
    }
   ],
   "source": [
    "model.summary()"
   ]
  },
  {
   "cell_type": "markdown",
   "id": "f421dd7a",
   "metadata": {
    "papermill": {
     "duration": 0.02759,
     "end_time": "2023-06-04T07:31:12.632131",
     "exception": false,
     "start_time": "2023-06-04T07:31:12.604541",
     "status": "completed"
    },
    "tags": []
   },
   "source": [
    "# Training"
   ]
  },
  {
   "cell_type": "code",
   "execution_count": 18,
   "id": "47782962",
   "metadata": {
    "execution": {
     "iopub.execute_input": "2023-06-04T07:31:12.689835Z",
     "iopub.status.busy": "2023-06-04T07:31:12.689504Z",
     "iopub.status.idle": "2023-06-04T07:31:13.660915Z",
     "shell.execute_reply": "2023-06-04T07:31:13.659691Z"
    },
    "papermill": {
     "duration": 1.003186,
     "end_time": "2023-06-04T07:31:13.663696",
     "exception": false,
     "start_time": "2023-06-04T07:31:12.660510",
     "status": "completed"
    },
    "tags": []
   },
   "outputs": [],
   "source": [
    "! mkdir /kaggle/working/model/\n",
    "\n",
    "checkpoint=tf.keras.callbacks.ModelCheckpoint(filepath=\"/kaggle/working/model/CNN.h5\", \n",
    "                                              monitor='val_accuracy', \n",
    "                                              verbose=0, \n",
    "                                              save_best_only=True,\n",
    "                                              save_weights_only=False, \n",
    "                                              mode='auto', \n",
    "                                              save_freq='epoch', \n",
    "                                              options=None)"
   ]
  },
  {
   "cell_type": "code",
   "execution_count": 19,
   "id": "21a9d8e7",
   "metadata": {
    "execution": {
     "iopub.execute_input": "2023-06-04T07:31:13.721596Z",
     "iopub.status.busy": "2023-06-04T07:31:13.720713Z",
     "iopub.status.idle": "2023-06-04T08:04:24.983803Z",
     "shell.execute_reply": "2023-06-04T08:04:24.982932Z"
    },
    "papermill": {
     "duration": 1991.29411,
     "end_time": "2023-06-04T08:04:24.985864",
     "exception": false,
     "start_time": "2023-06-04T07:31:13.691754",
     "status": "completed"
    },
    "tags": []
   },
   "outputs": [
    {
     "name": "stdout",
     "output_type": "stream",
     "text": [
      "Epoch 1/7\n",
      "244/244 [==============================] - 342s 1s/step - loss: 1.0228 - accuracy: 0.5480 - val_loss: 1.2875 - val_accuracy: 0.4677\n",
      "Epoch 2/7\n",
      "244/244 [==============================] - 265s 1s/step - loss: 0.7497 - accuracy: 0.6484 - val_loss: 1.2937 - val_accuracy: 0.4462\n",
      "Epoch 3/7\n",
      "244/244 [==============================] - 266s 1s/step - loss: 0.6767 - accuracy: 0.6760 - val_loss: 1.6004 - val_accuracy: 0.3557\n",
      "Epoch 4/7\n",
      "244/244 [==============================] - 265s 1s/step - loss: 0.6351 - accuracy: 0.6954 - val_loss: 1.4133 - val_accuracy: 0.3993\n",
      "Epoch 5/7\n",
      "244/244 [==============================] - 262s 1s/step - loss: 0.6061 - accuracy: 0.7020 - val_loss: 1.3212 - val_accuracy: 0.4208\n",
      "Epoch 6/7\n",
      "244/244 [==============================] - 267s 1s/step - loss: 0.5889 - accuracy: 0.7090 - val_loss: 1.0909 - val_accuracy: 0.5345\n",
      "Epoch 7/7\n",
      "244/244 [==============================] - 266s 1s/step - loss: 0.5463 - accuracy: 0.7282 - val_loss: 1.6092 - val_accuracy: 0.3761\n",
      "dict_keys(['loss', 'accuracy', 'val_loss', 'val_accuracy'])\n"
     ]
    },
    {
     "data": {
      "image/png": "[encoded data removed]",
      "text/plain": [
       "<Figure size 640x480 with 1 Axes>"
      ]
     },
     "metadata": {},
     "output_type": "display_data"
    },
    {
     "data": {
      "image/png": "[encoded data removed]",
      "text/plain": [
       "<Figure size 640x480 with 1 Axes>"
      ]
     },
     "metadata": {},
     "output_type": "display_data"
    }
   ],
   "source": [
    "STEP_SIZE_TRAIN=train_generator.n//train_generator.batch_size\n",
    "STEP_SIZE_VALID=valid_generator.n//valid_generator.batch_size\n",
    "STEP_SIZE_TEST=test_generator.n//test_generator.batch_size\n",
    "\n",
    "history = model.fit(train_generator,\n",
    "                    steps_per_epoch=STEP_SIZE_TRAIN,\n",
    "                    validation_data=valid_generator,\n",
    "                    validation_steps=STEP_SIZE_VALID,\n",
    "                    epochs=EPOCHS,\n",
    "                   callbacks=[checkpoint],\n",
    "                   class_weight=weights)\n",
    "\n",
    "\n",
    "\n",
    "print(history.history.keys())\n",
    "# summarize history for accuracy\n",
    "plt.plot(history.history['accuracy'])\n",
    "plt.plot(history.history['val_accuracy'])\n",
    "plt.title('model accuracy')\n",
    "plt.ylabel('accuracy')\n",
    "plt.xlabel('epoch')\n",
    "plt.legend(['train', 'test'], loc='upper left')\n",
    "plt.grid()\n",
    "plt.show()\n",
    "# summarize history for loss\n",
    "plt.plot(history.history['loss'])\n",
    "plt.plot(history.history['val_loss'])\n",
    "plt.title('model loss')\n",
    "plt.ylabel('loss')\n",
    "plt.xlabel('epoch')\n",
    "plt.legend(['train', 'test'], loc='upper left')\n",
    "plt.grid()\n",
    "plt.show()"
   ]
  },
  {
   "cell_type": "code",
   "execution_count": 20,
   "id": "136d8651",
   "metadata": {
    "execution": {
     "iopub.execute_input": "2023-06-04T08:04:25.295350Z",
     "iopub.status.busy": "2023-06-04T08:04:25.293527Z",
     "iopub.status.idle": "2023-06-04T08:04:26.805501Z",
     "shell.execute_reply": "2023-06-04T08:04:26.804700Z"
    },
    "papermill": {
     "duration": 1.669291,
     "end_time": "2023-06-04T08:04:26.808043",
     "exception": false,
     "start_time": "2023-06-04T08:04:25.138752",
     "status": "completed"
    },
    "tags": []
   },
   "outputs": [],
   "source": [
    "model = tf.keras.models.load_model(\"/kaggle/working/model/CNN.h5\")"
   ]
  },
  {
   "cell_type": "markdown",
   "id": "cb44e3e3",
   "metadata": {
    "papermill": {
     "duration": 0.162219,
     "end_time": "2023-06-04T08:04:27.218186",
     "exception": false,
     "start_time": "2023-06-04T08:04:27.055967",
     "status": "completed"
    },
    "tags": []
   },
   "source": [
    "# Testing"
   ]
  },
  {
   "cell_type": "code",
   "execution_count": 21,
   "id": "1258c95a",
   "metadata": {
    "execution": {
     "iopub.execute_input": "2023-06-04T08:04:27.564872Z",
     "iopub.status.busy": "2023-06-04T08:04:27.564507Z",
     "iopub.status.idle": "2023-06-04T08:05:09.920214Z",
     "shell.execute_reply": "2023-06-04T08:05:09.918990Z"
    },
    "papermill": {
     "duration": 42.527744,
     "end_time": "2023-06-04T08:05:09.922440",
     "exception": false,
     "start_time": "2023-06-04T08:04:27.394696",
     "status": "completed"
    },
    "tags": []
   },
   "outputs": [
    {
     "name": "stdout",
     "output_type": "stream",
     "text": [
      "89/89 [==============================] - 39s 423ms/step - loss: 1.1210 - accuracy: 0.5334\n"
     ]
    },
    {
     "data": {
      "text/plain": [
       "[1.121003270149231, 0.5333575010299683]"
      ]
     },
     "execution_count": 21,
     "metadata": {},
     "output_type": "execute_result"
    }
   ],
   "source": [
    "valid_generator.reset()\n",
    "model.evaluate(valid_generator,\n",
    "steps=STEP_SIZE_TEST)"
   ]
  },
  {
   "cell_type": "code",
   "execution_count": 22,
   "id": "f1da7c53",
   "metadata": {
    "execution": {
     "iopub.execute_input": "2023-06-04T08:05:10.242020Z",
     "iopub.status.busy": "2023-06-04T08:05:10.241665Z",
     "iopub.status.idle": "2023-06-04T08:05:57.908435Z",
     "shell.execute_reply": "2023-06-04T08:05:57.907515Z"
    },
    "papermill": {
     "duration": 47.828935,
     "end_time": "2023-06-04T08:05:57.910488",
     "exception": false,
     "start_time": "2023-06-04T08:05:10.081553",
     "status": "completed"
    },
    "tags": []
   },
   "outputs": [
    {
     "name": "stdout",
     "output_type": "stream",
     "text": [
      "90/90 [==============================] - 47s 519ms/step\n"
     ]
    }
   ],
   "source": [
    "test_generator.reset()\n",
    "pred=model.predict(test_generator)"
   ]
  },
  {
   "cell_type": "code",
   "execution_count": 23,
   "id": "f148a73e",
   "metadata": {
    "execution": {
     "iopub.execute_input": "2023-06-04T08:05:58.238606Z",
     "iopub.status.busy": "2023-06-04T08:05:58.237927Z",
     "iopub.status.idle": "2023-06-04T08:05:58.245355Z",
     "shell.execute_reply": "2023-06-04T08:05:58.244356Z"
    },
    "papermill": {
     "duration": 0.173586,
     "end_time": "2023-06-04T08:05:58.247754",
     "exception": false,
     "start_time": "2023-06-04T08:05:58.074168",
     "status": "completed"
    },
    "tags": []
   },
   "outputs": [
    {
     "data": {
      "text/plain": [
       "array([2, 6, 0, ..., 0, 1, 0])"
      ]
     },
     "execution_count": 23,
     "metadata": {},
     "output_type": "execute_result"
    }
   ],
   "source": [
    "y_pred=np.argmax(pred,axis=1)\n",
    "y_pred"
   ]
  },
  {
   "cell_type": "code",
   "execution_count": 24,
   "id": "a654509c",
   "metadata": {
    "execution": {
     "iopub.execute_input": "2023-06-04T08:05:58.578404Z",
     "iopub.status.busy": "2023-06-04T08:05:58.578039Z",
     "iopub.status.idle": "2023-06-04T08:05:58.674066Z",
     "shell.execute_reply": "2023-06-04T08:05:58.673095Z"
    },
    "papermill": {
     "duration": 0.262045,
     "end_time": "2023-06-04T08:05:58.675983",
     "exception": false,
     "start_time": "2023-06-04T08:05:58.413938",
     "status": "completed"
    },
    "tags": []
   },
   "outputs": [
    {
     "name": "stdout",
     "output_type": "stream",
     "text": [
      "[[ 884 1015  581  868  567  860  976]\n",
      " [   0    0    0    0    0    0    0]\n",
      " [   0    0    0    0    0    0    0]\n",
      " [   0    0    0    0    0    0    0]\n",
      " [   0    0    0    0    0    0    0]\n",
      " [   0    0    0    0    0    0    0]\n",
      " [   0    0    0    0    0    0    0]]\n"
     ]
    },
    {
     "data": {
      "text/plain": [
       "0.15371239784385324"
      ]
     },
     "execution_count": 24,
     "metadata": {},
     "output_type": "execute_result"
    }
   ],
   "source": [
    "from sklearn.metrics import confusion_matrix,accuracy_score\n",
    "test_df['label'] = test_df['label'].astype(int)\n",
    "\n",
    "cm=confusion_matrix(test_df.label, y_pred)\n",
    "print(cm)\n",
    "\n",
    "accuracy_score(test_df.label.to_numpy(), y_pred)\n",
    "# tn,fp,fn,tp = confusion_matrix(test_df.label, y_pred).ravel()"
   ]
  },
  {
   "cell_type": "markdown",
   "id": "78006d96",
   "metadata": {
    "papermill": {
     "duration": 0.180382,
     "end_time": "2023-06-04T08:05:59.046809",
     "exception": false,
     "start_time": "2023-06-04T08:05:58.866427",
     "status": "completed"
    },
    "tags": []
   },
   "source": [
    "# Creating submission.csv"
   ]
  },
  {
   "cell_type": "code",
   "execution_count": 25,
   "id": "14d8b20b",
   "metadata": {
    "execution": {
     "iopub.execute_input": "2023-06-04T08:05:59.402276Z",
     "iopub.status.busy": "2023-06-04T08:05:59.401906Z",
     "iopub.status.idle": "2023-06-04T08:05:59.425843Z",
     "shell.execute_reply": "2023-06-04T08:05:59.424983Z"
    },
    "papermill": {
     "duration": 0.201411,
     "end_time": "2023-06-04T08:05:59.427856",
     "exception": false,
     "start_time": "2023-06-04T08:05:59.226445",
     "status": "completed"
    },
    "tags": []
   },
   "outputs": [],
   "source": [
    "filenames=test_generator.filenames\n",
    "results=pd.DataFrame({\"Filename\":filenames,\n",
    "                      \"Predictions\":y_pred})\n",
    "results.to_csv(\"submission.csv\",index=False)"
   ]
  },
  {
   "cell_type": "code",
   "execution_count": 26,
   "id": "0677b1bb",
   "metadata": {
    "execution": {
     "iopub.execute_input": "2023-06-04T08:05:59.762207Z",
     "iopub.status.busy": "2023-06-04T08:05:59.761237Z",
     "iopub.status.idle": "2023-06-04T08:05:59.765738Z",
     "shell.execute_reply": "2023-06-04T08:05:59.764800Z"
    },
    "papermill": {
     "duration": 0.17409,
     "end_time": "2023-06-04T08:05:59.767684",
     "exception": false,
     "start_time": "2023-06-04T08:05:59.593594",
     "status": "completed"
    },
    "tags": []
   },
   "outputs": [],
   "source": [
    "# test_df['label'] = test_df['label'].astype(int)"
   ]
  },
  {
   "cell_type": "markdown",
   "id": "7ae2a8bc",
   "metadata": {
    "papermill": {
     "duration": 0.165247,
     "end_time": "2023-06-04T08:06:00.097934",
     "exception": false,
     "start_time": "2023-06-04T08:05:59.932687",
     "status": "completed"
    },
    "tags": []
   },
   "source": [
    "# Reasons for low testing accuracy \n",
    "**Problem**: Although the training and testing data belong to the same dataset, the split in the dataset is very different, training data has about 1402 belonging to class 0 and the testing data has all the data belonging to class 0. Inorder to make a model that generalizes well on the dataset we need atleast a minimun of 5000 samples per class.\n",
    "\n",
    "**Solution 1**: Adding more data in the dataset would lead to better learning of the model and would remove any bias in the dataset. But this is not possible in our case.\n",
    "\n",
    "**Solution 2**: If adding data is not an option then using a pre-trained model could lead to better generalization. This is because pre trained models are trained for good feature extration. This should work for our use case but from what I have learned while training the model, Due to the low amount of class 0 data in the dataset the pretrained model is also not able to learn well even though it generalizes well.\n"
   ]
  },
  {
   "cell_type": "code",
   "execution_count": null,
   "id": "3c869290",
   "metadata": {
    "papermill": {
     "duration": 0.165281,
     "end_time": "2023-06-04T08:06:00.474147",
     "exception": false,
     "start_time": "2023-06-04T08:06:00.308866",
     "status": "completed"
    },
    "tags": []
   },
   "outputs": [],
   "source": []
  }
 ],
 "metadata": {
  "kernelspec": {
   "display_name": "Python 3",
   "language": "python",
   "name": "python3"
  },
  "language_info": {
   "codemirror_mode": {
    "name": "ipython",
    "version": 3
   },
   "file_extension": ".py",
   "mimetype": "text/x-python",
   "name": "python",
   "nbconvert_exporter": "python",
   "pygments_lexer": "ipython3",
   "version": "3.10.10"
  },
  "papermill": {
   "default_parameters": {},
   "duration": 2151.78717,
   "end_time": "2023-06-04T08:06:03.641146",
   "environment_variables": {},
   "exception": null,
   "input_path": "__notebook__.ipynb",
   "output_path": "__notebook__.ipynb",
   "parameters": {},
   "start_time": "2023-06-04T07:30:11.853976",
   "version": "2.4.0"
  }
 },
 "nbformat": 4,
 "nbformat_minor": 5
}
