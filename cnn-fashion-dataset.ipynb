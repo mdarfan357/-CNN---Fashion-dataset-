{
 "cells": [
  {
   "cell_type": "code",
   "execution_count": 1,
   "id": "69af417c",
   "metadata": {
    "_cell_guid": "b1076dfc-b9ad-4769-8c92-a6c4dae69d19",
    "_uuid": "8f2839f25d086af736a60e9eeb907d3b93b6e0e5",
    "execution": {
     "iopub.execute_input": "2023-06-04T11:01:29.332061Z",
     "iopub.status.busy": "2023-06-04T11:01:29.331600Z",
     "iopub.status.idle": "2023-06-04T11:01:39.456475Z",
     "shell.execute_reply": "2023-06-04T11:01:39.455539Z"
    },
    "papermill": {
     "duration": 10.137888,
     "end_time": "2023-06-04T11:01:39.458840",
     "exception": false,
     "start_time": "2023-06-04T11:01:29.320952",
     "status": "completed"
    },
    "tags": []
   },
   "outputs": [],
   "source": [
    "# This Python 3 environment comes with many helpful analytics libraries installed\n",
    "# It is defined by the kaggle/python Docker image: https://github.com/kaggle/docker-python\n",
    "# For example, here's several helpful packages to load\n",
    "\n",
    "import numpy as np # linear algebra\n",
    "import pandas as pd # data processing, CSV file I/O (e.g. pd.read_csv)\n",
    "\n",
    "# Input data files are available in the read-only \"../input/\" directory\n",
    "# For example, running this (by clicking run or pressing Shift+Enter) will list all files under the input directory\n",
    "\n",
    "import os\n",
    "for dirname, _, filenames in os.walk('/kaggle/input'):\n",
    "    for filename in filenames:\n",
    "        os.path.join(dirname, filename)\n"
   ]
  },
  {
   "cell_type": "markdown",
   "id": "c472ec3a",
   "metadata": {
    "papermill": {
     "duration": 0.008411,
     "end_time": "2023-06-04T11:01:39.476501",
     "exception": false,
     "start_time": "2023-06-04T11:01:39.468090",
     "status": "completed"
    },
    "tags": []
   },
   "source": [
    "# Importing Required Modules "
   ]
  },
  {
   "cell_type": "code",
   "execution_count": 2,
   "id": "8bee5ac9",
   "metadata": {
    "execution": {
     "iopub.execute_input": "2023-06-04T11:01:39.495682Z",
     "iopub.status.busy": "2023-06-04T11:01:39.494804Z",
     "iopub.status.idle": "2023-06-04T11:01:47.460970Z",
     "shell.execute_reply": "2023-06-04T11:01:47.459916Z"
    },
    "papermill": {
     "duration": 7.97807,
     "end_time": "2023-06-04T11:01:47.463281",
     "exception": false,
     "start_time": "2023-06-04T11:01:39.485211",
     "status": "completed"
    },
    "tags": []
   },
   "outputs": [
    {
     "name": "stderr",
     "output_type": "stream",
     "text": [
      "/opt/conda/lib/python3.10/site-packages/tensorflow_io/python/ops/__init__.py:98: UserWarning: unable to load libtensorflow_io_plugins.so: unable to open file: libtensorflow_io_plugins.so, from paths: ['/opt/conda/lib/python3.10/site-packages/tensorflow_io/python/ops/libtensorflow_io_plugins.so']\n",
      "caused by: ['/opt/conda/lib/python3.10/site-packages/tensorflow_io/python/ops/libtensorflow_io_plugins.so: undefined symbol: _ZN3tsl6StatusC1EN10tensorflow5error4CodeESt17basic_string_viewIcSt11char_traitsIcEENS_14SourceLocationE']\n",
      "  warnings.warn(f\"unable to load libtensorflow_io_plugins.so: {e}\")\n",
      "/opt/conda/lib/python3.10/site-packages/tensorflow_io/python/ops/__init__.py:104: UserWarning: file system plugins are not loaded: unable to open file: libtensorflow_io.so, from paths: ['/opt/conda/lib/python3.10/site-packages/tensorflow_io/python/ops/libtensorflow_io.so']\n",
      "caused by: ['/opt/conda/lib/python3.10/site-packages/tensorflow_io/python/ops/libtensorflow_io.so: undefined symbol: _ZTVN10tensorflow13GcsFileSystemE']\n",
      "  warnings.warn(f\"file system plugins are not loaded: {e}\")\n"
     ]
    }
   ],
   "source": [
    "import pandas as pd\n",
    "import cv2 as cv\n",
    "from tensorflow.keras.models import Sequential\n",
    "from tensorflow.keras.layers import *\n",
    "import os"
   ]
  },
  {
   "cell_type": "markdown",
   "id": "ed2aff7f",
   "metadata": {
    "papermill": {
     "duration": 0.008527,
     "end_time": "2023-06-04T11:01:47.480853",
     "exception": false,
     "start_time": "2023-06-04T11:01:47.472326",
     "status": "completed"
    },
    "tags": []
   },
   "source": [
    "# Model Hyper parameters"
   ]
  },
  {
   "cell_type": "code",
   "execution_count": 3,
   "id": "598205c8",
   "metadata": {
    "execution": {
     "iopub.execute_input": "2023-06-04T11:01:47.499660Z",
     "iopub.status.busy": "2023-06-04T11:01:47.498705Z",
     "iopub.status.idle": "2023-06-04T11:01:47.504154Z",
     "shell.execute_reply": "2023-06-04T11:01:47.503345Z"
    },
    "papermill": {
     "duration": 0.016805,
     "end_time": "2023-06-04T11:01:47.506050",
     "exception": false,
     "start_time": "2023-06-04T11:01:47.489245",
     "status": "completed"
    },
    "tags": []
   },
   "outputs": [],
   "source": [
    "train_path = \"/kaggle/input/extracting-attributes-from-fashion-images-2/train\"\n",
    "BATCH_SIZE = 64\n",
    "EPOCHS = 7\n",
    "INPUT_SHAPE = 224\n",
    "LR = 0.0000001"
   ]
  },
  {
   "cell_type": "markdown",
   "id": "4093c68f",
   "metadata": {
    "papermill": {
     "duration": 0.008427,
     "end_time": "2023-06-04T11:01:47.523125",
     "exception": false,
     "start_time": "2023-06-04T11:01:47.514698",
     "status": "completed"
    },
    "tags": []
   },
   "source": [
    "# Data Importing"
   ]
  },
  {
   "cell_type": "code",
   "execution_count": 4,
   "id": "d39945a6",
   "metadata": {
    "execution": {
     "iopub.execute_input": "2023-06-04T11:01:47.542239Z",
     "iopub.status.busy": "2023-06-04T11:01:47.541438Z",
     "iopub.status.idle": "2023-06-04T11:01:47.585808Z",
     "shell.execute_reply": "2023-06-04T11:01:47.584917Z"
    },
    "papermill": {
     "duration": 0.056239,
     "end_time": "2023-06-04T11:01:47.588013",
     "exception": false,
     "start_time": "2023-06-04T11:01:47.531774",
     "status": "completed"
    },
    "tags": []
   },
   "outputs": [
    {
     "data": {
      "text/html": [
       "<div>\n",
       "<style scoped>\n",
       "    .dataframe tbody tr th:only-of-type {\n",
       "        vertical-align: middle;\n",
       "    }\n",
       "\n",
       "    .dataframe tbody tr th {\n",
       "        vertical-align: top;\n",
       "    }\n",
       "\n",
       "    .dataframe thead th {\n",
       "        text-align: right;\n",
       "    }\n",
       "</style>\n",
       "<table border=\"1\" class=\"dataframe\">\n",
       "  <thead>\n",
       "    <tr style=\"text-align: right;\">\n",
       "      <th></th>\n",
       "      <th>file_name</th>\n",
       "      <th>label</th>\n",
       "    </tr>\n",
       "  </thead>\n",
       "  <tbody>\n",
       "    <tr>\n",
       "      <th>0</th>\n",
       "      <td>Image_train_00001.jpg</td>\n",
       "      <td>0</td>\n",
       "    </tr>\n",
       "    <tr>\n",
       "      <th>1</th>\n",
       "      <td>Image_train_00002.jpg</td>\n",
       "      <td>1</td>\n",
       "    </tr>\n",
       "    <tr>\n",
       "      <th>2</th>\n",
       "      <td>Image_train_00003.jpg</td>\n",
       "      <td>0</td>\n",
       "    </tr>\n",
       "    <tr>\n",
       "      <th>3</th>\n",
       "      <td>Image_train_00004.jpg</td>\n",
       "      <td>0</td>\n",
       "    </tr>\n",
       "    <tr>\n",
       "      <th>4</th>\n",
       "      <td>Image_train_00005.jpg</td>\n",
       "      <td>0</td>\n",
       "    </tr>\n",
       "    <tr>\n",
       "      <th>...</th>\n",
       "      <td>...</td>\n",
       "      <td>...</td>\n",
       "    </tr>\n",
       "    <tr>\n",
       "      <th>18386</th>\n",
       "      <td>Image_train_18387.jpg</td>\n",
       "      <td>1</td>\n",
       "    </tr>\n",
       "    <tr>\n",
       "      <th>18387</th>\n",
       "      <td>Image_train_18388.jpg</td>\n",
       "      <td>2</td>\n",
       "    </tr>\n",
       "    <tr>\n",
       "      <th>18388</th>\n",
       "      <td>Image_train_18389.jpg</td>\n",
       "      <td>1</td>\n",
       "    </tr>\n",
       "    <tr>\n",
       "      <th>18389</th>\n",
       "      <td>Image_train_18390.jpg</td>\n",
       "      <td>1</td>\n",
       "    </tr>\n",
       "    <tr>\n",
       "      <th>18390</th>\n",
       "      <td>Image_train_18391.jpg</td>\n",
       "      <td>1</td>\n",
       "    </tr>\n",
       "  </tbody>\n",
       "</table>\n",
       "<p>18391 rows × 2 columns</p>\n",
       "</div>"
      ],
      "text/plain": [
       "                   file_name  label\n",
       "0      Image_train_00001.jpg      0\n",
       "1      Image_train_00002.jpg      1\n",
       "2      Image_train_00003.jpg      0\n",
       "3      Image_train_00004.jpg      0\n",
       "4      Image_train_00005.jpg      0\n",
       "...                      ...    ...\n",
       "18386  Image_train_18387.jpg      1\n",
       "18387  Image_train_18388.jpg      2\n",
       "18388  Image_train_18389.jpg      1\n",
       "18389  Image_train_18390.jpg      1\n",
       "18390  Image_train_18391.jpg      1\n",
       "\n",
       "[18391 rows x 2 columns]"
      ]
     },
     "execution_count": 4,
     "metadata": {},
     "output_type": "execute_result"
    }
   ],
   "source": [
    "# training data\n",
    "train_df = pd.read_csv(\"/kaggle/input/extracting-attributes-from-fashion-images-2/train.csv\")\n",
    "train_df"
   ]
  },
  {
   "cell_type": "code",
   "execution_count": 5,
   "id": "1d05b839",
   "metadata": {
    "execution": {
     "iopub.execute_input": "2023-06-04T11:01:47.608097Z",
     "iopub.status.busy": "2023-06-04T11:01:47.607369Z",
     "iopub.status.idle": "2023-06-04T11:01:47.627808Z",
     "shell.execute_reply": "2023-06-04T11:01:47.626677Z"
    },
    "papermill": {
     "duration": 0.032681,
     "end_time": "2023-06-04T11:01:47.630412",
     "exception": false,
     "start_time": "2023-06-04T11:01:47.597731",
     "status": "completed"
    },
    "tags": []
   },
   "outputs": [
    {
     "data": {
      "text/html": [
       "<div>\n",
       "<style scoped>\n",
       "    .dataframe tbody tr th:only-of-type {\n",
       "        vertical-align: middle;\n",
       "    }\n",
       "\n",
       "    .dataframe tbody tr th {\n",
       "        vertical-align: top;\n",
       "    }\n",
       "\n",
       "    .dataframe thead th {\n",
       "        text-align: right;\n",
       "    }\n",
       "</style>\n",
       "<table border=\"1\" class=\"dataframe\">\n",
       "  <thead>\n",
       "    <tr style=\"text-align: right;\">\n",
       "      <th></th>\n",
       "      <th>file_name</th>\n",
       "      <th>label</th>\n",
       "    </tr>\n",
       "  </thead>\n",
       "  <tbody>\n",
       "    <tr>\n",
       "      <th>0</th>\n",
       "      <td>Image_test_00001.jpg</td>\n",
       "      <td>0</td>\n",
       "    </tr>\n",
       "    <tr>\n",
       "      <th>1</th>\n",
       "      <td>Image_test_00002.jpg</td>\n",
       "      <td>0</td>\n",
       "    </tr>\n",
       "    <tr>\n",
       "      <th>2</th>\n",
       "      <td>Image_test_00003.jpg</td>\n",
       "      <td>0</td>\n",
       "    </tr>\n",
       "    <tr>\n",
       "      <th>3</th>\n",
       "      <td>Image_test_00004.jpg</td>\n",
       "      <td>0</td>\n",
       "    </tr>\n",
       "    <tr>\n",
       "      <th>4</th>\n",
       "      <td>Image_test_00005.jpg</td>\n",
       "      <td>0</td>\n",
       "    </tr>\n",
       "    <tr>\n",
       "      <th>...</th>\n",
       "      <td>...</td>\n",
       "      <td>...</td>\n",
       "    </tr>\n",
       "    <tr>\n",
       "      <th>5746</th>\n",
       "      <td>Image_test_05747.jpg</td>\n",
       "      <td>0</td>\n",
       "    </tr>\n",
       "    <tr>\n",
       "      <th>5747</th>\n",
       "      <td>Image_test_05748.jpg</td>\n",
       "      <td>0</td>\n",
       "    </tr>\n",
       "    <tr>\n",
       "      <th>5748</th>\n",
       "      <td>Image_test_05749.jpg</td>\n",
       "      <td>0</td>\n",
       "    </tr>\n",
       "    <tr>\n",
       "      <th>5749</th>\n",
       "      <td>Image_test_05750.jpg</td>\n",
       "      <td>0</td>\n",
       "    </tr>\n",
       "    <tr>\n",
       "      <th>5750</th>\n",
       "      <td>Image_test_05751.jpg</td>\n",
       "      <td>0</td>\n",
       "    </tr>\n",
       "  </tbody>\n",
       "</table>\n",
       "<p>5751 rows × 2 columns</p>\n",
       "</div>"
      ],
      "text/plain": [
       "                 file_name  label\n",
       "0     Image_test_00001.jpg      0\n",
       "1     Image_test_00002.jpg      0\n",
       "2     Image_test_00003.jpg      0\n",
       "3     Image_test_00004.jpg      0\n",
       "4     Image_test_00005.jpg      0\n",
       "...                    ...    ...\n",
       "5746  Image_test_05747.jpg      0\n",
       "5747  Image_test_05748.jpg      0\n",
       "5748  Image_test_05749.jpg      0\n",
       "5749  Image_test_05750.jpg      0\n",
       "5750  Image_test_05751.jpg      0\n",
       "\n",
       "[5751 rows x 2 columns]"
      ]
     },
     "execution_count": 5,
     "metadata": {},
     "output_type": "execute_result"
    }
   ],
   "source": [
    "# testing data\n",
    "test_df = pd.read_csv(\"/kaggle/input/extracting-attributes-from-fashion-images-2/sample_submission.csv\")\n",
    "test_df"
   ]
  },
  {
   "cell_type": "markdown",
   "id": "d221e361",
   "metadata": {
    "papermill": {
     "duration": 0.009026,
     "end_time": "2023-06-04T11:01:47.649430",
     "exception": false,
     "start_time": "2023-06-04T11:01:47.640404",
     "status": "completed"
    },
    "tags": []
   },
   "source": [
    "## Checking for Imbalance in the dataset"
   ]
  },
  {
   "cell_type": "code",
   "execution_count": 6,
   "id": "1fcba01d",
   "metadata": {
    "execution": {
     "iopub.execute_input": "2023-06-04T11:01:47.669128Z",
     "iopub.status.busy": "2023-06-04T11:01:47.668376Z",
     "iopub.status.idle": "2023-06-04T11:01:47.679734Z",
     "shell.execute_reply": "2023-06-04T11:01:47.678798Z"
    },
    "papermill": {
     "duration": 0.02333,
     "end_time": "2023-06-04T11:01:47.681793",
     "exception": false,
     "start_time": "2023-06-04T11:01:47.658463",
     "status": "completed"
    },
    "tags": []
   },
   "outputs": [
    {
     "data": {
      "text/plain": [
       "1    5384\n",
       "2    4084\n",
       "3    2008\n",
       "4    1972\n",
       "6    1925\n",
       "5    1616\n",
       "0    1402\n",
       "Name: label, dtype: int64"
      ]
     },
     "execution_count": 6,
     "metadata": {},
     "output_type": "execute_result"
    }
   ],
   "source": [
    "train_df.label.value_counts()"
   ]
  },
  {
   "cell_type": "code",
   "execution_count": 7,
   "id": "dfb43876",
   "metadata": {
    "execution": {
     "iopub.execute_input": "2023-06-04T11:01:47.702104Z",
     "iopub.status.busy": "2023-06-04T11:01:47.701376Z",
     "iopub.status.idle": "2023-06-04T11:01:47.708694Z",
     "shell.execute_reply": "2023-06-04T11:01:47.707791Z"
    },
    "papermill": {
     "duration": 0.01945,
     "end_time": "2023-06-04T11:01:47.710869",
     "exception": false,
     "start_time": "2023-06-04T11:01:47.691419",
     "status": "completed"
    },
    "tags": []
   },
   "outputs": [
    {
     "data": {
      "text/plain": [
       "0    5751\n",
       "Name: label, dtype: int64"
      ]
     },
     "execution_count": 7,
     "metadata": {},
     "output_type": "execute_result"
    }
   ],
   "source": [
    "test_df.label.value_counts()"
   ]
  },
  {
   "cell_type": "code",
   "execution_count": 8,
   "id": "3185f333",
   "metadata": {
    "execution": {
     "iopub.execute_input": "2023-06-04T11:01:47.730966Z",
     "iopub.status.busy": "2023-06-04T11:01:47.730120Z",
     "iopub.status.idle": "2023-06-04T11:01:47.737501Z",
     "shell.execute_reply": "2023-06-04T11:01:47.736587Z"
    },
    "papermill": {
     "duration": 0.019443,
     "end_time": "2023-06-04T11:01:47.739444",
     "exception": false,
     "start_time": "2023-06-04T11:01:47.720001",
     "status": "completed"
    },
    "tags": []
   },
   "outputs": [
    {
     "data": {
      "text/plain": [
       "array([0, 1, 2, 3, 5, 4, 6])"
      ]
     },
     "execution_count": 8,
     "metadata": {},
     "output_type": "execute_result"
    }
   ],
   "source": [
    "train_df.label.unique()"
   ]
  },
  {
   "cell_type": "code",
   "execution_count": 9,
   "id": "7e12964a",
   "metadata": {
    "execution": {
     "iopub.execute_input": "2023-06-04T11:01:47.760088Z",
     "iopub.status.busy": "2023-06-04T11:01:47.759293Z",
     "iopub.status.idle": "2023-06-04T11:01:48.646627Z",
     "shell.execute_reply": "2023-06-04T11:01:48.645471Z"
    },
    "papermill": {
     "duration": 0.900486,
     "end_time": "2023-06-04T11:01:48.649550",
     "exception": false,
     "start_time": "2023-06-04T11:01:47.749064",
     "status": "completed"
    },
    "tags": []
   },
   "outputs": [
    {
     "data": {
      "text/plain": [
       "[1.8739555736702669,\n",
       " 0.4879802589683719,\n",
       " 0.6433118791101161,\n",
       " 1.3084092202618098,\n",
       " 1.3322949869603014,\n",
       " 1.6257956152758133,\n",
       " 1.3648237476808904]"
      ]
     },
     "execution_count": 9,
     "metadata": {},
     "output_type": "execute_result"
    }
   ],
   "source": [
    "from sklearn.utils import class_weight\n",
    "class_weights = list(class_weight.compute_class_weight('balanced',\n",
    "                                                 classes=np.unique(train_df.label.to_numpy()),\n",
    "                                                 y=train_df.label.to_numpy()))\n",
    "class_weights"
   ]
  },
  {
   "cell_type": "code",
   "execution_count": 10,
   "id": "bb99ccc4",
   "metadata": {
    "execution": {
     "iopub.execute_input": "2023-06-04T11:01:48.671668Z",
     "iopub.status.busy": "2023-06-04T11:01:48.671389Z",
     "iopub.status.idle": "2023-06-04T11:01:48.677420Z",
     "shell.execute_reply": "2023-06-04T11:01:48.676590Z"
    },
    "papermill": {
     "duration": 0.01913,
     "end_time": "2023-06-04T11:01:48.679309",
     "exception": false,
     "start_time": "2023-06-04T11:01:48.660179",
     "status": "completed"
    },
    "tags": []
   },
   "outputs": [
    {
     "data": {
      "text/plain": [
       "{0: 1.8739555736702669,\n",
       " 1: 0.4879802589683719,\n",
       " 2: 0.6433118791101161,\n",
       " 3: 1.3084092202618098,\n",
       " 4: 1.3322949869603014,\n",
       " 5: 1.6257956152758133,\n",
       " 6: 1.3648237476808904}"
      ]
     },
     "execution_count": 10,
     "metadata": {},
     "output_type": "execute_result"
    }
   ],
   "source": [
    "weights = {x:y for x,y in enumerate(class_weights)}\n",
    "weights"
   ]
  },
  {
   "cell_type": "markdown",
   "id": "a1324d13",
   "metadata": {
    "papermill": {
     "duration": 0.009664,
     "end_time": "2023-06-04T11:01:48.698775",
     "exception": false,
     "start_time": "2023-06-04T11:01:48.689111",
     "status": "completed"
    },
    "tags": []
   },
   "source": [
    "# Visualization the dataset"
   ]
  },
  {
   "cell_type": "code",
   "execution_count": 11,
   "id": "aa5e668e",
   "metadata": {
    "execution": {
     "iopub.execute_input": "2023-06-04T11:01:48.719766Z",
     "iopub.status.busy": "2023-06-04T11:01:48.719017Z",
     "iopub.status.idle": "2023-06-04T11:01:48.930368Z",
     "shell.execute_reply": "2023-06-04T11:01:48.928996Z"
    },
    "papermill": {
     "duration": 0.226816,
     "end_time": "2023-06-04T11:01:48.935306",
     "exception": false,
     "start_time": "2023-06-04T11:01:48.708490",
     "status": "completed"
    },
    "tags": []
   },
   "outputs": [
    {
     "data": {
      "image/png": "[encoded data removed]",
      "text/plain": [
       "<Figure size 640x480 with 1 Axes>"
      ]
     },
     "metadata": {},
     "output_type": "display_data"
    }
   ],
   "source": [
    "from matplotlib import pyplot as plt\n",
    "\n",
    "train_files = os.listdir(train_path)\n",
    "img = cv.imread(train_path+\"/\"+train_files[1])\n",
    "plt.imshow(img)\n",
    "plt.xticks([])\n",
    "plt.yticks([])\n",
    "plt.show()"
   ]
  },
  {
   "cell_type": "markdown",
   "id": "bc56b5a0",
   "metadata": {
    "papermill": {
     "duration": 0.010901,
     "end_time": "2023-06-04T11:01:48.964274",
     "exception": false,
     "start_time": "2023-06-04T11:01:48.953373",
     "status": "completed"
    },
    "tags": []
   },
   "source": [
    "# Creating Data Pipelines"
   ]
  },
  {
   "cell_type": "code",
   "execution_count": 12,
   "id": "fdd781d2",
   "metadata": {
    "execution": {
     "iopub.execute_input": "2023-06-04T11:01:48.986556Z",
     "iopub.status.busy": "2023-06-04T11:01:48.986275Z",
     "iopub.status.idle": "2023-06-04T11:02:07.617121Z",
     "shell.execute_reply": "2023-06-04T11:02:07.616188Z"
    },
    "papermill": {
     "duration": 18.644621,
     "end_time": "2023-06-04T11:02:07.619358",
     "exception": false,
     "start_time": "2023-06-04T11:01:48.974737",
     "status": "completed"
    },
    "tags": []
   },
   "outputs": [
    {
     "name": "stdout",
     "output_type": "stream",
     "text": [
      "Found 15633 validated image filenames belonging to 7 classes.\n",
      "Found 2758 validated image filenames belonging to 7 classes.\n"
     ]
    }
   ],
   "source": [
    "from tensorflow.keras.preprocessing.image import ImageDataGenerator\n",
    "\n",
    "test_df['label'] = test_df['label'].astype(str)\n",
    "train_df['label'] = train_df['label'].astype(str)\n",
    "\n",
    "datagen = ImageDataGenerator(\n",
    "    rescale=1/255.0,\n",
    "    rotation_range=20,\n",
    "    zoom_range=0.05,\n",
    "    width_shift_range=0.05,\n",
    "    height_shift_range=0.05,\n",
    "    shear_range=0.05,\n",
    "    horizontal_flip=True,\n",
    "    fill_mode = \"nearest\",\n",
    "    validation_split=0.15\n",
    ")\n",
    "\n",
    "train_generator=datagen.flow_from_dataframe(\n",
    "    dataframe=train_df,\n",
    "    directory=\"/kaggle/input/extracting-attributes-from-fashion-images-2/train\",\n",
    "    x_col=\"file_name\",\n",
    "    y_col=\"label\",\n",
    "    subset=\"training\",\n",
    "    batch_size=BATCH_SIZE,\n",
    "    seed=42,\n",
    "    shuffle=True,\n",
    "    class_mode=\"sparse\",\n",
    "    target_size=(INPUT_SHAPE,INPUT_SHAPE))\n",
    "\n",
    "valid_generator=datagen.flow_from_dataframe(\n",
    "    dataframe=train_df,\n",
    "    directory=\"/kaggle/input/extracting-attributes-from-fashion-images-2/train\",\n",
    "    x_col=\"file_name\",\n",
    "    y_col=\"label\",\n",
    "    subset=\"validation\",\n",
    "    batch_size=BATCH_SIZE,\n",
    "    seed=42,\n",
    "    shuffle=True,\n",
    "    class_mode=\"sparse\",\n",
    "    target_size=(INPUT_SHAPE,INPUT_SHAPE))\n",
    "\n"
   ]
  },
  {
   "cell_type": "code",
   "execution_count": 13,
   "id": "ffc98f6e",
   "metadata": {
    "execution": {
     "iopub.execute_input": "2023-06-04T11:02:07.643567Z",
     "iopub.status.busy": "2023-06-04T11:02:07.642690Z",
     "iopub.status.idle": "2023-06-04T11:02:10.858266Z",
     "shell.execute_reply": "2023-06-04T11:02:10.857367Z"
    },
    "papermill": {
     "duration": 3.229872,
     "end_time": "2023-06-04T11:02:10.860571",
     "exception": false,
     "start_time": "2023-06-04T11:02:07.630699",
     "status": "completed"
    },
    "tags": []
   },
   "outputs": [
    {
     "name": "stdout",
     "output_type": "stream",
     "text": [
      "Found 5751 validated image filenames belonging to 1 classes.\n"
     ]
    }
   ],
   "source": [
    "test_datagen=ImageDataGenerator(rescale=1./255.)\n",
    "\n",
    "\n",
    "\n",
    "test_generator=test_datagen.flow_from_dataframe(\n",
    "dataframe=test_df,\n",
    "directory=\"/kaggle/input/extracting-attributes-from-fashion-images-2/test\",\n",
    "x_col=\"file_name\",\n",
    "y_col=\"label\",\n",
    "batch_size=BATCH_SIZE,\n",
    "seed=42,\n",
    "shuffle=False,\n",
    "class_mode=\"sparse\",\n",
    "target_size=(INPUT_SHAPE,INPUT_SHAPE))\n"
   ]
  },
  {
   "cell_type": "markdown",
   "id": "5878fe57",
   "metadata": {
    "papermill": {
     "duration": 0.011946,
     "end_time": "2023-06-04T11:02:10.883941",
     "exception": false,
     "start_time": "2023-06-04T11:02:10.871995",
     "status": "completed"
    },
    "tags": []
   },
   "source": [
    "# Creating the Deep learning model"
   ]
  },
  {
   "cell_type": "code",
   "execution_count": 14,
   "id": "f0f84d5a",
   "metadata": {
    "execution": {
     "iopub.execute_input": "2023-06-04T11:02:10.907323Z",
     "iopub.status.busy": "2023-06-04T11:02:10.906542Z",
     "iopub.status.idle": "2023-06-04T11:02:14.818915Z",
     "shell.execute_reply": "2023-06-04T11:02:14.818033Z"
    },
    "papermill": {
     "duration": 3.926389,
     "end_time": "2023-06-04T11:02:14.821285",
     "exception": false,
     "start_time": "2023-06-04T11:02:10.894896",
     "status": "completed"
    },
    "tags": []
   },
   "outputs": [
    {
     "name": "stdout",
     "output_type": "stream",
     "text": [
      "Downloading data from https://storage.googleapis.com/tensorflow/keras-applications/vgg16/vgg16_weights_tf_dim_ordering_tf_kernels_notop.h5\n",
      "58889256/58889256 [==============================] - 0s 0us/step\n"
     ]
    }
   ],
   "source": [
    "from tensorflow.keras.models import Sequential\n",
    "from tensorflow.keras.layers import *\n",
    "from tensorflow import keras\n",
    "import tensorflow as tf\n",
    "from keras.applications import VGG16\n",
    "from tensorflow.python.keras import regularizers\n",
    "\n",
    "conv_base = VGG16(weights=\"imagenet\",\n",
    "                 include_top=False,\n",
    "                 input_shape=(INPUT_SHAPE,INPUT_SHAPE,3)) # 244\n",
    "\n",
    "\n",
    "# conv_base = tf.keras.applications.mobilenet.MobileNet( include_top=False,\n",
    "#                                                            input_shape=(224, 224,3),\n",
    "#                                                            weights='imagenet')    \n",
    "\n",
    "\n",
    "model = Sequential()\n",
    "\n",
    "model.add(conv_base)\n",
    "conv_base.trainable = False\n",
    "\n",
    "model.add(Flatten())\n",
    "\n",
    "model.add(Dense(256))\n",
    "model.add(Activation('relu'))\n",
    "model.add(BatchNormalization())\n",
    "\n",
    "\n",
    "model.add(Dense(128))\n",
    "model.add(Activation('relu'))\n",
    "model.add(BatchNormalization())\n",
    "\n",
    "model.add(Dense(64))\n",
    "model.add(Activation('relu'))\n",
    "model.add(BatchNormalization())\n",
    "\n",
    "\n",
    "model.add(Dense(7, activation='softmax'))\n",
    "\n",
    "model.compile(optimizer=keras.optimizers.Adam(lr=LR),loss=\"sparse_categorical_crossentropy\",metrics=[\"accuracy\"])"
   ]
  },
  {
   "cell_type": "code",
   "execution_count": 15,
   "id": "74684301",
   "metadata": {
    "execution": {
     "iopub.execute_input": "2023-06-04T11:02:14.846412Z",
     "iopub.status.busy": "2023-06-04T11:02:14.846092Z",
     "iopub.status.idle": "2023-06-04T11:02:14.884502Z",
     "shell.execute_reply": "2023-06-04T11:02:14.883759Z"
    },
    "papermill": {
     "duration": 0.084811,
     "end_time": "2023-06-04T11:02:14.918318",
     "exception": false,
     "start_time": "2023-06-04T11:02:14.833507",
     "status": "completed"
    },
    "tags": []
   },
   "outputs": [
    {
     "name": "stdout",
     "output_type": "stream",
     "text": [
      "Model: \"vgg16\"\n",
      "_________________________________________________________________\n",
      " Layer (type)                Output Shape              Param #   \n",
      "=================================================================\n",
      " input_1 (InputLayer)        [(None, 224, 224, 3)]     0         \n",
      "                                                                 \n",
      " block1_conv1 (Conv2D)       (None, 224, 224, 64)      1792      \n",
      "                                                                 \n",
      " block1_conv2 (Conv2D)       (None, 224, 224, 64)      36928     \n",
      "                                                                 \n",
      " block1_pool (MaxPooling2D)  (None, 112, 112, 64)      0         \n",
      "                                                                 \n",
      " block2_conv1 (Conv2D)       (None, 112, 112, 128)     73856     \n",
      "                                                                 \n",
      " block2_conv2 (Conv2D)       (None, 112, 112, 128)     147584    \n",
      "                                                                 \n",
      " block2_pool (MaxPooling2D)  (None, 56, 56, 128)       0         \n",
      "                                                                 \n",
      " block3_conv1 (Conv2D)       (None, 56, 56, 256)       295168    \n",
      "                                                                 \n",
      " block3_conv2 (Conv2D)       (None, 56, 56, 256)       590080    \n",
      "                                                                 \n",
      " block3_conv3 (Conv2D)       (None, 56, 56, 256)       590080    \n",
      "                                                                 \n",
      " block3_pool (MaxPooling2D)  (None, 28, 28, 256)       0         \n",
      "                                                                 \n",
      " block4_conv1 (Conv2D)       (None, 28, 28, 512)       1180160   \n",
      "                                                                 \n",
      " block4_conv2 (Conv2D)       (None, 28, 28, 512)       2359808   \n",
      "                                                                 \n",
      " block4_conv3 (Conv2D)       (None, 28, 28, 512)       2359808   \n",
      "                                                                 \n",
      " block4_pool (MaxPooling2D)  (None, 14, 14, 512)       0         \n",
      "                                                                 \n",
      " block5_conv1 (Conv2D)       (None, 14, 14, 512)       2359808   \n",
      "                                                                 \n",
      " block5_conv2 (Conv2D)       (None, 14, 14, 512)       2359808   \n",
      "                                                                 \n",
      " block5_conv3 (Conv2D)       (None, 14, 14, 512)       2359808   \n",
      "                                                                 \n",
      " block5_pool (MaxPooling2D)  (None, 7, 7, 512)         0         \n",
      "                                                                 \n",
      "=================================================================\n",
      "Total params: 14,714,688\n",
      "Trainable params: 0\n",
      "Non-trainable params: 14,714,688\n",
      "_________________________________________________________________\n"
     ]
    }
   ],
   "source": [
    "conv_base.summary()"
   ]
  },
  {
   "cell_type": "code",
   "execution_count": 16,
   "id": "f8859096",
   "metadata": {
    "execution": {
     "iopub.execute_input": "2023-06-04T11:02:14.949827Z",
     "iopub.status.busy": "2023-06-04T11:02:14.949538Z",
     "iopub.status.idle": "2023-06-04T11:02:14.983012Z",
     "shell.execute_reply": "2023-06-04T11:02:14.981928Z"
    },
    "papermill": {
     "duration": 0.069545,
     "end_time": "2023-06-04T11:02:15.003341",
     "exception": false,
     "start_time": "2023-06-04T11:02:14.933796",
     "status": "completed"
    },
    "tags": []
   },
   "outputs": [
    {
     "name": "stdout",
     "output_type": "stream",
     "text": [
      "Model: \"sequential\"\n",
      "_________________________________________________________________\n",
      " Layer (type)                Output Shape              Param #   \n",
      "=================================================================\n",
      " vgg16 (Functional)          (None, 7, 7, 512)         14714688  \n",
      "                                                                 \n",
      " flatten (Flatten)           (None, 25088)             0         \n",
      "                                                                 \n",
      " dense (Dense)               (None, 256)               6422784   \n",
      "                                                                 \n",
      " activation (Activation)     (None, 256)               0         \n",
      "                                                                 \n",
      " batch_normalization (BatchN  (None, 256)              1024      \n",
      " ormalization)                                                   \n",
      "                                                                 \n",
      " dense_1 (Dense)             (None, 128)               32896     \n",
      "                                                                 \n",
      " activation_1 (Activation)   (None, 128)               0         \n",
      "                                                                 \n",
      " batch_normalization_1 (Batc  (None, 128)              512       \n",
      " hNormalization)                                                 \n",
      "                                                                 \n",
      " dense_2 (Dense)             (None, 64)                8256      \n",
      "                                                                 \n",
      " activation_2 (Activation)   (None, 64)                0         \n",
      "                                                                 \n",
      " batch_normalization_2 (Batc  (None, 64)               256       \n",
      " hNormalization)                                                 \n",
      "                                                                 \n",
      " dense_3 (Dense)             (None, 7)                 455       \n",
      "                                                                 \n",
      "=================================================================\n",
      "Total params: 21,180,871\n",
      "Trainable params: 6,465,287\n",
      "Non-trainable params: 14,715,584\n",
      "_________________________________________________________________\n"
     ]
    }
   ],
   "source": [
    "model.summary()"
   ]
  },
  {
   "cell_type": "markdown",
   "id": "b7d6c81f",
   "metadata": {
    "papermill": {
     "duration": 0.017312,
     "end_time": "2023-06-04T11:02:15.038143",
     "exception": false,
     "start_time": "2023-06-04T11:02:15.020831",
     "status": "completed"
    },
    "tags": []
   },
   "source": [
    "# Training"
   ]
  },
  {
   "cell_type": "code",
   "execution_count": 17,
   "id": "66bf0f10",
   "metadata": {
    "execution": {
     "iopub.execute_input": "2023-06-04T11:02:15.074992Z",
     "iopub.status.busy": "2023-06-04T11:02:15.074714Z",
     "iopub.status.idle": "2023-06-04T11:02:16.158966Z",
     "shell.execute_reply": "2023-06-04T11:02:16.157744Z"
    },
    "papermill": {
     "duration": 1.105839,
     "end_time": "2023-06-04T11:02:16.161712",
     "exception": false,
     "start_time": "2023-06-04T11:02:15.055873",
     "status": "completed"
    },
    "tags": []
   },
   "outputs": [],
   "source": [
    "! mkdir /kaggle/working/model/\n",
    "\n",
    "checkpoint=tf.keras.callbacks.ModelCheckpoint(filepath=\"/kaggle/working/model/CNN.h5\", \n",
    "                                              monitor='val_accuracy', \n",
    "                                              verbose=0, \n",
    "                                              save_best_only=True,\n",
    "                                              save_weights_only=False, \n",
    "                                              mode='auto', \n",
    "                                              save_freq='epoch', \n",
    "                                              options=None)"
   ]
  },
  {
   "cell_type": "code",
   "execution_count": 18,
   "id": "c633cb59",
   "metadata": {
    "execution": {
     "iopub.execute_input": "2023-06-04T11:02:16.199893Z",
     "iopub.status.busy": "2023-06-04T11:02:16.199038Z",
     "iopub.status.idle": "2023-06-04T11:43:09.054702Z",
     "shell.execute_reply": "2023-06-04T11:43:09.053795Z"
    },
    "papermill": {
     "duration": 2452.877229,
     "end_time": "2023-06-04T11:43:09.056902",
     "exception": false,
     "start_time": "2023-06-04T11:02:16.179673",
     "status": "completed"
    },
    "tags": []
   },
   "outputs": [
    {
     "name": "stdout",
     "output_type": "stream",
     "text": [
      "Epoch 1/7\n",
      "244/244 [==============================] - 399s 2s/step - loss: 1.2788 - accuracy: 0.5287 - val_loss: 1.6866 - val_accuracy: 0.3427\n",
      "Epoch 2/7\n",
      "244/244 [==============================] - 342s 1s/step - loss: 0.9795 - accuracy: 0.6262 - val_loss: 1.6994 - val_accuracy: 0.3583\n",
      "Epoch 3/7\n",
      "244/244 [==============================] - 305s 1s/step - loss: 0.8971 - accuracy: 0.6539 - val_loss: 1.4195 - val_accuracy: 0.4019\n",
      "Epoch 4/7\n",
      "244/244 [==============================] - 341s 1s/step - loss: 0.8262 - accuracy: 0.6821 - val_loss: 1.6680 - val_accuracy: 0.3565\n",
      "Epoch 5/7\n",
      "244/244 [==============================] - 340s 1s/step - loss: 0.8063 - accuracy: 0.6904 - val_loss: 1.4759 - val_accuracy: 0.3975\n",
      "Epoch 6/7\n",
      "244/244 [==============================] - 340s 1s/step - loss: 0.7651 - accuracy: 0.7096 - val_loss: 1.6226 - val_accuracy: 0.3634\n",
      "Epoch 7/7\n",
      "244/244 [==============================] - 340s 1s/step - loss: 0.7276 - accuracy: 0.7186 - val_loss: 1.6556 - val_accuracy: 0.3630\n",
      "dict_keys(['loss', 'accuracy', 'val_loss', 'val_accuracy'])\n"
     ]
    },
    {
     "data": {
      "image/png": "[encoded data removed]",
      "text/plain": [
       "<Figure size 640x480 with 1 Axes>"
      ]
     },
     "metadata": {},
     "output_type": "display_data"
    },
    {
     "data": {
      "image/png": "[encoded data removed]",
      "text/plain": [
       "<Figure size 640x480 with 1 Axes>"
      ]
     },
     "metadata": {},
     "output_type": "display_data"
    }
   ],
   "source": [
    "STEP_SIZE_TRAIN=train_generator.n//train_generator.batch_size\n",
    "STEP_SIZE_VALID=valid_generator.n//valid_generator.batch_size\n",
    "STEP_SIZE_TEST=test_generator.n//test_generator.batch_size\n",
    "\n",
    "history = model.fit(train_generator,\n",
    "                    steps_per_epoch=STEP_SIZE_TRAIN,\n",
    "                    validation_data=valid_generator,\n",
    "                    validation_steps=STEP_SIZE_VALID,\n",
    "                    epochs=EPOCHS,\n",
    "                   callbacks=[checkpoint])\n",
    "#                    class_weight=weights)\n",
    "\n",
    "\n",
    "\n",
    "print(history.history.keys())\n",
    "# summarize history for accuracy\n",
    "plt.plot(history.history['accuracy'])\n",
    "plt.plot(history.history['val_accuracy'])\n",
    "plt.title('model accuracy')\n",
    "plt.ylabel('accuracy')\n",
    "plt.xlabel('epoch')\n",
    "plt.legend(['train', 'test'], loc='upper left')\n",
    "plt.grid()\n",
    "plt.show()\n",
    "# summarize history for loss\n",
    "plt.plot(history.history['loss'])\n",
    "plt.plot(history.history['val_loss'])\n",
    "plt.title('model loss')\n",
    "plt.ylabel('loss')\n",
    "plt.xlabel('epoch')\n",
    "plt.legend(['train', 'test'], loc='upper left')\n",
    "plt.grid()\n",
    "plt.show()"
   ]
  },
  {
   "cell_type": "code",
   "execution_count": 19,
   "id": "ab987de9",
   "metadata": {
    "execution": {
     "iopub.execute_input": "2023-06-04T11:43:09.348185Z",
     "iopub.status.busy": "2023-06-04T11:43:09.347848Z",
     "iopub.status.idle": "2023-06-04T11:43:09.972499Z",
     "shell.execute_reply": "2023-06-04T11:43:09.971500Z"
    },
    "papermill": {
     "duration": 0.773044,
     "end_time": "2023-06-04T11:43:09.975002",
     "exception": false,
     "start_time": "2023-06-04T11:43:09.201958",
     "status": "completed"
    },
    "tags": []
   },
   "outputs": [],
   "source": [
    "model = tf.keras.models.load_model(\"/kaggle/working/model/CNN.h5\")"
   ]
  },
  {
   "cell_type": "markdown",
   "id": "437fd6f6",
   "metadata": {
    "papermill": {
     "duration": 0.144039,
     "end_time": "2023-06-04T11:43:10.312347",
     "exception": false,
     "start_time": "2023-06-04T11:43:10.168308",
     "status": "completed"
    },
    "tags": []
   },
   "source": [
    "# Testing"
   ]
  },
  {
   "cell_type": "code",
   "execution_count": 20,
   "id": "167e74f1",
   "metadata": {
    "execution": {
     "iopub.execute_input": "2023-06-04T11:43:10.601441Z",
     "iopub.status.busy": "2023-06-04T11:43:10.600547Z",
     "iopub.status.idle": "2023-06-04T11:44:34.266734Z",
     "shell.execute_reply": "2023-06-04T11:44:34.265793Z"
    },
    "papermill": {
     "duration": 83.962603,
     "end_time": "2023-06-04T11:44:34.418063",
     "exception": false,
     "start_time": "2023-06-04T11:43:10.455460",
     "status": "completed"
    },
    "tags": []
   },
   "outputs": [
    {
     "name": "stdout",
     "output_type": "stream",
     "text": [
      "89/89 [==============================] - 47s 511ms/step - loss: 1.4068 - accuracy: 0.4043\n"
     ]
    },
    {
     "data": {
      "text/plain": [
       "[1.4067950248718262, 0.4042784571647644]"
      ]
     },
     "execution_count": 20,
     "metadata": {},
     "output_type": "execute_result"
    }
   ],
   "source": [
    "valid_generator.reset()\n",
    "model.evaluate(valid_generator,\n",
    "steps=STEP_SIZE_TEST)"
   ]
  },
  {
   "cell_type": "code",
   "execution_count": 21,
   "id": "8119c8a1",
   "metadata": {
    "execution": {
     "iopub.execute_input": "2023-06-04T11:44:34.717322Z",
     "iopub.status.busy": "2023-06-04T11:44:34.716333Z",
     "iopub.status.idle": "2023-06-04T11:45:26.100603Z",
     "shell.execute_reply": "2023-06-04T11:45:26.099680Z"
    },
    "papermill": {
     "duration": 51.535815,
     "end_time": "2023-06-04T11:45:26.102648",
     "exception": false,
     "start_time": "2023-06-04T11:44:34.566833",
     "status": "completed"
    },
    "tags": []
   },
   "outputs": [
    {
     "name": "stdout",
     "output_type": "stream",
     "text": [
      "90/90 [==============================] - 51s 565ms/step\n"
     ]
    }
   ],
   "source": [
    "test_generator.reset()\n",
    "pred=model.predict(test_generator)"
   ]
  },
  {
   "cell_type": "code",
   "execution_count": 22,
   "id": "b4b9261b",
   "metadata": {
    "execution": {
     "iopub.execute_input": "2023-06-04T11:45:26.416833Z",
     "iopub.status.busy": "2023-06-04T11:45:26.416508Z",
     "iopub.status.idle": "2023-06-04T11:45:26.423876Z",
     "shell.execute_reply": "2023-06-04T11:45:26.422870Z"
    },
    "papermill": {
     "duration": 0.167466,
     "end_time": "2023-06-04T11:45:26.426620",
     "exception": false,
     "start_time": "2023-06-04T11:45:26.259154",
     "status": "completed"
    },
    "tags": []
   },
   "outputs": [
    {
     "data": {
      "text/plain": [
       "array([2, 1, 2, ..., 0, 1, 1])"
      ]
     },
     "execution_count": 22,
     "metadata": {},
     "output_type": "execute_result"
    }
   ],
   "source": [
    "y_pred=np.argmax(pred,axis=1)\n",
    "y_pred"
   ]
  },
  {
   "cell_type": "code",
   "execution_count": 23,
   "id": "3cdcc415",
   "metadata": {
    "execution": {
     "iopub.execute_input": "2023-06-04T11:45:26.739839Z",
     "iopub.status.busy": "2023-06-04T11:45:26.739524Z",
     "iopub.status.idle": "2023-06-04T11:45:26.827593Z",
     "shell.execute_reply": "2023-06-04T11:45:26.826269Z"
    },
    "papermill": {
     "duration": 0.246909,
     "end_time": "2023-06-04T11:45:26.830939",
     "exception": false,
     "start_time": "2023-06-04T11:45:26.584030",
     "status": "completed"
    },
    "tags": []
   },
   "outputs": [
    {
     "name": "stdout",
     "output_type": "stream",
     "text": [
      "[[ 481 2090 1192  602  235  622  529]\n",
      " [   0    0    0    0    0    0    0]\n",
      " [   0    0    0    0    0    0    0]\n",
      " [   0    0    0    0    0    0    0]\n",
      " [   0    0    0    0    0    0    0]\n",
      " [   0    0    0    0    0    0    0]\n",
      " [   0    0    0    0    0    0    0]]\n"
     ]
    },
    {
     "data": {
      "text/plain": [
       "0.0836376282385672"
      ]
     },
     "execution_count": 23,
     "metadata": {},
     "output_type": "execute_result"
    }
   ],
   "source": [
    "from sklearn.metrics import confusion_matrix,accuracy_score\n",
    "test_df['label'] = test_df['label'].astype(int)\n",
    "\n",
    "cm=confusion_matrix(test_df.label, y_pred)\n",
    "print(cm)\n",
    "\n",
    "accuracy_score(test_df.label.to_numpy(), y_pred)\n",
    "# tn,fp,fn,tp = confusion_matrix(test_df.label, y_pred).ravel()"
   ]
  },
  {
   "cell_type": "markdown",
   "id": "7369906c",
   "metadata": {
    "papermill": {
     "duration": 0.155466,
     "end_time": "2023-06-04T11:45:27.140732",
     "exception": false,
     "start_time": "2023-06-04T11:45:26.985266",
     "status": "completed"
    },
    "tags": []
   },
   "source": [
    "# Creating submission.csv"
   ]
  },
  {
   "cell_type": "code",
   "execution_count": 24,
   "id": "e47f4f38",
   "metadata": {
    "execution": {
     "iopub.execute_input": "2023-06-04T11:45:27.456337Z",
     "iopub.status.busy": "2023-06-04T11:45:27.455436Z",
     "iopub.status.idle": "2023-06-04T11:45:27.479839Z",
     "shell.execute_reply": "2023-06-04T11:45:27.478968Z"
    },
    "papermill": {
     "duration": 0.184835,
     "end_time": "2023-06-04T11:45:27.481964",
     "exception": false,
     "start_time": "2023-06-04T11:45:27.297129",
     "status": "completed"
    },
    "tags": []
   },
   "outputs": [],
   "source": [
    "filenames=test_generator.filenames\n",
    "results=pd.DataFrame({\"file_name\":filenames,\n",
    "                      \"label\":y_pred})\n",
    "results.to_csv(\"submission.csv\",index=False)"
   ]
  },
  {
   "cell_type": "code",
   "execution_count": 25,
   "id": "3fa2d62c",
   "metadata": {
    "execution": {
     "iopub.execute_input": "2023-06-04T11:45:27.868927Z",
     "iopub.status.busy": "2023-06-04T11:45:27.868509Z",
     "iopub.status.idle": "2023-06-04T11:45:27.872789Z",
     "shell.execute_reply": "2023-06-04T11:45:27.871880Z"
    },
    "papermill": {
     "duration": 0.165156,
     "end_time": "2023-06-04T11:45:27.874779",
     "exception": false,
     "start_time": "2023-06-04T11:45:27.709623",
     "status": "completed"
    },
    "tags": []
   },
   "outputs": [],
   "source": [
    "# test_df['label'] = test_df['label'].astype(int)"
   ]
  },
  {
   "cell_type": "markdown",
   "id": "76e38926",
   "metadata": {
    "papermill": {
     "duration": 0.154748,
     "end_time": "2023-06-04T11:45:28.185122",
     "exception": false,
     "start_time": "2023-06-04T11:45:28.030374",
     "status": "completed"
    },
    "tags": []
   },
   "source": [
    "# Reasons for low testing accuracy \n",
    "**Problem**: Although the training and testing data belong to the same dataset, the split in the dataset is very different, training data has about 1402 belonging to class 0 and the testing data has all the data belonging to class 0. Inorder to make a model that generalizes well on the dataset we need atleast a minimun of 5000 samples per class.\n",
    "\n",
    "**Solution 1**: Adding more data in the dataset would lead to better learning of the model and would remove any bias in the dataset. But this is not possible in our case.\n",
    "\n",
    "**Solution 2**: If adding data is not an option then using a pre-trained model could lead to better generalization. This is because pre trained models are trained for good feature extration. This should work for our use case but from what I have learned while training the model, Due to the low amount of class 0 data in the dataset the pretrained model is also not able to learn well even though it generalizes well.\n"
   ]
  },
  {
   "cell_type": "code",
   "execution_count": null,
   "id": "bf32ab79",
   "metadata": {
    "papermill": {
     "duration": 0.155199,
     "end_time": "2023-06-04T11:45:28.495366",
     "exception": false,
     "start_time": "2023-06-04T11:45:28.340167",
     "status": "completed"
    },
    "tags": []
   },
   "outputs": [],
   "source": []
  }
 ],
 "metadata": {
  "kernelspec": {
   "display_name": "Python 3",
   "language": "python",
   "name": "python3"
  },
  "language_info": {
   "codemirror_mode": {
    "name": "ipython",
    "version": 3
   },
   "file_extension": ".py",
   "mimetype": "text/x-python",
   "name": "python",
   "nbconvert_exporter": "python",
   "pygments_lexer": "ipython3",
   "version": "3.10.10"
  },
  "papermill": {
   "default_parameters": {},
   "duration": 2653.950403,
   "end_time": "2023-06-04T11:45:32.436511",
   "environment_variables": {},
   "exception": null,
   "input_path": "__notebook__.ipynb",
   "output_path": "__notebook__.ipynb",
   "parameters": {},
   "start_time": "2023-06-04T11:01:18.486108",
   "version": "2.4.0"
  }
 },
 "nbformat": 4,
 "nbformat_minor": 5
}
