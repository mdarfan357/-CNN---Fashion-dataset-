{
 "cells": [
  {
   "cell_type": "code",
   "execution_count": 1,
   "id": "0156737f",
   "metadata": {
    "_cell_guid": "b1076dfc-b9ad-4769-8c92-a6c4dae69d19",
    "_uuid": "8f2839f25d086af736a60e9eeb907d3b93b6e0e5",
    "execution": {
     "iopub.execute_input": "2023-06-03T06:36:54.613218Z",
     "iopub.status.busy": "2023-06-03T06:36:54.612804Z",
     "iopub.status.idle": "2023-06-03T06:37:04.033850Z",
     "shell.execute_reply": "2023-06-03T06:37:04.032859Z"
    },
    "papermill": {
     "duration": 9.433572,
     "end_time": "2023-06-03T06:37:04.036372",
     "exception": false,
     "start_time": "2023-06-03T06:36:54.602800",
     "status": "completed"
    },
    "tags": []
   },
   "outputs": [],
   "source": [
    "# This Python 3 environment comes with many helpful analytics libraries installed\n",
    "# It is defined by the kaggle/python Docker image: https://github.com/kaggle/docker-python\n",
    "# For example, here's several helpful packages to load\n",
    "\n",
    "import numpy as np # linear algebra\n",
    "import pandas as pd # data processing, CSV file I/O (e.g. pd.read_csv)\n",
    "\n",
    "# Input data files are available in the read-only \"../input/\" directory\n",
    "# For example, running this (by clicking run or pressing Shift+Enter) will list all files under the input directory\n",
    "\n",
    "import os\n",
    "for dirname, _, filenames in os.walk('/kaggle/input'):\n",
    "    for filename in filenames:\n",
    "        os.path.join(dirname, filename)\n"
   ]
  },
  {
   "cell_type": "markdown",
   "id": "7a22d6fb",
   "metadata": {
    "papermill": {
     "duration": 0.007763,
     "end_time": "2023-06-03T06:37:04.052618",
     "exception": false,
     "start_time": "2023-06-03T06:37:04.044855",
     "status": "completed"
    },
    "tags": []
   },
   "source": [
    "# Importing Required Modules "
   ]
  },
  {
   "cell_type": "code",
   "execution_count": 2,
   "id": "aa70c6f4",
   "metadata": {
    "execution": {
     "iopub.execute_input": "2023-06-03T06:37:04.069810Z",
     "iopub.status.busy": "2023-06-03T06:37:04.069507Z",
     "iopub.status.idle": "2023-06-03T06:37:12.012385Z",
     "shell.execute_reply": "2023-06-03T06:37:12.011388Z"
    },
    "papermill": {
     "duration": 7.954099,
     "end_time": "2023-06-03T06:37:12.014774",
     "exception": false,
     "start_time": "2023-06-03T06:37:04.060675",
     "status": "completed"
    },
    "tags": []
   },
   "outputs": [
    {
     "name": "stderr",
     "output_type": "stream",
     "text": [
      "/opt/conda/lib/python3.10/site-packages/tensorflow_io/python/ops/__init__.py:98: UserWarning: unable to load libtensorflow_io_plugins.so: unable to open file: libtensorflow_io_plugins.so, from paths: ['/opt/conda/lib/python3.10/site-packages/tensorflow_io/python/ops/libtensorflow_io_plugins.so']\n",
      "caused by: ['/opt/conda/lib/python3.10/site-packages/tensorflow_io/python/ops/libtensorflow_io_plugins.so: undefined symbol: _ZN3tsl6StatusC1EN10tensorflow5error4CodeESt17basic_string_viewIcSt11char_traitsIcEENS_14SourceLocationE']\n",
      "  warnings.warn(f\"unable to load libtensorflow_io_plugins.so: {e}\")\n",
      "/opt/conda/lib/python3.10/site-packages/tensorflow_io/python/ops/__init__.py:104: UserWarning: file system plugins are not loaded: unable to open file: libtensorflow_io.so, from paths: ['/opt/conda/lib/python3.10/site-packages/tensorflow_io/python/ops/libtensorflow_io.so']\n",
      "caused by: ['/opt/conda/lib/python3.10/site-packages/tensorflow_io/python/ops/libtensorflow_io.so: undefined symbol: _ZTVN10tensorflow13GcsFileSystemE']\n",
      "  warnings.warn(f\"file system plugins are not loaded: {e}\")\n"
     ]
    }
   ],
   "source": [
    "import pandas as pd\n",
    "import cv2 as cv\n",
    "from tensorflow.keras.models import Sequential\n",
    "from tensorflow.keras.layers import *\n",
    "import os"
   ]
  },
  {
   "cell_type": "markdown",
   "id": "43dc34d1",
   "metadata": {
    "papermill": {
     "duration": 0.007843,
     "end_time": "2023-06-03T06:37:12.030935",
     "exception": false,
     "start_time": "2023-06-03T06:37:12.023092",
     "status": "completed"
    },
    "tags": []
   },
   "source": [
    "# Model Hyper parameters"
   ]
  },
  {
   "cell_type": "code",
   "execution_count": 3,
   "id": "3cec58c9",
   "metadata": {
    "execution": {
     "iopub.execute_input": "2023-06-03T06:37:12.048972Z",
     "iopub.status.busy": "2023-06-03T06:37:12.047747Z",
     "iopub.status.idle": "2023-06-03T06:37:12.053037Z",
     "shell.execute_reply": "2023-06-03T06:37:12.052224Z"
    },
    "papermill": {
     "duration": 0.016146,
     "end_time": "2023-06-03T06:37:12.055011",
     "exception": false,
     "start_time": "2023-06-03T06:37:12.038865",
     "status": "completed"
    },
    "tags": []
   },
   "outputs": [],
   "source": [
    "train_path = \"/kaggle/input/extracting-attributes-from-fashion-images-2/train\"\n",
    "BATCH_SIZE = 64\n",
    "EPOCHS = 15\n",
    "INPUT_SHAPE = 244"
   ]
  },
  {
   "cell_type": "markdown",
   "id": "cab7f0d3",
   "metadata": {
    "papermill": {
     "duration": 0.0077,
     "end_time": "2023-06-03T06:37:12.070869",
     "exception": false,
     "start_time": "2023-06-03T06:37:12.063169",
     "status": "completed"
    },
    "tags": []
   },
   "source": [
    "# Data Importing"
   ]
  },
  {
   "cell_type": "code",
   "execution_count": 4,
   "id": "799ab4ec",
   "metadata": {
    "execution": {
     "iopub.execute_input": "2023-06-03T06:37:12.087765Z",
     "iopub.status.busy": "2023-06-03T06:37:12.087474Z",
     "iopub.status.idle": "2023-06-03T06:37:12.124917Z",
     "shell.execute_reply": "2023-06-03T06:37:12.124062Z"
    },
    "papermill": {
     "duration": 0.048094,
     "end_time": "2023-06-03T06:37:12.126848",
     "exception": false,
     "start_time": "2023-06-03T06:37:12.078754",
     "status": "completed"
    },
    "tags": []
   },
   "outputs": [
    {
     "data": {
      "text/html": [
       "<div>\n",
       "<style scoped>\n",
       "    .dataframe tbody tr th:only-of-type {\n",
       "        vertical-align: middle;\n",
       "    }\n",
       "\n",
       "    .dataframe tbody tr th {\n",
       "        vertical-align: top;\n",
       "    }\n",
       "\n",
       "    .dataframe thead th {\n",
       "        text-align: right;\n",
       "    }\n",
       "</style>\n",
       "<table border=\"1\" class=\"dataframe\">\n",
       "  <thead>\n",
       "    <tr style=\"text-align: right;\">\n",
       "      <th></th>\n",
       "      <th>file_name</th>\n",
       "      <th>label</th>\n",
       "    </tr>\n",
       "  </thead>\n",
       "  <tbody>\n",
       "    <tr>\n",
       "      <th>0</th>\n",
       "      <td>Image_train_00001.jpg</td>\n",
       "      <td>0</td>\n",
       "    </tr>\n",
       "    <tr>\n",
       "      <th>1</th>\n",
       "      <td>Image_train_00002.jpg</td>\n",
       "      <td>1</td>\n",
       "    </tr>\n",
       "    <tr>\n",
       "      <th>2</th>\n",
       "      <td>Image_train_00003.jpg</td>\n",
       "      <td>0</td>\n",
       "    </tr>\n",
       "    <tr>\n",
       "      <th>3</th>\n",
       "      <td>Image_train_00004.jpg</td>\n",
       "      <td>0</td>\n",
       "    </tr>\n",
       "    <tr>\n",
       "      <th>4</th>\n",
       "      <td>Image_train_00005.jpg</td>\n",
       "      <td>0</td>\n",
       "    </tr>\n",
       "    <tr>\n",
       "      <th>...</th>\n",
       "      <td>...</td>\n",
       "      <td>...</td>\n",
       "    </tr>\n",
       "    <tr>\n",
       "      <th>18386</th>\n",
       "      <td>Image_train_18387.jpg</td>\n",
       "      <td>1</td>\n",
       "    </tr>\n",
       "    <tr>\n",
       "      <th>18387</th>\n",
       "      <td>Image_train_18388.jpg</td>\n",
       "      <td>2</td>\n",
       "    </tr>\n",
       "    <tr>\n",
       "      <th>18388</th>\n",
       "      <td>Image_train_18389.jpg</td>\n",
       "      <td>1</td>\n",
       "    </tr>\n",
       "    <tr>\n",
       "      <th>18389</th>\n",
       "      <td>Image_train_18390.jpg</td>\n",
       "      <td>1</td>\n",
       "    </tr>\n",
       "    <tr>\n",
       "      <th>18390</th>\n",
       "      <td>Image_train_18391.jpg</td>\n",
       "      <td>1</td>\n",
       "    </tr>\n",
       "  </tbody>\n",
       "</table>\n",
       "<p>18391 rows × 2 columns</p>\n",
       "</div>"
      ],
      "text/plain": [
       "                   file_name  label\n",
       "0      Image_train_00001.jpg      0\n",
       "1      Image_train_00002.jpg      1\n",
       "2      Image_train_00003.jpg      0\n",
       "3      Image_train_00004.jpg      0\n",
       "4      Image_train_00005.jpg      0\n",
       "...                      ...    ...\n",
       "18386  Image_train_18387.jpg      1\n",
       "18387  Image_train_18388.jpg      2\n",
       "18388  Image_train_18389.jpg      1\n",
       "18389  Image_train_18390.jpg      1\n",
       "18390  Image_train_18391.jpg      1\n",
       "\n",
       "[18391 rows x 2 columns]"
      ]
     },
     "execution_count": 4,
     "metadata": {},
     "output_type": "execute_result"
    }
   ],
   "source": [
    "# training data\n",
    "train_df = pd.read_csv(\"/kaggle/input/extracting-attributes-from-fashion-images-2/train.csv\")\n",
    "train_df"
   ]
  },
  {
   "cell_type": "code",
   "execution_count": 5,
   "id": "1193645c",
   "metadata": {
    "execution": {
     "iopub.execute_input": "2023-06-03T06:37:12.144837Z",
     "iopub.status.busy": "2023-06-03T06:37:12.144566Z",
     "iopub.status.idle": "2023-06-03T06:37:12.167339Z",
     "shell.execute_reply": "2023-06-03T06:37:12.166384Z"
    },
    "papermill": {
     "duration": 0.033917,
     "end_time": "2023-06-03T06:37:12.169310",
     "exception": false,
     "start_time": "2023-06-03T06:37:12.135393",
     "status": "completed"
    },
    "tags": []
   },
   "outputs": [
    {
     "data": {
      "text/html": [
       "<div>\n",
       "<style scoped>\n",
       "    .dataframe tbody tr th:only-of-type {\n",
       "        vertical-align: middle;\n",
       "    }\n",
       "\n",
       "    .dataframe tbody tr th {\n",
       "        vertical-align: top;\n",
       "    }\n",
       "\n",
       "    .dataframe thead th {\n",
       "        text-align: right;\n",
       "    }\n",
       "</style>\n",
       "<table border=\"1\" class=\"dataframe\">\n",
       "  <thead>\n",
       "    <tr style=\"text-align: right;\">\n",
       "      <th></th>\n",
       "      <th>file_name</th>\n",
       "      <th>label</th>\n",
       "    </tr>\n",
       "  </thead>\n",
       "  <tbody>\n",
       "    <tr>\n",
       "      <th>0</th>\n",
       "      <td>Image_test_00001.jpg</td>\n",
       "      <td>0</td>\n",
       "    </tr>\n",
       "    <tr>\n",
       "      <th>1</th>\n",
       "      <td>Image_test_00002.jpg</td>\n",
       "      <td>0</td>\n",
       "    </tr>\n",
       "    <tr>\n",
       "      <th>2</th>\n",
       "      <td>Image_test_00003.jpg</td>\n",
       "      <td>0</td>\n",
       "    </tr>\n",
       "    <tr>\n",
       "      <th>3</th>\n",
       "      <td>Image_test_00004.jpg</td>\n",
       "      <td>0</td>\n",
       "    </tr>\n",
       "    <tr>\n",
       "      <th>4</th>\n",
       "      <td>Image_test_00005.jpg</td>\n",
       "      <td>0</td>\n",
       "    </tr>\n",
       "    <tr>\n",
       "      <th>...</th>\n",
       "      <td>...</td>\n",
       "      <td>...</td>\n",
       "    </tr>\n",
       "    <tr>\n",
       "      <th>5746</th>\n",
       "      <td>Image_test_05747.jpg</td>\n",
       "      <td>0</td>\n",
       "    </tr>\n",
       "    <tr>\n",
       "      <th>5747</th>\n",
       "      <td>Image_test_05748.jpg</td>\n",
       "      <td>0</td>\n",
       "    </tr>\n",
       "    <tr>\n",
       "      <th>5748</th>\n",
       "      <td>Image_test_05749.jpg</td>\n",
       "      <td>0</td>\n",
       "    </tr>\n",
       "    <tr>\n",
       "      <th>5749</th>\n",
       "      <td>Image_test_05750.jpg</td>\n",
       "      <td>0</td>\n",
       "    </tr>\n",
       "    <tr>\n",
       "      <th>5750</th>\n",
       "      <td>Image_test_05751.jpg</td>\n",
       "      <td>0</td>\n",
       "    </tr>\n",
       "  </tbody>\n",
       "</table>\n",
       "<p>5751 rows × 2 columns</p>\n",
       "</div>"
      ],
      "text/plain": [
       "                 file_name  label\n",
       "0     Image_test_00001.jpg      0\n",
       "1     Image_test_00002.jpg      0\n",
       "2     Image_test_00003.jpg      0\n",
       "3     Image_test_00004.jpg      0\n",
       "4     Image_test_00005.jpg      0\n",
       "...                    ...    ...\n",
       "5746  Image_test_05747.jpg      0\n",
       "5747  Image_test_05748.jpg      0\n",
       "5748  Image_test_05749.jpg      0\n",
       "5749  Image_test_05750.jpg      0\n",
       "5750  Image_test_05751.jpg      0\n",
       "\n",
       "[5751 rows x 2 columns]"
      ]
     },
     "execution_count": 5,
     "metadata": {},
     "output_type": "execute_result"
    }
   ],
   "source": [
    "# testing data\n",
    "test_df = pd.read_csv(\"/kaggle/input/extracting-attributes-from-fashion-images-2/sample_submission.csv\")\n",
    "test_df"
   ]
  },
  {
   "cell_type": "markdown",
   "id": "f812cae1",
   "metadata": {
    "papermill": {
     "duration": 0.008226,
     "end_time": "2023-06-03T06:37:12.186534",
     "exception": false,
     "start_time": "2023-06-03T06:37:12.178308",
     "status": "completed"
    },
    "tags": []
   },
   "source": [
    "## Checking for Imbalance in the dataset"
   ]
  },
  {
   "cell_type": "code",
   "execution_count": 6,
   "id": "b6947f25",
   "metadata": {
    "execution": {
     "iopub.execute_input": "2023-06-03T06:37:12.205179Z",
     "iopub.status.busy": "2023-06-03T06:37:12.204374Z",
     "iopub.status.idle": "2023-06-03T06:37:12.216070Z",
     "shell.execute_reply": "2023-06-03T06:37:12.215084Z"
    },
    "papermill": {
     "duration": 0.023075,
     "end_time": "2023-06-03T06:37:12.218018",
     "exception": false,
     "start_time": "2023-06-03T06:37:12.194943",
     "status": "completed"
    },
    "tags": []
   },
   "outputs": [
    {
     "data": {
      "text/plain": [
       "1    5384\n",
       "2    4084\n",
       "3    2008\n",
       "4    1972\n",
       "6    1925\n",
       "5    1616\n",
       "0    1402\n",
       "Name: label, dtype: int64"
      ]
     },
     "execution_count": 6,
     "metadata": {},
     "output_type": "execute_result"
    }
   ],
   "source": [
    "train_df.label.value_counts()"
   ]
  },
  {
   "cell_type": "code",
   "execution_count": 7,
   "id": "0291037e",
   "metadata": {
    "execution": {
     "iopub.execute_input": "2023-06-03T06:37:12.236483Z",
     "iopub.status.busy": "2023-06-03T06:37:12.235809Z",
     "iopub.status.idle": "2023-06-03T06:37:12.242463Z",
     "shell.execute_reply": "2023-06-03T06:37:12.241565Z"
    },
    "papermill": {
     "duration": 0.017849,
     "end_time": "2023-06-03T06:37:12.244311",
     "exception": false,
     "start_time": "2023-06-03T06:37:12.226462",
     "status": "completed"
    },
    "tags": []
   },
   "outputs": [
    {
     "data": {
      "text/plain": [
       "0    5751\n",
       "Name: label, dtype: int64"
      ]
     },
     "execution_count": 7,
     "metadata": {},
     "output_type": "execute_result"
    }
   ],
   "source": [
    "test_df.label.value_counts()"
   ]
  },
  {
   "cell_type": "code",
   "execution_count": 8,
   "id": "cb11520e",
   "metadata": {
    "execution": {
     "iopub.execute_input": "2023-06-03T06:37:12.263450Z",
     "iopub.status.busy": "2023-06-03T06:37:12.262935Z",
     "iopub.status.idle": "2023-06-03T06:37:12.270201Z",
     "shell.execute_reply": "2023-06-03T06:37:12.269259Z"
    },
    "papermill": {
     "duration": 0.019005,
     "end_time": "2023-06-03T06:37:12.272159",
     "exception": false,
     "start_time": "2023-06-03T06:37:12.253154",
     "status": "completed"
    },
    "tags": []
   },
   "outputs": [
    {
     "data": {
      "text/plain": [
       "array([0, 1, 2, 3, 5, 4, 6])"
      ]
     },
     "execution_count": 8,
     "metadata": {},
     "output_type": "execute_result"
    }
   ],
   "source": [
    "train_df.label.unique()"
   ]
  },
  {
   "cell_type": "code",
   "execution_count": 9,
   "id": "cdb2da7b",
   "metadata": {
    "execution": {
     "iopub.execute_input": "2023-06-03T06:37:12.291159Z",
     "iopub.status.busy": "2023-06-03T06:37:12.290446Z",
     "iopub.status.idle": "2023-06-03T06:37:13.111506Z",
     "shell.execute_reply": "2023-06-03T06:37:13.110278Z"
    },
    "papermill": {
     "duration": 0.832982,
     "end_time": "2023-06-03T06:37:13.113837",
     "exception": false,
     "start_time": "2023-06-03T06:37:12.280855",
     "status": "completed"
    },
    "tags": []
   },
   "outputs": [
    {
     "data": {
      "text/plain": [
       "[1.8739555736702669,\n",
       " 0.4879802589683719,\n",
       " 0.6433118791101161,\n",
       " 1.3084092202618098,\n",
       " 1.3322949869603014,\n",
       " 1.6257956152758133,\n",
       " 1.3648237476808904]"
      ]
     },
     "execution_count": 9,
     "metadata": {},
     "output_type": "execute_result"
    }
   ],
   "source": [
    "# Creating class weights for imbalance dataset\n",
    "from sklearn.utils import class_weight\n",
    "class_weights = list(class_weight.compute_class_weight('balanced',\n",
    "                                                 classes=np.unique(train_df.label.to_numpy()),\n",
    "                                                 y=train_df.label.to_numpy()))\n",
    "class_weights"
   ]
  },
  {
   "cell_type": "code",
   "execution_count": 10,
   "id": "a04659ac",
   "metadata": {
    "execution": {
     "iopub.execute_input": "2023-06-03T06:37:13.135645Z",
     "iopub.status.busy": "2023-06-03T06:37:13.133762Z",
     "iopub.status.idle": "2023-06-03T06:37:13.142662Z",
     "shell.execute_reply": "2023-06-03T06:37:13.141855Z"
    },
    "papermill": {
     "duration": 0.021113,
     "end_time": "2023-06-03T06:37:13.144638",
     "exception": false,
     "start_time": "2023-06-03T06:37:13.123525",
     "status": "completed"
    },
    "tags": []
   },
   "outputs": [
    {
     "data": {
      "text/plain": [
       "{0: 1.8739555736702669,\n",
       " 1: 0.4879802589683719,\n",
       " 2: 0.6433118791101161,\n",
       " 3: 1.3084092202618098,\n",
       " 4: 1.3322949869603014,\n",
       " 5: 1.6257956152758133,\n",
       " 6: 1.3648237476808904}"
      ]
     },
     "execution_count": 10,
     "metadata": {},
     "output_type": "execute_result"
    }
   ],
   "source": [
    "weights = {x:y for x,y in enumerate(class_weights)}\n",
    "weights"
   ]
  },
  {
   "cell_type": "markdown",
   "id": "5cec4698",
   "metadata": {
    "papermill": {
     "duration": 0.008813,
     "end_time": "2023-06-03T06:37:13.162734",
     "exception": false,
     "start_time": "2023-06-03T06:37:13.153921",
     "status": "completed"
    },
    "tags": []
   },
   "source": [
    "# Visualization the dataset"
   ]
  },
  {
   "cell_type": "code",
   "execution_count": 11,
   "id": "dd103d0c",
   "metadata": {
    "execution": {
     "iopub.execute_input": "2023-06-03T06:37:13.182300Z",
     "iopub.status.busy": "2023-06-03T06:37:13.181549Z",
     "iopub.status.idle": "2023-06-03T06:37:13.379383Z",
     "shell.execute_reply": "2023-06-03T06:37:13.378404Z"
    },
    "papermill": {
     "duration": 0.212215,
     "end_time": "2023-06-03T06:37:13.383897",
     "exception": false,
     "start_time": "2023-06-03T06:37:13.171682",
     "status": "completed"
    },
    "tags": []
   },
   "outputs": [
    {
     "data": {
      "image/png": "[encoded data removed]",
      "text/plain": [
       "<Figure size 640x480 with 1 Axes>"
      ]
     },
     "metadata": {},
     "output_type": "display_data"
    }
   ],
   "source": [
    "from matplotlib import pyplot as plt\n",
    "\n",
    "train_files = os.listdir(train_path)\n",
    "img = cv.imread(train_path+\"/\"+train_files[1])\n",
    "plt.imshow(img)\n",
    "plt.xticks([])\n",
    "plt.yticks([])\n",
    "plt.show()"
   ]
  },
  {
   "cell_type": "markdown",
   "id": "7b016901",
   "metadata": {
    "papermill": {
     "duration": 0.010578,
     "end_time": "2023-06-03T06:37:13.415513",
     "exception": false,
     "start_time": "2023-06-03T06:37:13.404935",
     "status": "completed"
    },
    "tags": []
   },
   "source": [
    "# Creating Data Pipelines"
   ]
  },
  {
   "cell_type": "code",
   "execution_count": 12,
   "id": "96981183",
   "metadata": {
    "execution": {
     "iopub.execute_input": "2023-06-03T06:37:13.436345Z",
     "iopub.status.busy": "2023-06-03T06:37:13.436029Z",
     "iopub.status.idle": "2023-06-03T06:37:20.285284Z",
     "shell.execute_reply": "2023-06-03T06:37:20.284366Z"
    },
    "papermill": {
     "duration": 6.862164,
     "end_time": "2023-06-03T06:37:20.287589",
     "exception": false,
     "start_time": "2023-06-03T06:37:13.425425",
     "status": "completed"
    },
    "tags": []
   },
   "outputs": [
    {
     "name": "stdout",
     "output_type": "stream",
     "text": [
      "Found 18391 validated image filenames belonging to 7 classes.\n"
     ]
    }
   ],
   "source": [
    "from tensorflow.keras.preprocessing.image import ImageDataGenerator\n",
    "\n",
    "train_df['label'] = train_df['label'].astype(str)\n",
    "\n",
    "datagen = ImageDataGenerator(\n",
    "    rescale=1/255.0,\n",
    "    rotation_range=20,\n",
    "    zoom_range=0.05,\n",
    "    width_shift_range=0.05,\n",
    "    height_shift_range=0.05,\n",
    "    shear_range=0.05,\n",
    "    horizontal_flip=True,\n",
    "    fill_mode = \"nearest\",\n",
    ")\n",
    "\n",
    "train_generator=datagen.flow_from_dataframe(\n",
    "    dataframe=train_df,\n",
    "    directory=\"/kaggle/input/extracting-attributes-from-fashion-images-2/train\",\n",
    "    x_col=\"file_name\",\n",
    "    y_col=\"label\",\n",
    "    subset=\"training\",\n",
    "    batch_size=BATCH_SIZE,\n",
    "    seed=42,\n",
    "    shuffle=True,\n",
    "    class_mode=\"sparse\",\n",
    "    target_size=(INPUT_SHAPE,INPUT_SHAPE))\n"
   ]
  },
  {
   "cell_type": "code",
   "execution_count": 13,
   "id": "03dd3035",
   "metadata": {
    "execution": {
     "iopub.execute_input": "2023-06-03T06:37:20.313352Z",
     "iopub.status.busy": "2023-06-03T06:37:20.311704Z",
     "iopub.status.idle": "2023-06-03T06:37:22.746992Z",
     "shell.execute_reply": "2023-06-03T06:37:22.746068Z"
    },
    "papermill": {
     "duration": 2.450344,
     "end_time": "2023-06-03T06:37:22.749248",
     "exception": false,
     "start_time": "2023-06-03T06:37:20.298904",
     "status": "completed"
    },
    "tags": []
   },
   "outputs": [
    {
     "name": "stdout",
     "output_type": "stream",
     "text": [
      "Found 5751 validated image filenames belonging to 1 classes.\n"
     ]
    }
   ],
   "source": [
    "test_datagen=ImageDataGenerator(rescale=1./255.)\n",
    "\n",
    "test_df['label'] = test_df['label'].astype(str)\n",
    "\n",
    "test_generator=test_datagen.flow_from_dataframe(\n",
    "dataframe=test_df,\n",
    "directory=\"/kaggle/input/extracting-attributes-from-fashion-images-2/test\",\n",
    "x_col=\"file_name\",\n",
    "y_col=\"label\",\n",
    "batch_size=BATCH_SIZE,\n",
    "seed=42,\n",
    "shuffle=False,\n",
    "class_mode=\"sparse\",\n",
    "target_size=(INPUT_SHAPE,INPUT_SHAPE))\n"
   ]
  },
  {
   "cell_type": "markdown",
   "id": "42c68bd1",
   "metadata": {
    "papermill": {
     "duration": 0.010025,
     "end_time": "2023-06-03T06:37:22.769520",
     "exception": false,
     "start_time": "2023-06-03T06:37:22.759495",
     "status": "completed"
    },
    "tags": []
   },
   "source": [
    "# Creating the Deep learning model"
   ]
  },
  {
   "cell_type": "code",
   "execution_count": 14,
   "id": "6778aa3e",
   "metadata": {
    "execution": {
     "iopub.execute_input": "2023-06-03T06:37:22.791872Z",
     "iopub.status.busy": "2023-06-03T06:37:22.791194Z",
     "iopub.status.idle": "2023-06-03T06:37:28.206707Z",
     "shell.execute_reply": "2023-06-03T06:37:28.205810Z"
    },
    "papermill": {
     "duration": 5.429366,
     "end_time": "2023-06-03T06:37:28.209056",
     "exception": false,
     "start_time": "2023-06-03T06:37:22.779690",
     "status": "completed"
    },
    "tags": []
   },
   "outputs": [
    {
     "name": "stdout",
     "output_type": "stream",
     "text": [
      "Downloading data from https://storage.googleapis.com/tensorflow/keras-applications/vgg16/vgg16_weights_tf_dim_ordering_tf_kernels_notop.h5\n",
      "58889256/58889256 [==============================] - 2s 0us/step\n"
     ]
    }
   ],
   "source": [
    "from tensorflow.keras.models import Sequential\n",
    "from tensorflow.keras.layers import *\n",
    "from tensorflow import keras\n",
    "import tensorflow as tf\n",
    "from keras.applications import VGG16\n",
    "from tensorflow.python.keras import regularizers\n",
    "\n",
    "# Pre Trained Models \n",
    "\n",
    "conv_base = VGG16(weights=\"imagenet\",\n",
    "                 include_top=False,\n",
    "                 input_shape=(INPUT_SHAPE,INPUT_SHAPE,3)) # 244\n",
    "\n",
    "# conv_base = tf.keras.applications.Xception(\n",
    "#                  weights=\"imagenet\",\n",
    "#                  include_top=False,\n",
    "#                  input_shape=(299,299,3))\n",
    "\n",
    "\n",
    "# conv_base = tf.keras.applications.ConvNeXtBase(\n",
    "#     model_name=\"convnext_base\",\n",
    "#     include_top=False,\n",
    "#     weights=\"imagenet\",\n",
    "#     input_shape=(256,256,3),\n",
    "# )\n",
    "\n",
    "# conv_base = tf.keras.applications.mobilenet.MobileNet( include_top=False,\n",
    "#                                                            input_shape=(INPUT_SHAPE, INPUT_SHAPE,3),\n",
    "#                                                            weights='imagenet')    \n",
    "\n",
    "model = Sequential()\n",
    "\n",
    "model.add(conv_base)\n",
    "conv_base.trainable = False\n",
    "\n",
    "model.add(Flatten())\n",
    "\n",
    "model.add(Dense(256, activation='relu',kernel_regularizer=regularizers.l2(0.01)))\n",
    "model.add(BatchNormalization())\n",
    "\n",
    "\n",
    "model.add(Dense(7, activation='softmax'))\n",
    "\n",
    "model.compile(optimizer=keras.optimizers.Adam(lr=0.00001),loss=\"sparse_categorical_crossentropy\",metrics=[\"accuracy\"])"
   ]
  },
  {
   "cell_type": "code",
   "execution_count": 15,
   "id": "74bcc4e0",
   "metadata": {
    "execution": {
     "iopub.execute_input": "2023-06-03T06:37:28.237318Z",
     "iopub.status.busy": "2023-06-03T06:37:28.236535Z",
     "iopub.status.idle": "2023-06-03T06:37:28.280774Z",
     "shell.execute_reply": "2023-06-03T06:37:28.279738Z"
    },
    "papermill": {
     "duration": 0.08801,
     "end_time": "2023-06-03T06:37:28.310736",
     "exception": false,
     "start_time": "2023-06-03T06:37:28.222726",
     "status": "completed"
    },
    "tags": []
   },
   "outputs": [
    {
     "name": "stdout",
     "output_type": "stream",
     "text": [
      "Model: \"vgg16\"\n",
      "_________________________________________________________________\n",
      " Layer (type)                Output Shape              Param #   \n",
      "=================================================================\n",
      " input_1 (InputLayer)        [(None, 244, 244, 3)]     0         \n",
      "                                                                 \n",
      " block1_conv1 (Conv2D)       (None, 244, 244, 64)      1792      \n",
      "                                                                 \n",
      " block1_conv2 (Conv2D)       (None, 244, 244, 64)      36928     \n",
      "                                                                 \n",
      " block1_pool (MaxPooling2D)  (None, 122, 122, 64)      0         \n",
      "                                                                 \n",
      " block2_conv1 (Conv2D)       (None, 122, 122, 128)     73856     \n",
      "                                                                 \n",
      " block2_conv2 (Conv2D)       (None, 122, 122, 128)     147584    \n",
      "                                                                 \n",
      " block2_pool (MaxPooling2D)  (None, 61, 61, 128)       0         \n",
      "                                                                 \n",
      " block3_conv1 (Conv2D)       (None, 61, 61, 256)       295168    \n",
      "                                                                 \n",
      " block3_conv2 (Conv2D)       (None, 61, 61, 256)       590080    \n",
      "                                                                 \n",
      " block3_conv3 (Conv2D)       (None, 61, 61, 256)       590080    \n",
      "                                                                 \n",
      " block3_pool (MaxPooling2D)  (None, 30, 30, 256)       0         \n",
      "                                                                 \n",
      " block4_conv1 (Conv2D)       (None, 30, 30, 512)       1180160   \n",
      "                                                                 \n",
      " block4_conv2 (Conv2D)       (None, 30, 30, 512)       2359808   \n",
      "                                                                 \n",
      " block4_conv3 (Conv2D)       (None, 30, 30, 512)       2359808   \n",
      "                                                                 \n",
      " block4_pool (MaxPooling2D)  (None, 15, 15, 512)       0         \n",
      "                                                                 \n",
      " block5_conv1 (Conv2D)       (None, 15, 15, 512)       2359808   \n",
      "                                                                 \n",
      " block5_conv2 (Conv2D)       (None, 15, 15, 512)       2359808   \n",
      "                                                                 \n",
      " block5_conv3 (Conv2D)       (None, 15, 15, 512)       2359808   \n",
      "                                                                 \n",
      " block5_pool (MaxPooling2D)  (None, 7, 7, 512)         0         \n",
      "                                                                 \n",
      "=================================================================\n",
      "Total params: 14,714,688\n",
      "Trainable params: 0\n",
      "Non-trainable params: 14,714,688\n",
      "_________________________________________________________________\n"
     ]
    }
   ],
   "source": [
    "conv_base.summary()"
   ]
  },
  {
   "cell_type": "code",
   "execution_count": 16,
   "id": "b32c6dbd",
   "metadata": {
    "execution": {
     "iopub.execute_input": "2023-06-03T06:37:28.350683Z",
     "iopub.status.busy": "2023-06-03T06:37:28.350320Z",
     "iopub.status.idle": "2023-06-03T06:37:28.377267Z",
     "shell.execute_reply": "2023-06-03T06:37:28.376422Z"
    },
    "papermill": {
     "duration": 0.057362,
     "end_time": "2023-06-03T06:37:28.387470",
     "exception": false,
     "start_time": "2023-06-03T06:37:28.330108",
     "status": "completed"
    },
    "tags": []
   },
   "outputs": [
    {
     "name": "stdout",
     "output_type": "stream",
     "text": [
      "Model: \"sequential\"\n",
      "_________________________________________________________________\n",
      " Layer (type)                Output Shape              Param #   \n",
      "=================================================================\n",
      " vgg16 (Functional)          (None, 7, 7, 512)         14714688  \n",
      "                                                                 \n",
      " flatten (Flatten)           (None, 25088)             0         \n",
      "                                                                 \n",
      " dense (Dense)               (None, 256)               6422784   \n",
      "                                                                 \n",
      " batch_normalization (BatchN  (None, 256)              1024      \n",
      " ormalization)                                                   \n",
      "                                                                 \n",
      " dense_1 (Dense)             (None, 7)                 1799      \n",
      "                                                                 \n",
      "=================================================================\n",
      "Total params: 21,140,295\n",
      "Trainable params: 6,425,095\n",
      "Non-trainable params: 14,715,200\n",
      "_________________________________________________________________\n"
     ]
    }
   ],
   "source": [
    "model.summary()"
   ]
  },
  {
   "cell_type": "markdown",
   "id": "5c2eab45",
   "metadata": {
    "papermill": {
     "duration": 0.019062,
     "end_time": "2023-06-03T06:37:28.426462",
     "exception": false,
     "start_time": "2023-06-03T06:37:28.407400",
     "status": "completed"
    },
    "tags": []
   },
   "source": [
    "# Training"
   ]
  },
  {
   "cell_type": "code",
   "execution_count": 17,
   "id": "4ba6a9f4",
   "metadata": {
    "execution": {
     "iopub.execute_input": "2023-06-03T06:37:28.466310Z",
     "iopub.status.busy": "2023-06-03T06:37:28.465994Z",
     "iopub.status.idle": "2023-06-03T06:37:29.452427Z",
     "shell.execute_reply": "2023-06-03T06:37:29.451189Z"
    },
    "papermill": {
     "duration": 1.009385,
     "end_time": "2023-06-03T06:37:29.454957",
     "exception": false,
     "start_time": "2023-06-03T06:37:28.445572",
     "status": "completed"
    },
    "tags": []
   },
   "outputs": [],
   "source": [
    "# Setting up model callbacks\n",
    "! mkdir /kaggle/working/model/\n",
    "\n",
    "checkpoint=tf.keras.callbacks.ModelCheckpoint(filepath=\"/kaggle/working/model/CNN.h5\", \n",
    "                                              monitor='val_accuracy', \n",
    "                                              verbose=0, \n",
    "                                              save_best_only=True,\n",
    "                                              save_weights_only=False, \n",
    "                                              mode='auto', \n",
    "                                              save_freq='epoch', \n",
    "                                              options=None)"
   ]
  },
  {
   "cell_type": "code",
   "execution_count": 18,
   "id": "f56ecb49",
   "metadata": {
    "execution": {
     "iopub.execute_input": "2023-06-03T06:37:29.493358Z",
     "iopub.status.busy": "2023-06-03T06:37:29.492384Z",
     "iopub.status.idle": "2023-06-03T08:18:57.062392Z",
     "shell.execute_reply": "2023-06-03T08:18:57.061296Z"
    },
    "papermill": {
     "duration": 6087.785538,
     "end_time": "2023-06-03T08:18:57.258577",
     "exception": false,
     "start_time": "2023-06-03T06:37:29.473039",
     "status": "completed"
    },
    "tags": []
   },
   "outputs": [
    {
     "name": "stdout",
     "output_type": "stream",
     "text": [
      "Epoch 1/15\n",
      "287/287 [==============================] - 480s 2s/step - loss: 2.3130 - accuracy: 0.4548 - val_loss: 6.8436 - val_accuracy: 0.0397\n",
      "Epoch 2/15\n",
      "287/287 [==============================] - 368s 1s/step - loss: 1.5409 - accuracy: 0.4823 - val_loss: 4.4064 - val_accuracy: 0.1464\n",
      "Epoch 3/15\n",
      "287/287 [==============================] - 369s 1s/step - loss: 1.4798 - accuracy: 0.4876 - val_loss: 3.8611 - val_accuracy: 0.1322\n",
      "Epoch 4/15\n",
      "287/287 [==============================] - 368s 1s/step - loss: 1.4491 - accuracy: 0.4893 - val_loss: 3.9929 - val_accuracy: 0.1650\n",
      "Epoch 5/15\n",
      "287/287 [==============================] - 382s 1s/step - loss: 1.4190 - accuracy: 0.4869 - val_loss: 2.9889 - val_accuracy: 0.1966\n",
      "Epoch 6/15\n",
      "287/287 [==============================] - 382s 1s/step - loss: 1.4010 - accuracy: 0.4956 - val_loss: 3.0296 - val_accuracy: 0.2509\n",
      "Epoch 7/15\n",
      "287/287 [==============================] - 374s 1s/step - loss: 1.3765 - accuracy: 0.4949 - val_loss: 2.8963 - val_accuracy: 0.2744\n",
      "Epoch 8/15\n",
      "287/287 [==============================] - 383s 1s/step - loss: 1.3341 - accuracy: 0.5036 - val_loss: 3.9209 - val_accuracy: 0.0923\n",
      "Epoch 9/15\n",
      "287/287 [==============================] - 380s 1s/step - loss: 1.3415 - accuracy: 0.5074 - val_loss: 4.2968 - val_accuracy: 0.0873\n",
      "Epoch 10/15\n",
      "287/287 [==============================] - 383s 1s/step - loss: 1.3067 - accuracy: 0.5093 - val_loss: 4.6750 - val_accuracy: 0.1580\n",
      "Epoch 11/15\n",
      "287/287 [==============================] - 384s 1s/step - loss: 1.2874 - accuracy: 0.5159 - val_loss: 3.9492 - val_accuracy: 0.2489\n",
      "Epoch 12/15\n",
      "287/287 [==============================] - 387s 1s/step - loss: 1.2721 - accuracy: 0.5226 - val_loss: 5.2559 - val_accuracy: 0.0669\n",
      "Epoch 13/15\n",
      "287/287 [==============================] - 384s 1s/step - loss: 1.2688 - accuracy: 0.5182 - val_loss: 5.6161 - val_accuracy: 0.0311\n",
      "Epoch 14/15\n",
      "287/287 [==============================] - 387s 1s/step - loss: 1.2620 - accuracy: 0.5255 - val_loss: 2.7447 - val_accuracy: 0.3021\n",
      "Epoch 15/15\n",
      "287/287 [==============================] - 384s 1s/step - loss: 1.2485 - accuracy: 0.5274 - val_loss: 5.0665 - val_accuracy: 0.0435\n"
     ]
    },
    {
     "data": {
      "image/png": "[encoded data removed]",
      "text/plain": [
       "<Figure size 640x480 with 1 Axes>"
      ]
     },
     "metadata": {},
     "output_type": "display_data"
    },
    {
     "data": {
      "image/png": "[encoded data removed]",
      "text/plain": [
       "<Figure size 640x480 with 1 Axes>"
      ]
     },
     "metadata": {},
     "output_type": "display_data"
    }
   ],
   "source": [
    "# Training the model\n",
    "\n",
    "STEP_SIZE_TRAIN=train_generator.n//train_generator.batch_size\n",
    "STEP_SIZE_TEST=test_generator.n//test_generator.batch_size\n",
    "\n",
    "history = model.fit(train_generator,\n",
    "                    steps_per_epoch=STEP_SIZE_TRAIN,\n",
    "                    validation_data=test_generator,\n",
    "                    validation_steps=STEP_SIZE_TEST,\n",
    "                    epochs=EPOCHS,\n",
    "                    callbacks=[checkpoint],\n",
    "                    class_weight=weights)\n",
    "\n",
    "\n",
    "# summarize history for accuracy\n",
    "plt.plot(history.history['accuracy'])\n",
    "plt.plot(history.history['val_accuracy'])\n",
    "plt.title('model accuracy')\n",
    "plt.ylabel('accuracy')\n",
    "plt.xlabel('epoch')\n",
    "plt.legend(['train', 'test'], loc='upper left')\n",
    "plt.grid()\n",
    "plt.show()\n",
    "\n",
    "\n",
    "# summarize history for loss\n",
    "plt.plot(history.history['loss'])\n",
    "plt.plot(history.history['val_loss'])\n",
    "plt.title('model loss')\n",
    "plt.ylabel('loss')\n",
    "plt.xlabel('epoch')\n",
    "plt.legend(['train', 'test'], loc='upper left')\n",
    "plt.grid()\n",
    "plt.show()"
   ]
  },
  {
   "cell_type": "markdown",
   "id": "b808532c",
   "metadata": {
    "papermill": {
     "duration": 0.335134,
     "end_time": "2023-06-03T08:18:57.940442",
     "exception": false,
     "start_time": "2023-06-03T08:18:57.605308",
     "status": "completed"
    },
    "tags": []
   },
   "source": [
    "# Testing"
   ]
  },
  {
   "cell_type": "code",
   "execution_count": 19,
   "id": "8a0ade10",
   "metadata": {
    "execution": {
     "iopub.execute_input": "2023-06-03T08:18:58.682357Z",
     "iopub.status.busy": "2023-06-03T08:18:58.681219Z",
     "iopub.status.idle": "2023-06-03T08:18:59.213197Z",
     "shell.execute_reply": "2023-06-03T08:18:59.212199Z"
    },
    "papermill": {
     "duration": 0.936916,
     "end_time": "2023-06-03T08:18:59.216063",
     "exception": false,
     "start_time": "2023-06-03T08:18:58.279147",
     "status": "completed"
    },
    "tags": []
   },
   "outputs": [],
   "source": [
    "# importing the best model\n",
    "\n",
    "model = tf.keras.models.load_model(\"/kaggle/working/model/CNN.h5\")"
   ]
  },
  {
   "cell_type": "code",
   "execution_count": 20,
   "id": "7aeff8c8",
   "metadata": {
    "execution": {
     "iopub.execute_input": "2023-06-03T08:18:59.897665Z",
     "iopub.status.busy": "2023-06-03T08:18:59.896947Z",
     "iopub.status.idle": "2023-06-03T08:19:41.408216Z",
     "shell.execute_reply": "2023-06-03T08:19:41.407290Z"
    },
    "papermill": {
     "duration": 41.853967,
     "end_time": "2023-06-03T08:19:41.410340",
     "exception": false,
     "start_time": "2023-06-03T08:18:59.556373",
     "status": "completed"
    },
    "tags": []
   },
   "outputs": [
    {
     "name": "stdout",
     "output_type": "stream",
     "text": [
      "89/89 [==============================] - 31s 340ms/step - loss: 2.7447 - accuracy: 0.3021\n"
     ]
    },
    {
     "data": {
      "text/plain": [
       "[2.744724988937378, 0.30214184522628784]"
      ]
     },
     "execution_count": 20,
     "metadata": {},
     "output_type": "execute_result"
    }
   ],
   "source": [
    "# Test accuracy\n",
    "test_generator.reset()\n",
    "model.evaluate(test_generator,\n",
    "steps=STEP_SIZE_TEST)"
   ]
  },
  {
   "cell_type": "code",
   "execution_count": 21,
   "id": "18d5bc6b",
   "metadata": {
    "execution": {
     "iopub.execute_input": "2023-06-03T08:19:42.108418Z",
     "iopub.status.busy": "2023-06-03T08:19:42.108034Z",
     "iopub.status.idle": "2023-06-03T08:20:16.849758Z",
     "shell.execute_reply": "2023-06-03T08:20:16.848799Z"
    },
    "papermill": {
     "duration": 35.098641,
     "end_time": "2023-06-03T08:20:16.852123",
     "exception": false,
     "start_time": "2023-06-03T08:19:41.753482",
     "status": "completed"
    },
    "tags": []
   },
   "outputs": [
    {
     "name": "stdout",
     "output_type": "stream",
     "text": [
      "90/90 [==============================] - 34s 380ms/step\n"
     ]
    }
   ],
   "source": [
    "test_generator.reset()\n",
    "pred=model.predict(test_generator)"
   ]
  },
  {
   "cell_type": "code",
   "execution_count": 22,
   "id": "1ed1cecf",
   "metadata": {
    "execution": {
     "iopub.execute_input": "2023-06-03T08:20:17.564747Z",
     "iopub.status.busy": "2023-06-03T08:20:17.564391Z",
     "iopub.status.idle": "2023-06-03T08:20:17.649445Z",
     "shell.execute_reply": "2023-06-03T08:20:17.647512Z"
    },
    "papermill": {
     "duration": 0.446694,
     "end_time": "2023-06-03T08:20:17.651754",
     "exception": false,
     "start_time": "2023-06-03T08:20:17.205060",
     "status": "completed"
    },
    "tags": []
   },
   "outputs": [
    {
     "name": "stdout",
     "output_type": "stream",
     "text": [
      "[[1766  199 2710  146   17   25  888]\n",
      " [   0    0    0    0    0    0    0]\n",
      " [   0    0    0    0    0    0    0]\n",
      " [   0    0    0    0    0    0    0]\n",
      " [   0    0    0    0    0    0    0]\n",
      " [   0    0    0    0    0    0    0]\n",
      " [   0    0    0    0    0    0    0]]\n"
     ]
    }
   ],
   "source": [
    "from sklearn.metrics import confusion_matrix\n",
    "y_pred=np.argmax(pred,axis=1)\n",
    "\n",
    "test_df['label'] = test_df['label'].astype(int)\n",
    "\n",
    "cm=confusion_matrix(test_df.label, y_pred)\n",
    "print(cm)"
   ]
  },
  {
   "cell_type": "markdown",
   "id": "157f18c4",
   "metadata": {
    "papermill": {
     "duration": 0.408903,
     "end_time": "2023-06-03T08:20:18.424502",
     "exception": false,
     "start_time": "2023-06-03T08:20:18.015599",
     "status": "completed"
    },
    "tags": []
   },
   "source": [
    "# Creating submission.csv"
   ]
  },
  {
   "cell_type": "code",
   "execution_count": 23,
   "id": "e42f9879",
   "metadata": {
    "execution": {
     "iopub.execute_input": "2023-06-03T08:20:19.211980Z",
     "iopub.status.busy": "2023-06-03T08:20:19.211622Z",
     "iopub.status.idle": "2023-06-03T08:20:19.236763Z",
     "shell.execute_reply": "2023-06-03T08:20:19.235878Z"
    },
    "papermill": {
     "duration": 0.381444,
     "end_time": "2023-06-03T08:20:19.238739",
     "exception": false,
     "start_time": "2023-06-03T08:20:18.857295",
     "status": "completed"
    },
    "tags": []
   },
   "outputs": [],
   "source": [
    "filenames=test_generator.filenames\n",
    "predictions=np.argmax(pred,axis=1)\n",
    "results=pd.DataFrame({\"Filename\":filenames,\n",
    "                      \"Predictions\":predictions})\n",
    "results.to_csv(\"submission.csv\",index=False)"
   ]
  },
  {
   "cell_type": "markdown",
   "id": "2c54697b",
   "metadata": {
    "papermill": {
     "duration": 0.352869,
     "end_time": "2023-06-03T08:20:19.946706",
     "exception": false,
     "start_time": "2023-06-03T08:20:19.593837",
     "status": "completed"
    },
    "tags": []
   },
   "source": [
    "# Reasons for low testing accuracy \n",
    "**Problem**: Although the training and testing data belong to the same dataset, the split in the dataset is very different, training data has about 1402 belonging to class 0 and the testing data has all the data belonging to class 0. Inorder to make a model that generalizes well on the dataset we need at least a minimum of 5000 samples per class.So creating a good model with just 1402 images is a difficult task.\n",
    "\n",
    "**Solution 1**: Adding more data in the dataset would lead to better learning of the model and would remove any bias in the dataset. But this is not possible in our case.\n",
    "\n",
    "**Solution 2**: If adding data is not an option then using a pre-trained model could lead to better generalization. This is because pre trained models are trained for good feature extraction. This should work for our use case but from what I have learned while training the model, Due to the low amount of class 0 data in the dataset the pretrained model is also not able to learn well even though it generalizes well.\n",
    "\n"
   ]
  }
 ],
 "metadata": {
  "kernelspec": {
   "display_name": "Python 3",
   "language": "python",
   "name": "python3"
  },
  "language_info": {
   "codemirror_mode": {
    "name": "ipython",
    "version": 3
   },
   "file_extension": ".py",
   "mimetype": "text/x-python",
   "name": "python",
   "nbconvert_exporter": "python",
   "pygments_lexer": "ipython3",
   "version": "3.10.10"
  },
  "papermill": {
   "default_parameters": {},
   "duration": 6219.675614,
   "end_time": "2023-06-03T08:20:24.097435",
   "environment_variables": {},
   "exception": null,
   "input_path": "__notebook__.ipynb",
   "output_path": "__notebook__.ipynb",
   "parameters": {},
   "start_time": "2023-06-03T06:36:44.421821",
   "version": "2.4.0"
  }
 },
 "nbformat": 4,
 "nbformat_minor": 5
}
