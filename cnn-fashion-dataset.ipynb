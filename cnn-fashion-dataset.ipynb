{
 "cells": [
  {
   "cell_type": "code",
   "execution_count": 1,
   "id": "9d12bd3d",
   "metadata": {
    "_cell_guid": "b1076dfc-b9ad-4769-8c92-a6c4dae69d19",
    "_uuid": "8f2839f25d086af736a60e9eeb907d3b93b6e0e5",
    "execution": {
     "iopub.execute_input": "2023-06-03T13:11:14.525728Z",
     "iopub.status.busy": "2023-06-03T13:11:14.525404Z",
     "iopub.status.idle": "2023-06-03T13:11:23.648250Z",
     "shell.execute_reply": "2023-06-03T13:11:23.647321Z"
    },
    "papermill": {
     "duration": 9.134622,
     "end_time": "2023-06-03T13:11:23.650660",
     "exception": false,
     "start_time": "2023-06-03T13:11:14.516038",
     "status": "completed"
    },
    "tags": []
   },
   "outputs": [],
   "source": [
    "# This Python 3 environment comes with many helpful analytics libraries installed\n",
    "# It is defined by the kaggle/python Docker image: https://github.com/kaggle/docker-python\n",
    "# For example, here's several helpful packages to load\n",
    "\n",
    "import numpy as np # linear algebra\n",
    "import pandas as pd # data processing, CSV file I/O (e.g. pd.read_csv)\n",
    "\n",
    "# Input data files are available in the read-only \"../input/\" directory\n",
    "# For example, running this (by clicking run or pressing Shift+Enter) will list all files under the input directory\n",
    "\n",
    "import os\n",
    "for dirname, _, filenames in os.walk('/kaggle/input'):\n",
    "    for filename in filenames:\n",
    "        os.path.join(dirname, filename)\n"
   ]
  },
  {
   "cell_type": "markdown",
   "id": "6cb5968f",
   "metadata": {
    "papermill": {
     "duration": 0.007753,
     "end_time": "2023-06-03T13:11:23.666804",
     "exception": false,
     "start_time": "2023-06-03T13:11:23.659051",
     "status": "completed"
    },
    "tags": []
   },
   "source": [
    "# Importing Required Modules "
   ]
  },
  {
   "cell_type": "code",
   "execution_count": 2,
   "id": "a8c1b5e4",
   "metadata": {
    "execution": {
     "iopub.execute_input": "2023-06-03T13:11:23.683697Z",
     "iopub.status.busy": "2023-06-03T13:11:23.683415Z",
     "iopub.status.idle": "2023-06-03T13:11:31.790049Z",
     "shell.execute_reply": "2023-06-03T13:11:31.789125Z"
    },
    "papermill": {
     "duration": 8.117745,
     "end_time": "2023-06-03T13:11:31.792392",
     "exception": false,
     "start_time": "2023-06-03T13:11:23.674647",
     "status": "completed"
    },
    "tags": []
   },
   "outputs": [
    {
     "name": "stderr",
     "output_type": "stream",
     "text": [
      "/opt/conda/lib/python3.10/site-packages/tensorflow_io/python/ops/__init__.py:98: UserWarning: unable to load libtensorflow_io_plugins.so: unable to open file: libtensorflow_io_plugins.so, from paths: ['/opt/conda/lib/python3.10/site-packages/tensorflow_io/python/ops/libtensorflow_io_plugins.so']\n",
      "caused by: ['/opt/conda/lib/python3.10/site-packages/tensorflow_io/python/ops/libtensorflow_io_plugins.so: undefined symbol: _ZN3tsl6StatusC1EN10tensorflow5error4CodeESt17basic_string_viewIcSt11char_traitsIcEENS_14SourceLocationE']\n",
      "  warnings.warn(f\"unable to load libtensorflow_io_plugins.so: {e}\")\n",
      "/opt/conda/lib/python3.10/site-packages/tensorflow_io/python/ops/__init__.py:104: UserWarning: file system plugins are not loaded: unable to open file: libtensorflow_io.so, from paths: ['/opt/conda/lib/python3.10/site-packages/tensorflow_io/python/ops/libtensorflow_io.so']\n",
      "caused by: ['/opt/conda/lib/python3.10/site-packages/tensorflow_io/python/ops/libtensorflow_io.so: undefined symbol: _ZTVN10tensorflow13GcsFileSystemE']\n",
      "  warnings.warn(f\"file system plugins are not loaded: {e}\")\n"
     ]
    }
   ],
   "source": [
    "import pandas as pd\n",
    "import cv2 as cv\n",
    "from tensorflow.keras.models import Sequential\n",
    "from tensorflow.keras.layers import *\n",
    "import os"
   ]
  },
  {
   "cell_type": "markdown",
   "id": "6ce269a0",
   "metadata": {
    "papermill": {
     "duration": 0.008253,
     "end_time": "2023-06-03T13:11:31.808987",
     "exception": false,
     "start_time": "2023-06-03T13:11:31.800734",
     "status": "completed"
    },
    "tags": []
   },
   "source": [
    "# Model Hyper parameters"
   ]
  },
  {
   "cell_type": "code",
   "execution_count": 3,
   "id": "9b5b94b8",
   "metadata": {
    "execution": {
     "iopub.execute_input": "2023-06-03T13:11:31.826787Z",
     "iopub.status.busy": "2023-06-03T13:11:31.825713Z",
     "iopub.status.idle": "2023-06-03T13:11:31.830426Z",
     "shell.execute_reply": "2023-06-03T13:11:31.829512Z"
    },
    "papermill": {
     "duration": 0.015599,
     "end_time": "2023-06-03T13:11:31.832571",
     "exception": false,
     "start_time": "2023-06-03T13:11:31.816972",
     "status": "completed"
    },
    "tags": []
   },
   "outputs": [],
   "source": [
    "train_path = \"/kaggle/input/extracting-attributes-from-fashion-images-2/train\"\n",
    "BATCH_SIZE = 64\n",
    "EPOCHS = 20\n",
    "INPUT_SHAPE = 244"
   ]
  },
  {
   "cell_type": "markdown",
   "id": "5d1e7733",
   "metadata": {
    "papermill": {
     "duration": 0.007697,
     "end_time": "2023-06-03T13:11:31.848147",
     "exception": false,
     "start_time": "2023-06-03T13:11:31.840450",
     "status": "completed"
    },
    "tags": []
   },
   "source": [
    "# Data Importing"
   ]
  },
  {
   "cell_type": "code",
   "execution_count": 4,
   "id": "4cf9b2fc",
   "metadata": {
    "execution": {
     "iopub.execute_input": "2023-06-03T13:11:31.865248Z",
     "iopub.status.busy": "2023-06-03T13:11:31.864984Z",
     "iopub.status.idle": "2023-06-03T13:11:31.905657Z",
     "shell.execute_reply": "2023-06-03T13:11:31.904791Z"
    },
    "papermill": {
     "duration": 0.051488,
     "end_time": "2023-06-03T13:11:31.907637",
     "exception": false,
     "start_time": "2023-06-03T13:11:31.856149",
     "status": "completed"
    },
    "tags": []
   },
   "outputs": [
    {
     "data": {
      "text/html": [
       "<div>\n",
       "<style scoped>\n",
       "    .dataframe tbody tr th:only-of-type {\n",
       "        vertical-align: middle;\n",
       "    }\n",
       "\n",
       "    .dataframe tbody tr th {\n",
       "        vertical-align: top;\n",
       "    }\n",
       "\n",
       "    .dataframe thead th {\n",
       "        text-align: right;\n",
       "    }\n",
       "</style>\n",
       "<table border=\"1\" class=\"dataframe\">\n",
       "  <thead>\n",
       "    <tr style=\"text-align: right;\">\n",
       "      <th></th>\n",
       "      <th>file_name</th>\n",
       "      <th>label</th>\n",
       "    </tr>\n",
       "  </thead>\n",
       "  <tbody>\n",
       "    <tr>\n",
       "      <th>0</th>\n",
       "      <td>Image_train_00001.jpg</td>\n",
       "      <td>0</td>\n",
       "    </tr>\n",
       "    <tr>\n",
       "      <th>1</th>\n",
       "      <td>Image_train_00002.jpg</td>\n",
       "      <td>1</td>\n",
       "    </tr>\n",
       "    <tr>\n",
       "      <th>2</th>\n",
       "      <td>Image_train_00003.jpg</td>\n",
       "      <td>0</td>\n",
       "    </tr>\n",
       "    <tr>\n",
       "      <th>3</th>\n",
       "      <td>Image_train_00004.jpg</td>\n",
       "      <td>0</td>\n",
       "    </tr>\n",
       "    <tr>\n",
       "      <th>4</th>\n",
       "      <td>Image_train_00005.jpg</td>\n",
       "      <td>0</td>\n",
       "    </tr>\n",
       "    <tr>\n",
       "      <th>...</th>\n",
       "      <td>...</td>\n",
       "      <td>...</td>\n",
       "    </tr>\n",
       "    <tr>\n",
       "      <th>18386</th>\n",
       "      <td>Image_train_18387.jpg</td>\n",
       "      <td>1</td>\n",
       "    </tr>\n",
       "    <tr>\n",
       "      <th>18387</th>\n",
       "      <td>Image_train_18388.jpg</td>\n",
       "      <td>2</td>\n",
       "    </tr>\n",
       "    <tr>\n",
       "      <th>18388</th>\n",
       "      <td>Image_train_18389.jpg</td>\n",
       "      <td>1</td>\n",
       "    </tr>\n",
       "    <tr>\n",
       "      <th>18389</th>\n",
       "      <td>Image_train_18390.jpg</td>\n",
       "      <td>1</td>\n",
       "    </tr>\n",
       "    <tr>\n",
       "      <th>18390</th>\n",
       "      <td>Image_train_18391.jpg</td>\n",
       "      <td>1</td>\n",
       "    </tr>\n",
       "  </tbody>\n",
       "</table>\n",
       "<p>18391 rows × 2 columns</p>\n",
       "</div>"
      ],
      "text/plain": [
       "                   file_name  label\n",
       "0      Image_train_00001.jpg      0\n",
       "1      Image_train_00002.jpg      1\n",
       "2      Image_train_00003.jpg      0\n",
       "3      Image_train_00004.jpg      0\n",
       "4      Image_train_00005.jpg      0\n",
       "...                      ...    ...\n",
       "18386  Image_train_18387.jpg      1\n",
       "18387  Image_train_18388.jpg      2\n",
       "18388  Image_train_18389.jpg      1\n",
       "18389  Image_train_18390.jpg      1\n",
       "18390  Image_train_18391.jpg      1\n",
       "\n",
       "[18391 rows x 2 columns]"
      ]
     },
     "execution_count": 4,
     "metadata": {},
     "output_type": "execute_result"
    }
   ],
   "source": [
    "# training data\n",
    "train_df = pd.read_csv(\"/kaggle/input/extracting-attributes-from-fashion-images-2/train.csv\")\n",
    "train_df"
   ]
  },
  {
   "cell_type": "code",
   "execution_count": 5,
   "id": "75c51039",
   "metadata": {
    "execution": {
     "iopub.execute_input": "2023-06-03T13:11:31.926847Z",
     "iopub.status.busy": "2023-06-03T13:11:31.925520Z",
     "iopub.status.idle": "2023-06-03T13:11:31.945936Z",
     "shell.execute_reply": "2023-06-03T13:11:31.944985Z"
    },
    "papermill": {
     "duration": 0.031451,
     "end_time": "2023-06-03T13:11:31.948027",
     "exception": false,
     "start_time": "2023-06-03T13:11:31.916576",
     "status": "completed"
    },
    "tags": []
   },
   "outputs": [
    {
     "data": {
      "text/html": [
       "<div>\n",
       "<style scoped>\n",
       "    .dataframe tbody tr th:only-of-type {\n",
       "        vertical-align: middle;\n",
       "    }\n",
       "\n",
       "    .dataframe tbody tr th {\n",
       "        vertical-align: top;\n",
       "    }\n",
       "\n",
       "    .dataframe thead th {\n",
       "        text-align: right;\n",
       "    }\n",
       "</style>\n",
       "<table border=\"1\" class=\"dataframe\">\n",
       "  <thead>\n",
       "    <tr style=\"text-align: right;\">\n",
       "      <th></th>\n",
       "      <th>file_name</th>\n",
       "      <th>label</th>\n",
       "    </tr>\n",
       "  </thead>\n",
       "  <tbody>\n",
       "    <tr>\n",
       "      <th>0</th>\n",
       "      <td>Image_test_00001.jpg</td>\n",
       "      <td>0</td>\n",
       "    </tr>\n",
       "    <tr>\n",
       "      <th>1</th>\n",
       "      <td>Image_test_00002.jpg</td>\n",
       "      <td>0</td>\n",
       "    </tr>\n",
       "    <tr>\n",
       "      <th>2</th>\n",
       "      <td>Image_test_00003.jpg</td>\n",
       "      <td>0</td>\n",
       "    </tr>\n",
       "    <tr>\n",
       "      <th>3</th>\n",
       "      <td>Image_test_00004.jpg</td>\n",
       "      <td>0</td>\n",
       "    </tr>\n",
       "    <tr>\n",
       "      <th>4</th>\n",
       "      <td>Image_test_00005.jpg</td>\n",
       "      <td>0</td>\n",
       "    </tr>\n",
       "    <tr>\n",
       "      <th>...</th>\n",
       "      <td>...</td>\n",
       "      <td>...</td>\n",
       "    </tr>\n",
       "    <tr>\n",
       "      <th>5746</th>\n",
       "      <td>Image_test_05747.jpg</td>\n",
       "      <td>0</td>\n",
       "    </tr>\n",
       "    <tr>\n",
       "      <th>5747</th>\n",
       "      <td>Image_test_05748.jpg</td>\n",
       "      <td>0</td>\n",
       "    </tr>\n",
       "    <tr>\n",
       "      <th>5748</th>\n",
       "      <td>Image_test_05749.jpg</td>\n",
       "      <td>0</td>\n",
       "    </tr>\n",
       "    <tr>\n",
       "      <th>5749</th>\n",
       "      <td>Image_test_05750.jpg</td>\n",
       "      <td>0</td>\n",
       "    </tr>\n",
       "    <tr>\n",
       "      <th>5750</th>\n",
       "      <td>Image_test_05751.jpg</td>\n",
       "      <td>0</td>\n",
       "    </tr>\n",
       "  </tbody>\n",
       "</table>\n",
       "<p>5751 rows × 2 columns</p>\n",
       "</div>"
      ],
      "text/plain": [
       "                 file_name  label\n",
       "0     Image_test_00001.jpg      0\n",
       "1     Image_test_00002.jpg      0\n",
       "2     Image_test_00003.jpg      0\n",
       "3     Image_test_00004.jpg      0\n",
       "4     Image_test_00005.jpg      0\n",
       "...                    ...    ...\n",
       "5746  Image_test_05747.jpg      0\n",
       "5747  Image_test_05748.jpg      0\n",
       "5748  Image_test_05749.jpg      0\n",
       "5749  Image_test_05750.jpg      0\n",
       "5750  Image_test_05751.jpg      0\n",
       "\n",
       "[5751 rows x 2 columns]"
      ]
     },
     "execution_count": 5,
     "metadata": {},
     "output_type": "execute_result"
    }
   ],
   "source": [
    "# testing data\n",
    "test_df = pd.read_csv(\"/kaggle/input/extracting-attributes-from-fashion-images-2/sample_submission.csv\")\n",
    "test_df"
   ]
  },
  {
   "cell_type": "markdown",
   "id": "6717032a",
   "metadata": {
    "papermill": {
     "duration": 0.008178,
     "end_time": "2023-06-03T13:11:31.964604",
     "exception": false,
     "start_time": "2023-06-03T13:11:31.956426",
     "status": "completed"
    },
    "tags": []
   },
   "source": [
    "## Checking for Imbalance in the dataset"
   ]
  },
  {
   "cell_type": "code",
   "execution_count": 6,
   "id": "7e8c9f1a",
   "metadata": {
    "execution": {
     "iopub.execute_input": "2023-06-03T13:11:31.982776Z",
     "iopub.status.busy": "2023-06-03T13:11:31.982078Z",
     "iopub.status.idle": "2023-06-03T13:11:31.993240Z",
     "shell.execute_reply": "2023-06-03T13:11:31.992319Z"
    },
    "papermill": {
     "duration": 0.022209,
     "end_time": "2023-06-03T13:11:31.995132",
     "exception": false,
     "start_time": "2023-06-03T13:11:31.972923",
     "status": "completed"
    },
    "tags": []
   },
   "outputs": [
    {
     "data": {
      "text/plain": [
       "1    5384\n",
       "2    4084\n",
       "3    2008\n",
       "4    1972\n",
       "6    1925\n",
       "5    1616\n",
       "0    1402\n",
       "Name: label, dtype: int64"
      ]
     },
     "execution_count": 6,
     "metadata": {},
     "output_type": "execute_result"
    }
   ],
   "source": [
    "train_df.label.value_counts()"
   ]
  },
  {
   "cell_type": "code",
   "execution_count": 7,
   "id": "1725e7d6",
   "metadata": {
    "execution": {
     "iopub.execute_input": "2023-06-03T13:11:32.013633Z",
     "iopub.status.busy": "2023-06-03T13:11:32.012932Z",
     "iopub.status.idle": "2023-06-03T13:11:32.019411Z",
     "shell.execute_reply": "2023-06-03T13:11:32.018476Z"
    },
    "papermill": {
     "duration": 0.017606,
     "end_time": "2023-06-03T13:11:32.021301",
     "exception": false,
     "start_time": "2023-06-03T13:11:32.003695",
     "status": "completed"
    },
    "tags": []
   },
   "outputs": [
    {
     "data": {
      "text/plain": [
       "0    5751\n",
       "Name: label, dtype: int64"
      ]
     },
     "execution_count": 7,
     "metadata": {},
     "output_type": "execute_result"
    }
   ],
   "source": [
    "test_df.label.value_counts()"
   ]
  },
  {
   "cell_type": "code",
   "execution_count": 8,
   "id": "9081b630",
   "metadata": {
    "execution": {
     "iopub.execute_input": "2023-06-03T13:11:32.040244Z",
     "iopub.status.busy": "2023-06-03T13:11:32.039552Z",
     "iopub.status.idle": "2023-06-03T13:11:32.046752Z",
     "shell.execute_reply": "2023-06-03T13:11:32.045867Z"
    },
    "papermill": {
     "duration": 0.018513,
     "end_time": "2023-06-03T13:11:32.048651",
     "exception": false,
     "start_time": "2023-06-03T13:11:32.030138",
     "status": "completed"
    },
    "tags": []
   },
   "outputs": [
    {
     "data": {
      "text/plain": [
       "array([0, 1, 2, 3, 5, 4, 6])"
      ]
     },
     "execution_count": 8,
     "metadata": {},
     "output_type": "execute_result"
    }
   ],
   "source": [
    "train_df.label.unique()"
   ]
  },
  {
   "cell_type": "code",
   "execution_count": 9,
   "id": "4694b789",
   "metadata": {
    "execution": {
     "iopub.execute_input": "2023-06-03T13:11:32.067822Z",
     "iopub.status.busy": "2023-06-03T13:11:32.067057Z",
     "iopub.status.idle": "2023-06-03T13:11:32.848723Z",
     "shell.execute_reply": "2023-06-03T13:11:32.847737Z"
    },
    "papermill": {
     "duration": 0.793499,
     "end_time": "2023-06-03T13:11:32.850977",
     "exception": false,
     "start_time": "2023-06-03T13:11:32.057478",
     "status": "completed"
    },
    "tags": []
   },
   "outputs": [
    {
     "data": {
      "text/plain": [
       "[1.8739555736702669,\n",
       " 0.4879802589683719,\n",
       " 0.6433118791101161,\n",
       " 1.3084092202618098,\n",
       " 1.3322949869603014,\n",
       " 1.6257956152758133,\n",
       " 1.3648237476808904]"
      ]
     },
     "execution_count": 9,
     "metadata": {},
     "output_type": "execute_result"
    }
   ],
   "source": [
    "# Creating class weights for imbalance dataset\n",
    "from sklearn.utils import class_weight\n",
    "class_weights = list(class_weight.compute_class_weight('balanced',\n",
    "                                                 classes=np.unique(train_df.label.to_numpy()),\n",
    "                                                 y=train_df.label.to_numpy()))\n",
    "class_weights"
   ]
  },
  {
   "cell_type": "code",
   "execution_count": 10,
   "id": "532ede3a",
   "metadata": {
    "execution": {
     "iopub.execute_input": "2023-06-03T13:11:32.870352Z",
     "iopub.status.busy": "2023-06-03T13:11:32.870071Z",
     "iopub.status.idle": "2023-06-03T13:11:32.876316Z",
     "shell.execute_reply": "2023-06-03T13:11:32.875300Z"
    },
    "papermill": {
     "duration": 0.019039,
     "end_time": "2023-06-03T13:11:32.879233",
     "exception": false,
     "start_time": "2023-06-03T13:11:32.860194",
     "status": "completed"
    },
    "tags": []
   },
   "outputs": [
    {
     "data": {
      "text/plain": [
       "{0: 1.8739555736702669,\n",
       " 1: 0.4879802589683719,\n",
       " 2: 0.6433118791101161,\n",
       " 3: 1.3084092202618098,\n",
       " 4: 1.3322949869603014,\n",
       " 5: 1.6257956152758133,\n",
       " 6: 1.3648237476808904}"
      ]
     },
     "execution_count": 10,
     "metadata": {},
     "output_type": "execute_result"
    }
   ],
   "source": [
    "weights = {x:y for x,y in enumerate(class_weights)}\n",
    "weights"
   ]
  },
  {
   "cell_type": "markdown",
   "id": "9c21afa3",
   "metadata": {
    "papermill": {
     "duration": 0.008744,
     "end_time": "2023-06-03T13:11:32.896981",
     "exception": false,
     "start_time": "2023-06-03T13:11:32.888237",
     "status": "completed"
    },
    "tags": []
   },
   "source": [
    "# Visualization the dataset"
   ]
  },
  {
   "cell_type": "code",
   "execution_count": 11,
   "id": "8fe59aaf",
   "metadata": {
    "execution": {
     "iopub.execute_input": "2023-06-03T13:11:32.916410Z",
     "iopub.status.busy": "2023-06-03T13:11:32.915676Z",
     "iopub.status.idle": "2023-06-03T13:11:33.113227Z",
     "shell.execute_reply": "2023-06-03T13:11:33.112376Z"
    },
    "papermill": {
     "duration": 0.210938,
     "end_time": "2023-06-03T13:11:33.116878",
     "exception": false,
     "start_time": "2023-06-03T13:11:32.905940",
     "status": "completed"
    },
    "tags": []
   },
   "outputs": [
    {
     "data": {
      "image/png": "[encoded data removed]",
      "text/plain": [
       "<Figure size 640x480 with 1 Axes>"
      ]
     },
     "metadata": {},
     "output_type": "display_data"
    }
   ],
   "source": [
    "from matplotlib import pyplot as plt\n",
    "\n",
    "train_files = os.listdir(train_path)\n",
    "img = cv.imread(train_path+\"/\"+train_files[1])\n",
    "plt.imshow(img)\n",
    "plt.xticks([])\n",
    "plt.yticks([])\n",
    "plt.show()"
   ]
  },
  {
   "cell_type": "markdown",
   "id": "27a294e8",
   "metadata": {
    "papermill": {
     "duration": 0.013367,
     "end_time": "2023-06-03T13:11:33.150625",
     "exception": false,
     "start_time": "2023-06-03T13:11:33.137258",
     "status": "completed"
    },
    "tags": []
   },
   "source": [
    "# Creating Data Pipelines"
   ]
  },
  {
   "cell_type": "code",
   "execution_count": 12,
   "id": "d3bbc514",
   "metadata": {
    "execution": {
     "iopub.execute_input": "2023-06-03T13:11:33.171278Z",
     "iopub.status.busy": "2023-06-03T13:11:33.171021Z",
     "iopub.status.idle": "2023-06-03T13:11:41.263211Z",
     "shell.execute_reply": "2023-06-03T13:11:41.262246Z"
    },
    "papermill": {
     "duration": 8.10521,
     "end_time": "2023-06-03T13:11:41.265621",
     "exception": false,
     "start_time": "2023-06-03T13:11:33.160411",
     "status": "completed"
    },
    "tags": []
   },
   "outputs": [
    {
     "name": "stdout",
     "output_type": "stream",
     "text": [
      "Found 18391 validated image filenames belonging to 7 classes.\n"
     ]
    }
   ],
   "source": [
    "from tensorflow.keras.preprocessing.image import ImageDataGenerator\n",
    "\n",
    "train_df['label'] = train_df['label'].astype(str)\n",
    "\n",
    "datagen = ImageDataGenerator(\n",
    "    rescale=1/255.0,\n",
    "    rotation_range=20,\n",
    "    zoom_range=0.05,\n",
    "    width_shift_range=0.05,\n",
    "    height_shift_range=0.05,\n",
    "    shear_range=0.05,\n",
    "    horizontal_flip=True,\n",
    "    fill_mode = \"nearest\",\n",
    ")\n",
    "\n",
    "train_generator=datagen.flow_from_dataframe(\n",
    "    dataframe=train_df,\n",
    "    directory=\"/kaggle/input/extracting-attributes-from-fashion-images-2/train\",\n",
    "    x_col=\"file_name\",\n",
    "    y_col=\"label\",\n",
    "    subset=\"training\",\n",
    "    batch_size=BATCH_SIZE,\n",
    "    seed=42,\n",
    "    shuffle=True,\n",
    "    class_mode=\"sparse\",\n",
    "    target_size=(INPUT_SHAPE,INPUT_SHAPE))\n"
   ]
  },
  {
   "cell_type": "code",
   "execution_count": 13,
   "id": "31bda2ec",
   "metadata": {
    "execution": {
     "iopub.execute_input": "2023-06-03T13:11:41.287299Z",
     "iopub.status.busy": "2023-06-03T13:11:41.286989Z",
     "iopub.status.idle": "2023-06-03T13:11:43.991761Z",
     "shell.execute_reply": "2023-06-03T13:11:43.990880Z"
    },
    "papermill": {
     "duration": 2.717951,
     "end_time": "2023-06-03T13:11:43.993912",
     "exception": false,
     "start_time": "2023-06-03T13:11:41.275961",
     "status": "completed"
    },
    "tags": []
   },
   "outputs": [
    {
     "name": "stdout",
     "output_type": "stream",
     "text": [
      "Found 5751 validated image filenames belonging to 1 classes.\n"
     ]
    }
   ],
   "source": [
    "test_datagen=ImageDataGenerator(rescale=1./255.)\n",
    "\n",
    "test_df['label'] = test_df['label'].astype(str)\n",
    "\n",
    "test_generator=test_datagen.flow_from_dataframe(\n",
    "dataframe=test_df,\n",
    "directory=\"/kaggle/input/extracting-attributes-from-fashion-images-2/test\",\n",
    "x_col=\"file_name\",\n",
    "y_col=\"label\",\n",
    "batch_size=BATCH_SIZE,\n",
    "seed=42,\n",
    "shuffle=False,\n",
    "class_mode=\"sparse\",\n",
    "target_size=(INPUT_SHAPE,INPUT_SHAPE))\n"
   ]
  },
  {
   "cell_type": "markdown",
   "id": "c2ae7120",
   "metadata": {
    "papermill": {
     "duration": 0.009854,
     "end_time": "2023-06-03T13:11:44.014117",
     "exception": false,
     "start_time": "2023-06-03T13:11:44.004263",
     "status": "completed"
    },
    "tags": []
   },
   "source": [
    "# Creating the Deep learning model"
   ]
  },
  {
   "cell_type": "code",
   "execution_count": 14,
   "id": "a0b2001b",
   "metadata": {
    "execution": {
     "iopub.execute_input": "2023-06-03T13:11:44.035305Z",
     "iopub.status.busy": "2023-06-03T13:11:44.035020Z",
     "iopub.status.idle": "2023-06-03T13:11:47.903759Z",
     "shell.execute_reply": "2023-06-03T13:11:47.902837Z"
    },
    "papermill": {
     "duration": 3.882099,
     "end_time": "2023-06-03T13:11:47.906162",
     "exception": false,
     "start_time": "2023-06-03T13:11:44.024063",
     "status": "completed"
    },
    "tags": []
   },
   "outputs": [
    {
     "name": "stdout",
     "output_type": "stream",
     "text": [
      "Downloading data from https://storage.googleapis.com/tensorflow/keras-applications/vgg16/vgg16_weights_tf_dim_ordering_tf_kernels_notop.h5\n",
      "58889256/58889256 [==============================] - 0s 0us/step\n"
     ]
    }
   ],
   "source": [
    "from tensorflow.keras.models import Sequential\n",
    "from tensorflow.keras.layers import *\n",
    "from tensorflow import keras\n",
    "import tensorflow as tf\n",
    "from keras.applications import VGG16\n",
    "from tensorflow.python.keras import regularizers\n",
    "\n",
    "# Pre Trained Models \n",
    "\n",
    "conv_base = VGG16(weights=\"imagenet\",\n",
    "                 include_top=False,\n",
    "                 input_shape=(INPUT_SHAPE,INPUT_SHAPE,3)) # 244\n",
    "\n",
    "# conv_base = tf.keras.applications.Xception(\n",
    "#                  weights=\"imagenet\",\n",
    "#                  include_top=False,\n",
    "#                  input_shape=(299,299,3))\n",
    "\n",
    "\n",
    "# conv_base = tf.keras.applications.ConvNeXtBase(\n",
    "#     model_name=\"convnext_base\",\n",
    "#     include_top=False,\n",
    "#     weights=\"imagenet\",\n",
    "#     input_shape=(256,256,3),\n",
    "# )\n",
    "\n",
    "# conv_base = tf.keras.applications.mobilenet.MobileNet( include_top=False,\n",
    "#                                                            input_shape=(INPUT_SHAPE, INPUT_SHAPE,3),\n",
    "#                                                            weights='imagenet')    \n",
    "\n",
    "model = Sequential()\n",
    "\n",
    "model.add(conv_base)\n",
    "conv_base.trainable = False\n",
    "\n",
    "model.add(Flatten())\n",
    "\n",
    "# model.add(Dense(256, activation='relu',kernel_regularizer=regularizers.l2(0.01)))\n",
    "# model.add(BatchNormalization())\n",
    "\n",
    "\n",
    "model.add(Dense(7, activation='softmax'))\n",
    "\n",
    "model.compile(optimizer=keras.optimizers.Adam(lr=0.00001),loss=\"sparse_categorical_crossentropy\",metrics=[\"accuracy\"])"
   ]
  },
  {
   "cell_type": "code",
   "execution_count": 15,
   "id": "a1862e64",
   "metadata": {
    "execution": {
     "iopub.execute_input": "2023-06-03T13:11:47.929735Z",
     "iopub.status.busy": "2023-06-03T13:11:47.928986Z",
     "iopub.status.idle": "2023-06-03T13:11:47.966046Z",
     "shell.execute_reply": "2023-06-03T13:11:47.965360Z"
    },
    "papermill": {
     "duration": 0.081003,
     "end_time": "2023-06-03T13:11:47.998205",
     "exception": false,
     "start_time": "2023-06-03T13:11:47.917202",
     "status": "completed"
    },
    "tags": []
   },
   "outputs": [
    {
     "name": "stdout",
     "output_type": "stream",
     "text": [
      "Model: \"vgg16\"\n",
      "_________________________________________________________________\n",
      " Layer (type)                Output Shape              Param #   \n",
      "=================================================================\n",
      " input_1 (InputLayer)        [(None, 244, 244, 3)]     0         \n",
      "                                                                 \n",
      " block1_conv1 (Conv2D)       (None, 244, 244, 64)      1792      \n",
      "                                                                 \n",
      " block1_conv2 (Conv2D)       (None, 244, 244, 64)      36928     \n",
      "                                                                 \n",
      " block1_pool (MaxPooling2D)  (None, 122, 122, 64)      0         \n",
      "                                                                 \n",
      " block2_conv1 (Conv2D)       (None, 122, 122, 128)     73856     \n",
      "                                                                 \n",
      " block2_conv2 (Conv2D)       (None, 122, 122, 128)     147584    \n",
      "                                                                 \n",
      " block2_pool (MaxPooling2D)  (None, 61, 61, 128)       0         \n",
      "                                                                 \n",
      " block3_conv1 (Conv2D)       (None, 61, 61, 256)       295168    \n",
      "                                                                 \n",
      " block3_conv2 (Conv2D)       (None, 61, 61, 256)       590080    \n",
      "                                                                 \n",
      " block3_conv3 (Conv2D)       (None, 61, 61, 256)       590080    \n",
      "                                                                 \n",
      " block3_pool (MaxPooling2D)  (None, 30, 30, 256)       0         \n",
      "                                                                 \n",
      " block4_conv1 (Conv2D)       (None, 30, 30, 512)       1180160   \n",
      "                                                                 \n",
      " block4_conv2 (Conv2D)       (None, 30, 30, 512)       2359808   \n",
      "                                                                 \n",
      " block4_conv3 (Conv2D)       (None, 30, 30, 512)       2359808   \n",
      "                                                                 \n",
      " block4_pool (MaxPooling2D)  (None, 15, 15, 512)       0         \n",
      "                                                                 \n",
      " block5_conv1 (Conv2D)       (None, 15, 15, 512)       2359808   \n",
      "                                                                 \n",
      " block5_conv2 (Conv2D)       (None, 15, 15, 512)       2359808   \n",
      "                                                                 \n",
      " block5_conv3 (Conv2D)       (None, 15, 15, 512)       2359808   \n",
      "                                                                 \n",
      " block5_pool (MaxPooling2D)  (None, 7, 7, 512)         0         \n",
      "                                                                 \n",
      "=================================================================\n",
      "Total params: 14,714,688\n",
      "Trainable params: 0\n",
      "Non-trainable params: 14,714,688\n",
      "_________________________________________________________________\n"
     ]
    }
   ],
   "source": [
    "conv_base.summary()"
   ]
  },
  {
   "cell_type": "code",
   "execution_count": 16,
   "id": "26988229",
   "metadata": {
    "execution": {
     "iopub.execute_input": "2023-06-03T13:11:48.027260Z",
     "iopub.status.busy": "2023-06-03T13:11:48.027000Z",
     "iopub.status.idle": "2023-06-03T13:11:48.042544Z",
     "shell.execute_reply": "2023-06-03T13:11:48.041766Z"
    },
    "papermill": {
     "duration": 0.041027,
     "end_time": "2023-06-03T13:11:48.053246",
     "exception": false,
     "start_time": "2023-06-03T13:11:48.012219",
     "status": "completed"
    },
    "tags": []
   },
   "outputs": [
    {
     "name": "stdout",
     "output_type": "stream",
     "text": [
      "Model: \"sequential\"\n",
      "_________________________________________________________________\n",
      " Layer (type)                Output Shape              Param #   \n",
      "=================================================================\n",
      " vgg16 (Functional)          (None, 7, 7, 512)         14714688  \n",
      "                                                                 \n",
      " flatten (Flatten)           (None, 25088)             0         \n",
      "                                                                 \n",
      " dense (Dense)               (None, 7)                 175623    \n",
      "                                                                 \n",
      "=================================================================\n",
      "Total params: 14,890,311\n",
      "Trainable params: 175,623\n",
      "Non-trainable params: 14,714,688\n",
      "_________________________________________________________________\n"
     ]
    }
   ],
   "source": [
    "model.summary()"
   ]
  },
  {
   "cell_type": "markdown",
   "id": "077ce115",
   "metadata": {
    "papermill": {
     "duration": 0.014791,
     "end_time": "2023-06-03T13:11:48.083180",
     "exception": false,
     "start_time": "2023-06-03T13:11:48.068389",
     "status": "completed"
    },
    "tags": []
   },
   "source": [
    "# Training"
   ]
  },
  {
   "cell_type": "code",
   "execution_count": 17,
   "id": "e637f04e",
   "metadata": {
    "execution": {
     "iopub.execute_input": "2023-06-03T13:11:48.114069Z",
     "iopub.status.busy": "2023-06-03T13:11:48.113732Z",
     "iopub.status.idle": "2023-06-03T13:11:49.072010Z",
     "shell.execute_reply": "2023-06-03T13:11:49.070822Z"
    },
    "papermill": {
     "duration": 0.976324,
     "end_time": "2023-06-03T13:11:49.074354",
     "exception": false,
     "start_time": "2023-06-03T13:11:48.098030",
     "status": "completed"
    },
    "tags": []
   },
   "outputs": [],
   "source": [
    "# Setting up model callbacks\n",
    "! mkdir /kaggle/working/model/\n",
    "\n",
    "checkpoint=tf.keras.callbacks.ModelCheckpoint(filepath=\"/kaggle/working/model/CNN.h5\", \n",
    "                                              monitor='val_accuracy', \n",
    "                                              verbose=0, \n",
    "                                              save_best_only=True,\n",
    "                                              save_weights_only=False, \n",
    "                                              mode='auto', \n",
    "                                              save_freq='epoch', \n",
    "                                              options=None)"
   ]
  },
  {
   "cell_type": "code",
   "execution_count": 18,
   "id": "bbca92e1",
   "metadata": {
    "execution": {
     "iopub.execute_input": "2023-06-03T13:11:49.106901Z",
     "iopub.status.busy": "2023-06-03T13:11:49.106052Z",
     "iopub.status.idle": "2023-06-03T15:20:15.692805Z",
     "shell.execute_reply": "2023-06-03T15:20:15.691739Z"
    },
    "papermill": {
     "duration": 7706.60499,
     "end_time": "2023-06-03T15:20:15.694906",
     "exception": false,
     "start_time": "2023-06-03T13:11:49.089916",
     "status": "completed"
    },
    "tags": []
   },
   "outputs": [
    {
     "name": "stdout",
     "output_type": "stream",
     "text": [
      "Epoch 1/20\n",
      "287/287 [==============================] - 464s 2s/step - loss: 1.3520 - accuracy: 0.4860 - val_loss: 5.2994 - val_accuracy: 0.0374\n",
      "Epoch 2/20\n",
      "287/287 [==============================] - 375s 1s/step - loss: 1.0937 - accuracy: 0.5757 - val_loss: 4.6057 - val_accuracy: 0.1169\n",
      "Epoch 3/20\n",
      "287/287 [==============================] - 376s 1s/step - loss: 1.0622 - accuracy: 0.5913 - val_loss: 6.9133 - val_accuracy: 0.0328\n",
      "Epoch 4/20\n",
      "287/287 [==============================] - 366s 1s/step - loss: 0.9769 - accuracy: 0.6206 - val_loss: 7.1213 - val_accuracy: 0.0286\n",
      "Epoch 5/20\n",
      "287/287 [==============================] - 376s 1s/step - loss: 0.9735 - accuracy: 0.6284 - val_loss: 6.2364 - val_accuracy: 0.0851\n",
      "Epoch 6/20\n",
      "287/287 [==============================] - 368s 1s/step - loss: 0.9358 - accuracy: 0.6440 - val_loss: 7.0058 - val_accuracy: 0.0593\n",
      "Epoch 7/20\n",
      "287/287 [==============================] - 368s 1s/step - loss: 0.9004 - accuracy: 0.6535 - val_loss: 5.4916 - val_accuracy: 0.0938\n",
      "Epoch 8/20\n",
      "287/287 [==============================] - 371s 1s/step - loss: 0.9341 - accuracy: 0.6463 - val_loss: 6.5450 - val_accuracy: 0.0897\n",
      "Epoch 9/20\n",
      "287/287 [==============================] - 371s 1s/step - loss: 0.8780 - accuracy: 0.6670 - val_loss: 9.3785 - val_accuracy: 0.0177\n",
      "Epoch 10/20\n",
      "287/287 [==============================] - 381s 1s/step - loss: 0.8678 - accuracy: 0.6685 - val_loss: 4.9292 - val_accuracy: 0.1998\n",
      "Epoch 11/20\n",
      "287/287 [==============================] - 382s 1s/step - loss: 0.8580 - accuracy: 0.6745 - val_loss: 6.2819 - val_accuracy: 0.0995\n",
      "Epoch 12/20\n",
      "287/287 [==============================] - 380s 1s/step - loss: 0.8502 - accuracy: 0.6794 - val_loss: 10.4372 - val_accuracy: 0.0097\n",
      "Epoch 13/20\n",
      "287/287 [==============================] - 381s 1s/step - loss: 0.8120 - accuracy: 0.6891 - val_loss: 5.7492 - val_accuracy: 0.1397\n",
      "Epoch 14/20\n",
      "287/287 [==============================] - 370s 1s/step - loss: 0.8268 - accuracy: 0.6853 - val_loss: 7.0168 - val_accuracy: 0.0844\n",
      "Epoch 15/20\n",
      "287/287 [==============================] - 368s 1s/step - loss: 0.8096 - accuracy: 0.6926 - val_loss: 6.9617 - val_accuracy: 0.0971\n",
      "Epoch 16/20\n",
      "287/287 [==============================] - 370s 1s/step - loss: 0.8243 - accuracy: 0.6843 - val_loss: 6.5195 - val_accuracy: 0.1276\n",
      "Epoch 17/20\n",
      "287/287 [==============================] - 369s 1s/step - loss: 0.8262 - accuracy: 0.6866 - val_loss: 6.6953 - val_accuracy: 0.0960\n",
      "Epoch 18/20\n",
      "287/287 [==============================] - 368s 1s/step - loss: 0.7584 - accuracy: 0.7122 - val_loss: 6.8331 - val_accuracy: 0.1166\n",
      "Epoch 19/20\n",
      "287/287 [==============================] - 366s 1s/step - loss: 0.7950 - accuracy: 0.7032 - val_loss: 10.1620 - val_accuracy: 0.0265\n",
      "Epoch 20/20\n",
      "287/287 [==============================] - 370s 1s/step - loss: 0.7754 - accuracy: 0.7032 - val_loss: 7.4504 - val_accuracy: 0.0925\n"
     ]
    },
    {
     "data": {
      "image/png": "[encoded data removed]",
      "text/plain": [
       "<Figure size 640x480 with 1 Axes>"
      ]
     },
     "metadata": {},
     "output_type": "display_data"
    },
    {
     "data": {
      "image/png": "[encoded data removed]",
      "text/plain": [
       "<Figure size 640x480 with 1 Axes>"
      ]
     },
     "metadata": {},
     "output_type": "display_data"
    }
   ],
   "source": [
    "# Training the model\n",
    "\n",
    "STEP_SIZE_TRAIN=train_generator.n//train_generator.batch_size\n",
    "STEP_SIZE_TEST=test_generator.n//test_generator.batch_size\n",
    "\n",
    "history = model.fit(train_generator,\n",
    "                    steps_per_epoch=STEP_SIZE_TRAIN,\n",
    "                    validation_data=test_generator,\n",
    "                    validation_steps=STEP_SIZE_TEST,\n",
    "                    epochs=EPOCHS,\n",
    "                    callbacks=[checkpoint])\n",
    "#                     class_weight=weights)\n",
    "\n",
    "\n",
    "# summarize history for accuracy\n",
    "plt.plot(history.history['accuracy'])\n",
    "plt.plot(history.history['val_accuracy'])\n",
    "plt.title('model accuracy')\n",
    "plt.ylabel('accuracy')\n",
    "plt.xlabel('epoch')\n",
    "plt.legend(['train', 'test'], loc='upper left')\n",
    "plt.grid()\n",
    "plt.show()\n",
    "\n",
    "\n",
    "# summarize history for loss\n",
    "plt.plot(history.history['loss'])\n",
    "plt.plot(history.history['val_loss'])\n",
    "plt.title('model loss')\n",
    "plt.ylabel('loss')\n",
    "plt.xlabel('epoch')\n",
    "plt.legend(['train', 'test'], loc='upper left')\n",
    "plt.grid()\n",
    "plt.show()"
   ]
  },
  {
   "cell_type": "markdown",
   "id": "c32b193c",
   "metadata": {
    "papermill": {
     "duration": 0.507869,
     "end_time": "2023-06-03T15:20:16.645914",
     "exception": false,
     "start_time": "2023-06-03T15:20:16.138045",
     "status": "completed"
    },
    "tags": []
   },
   "source": [
    "# Testing"
   ]
  },
  {
   "cell_type": "code",
   "execution_count": 19,
   "id": "e25201bf",
   "metadata": {
    "execution": {
     "iopub.execute_input": "2023-06-03T15:20:17.610602Z",
     "iopub.status.busy": "2023-06-03T15:20:17.610258Z",
     "iopub.status.idle": "2023-06-03T15:20:17.941358Z",
     "shell.execute_reply": "2023-06-03T15:20:17.940403Z"
    },
    "papermill": {
     "duration": 0.850052,
     "end_time": "2023-06-03T15:20:17.943680",
     "exception": false,
     "start_time": "2023-06-03T15:20:17.093628",
     "status": "completed"
    },
    "tags": []
   },
   "outputs": [],
   "source": [
    "# importing the best model\n",
    "\n",
    "model = tf.keras.models.load_model(\"/kaggle/working/model/CNN.h5\")"
   ]
  },
  {
   "cell_type": "code",
   "execution_count": 20,
   "id": "f4ce10c1",
   "metadata": {
    "execution": {
     "iopub.execute_input": "2023-06-03T15:20:18.831709Z",
     "iopub.status.busy": "2023-06-03T15:20:18.830695Z",
     "iopub.status.idle": "2023-06-03T15:20:48.013737Z",
     "shell.execute_reply": "2023-06-03T15:20:48.012825Z"
    },
    "papermill": {
     "duration": 29.630954,
     "end_time": "2023-06-03T15:20:48.015804",
     "exception": false,
     "start_time": "2023-06-03T15:20:18.384850",
     "status": "completed"
    },
    "tags": []
   },
   "outputs": [
    {
     "name": "stdout",
     "output_type": "stream",
     "text": [
      "89/89 [==============================] - 29s 319ms/step - loss: 4.9292 - accuracy: 0.1998\n"
     ]
    },
    {
     "data": {
      "text/plain": [
       "[4.9291887283325195, 0.19978933036327362]"
      ]
     },
     "execution_count": 20,
     "metadata": {},
     "output_type": "execute_result"
    }
   ],
   "source": [
    "# Test accuracy\n",
    "test_generator.reset()\n",
    "model.evaluate(test_generator,\n",
    "steps=STEP_SIZE_TEST)"
   ]
  },
  {
   "cell_type": "code",
   "execution_count": 21,
   "id": "1ddeefa2",
   "metadata": {
    "execution": {
     "iopub.execute_input": "2023-06-03T15:20:48.975292Z",
     "iopub.status.busy": "2023-06-03T15:20:48.974940Z",
     "iopub.status.idle": "2023-06-03T15:21:30.421306Z",
     "shell.execute_reply": "2023-06-03T15:21:30.420299Z"
    },
    "papermill": {
     "duration": 41.963555,
     "end_time": "2023-06-03T15:21:30.423996",
     "exception": false,
     "start_time": "2023-06-03T15:20:48.460441",
     "status": "completed"
    },
    "tags": []
   },
   "outputs": [
    {
     "name": "stdout",
     "output_type": "stream",
     "text": [
      "90/90 [==============================] - 32s 355ms/step\n"
     ]
    }
   ],
   "source": [
    "test_generator.reset()\n",
    "pred=model.predict(test_generator)"
   ]
  },
  {
   "cell_type": "code",
   "execution_count": 22,
   "id": "d4a82fe9",
   "metadata": {
    "execution": {
     "iopub.execute_input": "2023-06-03T15:21:31.378619Z",
     "iopub.status.busy": "2023-06-03T15:21:31.378265Z",
     "iopub.status.idle": "2023-06-03T15:21:31.469856Z",
     "shell.execute_reply": "2023-06-03T15:21:31.468575Z"
    },
    "papermill": {
     "duration": 0.579539,
     "end_time": "2023-06-03T15:21:31.472013",
     "exception": false,
     "start_time": "2023-06-03T15:21:30.892474",
     "status": "completed"
    },
    "tags": []
   },
   "outputs": [
    {
     "name": "stdout",
     "output_type": "stream",
     "text": [
      "[[1156 1026  298  736 1524  299  712]\n",
      " [   0    0    0    0    0    0    0]\n",
      " [   0    0    0    0    0    0    0]\n",
      " [   0    0    0    0    0    0    0]\n",
      " [   0    0    0    0    0    0    0]\n",
      " [   0    0    0    0    0    0    0]\n",
      " [   0    0    0    0    0    0    0]]\n"
     ]
    }
   ],
   "source": [
    "from sklearn.metrics import confusion_matrix\n",
    "y_pred=np.argmax(pred,axis=1)\n",
    "\n",
    "test_df['label'] = test_df['label'].astype(int)\n",
    "\n",
    "cm=confusion_matrix(test_df.label, y_pred)\n",
    "print(cm)"
   ]
  },
  {
   "cell_type": "markdown",
   "id": "07b7743c",
   "metadata": {
    "papermill": {
     "duration": 0.457506,
     "end_time": "2023-06-03T15:21:32.392689",
     "exception": false,
     "start_time": "2023-06-03T15:21:31.935183",
     "status": "completed"
    },
    "tags": []
   },
   "source": [
    "# Creating submission.csv"
   ]
  },
  {
   "cell_type": "code",
   "execution_count": 23,
   "id": "faf96ba1",
   "metadata": {
    "execution": {
     "iopub.execute_input": "2023-06-03T15:21:33.366705Z",
     "iopub.status.busy": "2023-06-03T15:21:33.366358Z",
     "iopub.status.idle": "2023-06-03T15:21:33.391690Z",
     "shell.execute_reply": "2023-06-03T15:21:33.390777Z"
    },
    "papermill": {
     "duration": 0.487143,
     "end_time": "2023-06-03T15:21:33.393630",
     "exception": false,
     "start_time": "2023-06-03T15:21:32.906487",
     "status": "completed"
    },
    "tags": []
   },
   "outputs": [],
   "source": [
    "filenames=test_generator.filenames\n",
    "\n",
    "results=pd.DataFrame({\"Filename\":filenames,\n",
    "                      \"Predictions\":y_pred})\n",
    "results.to_csv(\"submission.csv\",index=False)"
   ]
  },
  {
   "cell_type": "markdown",
   "id": "dcb4260a",
   "metadata": {
    "papermill": {
     "duration": 0.547618,
     "end_time": "2023-06-03T15:21:34.404511",
     "exception": false,
     "start_time": "2023-06-03T15:21:33.856893",
     "status": "completed"
    },
    "tags": []
   },
   "source": [
    "# Reasons for low testing accuracy \n",
    "**Problem**: Although the training and testing data belong to the same dataset, the split in the dataset is very different, training data has about 1402 belonging to class 0 and the testing data has all the data belonging to class 0. Inorder to make a model that generalizes well on the dataset we need at least a minimum of 5000 samples per class.So creating a good model with just 1402 images is a difficult task.\n",
    "\n",
    "**Solution 1**: Adding more data in the dataset would lead to better learning of the model and would remove any bias in the dataset. But this is not possible in our case.\n",
    "\n",
    "**Solution 2**: If adding data is not an option then using a pre-trained model could lead to better generalization. This is because pre trained models are trained for good feature extraction. This should work for our use case but from what I have learned while training the model, Due to the low amount of class 0 data in the dataset the pretrained model is also not able to learn well even though it generalizes well.\n",
    "\n"
   ]
  }
 ],
 "metadata": {
  "kernelspec": {
   "display_name": "Python 3",
   "language": "python",
   "name": "python3"
  },
  "language_info": {
   "codemirror_mode": {
    "name": "ipython",
    "version": 3
   },
   "file_extension": ".py",
   "mimetype": "text/x-python",
   "name": "python",
   "nbconvert_exporter": "python",
   "pygments_lexer": "ipython3",
   "version": "3.10.10"
  },
  "papermill": {
   "default_parameters": {},
   "duration": 7834.880015,
   "end_time": "2023-06-03T15:21:38.968453",
   "environment_variables": {},
   "exception": null,
   "input_path": "__notebook__.ipynb",
   "output_path": "__notebook__.ipynb",
   "parameters": {},
   "start_time": "2023-06-03T13:11:04.088438",
   "version": "2.4.0"
  }
 },
 "nbformat": 4,
 "nbformat_minor": 5
}
