{
 "cells": [
  {
   "cell_type": "code",
   "execution_count": 1,
   "id": "421f3d3c",
   "metadata": {
    "_cell_guid": "b1076dfc-b9ad-4769-8c92-a6c4dae69d19",
    "_uuid": "8f2839f25d086af736a60e9eeb907d3b93b6e0e5",
    "execution": {
     "iopub.execute_input": "2023-06-04T10:15:24.951992Z",
     "iopub.status.busy": "2023-06-04T10:15:24.951647Z",
     "iopub.status.idle": "2023-06-04T10:15:42.649848Z",
     "shell.execute_reply": "2023-06-04T10:15:42.648929Z"
    },
    "papermill": {
     "duration": 17.710827,
     "end_time": "2023-06-04T10:15:42.652272",
     "exception": false,
     "start_time": "2023-06-04T10:15:24.941445",
     "status": "completed"
    },
    "tags": []
   },
   "outputs": [],
   "source": [
    "# This Python 3 environment comes with many helpful analytics libraries installed\n",
    "# It is defined by the kaggle/python Docker image: https://github.com/kaggle/docker-python\n",
    "# For example, here's several helpful packages to load\n",
    "\n",
    "import numpy as np # linear algebra\n",
    "import pandas as pd # data processing, CSV file I/O (e.g. pd.read_csv)\n",
    "\n",
    "# Input data files are available in the read-only \"../input/\" directory\n",
    "# For example, running this (by clicking run or pressing Shift+Enter) will list all files under the input directory\n",
    "\n",
    "import os\n",
    "for dirname, _, filenames in os.walk('/kaggle/input'):\n",
    "    for filename in filenames:\n",
    "        os.path.join(dirname, filename)\n"
   ]
  },
  {
   "cell_type": "markdown",
   "id": "d88292fa",
   "metadata": {
    "papermill": {
     "duration": 0.00862,
     "end_time": "2023-06-04T10:15:42.669918",
     "exception": false,
     "start_time": "2023-06-04T10:15:42.661298",
     "status": "completed"
    },
    "tags": []
   },
   "source": [
    "# Importing Required Modules "
   ]
  },
  {
   "cell_type": "code",
   "execution_count": 2,
   "id": "ab1be3d5",
   "metadata": {
    "execution": {
     "iopub.execute_input": "2023-06-04T10:15:42.689432Z",
     "iopub.status.busy": "2023-06-04T10:15:42.688481Z",
     "iopub.status.idle": "2023-06-04T10:15:50.818007Z",
     "shell.execute_reply": "2023-06-04T10:15:50.817099Z"
    },
    "papermill": {
     "duration": 8.141854,
     "end_time": "2023-06-04T10:15:50.820352",
     "exception": false,
     "start_time": "2023-06-04T10:15:42.678498",
     "status": "completed"
    },
    "tags": []
   },
   "outputs": [
    {
     "name": "stderr",
     "output_type": "stream",
     "text": [
      "/opt/conda/lib/python3.10/site-packages/tensorflow_io/python/ops/__init__.py:98: UserWarning: unable to load libtensorflow_io_plugins.so: unable to open file: libtensorflow_io_plugins.so, from paths: ['/opt/conda/lib/python3.10/site-packages/tensorflow_io/python/ops/libtensorflow_io_plugins.so']\n",
      "caused by: ['/opt/conda/lib/python3.10/site-packages/tensorflow_io/python/ops/libtensorflow_io_plugins.so: undefined symbol: _ZN3tsl6StatusC1EN10tensorflow5error4CodeESt17basic_string_viewIcSt11char_traitsIcEENS_14SourceLocationE']\n",
      "  warnings.warn(f\"unable to load libtensorflow_io_plugins.so: {e}\")\n",
      "/opt/conda/lib/python3.10/site-packages/tensorflow_io/python/ops/__init__.py:104: UserWarning: file system plugins are not loaded: unable to open file: libtensorflow_io.so, from paths: ['/opt/conda/lib/python3.10/site-packages/tensorflow_io/python/ops/libtensorflow_io.so']\n",
      "caused by: ['/opt/conda/lib/python3.10/site-packages/tensorflow_io/python/ops/libtensorflow_io.so: undefined symbol: _ZTVN10tensorflow13GcsFileSystemE']\n",
      "  warnings.warn(f\"file system plugins are not loaded: {e}\")\n"
     ]
    }
   ],
   "source": [
    "import pandas as pd\n",
    "import cv2 as cv\n",
    "from tensorflow.keras.models import Sequential\n",
    "from tensorflow.keras.layers import *\n",
    "import os"
   ]
  },
  {
   "cell_type": "markdown",
   "id": "892b5fd7",
   "metadata": {
    "papermill": {
     "duration": 0.008581,
     "end_time": "2023-06-04T10:15:50.837973",
     "exception": false,
     "start_time": "2023-06-04T10:15:50.829392",
     "status": "completed"
    },
    "tags": []
   },
   "source": [
    "# Model Hyper parameters"
   ]
  },
  {
   "cell_type": "code",
   "execution_count": 3,
   "id": "58687b65",
   "metadata": {
    "execution": {
     "iopub.execute_input": "2023-06-04T10:15:50.857101Z",
     "iopub.status.busy": "2023-06-04T10:15:50.856507Z",
     "iopub.status.idle": "2023-06-04T10:15:50.861319Z",
     "shell.execute_reply": "2023-06-04T10:15:50.860429Z"
    },
    "papermill": {
     "duration": 0.016562,
     "end_time": "2023-06-04T10:15:50.863231",
     "exception": false,
     "start_time": "2023-06-04T10:15:50.846669",
     "status": "completed"
    },
    "tags": []
   },
   "outputs": [],
   "source": [
    "train_path = \"/kaggle/input/extracting-attributes-from-fashion-images-2/train\"\n",
    "BATCH_SIZE = 64\n",
    "EPOCHS = 7\n",
    "INPUT_SHAPE = 224\n",
    "LR = 0.0000001"
   ]
  },
  {
   "cell_type": "markdown",
   "id": "03675a68",
   "metadata": {
    "papermill": {
     "duration": 0.008398,
     "end_time": "2023-06-04T10:15:50.880233",
     "exception": false,
     "start_time": "2023-06-04T10:15:50.871835",
     "status": "completed"
    },
    "tags": []
   },
   "source": [
    "# Data Importing"
   ]
  },
  {
   "cell_type": "code",
   "execution_count": 4,
   "id": "b06a1e20",
   "metadata": {
    "execution": {
     "iopub.execute_input": "2023-06-04T10:15:50.898845Z",
     "iopub.status.busy": "2023-06-04T10:15:50.898116Z",
     "iopub.status.idle": "2023-06-04T10:15:50.938889Z",
     "shell.execute_reply": "2023-06-04T10:15:50.938008Z"
    },
    "papermill": {
     "duration": 0.05198,
     "end_time": "2023-06-04T10:15:50.940783",
     "exception": false,
     "start_time": "2023-06-04T10:15:50.888803",
     "status": "completed"
    },
    "tags": []
   },
   "outputs": [
    {
     "data": {
      "text/html": [
       "<div>\n",
       "<style scoped>\n",
       "    .dataframe tbody tr th:only-of-type {\n",
       "        vertical-align: middle;\n",
       "    }\n",
       "\n",
       "    .dataframe tbody tr th {\n",
       "        vertical-align: top;\n",
       "    }\n",
       "\n",
       "    .dataframe thead th {\n",
       "        text-align: right;\n",
       "    }\n",
       "</style>\n",
       "<table border=\"1\" class=\"dataframe\">\n",
       "  <thead>\n",
       "    <tr style=\"text-align: right;\">\n",
       "      <th></th>\n",
       "      <th>file_name</th>\n",
       "      <th>label</th>\n",
       "    </tr>\n",
       "  </thead>\n",
       "  <tbody>\n",
       "    <tr>\n",
       "      <th>0</th>\n",
       "      <td>Image_train_00001.jpg</td>\n",
       "      <td>0</td>\n",
       "    </tr>\n",
       "    <tr>\n",
       "      <th>1</th>\n",
       "      <td>Image_train_00002.jpg</td>\n",
       "      <td>1</td>\n",
       "    </tr>\n",
       "    <tr>\n",
       "      <th>2</th>\n",
       "      <td>Image_train_00003.jpg</td>\n",
       "      <td>0</td>\n",
       "    </tr>\n",
       "    <tr>\n",
       "      <th>3</th>\n",
       "      <td>Image_train_00004.jpg</td>\n",
       "      <td>0</td>\n",
       "    </tr>\n",
       "    <tr>\n",
       "      <th>4</th>\n",
       "      <td>Image_train_00005.jpg</td>\n",
       "      <td>0</td>\n",
       "    </tr>\n",
       "    <tr>\n",
       "      <th>...</th>\n",
       "      <td>...</td>\n",
       "      <td>...</td>\n",
       "    </tr>\n",
       "    <tr>\n",
       "      <th>18386</th>\n",
       "      <td>Image_train_18387.jpg</td>\n",
       "      <td>1</td>\n",
       "    </tr>\n",
       "    <tr>\n",
       "      <th>18387</th>\n",
       "      <td>Image_train_18388.jpg</td>\n",
       "      <td>2</td>\n",
       "    </tr>\n",
       "    <tr>\n",
       "      <th>18388</th>\n",
       "      <td>Image_train_18389.jpg</td>\n",
       "      <td>1</td>\n",
       "    </tr>\n",
       "    <tr>\n",
       "      <th>18389</th>\n",
       "      <td>Image_train_18390.jpg</td>\n",
       "      <td>1</td>\n",
       "    </tr>\n",
       "    <tr>\n",
       "      <th>18390</th>\n",
       "      <td>Image_train_18391.jpg</td>\n",
       "      <td>1</td>\n",
       "    </tr>\n",
       "  </tbody>\n",
       "</table>\n",
       "<p>18391 rows × 2 columns</p>\n",
       "</div>"
      ],
      "text/plain": [
       "                   file_name  label\n",
       "0      Image_train_00001.jpg      0\n",
       "1      Image_train_00002.jpg      1\n",
       "2      Image_train_00003.jpg      0\n",
       "3      Image_train_00004.jpg      0\n",
       "4      Image_train_00005.jpg      0\n",
       "...                      ...    ...\n",
       "18386  Image_train_18387.jpg      1\n",
       "18387  Image_train_18388.jpg      2\n",
       "18388  Image_train_18389.jpg      1\n",
       "18389  Image_train_18390.jpg      1\n",
       "18390  Image_train_18391.jpg      1\n",
       "\n",
       "[18391 rows x 2 columns]"
      ]
     },
     "execution_count": 4,
     "metadata": {},
     "output_type": "execute_result"
    }
   ],
   "source": [
    "# training data\n",
    "train_df = pd.read_csv(\"/kaggle/input/extracting-attributes-from-fashion-images-2/train.csv\")\n",
    "train_df"
   ]
  },
  {
   "cell_type": "code",
   "execution_count": 5,
   "id": "0519a1e6",
   "metadata": {
    "execution": {
     "iopub.execute_input": "2023-06-04T10:15:50.959691Z",
     "iopub.status.busy": "2023-06-04T10:15:50.959426Z",
     "iopub.status.idle": "2023-06-04T10:15:50.983202Z",
     "shell.execute_reply": "2023-06-04T10:15:50.982233Z"
    },
    "papermill": {
     "duration": 0.035662,
     "end_time": "2023-06-04T10:15:50.985329",
     "exception": false,
     "start_time": "2023-06-04T10:15:50.949667",
     "status": "completed"
    },
    "tags": []
   },
   "outputs": [
    {
     "data": {
      "text/html": [
       "<div>\n",
       "<style scoped>\n",
       "    .dataframe tbody tr th:only-of-type {\n",
       "        vertical-align: middle;\n",
       "    }\n",
       "\n",
       "    .dataframe tbody tr th {\n",
       "        vertical-align: top;\n",
       "    }\n",
       "\n",
       "    .dataframe thead th {\n",
       "        text-align: right;\n",
       "    }\n",
       "</style>\n",
       "<table border=\"1\" class=\"dataframe\">\n",
       "  <thead>\n",
       "    <tr style=\"text-align: right;\">\n",
       "      <th></th>\n",
       "      <th>file_name</th>\n",
       "      <th>label</th>\n",
       "    </tr>\n",
       "  </thead>\n",
       "  <tbody>\n",
       "    <tr>\n",
       "      <th>0</th>\n",
       "      <td>Image_test_00001.jpg</td>\n",
       "      <td>0</td>\n",
       "    </tr>\n",
       "    <tr>\n",
       "      <th>1</th>\n",
       "      <td>Image_test_00002.jpg</td>\n",
       "      <td>0</td>\n",
       "    </tr>\n",
       "    <tr>\n",
       "      <th>2</th>\n",
       "      <td>Image_test_00003.jpg</td>\n",
       "      <td>0</td>\n",
       "    </tr>\n",
       "    <tr>\n",
       "      <th>3</th>\n",
       "      <td>Image_test_00004.jpg</td>\n",
       "      <td>0</td>\n",
       "    </tr>\n",
       "    <tr>\n",
       "      <th>4</th>\n",
       "      <td>Image_test_00005.jpg</td>\n",
       "      <td>0</td>\n",
       "    </tr>\n",
       "    <tr>\n",
       "      <th>...</th>\n",
       "      <td>...</td>\n",
       "      <td>...</td>\n",
       "    </tr>\n",
       "    <tr>\n",
       "      <th>5746</th>\n",
       "      <td>Image_test_05747.jpg</td>\n",
       "      <td>0</td>\n",
       "    </tr>\n",
       "    <tr>\n",
       "      <th>5747</th>\n",
       "      <td>Image_test_05748.jpg</td>\n",
       "      <td>0</td>\n",
       "    </tr>\n",
       "    <tr>\n",
       "      <th>5748</th>\n",
       "      <td>Image_test_05749.jpg</td>\n",
       "      <td>0</td>\n",
       "    </tr>\n",
       "    <tr>\n",
       "      <th>5749</th>\n",
       "      <td>Image_test_05750.jpg</td>\n",
       "      <td>0</td>\n",
       "    </tr>\n",
       "    <tr>\n",
       "      <th>5750</th>\n",
       "      <td>Image_test_05751.jpg</td>\n",
       "      <td>0</td>\n",
       "    </tr>\n",
       "  </tbody>\n",
       "</table>\n",
       "<p>5751 rows × 2 columns</p>\n",
       "</div>"
      ],
      "text/plain": [
       "                 file_name  label\n",
       "0     Image_test_00001.jpg      0\n",
       "1     Image_test_00002.jpg      0\n",
       "2     Image_test_00003.jpg      0\n",
       "3     Image_test_00004.jpg      0\n",
       "4     Image_test_00005.jpg      0\n",
       "...                    ...    ...\n",
       "5746  Image_test_05747.jpg      0\n",
       "5747  Image_test_05748.jpg      0\n",
       "5748  Image_test_05749.jpg      0\n",
       "5749  Image_test_05750.jpg      0\n",
       "5750  Image_test_05751.jpg      0\n",
       "\n",
       "[5751 rows x 2 columns]"
      ]
     },
     "execution_count": 5,
     "metadata": {},
     "output_type": "execute_result"
    }
   ],
   "source": [
    "# testing data\n",
    "test_df = pd.read_csv(\"/kaggle/input/extracting-attributes-from-fashion-images-2/sample_submission.csv\")\n",
    "test_df"
   ]
  },
  {
   "cell_type": "markdown",
   "id": "13a34196",
   "metadata": {
    "papermill": {
     "duration": 0.008913,
     "end_time": "2023-06-04T10:15:51.003664",
     "exception": false,
     "start_time": "2023-06-04T10:15:50.994751",
     "status": "completed"
    },
    "tags": []
   },
   "source": [
    "## Checking for Imbalance in the dataset"
   ]
  },
  {
   "cell_type": "code",
   "execution_count": 6,
   "id": "5cd20588",
   "metadata": {
    "execution": {
     "iopub.execute_input": "2023-06-04T10:15:51.023672Z",
     "iopub.status.busy": "2023-06-04T10:15:51.023013Z",
     "iopub.status.idle": "2023-06-04T10:15:51.034788Z",
     "shell.execute_reply": "2023-06-04T10:15:51.033883Z"
    },
    "papermill": {
     "duration": 0.024008,
     "end_time": "2023-06-04T10:15:51.036693",
     "exception": false,
     "start_time": "2023-06-04T10:15:51.012685",
     "status": "completed"
    },
    "tags": []
   },
   "outputs": [
    {
     "data": {
      "text/plain": [
       "1    5384\n",
       "2    4084\n",
       "3    2008\n",
       "4    1972\n",
       "6    1925\n",
       "5    1616\n",
       "0    1402\n",
       "Name: label, dtype: int64"
      ]
     },
     "execution_count": 6,
     "metadata": {},
     "output_type": "execute_result"
    }
   ],
   "source": [
    "train_df.label.value_counts()"
   ]
  },
  {
   "cell_type": "code",
   "execution_count": 7,
   "id": "71f43210",
   "metadata": {
    "execution": {
     "iopub.execute_input": "2023-06-04T10:15:51.056559Z",
     "iopub.status.busy": "2023-06-04T10:15:51.055857Z",
     "iopub.status.idle": "2023-06-04T10:15:51.062646Z",
     "shell.execute_reply": "2023-06-04T10:15:51.061779Z"
    },
    "papermill": {
     "duration": 0.018771,
     "end_time": "2023-06-04T10:15:51.064552",
     "exception": false,
     "start_time": "2023-06-04T10:15:51.045781",
     "status": "completed"
    },
    "tags": []
   },
   "outputs": [
    {
     "data": {
      "text/plain": [
       "0    5751\n",
       "Name: label, dtype: int64"
      ]
     },
     "execution_count": 7,
     "metadata": {},
     "output_type": "execute_result"
    }
   ],
   "source": [
    "test_df.label.value_counts()"
   ]
  },
  {
   "cell_type": "code",
   "execution_count": 8,
   "id": "6a4568bc",
   "metadata": {
    "execution": {
     "iopub.execute_input": "2023-06-04T10:15:51.085170Z",
     "iopub.status.busy": "2023-06-04T10:15:51.084474Z",
     "iopub.status.idle": "2023-06-04T10:15:51.092209Z",
     "shell.execute_reply": "2023-06-04T10:15:51.091249Z"
    },
    "papermill": {
     "duration": 0.020408,
     "end_time": "2023-06-04T10:15:51.094317",
     "exception": false,
     "start_time": "2023-06-04T10:15:51.073909",
     "status": "completed"
    },
    "tags": []
   },
   "outputs": [
    {
     "data": {
      "text/plain": [
       "array([0, 1, 2, 3, 5, 4, 6])"
      ]
     },
     "execution_count": 8,
     "metadata": {},
     "output_type": "execute_result"
    }
   ],
   "source": [
    "train_df.label.unique()"
   ]
  },
  {
   "cell_type": "code",
   "execution_count": 9,
   "id": "a561d654",
   "metadata": {
    "execution": {
     "iopub.execute_input": "2023-06-04T10:15:51.115866Z",
     "iopub.status.busy": "2023-06-04T10:15:51.115140Z",
     "iopub.status.idle": "2023-06-04T10:15:51.968151Z",
     "shell.execute_reply": "2023-06-04T10:15:51.967250Z"
    },
    "papermill": {
     "duration": 0.865937,
     "end_time": "2023-06-04T10:15:51.970483",
     "exception": false,
     "start_time": "2023-06-04T10:15:51.104546",
     "status": "completed"
    },
    "tags": []
   },
   "outputs": [
    {
     "data": {
      "text/plain": [
       "[1.8739555736702669,\n",
       " 0.4879802589683719,\n",
       " 0.6433118791101161,\n",
       " 1.3084092202618098,\n",
       " 1.3322949869603014,\n",
       " 1.6257956152758133,\n",
       " 1.3648237476808904]"
      ]
     },
     "execution_count": 9,
     "metadata": {},
     "output_type": "execute_result"
    }
   ],
   "source": [
    "from sklearn.utils import class_weight\n",
    "class_weights = list(class_weight.compute_class_weight('balanced',\n",
    "                                                 classes=np.unique(train_df.label.to_numpy()),\n",
    "                                                 y=train_df.label.to_numpy()))\n",
    "class_weights"
   ]
  },
  {
   "cell_type": "code",
   "execution_count": 10,
   "id": "105954e1",
   "metadata": {
    "execution": {
     "iopub.execute_input": "2023-06-04T10:15:51.993123Z",
     "iopub.status.busy": "2023-06-04T10:15:51.991520Z",
     "iopub.status.idle": "2023-06-04T10:15:51.998622Z",
     "shell.execute_reply": "2023-06-04T10:15:51.997646Z"
    },
    "papermill": {
     "duration": 0.020413,
     "end_time": "2023-06-04T10:15:52.001179",
     "exception": false,
     "start_time": "2023-06-04T10:15:51.980766",
     "status": "completed"
    },
    "tags": []
   },
   "outputs": [
    {
     "data": {
      "text/plain": [
       "{0: 1.8739555736702669,\n",
       " 1: 0.4879802589683719,\n",
       " 2: 0.6433118791101161,\n",
       " 3: 1.3084092202618098,\n",
       " 4: 1.3322949869603014,\n",
       " 5: 1.6257956152758133,\n",
       " 6: 1.3648237476808904}"
      ]
     },
     "execution_count": 10,
     "metadata": {},
     "output_type": "execute_result"
    }
   ],
   "source": [
    "weights = {x:y for x,y in enumerate(class_weights)}\n",
    "weights"
   ]
  },
  {
   "cell_type": "markdown",
   "id": "41b13517",
   "metadata": {
    "papermill": {
     "duration": 0.009532,
     "end_time": "2023-06-04T10:15:52.020331",
     "exception": false,
     "start_time": "2023-06-04T10:15:52.010799",
     "status": "completed"
    },
    "tags": []
   },
   "source": [
    "# Visualization the dataset"
   ]
  },
  {
   "cell_type": "code",
   "execution_count": 11,
   "id": "17b2075a",
   "metadata": {
    "execution": {
     "iopub.execute_input": "2023-06-04T10:15:52.040963Z",
     "iopub.status.busy": "2023-06-04T10:15:52.040451Z",
     "iopub.status.idle": "2023-06-04T10:15:52.248453Z",
     "shell.execute_reply": "2023-06-04T10:15:52.247529Z"
    },
    "papermill": {
     "duration": 0.222581,
     "end_time": "2023-06-04T10:15:52.252482",
     "exception": false,
     "start_time": "2023-06-04T10:15:52.029901",
     "status": "completed"
    },
    "tags": []
   },
   "outputs": [
    {
     "data": {
      "image/png": "[encoded data removed]",
      "text/plain": [
       "<Figure size 640x480 with 1 Axes>"
      ]
     },
     "metadata": {},
     "output_type": "display_data"
    }
   ],
   "source": [
    "from matplotlib import pyplot as plt\n",
    "\n",
    "train_files = os.listdir(train_path)\n",
    "img = cv.imread(train_path+\"/\"+train_files[1])\n",
    "plt.imshow(img)\n",
    "plt.xticks([])\n",
    "plt.yticks([])\n",
    "plt.show()"
   ]
  },
  {
   "cell_type": "markdown",
   "id": "b0fe9384",
   "metadata": {
    "papermill": {
     "duration": 0.01051,
     "end_time": "2023-06-04T10:15:52.283557",
     "exception": false,
     "start_time": "2023-06-04T10:15:52.273047",
     "status": "completed"
    },
    "tags": []
   },
   "source": [
    "# Creating Data Pipelines"
   ]
  },
  {
   "cell_type": "code",
   "execution_count": 12,
   "id": "c6dd0ffe",
   "metadata": {
    "execution": {
     "iopub.execute_input": "2023-06-04T10:15:52.305868Z",
     "iopub.status.busy": "2023-06-04T10:15:52.305564Z",
     "iopub.status.idle": "2023-06-04T10:16:08.271864Z",
     "shell.execute_reply": "2023-06-04T10:16:08.271014Z"
    },
    "papermill": {
     "duration": 15.979947,
     "end_time": "2023-06-04T10:16:08.273946",
     "exception": false,
     "start_time": "2023-06-04T10:15:52.293999",
     "status": "completed"
    },
    "tags": []
   },
   "outputs": [
    {
     "name": "stdout",
     "output_type": "stream",
     "text": [
      "Found 15633 validated image filenames belonging to 7 classes.\n",
      "Found 2758 validated image filenames belonging to 7 classes.\n"
     ]
    }
   ],
   "source": [
    "from tensorflow.keras.preprocessing.image import ImageDataGenerator\n",
    "\n",
    "test_df['label'] = test_df['label'].astype(str)\n",
    "train_df['label'] = train_df['label'].astype(str)\n",
    "\n",
    "datagen = ImageDataGenerator(\n",
    "    rescale=1/255.0,\n",
    "    rotation_range=20,\n",
    "    zoom_range=0.05,\n",
    "    width_shift_range=0.05,\n",
    "    height_shift_range=0.05,\n",
    "    shear_range=0.05,\n",
    "    horizontal_flip=True,\n",
    "    fill_mode = \"nearest\",\n",
    "    validation_split=0.15\n",
    ")\n",
    "\n",
    "train_generator=datagen.flow_from_dataframe(\n",
    "    dataframe=train_df,\n",
    "    directory=\"/kaggle/input/extracting-attributes-from-fashion-images-2/train\",\n",
    "    x_col=\"file_name\",\n",
    "    y_col=\"label\",\n",
    "    subset=\"training\",\n",
    "    batch_size=BATCH_SIZE,\n",
    "    seed=42,\n",
    "    shuffle=True,\n",
    "    class_mode=\"sparse\",\n",
    "    target_size=(INPUT_SHAPE,INPUT_SHAPE))\n",
    "\n",
    "valid_generator=datagen.flow_from_dataframe(\n",
    "    dataframe=train_df,\n",
    "    directory=\"/kaggle/input/extracting-attributes-from-fashion-images-2/train\",\n",
    "    x_col=\"file_name\",\n",
    "    y_col=\"label\",\n",
    "    subset=\"validation\",\n",
    "    batch_size=BATCH_SIZE,\n",
    "    seed=42,\n",
    "    shuffle=True,\n",
    "    class_mode=\"sparse\",\n",
    "    target_size=(INPUT_SHAPE,INPUT_SHAPE))\n",
    "\n"
   ]
  },
  {
   "cell_type": "code",
   "execution_count": 13,
   "id": "8bece35f",
   "metadata": {
    "execution": {
     "iopub.execute_input": "2023-06-04T10:16:08.297549Z",
     "iopub.status.busy": "2023-06-04T10:16:08.296921Z",
     "iopub.status.idle": "2023-06-04T10:16:11.038945Z",
     "shell.execute_reply": "2023-06-04T10:16:11.038095Z"
    },
    "papermill": {
     "duration": 2.756296,
     "end_time": "2023-06-04T10:16:11.041526",
     "exception": false,
     "start_time": "2023-06-04T10:16:08.285230",
     "status": "completed"
    },
    "tags": []
   },
   "outputs": [
    {
     "name": "stdout",
     "output_type": "stream",
     "text": [
      "Found 5751 validated image filenames belonging to 1 classes.\n"
     ]
    }
   ],
   "source": [
    "test_datagen=ImageDataGenerator(rescale=1./255.)\n",
    "\n",
    "\n",
    "\n",
    "test_generator=test_datagen.flow_from_dataframe(\n",
    "dataframe=test_df,\n",
    "directory=\"/kaggle/input/extracting-attributes-from-fashion-images-2/test\",\n",
    "x_col=\"file_name\",\n",
    "y_col=\"label\",\n",
    "batch_size=BATCH_SIZE,\n",
    "seed=42,\n",
    "shuffle=False,\n",
    "class_mode=\"sparse\",\n",
    "target_size=(INPUT_SHAPE,INPUT_SHAPE))\n"
   ]
  },
  {
   "cell_type": "markdown",
   "id": "2623b23f",
   "metadata": {
    "papermill": {
     "duration": 0.015117,
     "end_time": "2023-06-04T10:16:11.072738",
     "exception": false,
     "start_time": "2023-06-04T10:16:11.057621",
     "status": "completed"
    },
    "tags": []
   },
   "source": [
    "# Creating the Deep learning model"
   ]
  },
  {
   "cell_type": "code",
   "execution_count": 14,
   "id": "0e4bf53c",
   "metadata": {
    "execution": {
     "iopub.execute_input": "2023-06-04T10:16:11.105424Z",
     "iopub.status.busy": "2023-06-04T10:16:11.105015Z",
     "iopub.status.idle": "2023-06-04T10:16:15.222242Z",
     "shell.execute_reply": "2023-06-04T10:16:15.221340Z"
    },
    "papermill": {
     "duration": 4.136311,
     "end_time": "2023-06-04T10:16:15.224677",
     "exception": false,
     "start_time": "2023-06-04T10:16:11.088366",
     "status": "completed"
    },
    "tags": []
   },
   "outputs": [
    {
     "name": "stdout",
     "output_type": "stream",
     "text": [
      "Downloading data from https://storage.googleapis.com/tensorflow/keras-applications/mobilenet/mobilenet_1_0_224_tf_no_top.h5\n",
      "17225924/17225924 [==============================] - 0s 0us/step\n"
     ]
    }
   ],
   "source": [
    "from tensorflow.keras.models import Sequential\n",
    "from tensorflow.keras.layers import *\n",
    "from tensorflow import keras\n",
    "import tensorflow as tf\n",
    "from keras.applications import VGG16\n",
    "from tensorflow.python.keras import regularizers\n",
    "\n",
    "# conv_base = VGG16(weights=\"imagenet\",\n",
    "#                  include_top=False,\n",
    "#                  input_shape=(INPUT_SHAPE,INPUT_SHAPE,3)) # 244\n",
    "\n",
    "\n",
    "conv_base = tf.keras.applications.mobilenet.MobileNet( include_top=False,\n",
    "                                                           input_shape=(224, 224,3),\n",
    "                                                           weights='imagenet')    \n",
    "\n",
    "\n",
    "model = Sequential()\n",
    "\n",
    "model.add(conv_base)\n",
    "# conv_base.trainable = False\n",
    "\n",
    "model.add(Flatten())\n",
    "\n",
    "model.add(Dense(128))\n",
    "model.add(Activation('relu'))\n",
    "model.add(BatchNormalization())\n",
    "\n",
    "\n",
    "model.add(Dense(7, activation='softmax'))\n",
    "\n",
    "model.compile(optimizer=keras.optimizers.Adam(lr=LR),loss=\"sparse_categorical_crossentropy\",metrics=[\"accuracy\"])"
   ]
  },
  {
   "cell_type": "code",
   "execution_count": 15,
   "id": "a651264e",
   "metadata": {
    "execution": {
     "iopub.execute_input": "2023-06-04T10:16:15.249236Z",
     "iopub.status.busy": "2023-06-04T10:16:15.248887Z",
     "iopub.status.idle": "2023-06-04T10:16:15.254694Z",
     "shell.execute_reply": "2023-06-04T10:16:15.253843Z"
    },
    "papermill": {
     "duration": 0.020383,
     "end_time": "2023-06-04T10:16:15.256709",
     "exception": false,
     "start_time": "2023-06-04T10:16:15.236326",
     "status": "completed"
    },
    "tags": []
   },
   "outputs": [],
   "source": [
    "# mobile = tf.keras.applications.mobilenet.MobileNet( include_top=False,\n",
    "#                                                            input_shape=(224, 224,3),\n",
    "#                                                            pooling='max', weights='imagenet',\n",
    "#                                                            alpha=1, depth_multiplier=1,dropout=.5)                                                          \n",
    "# x=mobile.layers[-1].output\n",
    "# x=keras.layers.BatchNormalization(axis=-1, momentum=0.99, epsilon=0.001 )(x)\n",
    "# predictions=Dense (7, activation='softmax')(x)\n",
    "\n",
    "# model = tf.keras.Model(inputs=mobile.input, outputs=predictions)    \n",
    "# for layer in model.layers:\n",
    "#     layer.trainable=True\n",
    "# model.compile(tf.keras.optimizers.Adamax(lr=LR), loss='categorical_crossentropy', metrics=['accuracy'])\n",
    "\n",
    "# checkpoint=tf.keras.callbacks.ModelCheckpoint(filepath=\"/kaggle/working/model/\", monitor='val_loss', verbose=0, save_best_only=True,save_weights_only=False, mode='auto', save_freq='epoch', options=None)\n",
    "# lr_adjust=tf.keras.callbacks.ReduceLROnPlateau( monitor=\"val_loss\", factor=0.5, patience=1, verbose=0, mode=\"auto\",\n",
    "#     min_delta=0.00001,  cooldown=0,  min_lr=0) \n",
    "# callbacks=[checkpoint, lr_adjust]\n"
   ]
  },
  {
   "cell_type": "code",
   "execution_count": 16,
   "id": "dd5a58d7",
   "metadata": {
    "execution": {
     "iopub.execute_input": "2023-06-04T10:16:15.280110Z",
     "iopub.status.busy": "2023-06-04T10:16:15.279853Z",
     "iopub.status.idle": "2023-06-04T10:16:15.441833Z",
     "shell.execute_reply": "2023-06-04T10:16:15.441148Z"
    },
    "papermill": {
     "duration": 0.305023,
     "end_time": "2023-06-04T10:16:15.572945",
     "exception": false,
     "start_time": "2023-06-04T10:16:15.267922",
     "status": "completed"
    },
    "tags": []
   },
   "outputs": [
    {
     "name": "stdout",
     "output_type": "stream",
     "text": [
      "Model: \"mobilenet_1.00_224\"\n",
      "_________________________________________________________________\n",
      " Layer (type)                Output Shape              Param #   \n",
      "=================================================================\n",
      " input_1 (InputLayer)        [(None, 224, 224, 3)]     0         \n",
      "                                                                 \n",
      " conv1 (Conv2D)              (None, 112, 112, 32)      864       \n",
      "                                                                 \n",
      " conv1_bn (BatchNormalizatio  (None, 112, 112, 32)     128       \n",
      " n)                                                              \n",
      "                                                                 \n",
      " conv1_relu (ReLU)           (None, 112, 112, 32)      0         \n",
      "                                                                 \n",
      " conv_dw_1 (DepthwiseConv2D)  (None, 112, 112, 32)     288       \n",
      "                                                                 \n",
      " conv_dw_1_bn (BatchNormaliz  (None, 112, 112, 32)     128       \n",
      " ation)                                                          \n",
      "                                                                 \n",
      " conv_dw_1_relu (ReLU)       (None, 112, 112, 32)      0         \n",
      "                                                                 \n",
      " conv_pw_1 (Conv2D)          (None, 112, 112, 64)      2048      \n",
      "                                                                 \n",
      " conv_pw_1_bn (BatchNormaliz  (None, 112, 112, 64)     256       \n",
      " ation)                                                          \n",
      "                                                                 \n",
      " conv_pw_1_relu (ReLU)       (None, 112, 112, 64)      0         \n",
      "                                                                 \n",
      " conv_pad_2 (ZeroPadding2D)  (None, 113, 113, 64)      0         \n",
      "                                                                 \n",
      " conv_dw_2 (DepthwiseConv2D)  (None, 56, 56, 64)       576       \n",
      "                                                                 \n",
      " conv_dw_2_bn (BatchNormaliz  (None, 56, 56, 64)       256       \n",
      " ation)                                                          \n",
      "                                                                 \n",
      " conv_dw_2_relu (ReLU)       (None, 56, 56, 64)        0         \n",
      "                                                                 \n",
      " conv_pw_2 (Conv2D)          (None, 56, 56, 128)       8192      \n",
      "                                                                 \n",
      " conv_pw_2_bn (BatchNormaliz  (None, 56, 56, 128)      512       \n",
      " ation)                                                          \n",
      "                                                                 \n",
      " conv_pw_2_relu (ReLU)       (None, 56, 56, 128)       0         \n",
      "                                                                 \n",
      " conv_dw_3 (DepthwiseConv2D)  (None, 56, 56, 128)      1152      \n",
      "                                                                 \n",
      " conv_dw_3_bn (BatchNormaliz  (None, 56, 56, 128)      512       \n",
      " ation)                                                          \n",
      "                                                                 \n",
      " conv_dw_3_relu (ReLU)       (None, 56, 56, 128)       0         \n",
      "                                                                 \n",
      " conv_pw_3 (Conv2D)          (None, 56, 56, 128)       16384     \n",
      "                                                                 \n",
      " conv_pw_3_bn (BatchNormaliz  (None, 56, 56, 128)      512       \n",
      " ation)                                                          \n",
      "                                                                 \n",
      " conv_pw_3_relu (ReLU)       (None, 56, 56, 128)       0         \n",
      "                                                                 \n",
      " conv_pad_4 (ZeroPadding2D)  (None, 57, 57, 128)       0         \n",
      "                                                                 \n",
      " conv_dw_4 (DepthwiseConv2D)  (None, 28, 28, 128)      1152      \n",
      "                                                                 \n",
      " conv_dw_4_bn (BatchNormaliz  (None, 28, 28, 128)      512       \n",
      " ation)                                                          \n",
      "                                                                 \n",
      " conv_dw_4_relu (ReLU)       (None, 28, 28, 128)       0         \n",
      "                                                                 \n",
      " conv_pw_4 (Conv2D)          (None, 28, 28, 256)       32768     \n",
      "                                                                 \n",
      " conv_pw_4_bn (BatchNormaliz  (None, 28, 28, 256)      1024      \n",
      " ation)                                                          \n",
      "                                                                 \n",
      " conv_pw_4_relu (ReLU)       (None, 28, 28, 256)       0         \n",
      "                                                                 \n",
      " conv_dw_5 (DepthwiseConv2D)  (None, 28, 28, 256)      2304      \n",
      "                                                                 \n",
      " conv_dw_5_bn (BatchNormaliz  (None, 28, 28, 256)      1024      \n",
      " ation)                                                          \n",
      "                                                                 \n",
      " conv_dw_5_relu (ReLU)       (None, 28, 28, 256)       0         \n",
      "                                                                 \n",
      " conv_pw_5 (Conv2D)          (None, 28, 28, 256)       65536     \n",
      "                                                                 \n",
      " conv_pw_5_bn (BatchNormaliz  (None, 28, 28, 256)      1024      \n",
      " ation)                                                          \n",
      "                                                                 \n",
      " conv_pw_5_relu (ReLU)       (None, 28, 28, 256)       0         \n",
      "                                                                 \n",
      " conv_pad_6 (ZeroPadding2D)  (None, 29, 29, 256)       0         \n",
      "                                                                 \n",
      " conv_dw_6 (DepthwiseConv2D)  (None, 14, 14, 256)      2304      \n",
      "                                                                 \n",
      " conv_dw_6_bn (BatchNormaliz  (None, 14, 14, 256)      1024      \n",
      " ation)                                                          \n",
      "                                                                 \n",
      " conv_dw_6_relu (ReLU)       (None, 14, 14, 256)       0         \n",
      "                                                                 \n",
      " conv_pw_6 (Conv2D)          (None, 14, 14, 512)       131072    \n",
      "                                                                 \n",
      " conv_pw_6_bn (BatchNormaliz  (None, 14, 14, 512)      2048      \n",
      " ation)                                                          \n",
      "                                                                 \n",
      " conv_pw_6_relu (ReLU)       (None, 14, 14, 512)       0         \n",
      "                                                                 \n",
      " conv_dw_7 (DepthwiseConv2D)  (None, 14, 14, 512)      4608      \n",
      "                                                                 \n",
      " conv_dw_7_bn (BatchNormaliz  (None, 14, 14, 512)      2048      \n",
      " ation)                                                          \n",
      "                                                                 \n",
      " conv_dw_7_relu (ReLU)       (None, 14, 14, 512)       0         \n",
      "                                                                 \n",
      " conv_pw_7 (Conv2D)          (None, 14, 14, 512)       262144    \n",
      "                                                                 \n",
      " conv_pw_7_bn (BatchNormaliz  (None, 14, 14, 512)      2048      \n",
      " ation)                                                          \n",
      "                                                                 \n",
      " conv_pw_7_relu (ReLU)       (None, 14, 14, 512)       0         \n",
      "                                                                 \n",
      " conv_dw_8 (DepthwiseConv2D)  (None, 14, 14, 512)      4608      \n",
      "                                                                 \n",
      " conv_dw_8_bn (BatchNormaliz  (None, 14, 14, 512)      2048      \n",
      " ation)                                                          \n",
      "                                                                 \n",
      " conv_dw_8_relu (ReLU)       (None, 14, 14, 512)       0         \n",
      "                                                                 \n",
      " conv_pw_8 (Conv2D)          (None, 14, 14, 512)       262144    \n",
      "                                                                 \n",
      " conv_pw_8_bn (BatchNormaliz  (None, 14, 14, 512)      2048      \n",
      " ation)                                                          \n",
      "                                                                 \n",
      " conv_pw_8_relu (ReLU)       (None, 14, 14, 512)       0         \n",
      "                                                                 \n",
      " conv_dw_9 (DepthwiseConv2D)  (None, 14, 14, 512)      4608      \n",
      "                                                                 \n",
      " conv_dw_9_bn (BatchNormaliz  (None, 14, 14, 512)      2048      \n",
      " ation)                                                          \n",
      "                                                                 \n",
      " conv_dw_9_relu (ReLU)       (None, 14, 14, 512)       0         \n",
      "                                                                 \n",
      " conv_pw_9 (Conv2D)          (None, 14, 14, 512)       262144    \n",
      "                                                                 \n",
      " conv_pw_9_bn (BatchNormaliz  (None, 14, 14, 512)      2048      \n",
      " ation)                                                          \n",
      "                                                                 \n",
      " conv_pw_9_relu (ReLU)       (None, 14, 14, 512)       0         \n",
      "                                                                 \n",
      " conv_dw_10 (DepthwiseConv2D  (None, 14, 14, 512)      4608      \n",
      " )                                                               \n",
      "                                                                 \n",
      " conv_dw_10_bn (BatchNormali  (None, 14, 14, 512)      2048      \n",
      " zation)                                                         \n",
      "                                                                 \n",
      " conv_dw_10_relu (ReLU)      (None, 14, 14, 512)       0         \n",
      "                                                                 \n",
      " conv_pw_10 (Conv2D)         (None, 14, 14, 512)       262144    \n",
      "                                                                 \n",
      " conv_pw_10_bn (BatchNormali  (None, 14, 14, 512)      2048      \n",
      " zation)                                                         \n",
      "                                                                 \n",
      " conv_pw_10_relu (ReLU)      (None, 14, 14, 512)       0         \n",
      "                                                                 \n",
      " conv_dw_11 (DepthwiseConv2D  (None, 14, 14, 512)      4608      \n",
      " )                                                               \n",
      "                                                                 \n",
      " conv_dw_11_bn (BatchNormali  (None, 14, 14, 512)      2048      \n",
      " zation)                                                         \n",
      "                                                                 \n",
      " conv_dw_11_relu (ReLU)      (None, 14, 14, 512)       0         \n",
      "                                                                 \n",
      " conv_pw_11 (Conv2D)         (None, 14, 14, 512)       262144    \n",
      "                                                                 \n",
      " conv_pw_11_bn (BatchNormali  (None, 14, 14, 512)      2048      \n",
      " zation)                                                         \n",
      "                                                                 \n",
      " conv_pw_11_relu (ReLU)      (None, 14, 14, 512)       0         \n",
      "                                                                 \n",
      " conv_pad_12 (ZeroPadding2D)  (None, 15, 15, 512)      0         \n",
      "                                                                 \n",
      " conv_dw_12 (DepthwiseConv2D  (None, 7, 7, 512)        4608      \n",
      " )                                                               \n",
      "                                                                 \n",
      " conv_dw_12_bn (BatchNormali  (None, 7, 7, 512)        2048      \n",
      " zation)                                                         \n",
      "                                                                 \n",
      " conv_dw_12_relu (ReLU)      (None, 7, 7, 512)         0         \n",
      "                                                                 \n",
      " conv_pw_12 (Conv2D)         (None, 7, 7, 1024)        524288    \n",
      "                                                                 \n",
      " conv_pw_12_bn (BatchNormali  (None, 7, 7, 1024)       4096      \n",
      " zation)                                                         \n",
      "                                                                 \n",
      " conv_pw_12_relu (ReLU)      (None, 7, 7, 1024)        0         \n",
      "                                                                 \n",
      " conv_dw_13 (DepthwiseConv2D  (None, 7, 7, 1024)       9216      \n",
      " )                                                               \n",
      "                                                                 \n",
      " conv_dw_13_bn (BatchNormali  (None, 7, 7, 1024)       4096      \n",
      " zation)                                                         \n",
      "                                                                 \n",
      " conv_dw_13_relu (ReLU)      (None, 7, 7, 1024)        0         \n",
      "                                                                 \n",
      " conv_pw_13 (Conv2D)         (None, 7, 7, 1024)        1048576   \n",
      "                                                                 \n",
      " conv_pw_13_bn (BatchNormali  (None, 7, 7, 1024)       4096      \n",
      " zation)                                                         \n",
      "                                                                 \n",
      " conv_pw_13_relu (ReLU)      (None, 7, 7, 1024)        0         \n",
      "                                                                 \n",
      "=================================================================\n",
      "Total params: 3,228,864\n",
      "Trainable params: 3,206,976\n",
      "Non-trainable params: 21,888\n",
      "_________________________________________________________________\n"
     ]
    }
   ],
   "source": [
    "conv_base.summary()"
   ]
  },
  {
   "cell_type": "code",
   "execution_count": 17,
   "id": "087fe6bf",
   "metadata": {
    "execution": {
     "iopub.execute_input": "2023-06-04T10:16:15.628565Z",
     "iopub.status.busy": "2023-06-04T10:16:15.628293Z",
     "iopub.status.idle": "2023-06-04T10:16:15.658339Z",
     "shell.execute_reply": "2023-06-04T10:16:15.657632Z"
    },
    "papermill": {
     "duration": 0.066766,
     "end_time": "2023-06-04T10:16:15.666919",
     "exception": false,
     "start_time": "2023-06-04T10:16:15.600153",
     "status": "completed"
    },
    "tags": []
   },
   "outputs": [
    {
     "name": "stdout",
     "output_type": "stream",
     "text": [
      "Model: \"sequential\"\n",
      "_________________________________________________________________\n",
      " Layer (type)                Output Shape              Param #   \n",
      "=================================================================\n",
      " mobilenet_1.00_224 (Functio  (None, 7, 7, 1024)       3228864   \n",
      " nal)                                                            \n",
      "                                                                 \n",
      " flatten (Flatten)           (None, 50176)             0         \n",
      "                                                                 \n",
      " dense (Dense)               (None, 128)               6422656   \n",
      "                                                                 \n",
      " activation (Activation)     (None, 128)               0         \n",
      "                                                                 \n",
      " batch_normalization (BatchN  (None, 128)              512       \n",
      " ormalization)                                                   \n",
      "                                                                 \n",
      " dense_1 (Dense)             (None, 7)                 903       \n",
      "                                                                 \n",
      "=================================================================\n",
      "Total params: 9,652,935\n",
      "Trainable params: 9,630,791\n",
      "Non-trainable params: 22,144\n",
      "_________________________________________________________________\n"
     ]
    }
   ],
   "source": [
    "model.summary()"
   ]
  },
  {
   "cell_type": "markdown",
   "id": "d48dced7",
   "metadata": {
    "papermill": {
     "duration": 0.028404,
     "end_time": "2023-06-04T10:16:15.723643",
     "exception": false,
     "start_time": "2023-06-04T10:16:15.695239",
     "status": "completed"
    },
    "tags": []
   },
   "source": [
    "# Training"
   ]
  },
  {
   "cell_type": "code",
   "execution_count": 18,
   "id": "994f289c",
   "metadata": {
    "execution": {
     "iopub.execute_input": "2023-06-04T10:16:15.781131Z",
     "iopub.status.busy": "2023-06-04T10:16:15.780854Z",
     "iopub.status.idle": "2023-06-04T10:16:16.754523Z",
     "shell.execute_reply": "2023-06-04T10:16:16.753288Z"
    },
    "papermill": {
     "duration": 1.004675,
     "end_time": "2023-06-04T10:16:16.756951",
     "exception": false,
     "start_time": "2023-06-04T10:16:15.752276",
     "status": "completed"
    },
    "tags": []
   },
   "outputs": [],
   "source": [
    "! mkdir /kaggle/working/model/\n",
    "\n",
    "checkpoint=tf.keras.callbacks.ModelCheckpoint(filepath=\"/kaggle/working/model/CNN.h5\", \n",
    "                                              monitor='val_accuracy', \n",
    "                                              verbose=0, \n",
    "                                              save_best_only=True,\n",
    "                                              save_weights_only=False, \n",
    "                                              mode='auto', \n",
    "                                              save_freq='epoch', \n",
    "                                              options=None)"
   ]
  },
  {
   "cell_type": "code",
   "execution_count": 19,
   "id": "3b29079e",
   "metadata": {
    "execution": {
     "iopub.execute_input": "2023-06-04T10:16:16.815282Z",
     "iopub.status.busy": "2023-06-04T10:16:16.814394Z",
     "iopub.status.idle": "2023-06-04T10:52:12.344284Z",
     "shell.execute_reply": "2023-06-04T10:52:12.343372Z"
    },
    "papermill": {
     "duration": 2155.561103,
     "end_time": "2023-06-04T10:52:12.346243",
     "exception": false,
     "start_time": "2023-06-04T10:16:16.785140",
     "status": "completed"
    },
    "tags": []
   },
   "outputs": [
    {
     "name": "stdout",
     "output_type": "stream",
     "text": [
      "Epoch 1/7\n",
      "244/244 [==============================] - 351s 1s/step - loss: 1.0063 - accuracy: 0.5536 - val_loss: 1.5481 - val_accuracy: 0.4055\n",
      "Epoch 2/7\n",
      "244/244 [==============================] - 264s 1s/step - loss: 0.7454 - accuracy: 0.6471 - val_loss: 1.1686 - val_accuracy: 0.4891\n",
      "Epoch 3/7\n",
      "244/244 [==============================] - 268s 1s/step - loss: 0.6899 - accuracy: 0.6669 - val_loss: 1.6105 - val_accuracy: 0.3837\n",
      "Epoch 4/7\n",
      "244/244 [==============================] - 282s 1s/step - loss: 0.6469 - accuracy: 0.6838 - val_loss: 1.1966 - val_accuracy: 0.4967\n",
      "Epoch 5/7\n",
      "244/244 [==============================] - 275s 1s/step - loss: 0.6089 - accuracy: 0.7017 - val_loss: 1.4078 - val_accuracy: 0.4935\n",
      "Epoch 6/7\n",
      "244/244 [==============================] - 268s 1s/step - loss: 0.5818 - accuracy: 0.7124 - val_loss: 1.7556 - val_accuracy: 0.3289\n",
      "Epoch 7/7\n",
      "244/244 [==============================] - 268s 1s/step - loss: 0.5558 - accuracy: 0.7251 - val_loss: 1.1430 - val_accuracy: 0.5411\n",
      "dict_keys(['loss', 'accuracy', 'val_loss', 'val_accuracy'])\n"
     ]
    },
    {
     "data": {
      "image/png": "[encoded data removed]",
      "text/plain": [
       "<Figure size 640x480 with 1 Axes>"
      ]
     },
     "metadata": {},
     "output_type": "display_data"
    },
    {
     "data": {
      "image/png": "[encoded data removed]",
      "text/plain": [
       "<Figure size 640x480 with 1 Axes>"
      ]
     },
     "metadata": {},
     "output_type": "display_data"
    }
   ],
   "source": [
    "STEP_SIZE_TRAIN=train_generator.n//train_generator.batch_size\n",
    "STEP_SIZE_VALID=valid_generator.n//valid_generator.batch_size\n",
    "STEP_SIZE_TEST=test_generator.n//test_generator.batch_size\n",
    "\n",
    "history = model.fit(train_generator,\n",
    "                    steps_per_epoch=STEP_SIZE_TRAIN,\n",
    "                    validation_data=valid_generator,\n",
    "                    validation_steps=STEP_SIZE_VALID,\n",
    "                    epochs=EPOCHS,\n",
    "                   callbacks=[checkpoint],\n",
    "                   class_weight=weights)\n",
    "\n",
    "\n",
    "\n",
    "print(history.history.keys())\n",
    "# summarize history for accuracy\n",
    "plt.plot(history.history['accuracy'])\n",
    "plt.plot(history.history['val_accuracy'])\n",
    "plt.title('model accuracy')\n",
    "plt.ylabel('accuracy')\n",
    "plt.xlabel('epoch')\n",
    "plt.legend(['train', 'test'], loc='upper left')\n",
    "plt.grid()\n",
    "plt.show()\n",
    "# summarize history for loss\n",
    "plt.plot(history.history['loss'])\n",
    "plt.plot(history.history['val_loss'])\n",
    "plt.title('model loss')\n",
    "plt.ylabel('loss')\n",
    "plt.xlabel('epoch')\n",
    "plt.legend(['train', 'test'], loc='upper left')\n",
    "plt.grid()\n",
    "plt.show()"
   ]
  },
  {
   "cell_type": "code",
   "execution_count": 20,
   "id": "8d25bbeb",
   "metadata": {
    "execution": {
     "iopub.execute_input": "2023-06-04T10:52:12.656156Z",
     "iopub.status.busy": "2023-06-04T10:52:12.655824Z",
     "iopub.status.idle": "2023-06-04T10:52:14.126220Z",
     "shell.execute_reply": "2023-06-04T10:52:14.125238Z"
    },
    "papermill": {
     "duration": 1.628125,
     "end_time": "2023-06-04T10:52:14.128695",
     "exception": false,
     "start_time": "2023-06-04T10:52:12.500570",
     "status": "completed"
    },
    "tags": []
   },
   "outputs": [],
   "source": [
    "model = tf.keras.models.load_model(\"/kaggle/working/model/CNN.h5\")"
   ]
  },
  {
   "cell_type": "markdown",
   "id": "cb0d8199",
   "metadata": {
    "papermill": {
     "duration": 0.157186,
     "end_time": "2023-06-04T10:52:14.441369",
     "exception": false,
     "start_time": "2023-06-04T10:52:14.284183",
     "status": "completed"
    },
    "tags": []
   },
   "source": [
    "# Testing"
   ]
  },
  {
   "cell_type": "code",
   "execution_count": 21,
   "id": "5ab45b17",
   "metadata": {
    "execution": {
     "iopub.execute_input": "2023-06-04T10:52:14.832367Z",
     "iopub.status.busy": "2023-06-04T10:52:14.832003Z",
     "iopub.status.idle": "2023-06-04T10:52:57.112099Z",
     "shell.execute_reply": "2023-06-04T10:52:57.111206Z"
    },
    "papermill": {
     "duration": 42.455017,
     "end_time": "2023-06-04T10:52:57.114266",
     "exception": false,
     "start_time": "2023-06-04T10:52:14.659249",
     "status": "completed"
    },
    "tags": []
   },
   "outputs": [
    {
     "name": "stdout",
     "output_type": "stream",
     "text": [
      "89/89 [==============================] - 39s 423ms/step - loss: 1.1678 - accuracy: 0.5359\n"
     ]
    },
    {
     "data": {
      "text/plain": [
       "[1.16779363155365, 0.535895586013794]"
      ]
     },
     "execution_count": 21,
     "metadata": {},
     "output_type": "execute_result"
    }
   ],
   "source": [
    "valid_generator.reset()\n",
    "model.evaluate(valid_generator,\n",
    "steps=STEP_SIZE_TEST)"
   ]
  },
  {
   "cell_type": "code",
   "execution_count": 22,
   "id": "7defc18d",
   "metadata": {
    "execution": {
     "iopub.execute_input": "2023-06-04T10:52:57.434456Z",
     "iopub.status.busy": "2023-06-04T10:52:57.433413Z",
     "iopub.status.idle": "2023-06-04T10:53:47.664112Z",
     "shell.execute_reply": "2023-06-04T10:53:47.663163Z"
    },
    "papermill": {
     "duration": 50.39105,
     "end_time": "2023-06-04T10:53:47.666314",
     "exception": false,
     "start_time": "2023-06-04T10:52:57.275264",
     "status": "completed"
    },
    "tags": []
   },
   "outputs": [
    {
     "name": "stdout",
     "output_type": "stream",
     "text": [
      "90/90 [==============================] - 50s 548ms/step\n"
     ]
    }
   ],
   "source": [
    "test_generator.reset()\n",
    "pred=model.predict(test_generator)"
   ]
  },
  {
   "cell_type": "code",
   "execution_count": 23,
   "id": "bc243ea6",
   "metadata": {
    "execution": {
     "iopub.execute_input": "2023-06-04T10:53:47.997781Z",
     "iopub.status.busy": "2023-06-04T10:53:47.996856Z",
     "iopub.status.idle": "2023-06-04T10:53:48.004350Z",
     "shell.execute_reply": "2023-06-04T10:53:48.003262Z"
    },
    "papermill": {
     "duration": 0.175899,
     "end_time": "2023-06-04T10:53:48.006459",
     "exception": false,
     "start_time": "2023-06-04T10:53:47.830560",
     "status": "completed"
    },
    "tags": []
   },
   "outputs": [
    {
     "data": {
      "text/plain": [
       "array([2, 2, 2, ..., 2, 1, 1])"
      ]
     },
     "execution_count": 23,
     "metadata": {},
     "output_type": "execute_result"
    }
   ],
   "source": [
    "y_pred=np.argmax(pred,axis=1)\n",
    "y_pred"
   ]
  },
  {
   "cell_type": "code",
   "execution_count": 24,
   "id": "1f6d93f8",
   "metadata": {
    "execution": {
     "iopub.execute_input": "2023-06-04T10:53:48.343388Z",
     "iopub.status.busy": "2023-06-04T10:53:48.342980Z",
     "iopub.status.idle": "2023-06-04T10:53:48.438460Z",
     "shell.execute_reply": "2023-06-04T10:53:48.437441Z"
    },
    "papermill": {
     "duration": 0.264118,
     "end_time": "2023-06-04T10:53:48.440666",
     "exception": false,
     "start_time": "2023-06-04T10:53:48.176548",
     "status": "completed"
    },
    "tags": []
   },
   "outputs": [
    {
     "name": "stdout",
     "output_type": "stream",
     "text": [
      "[[ 312 1058  743  720  796 1187  935]\n",
      " [   0    0    0    0    0    0    0]\n",
      " [   0    0    0    0    0    0    0]\n",
      " [   0    0    0    0    0    0    0]\n",
      " [   0    0    0    0    0    0    0]\n",
      " [   0    0    0    0    0    0    0]\n",
      " [   0    0    0    0    0    0    0]]\n"
     ]
    },
    {
     "data": {
      "text/plain": [
       "0.05425143453312467"
      ]
     },
     "execution_count": 24,
     "metadata": {},
     "output_type": "execute_result"
    }
   ],
   "source": [
    "from sklearn.metrics import confusion_matrix,accuracy_score\n",
    "test_df['label'] = test_df['label'].astype(int)\n",
    "\n",
    "cm=confusion_matrix(test_df.label, y_pred)\n",
    "print(cm)\n",
    "\n",
    "accuracy_score(test_df.label.to_numpy(), y_pred)\n",
    "# tn,fp,fn,tp = confusion_matrix(test_df.label, y_pred).ravel()"
   ]
  },
  {
   "cell_type": "markdown",
   "id": "43886e4d",
   "metadata": {
    "papermill": {
     "duration": 0.164534,
     "end_time": "2023-06-04T10:53:48.771996",
     "exception": false,
     "start_time": "2023-06-04T10:53:48.607462",
     "status": "completed"
    },
    "tags": []
   },
   "source": [
    "# Creating submission.csv"
   ]
  },
  {
   "cell_type": "code",
   "execution_count": 25,
   "id": "16a1304d",
   "metadata": {
    "execution": {
     "iopub.execute_input": "2023-06-04T10:53:49.113355Z",
     "iopub.status.busy": "2023-06-04T10:53:49.112367Z",
     "iopub.status.idle": "2023-06-04T10:53:49.136075Z",
     "shell.execute_reply": "2023-06-04T10:53:49.135230Z"
    },
    "papermill": {
     "duration": 0.191276,
     "end_time": "2023-06-04T10:53:49.138232",
     "exception": false,
     "start_time": "2023-06-04T10:53:48.946956",
     "status": "completed"
    },
    "tags": []
   },
   "outputs": [],
   "source": [
    "filenames=test_generator.filenames\n",
    "results=pd.DataFrame({\"file_name\":filenames,\n",
    "                      \"label\":y_pred})\n",
    "results.to_csv(\"submission.csv\",index=False)"
   ]
  },
  {
   "cell_type": "code",
   "execution_count": 26,
   "id": "a1fec710",
   "metadata": {
    "execution": {
     "iopub.execute_input": "2023-06-04T10:53:49.470258Z",
     "iopub.status.busy": "2023-06-04T10:53:49.469886Z",
     "iopub.status.idle": "2023-06-04T10:53:49.474143Z",
     "shell.execute_reply": "2023-06-04T10:53:49.473257Z"
    },
    "papermill": {
     "duration": 0.172145,
     "end_time": "2023-06-04T10:53:49.476268",
     "exception": false,
     "start_time": "2023-06-04T10:53:49.304123",
     "status": "completed"
    },
    "tags": []
   },
   "outputs": [],
   "source": [
    "# test_df['label'] = test_df['label'].astype(int)"
   ]
  },
  {
   "cell_type": "markdown",
   "id": "4f806281",
   "metadata": {
    "papermill": {
     "duration": 0.16356,
     "end_time": "2023-06-04T10:53:49.853337",
     "exception": false,
     "start_time": "2023-06-04T10:53:49.689777",
     "status": "completed"
    },
    "tags": []
   },
   "source": [
    "# Reasons for low testing accuracy \n",
    "**Problem**: Although the training and testing data belong to the same dataset, the split in the dataset is very different, training data has about 1402 belonging to class 0 and the testing data has all the data belonging to class 0. Inorder to make a model that generalizes well on the dataset we need atleast a minimun of 5000 samples per class.\n",
    "\n",
    "**Solution 1**: Adding more data in the dataset would lead to better learning of the model and would remove any bias in the dataset. But this is not possible in our case.\n",
    "\n",
    "**Solution 2**: If adding data is not an option then using a pre-trained model could lead to better generalization. This is because pre trained models are trained for good feature extration. This should work for our use case but from what I have learned while training the model, Due to the low amount of class 0 data in the dataset the pretrained model is also not able to learn well even though it generalizes well.\n"
   ]
  },
  {
   "cell_type": "code",
   "execution_count": null,
   "id": "e3408499",
   "metadata": {
    "papermill": {
     "duration": 0.162624,
     "end_time": "2023-06-04T10:53:50.178881",
     "exception": false,
     "start_time": "2023-06-04T10:53:50.016257",
     "status": "completed"
    },
    "tags": []
   },
   "outputs": [],
   "source": []
  }
 ],
 "metadata": {
  "kernelspec": {
   "display_name": "Python 3",
   "language": "python",
   "name": "python3"
  },
  "language_info": {
   "codemirror_mode": {
    "name": "ipython",
    "version": 3
   },
   "file_extension": ".py",
   "mimetype": "text/x-python",
   "name": "python",
   "nbconvert_exporter": "python",
   "pygments_lexer": "ipython3",
   "version": "3.10.10"
  },
  "papermill": {
   "default_parameters": {},
   "duration": 2318.773804,
   "end_time": "2023-06-04T10:53:53.261586",
   "environment_variables": {},
   "exception": null,
   "input_path": "__notebook__.ipynb",
   "output_path": "__notebook__.ipynb",
   "parameters": {},
   "start_time": "2023-06-04T10:15:14.487782",
   "version": "2.4.0"
  }
 },
 "nbformat": 4,
 "nbformat_minor": 5
}
