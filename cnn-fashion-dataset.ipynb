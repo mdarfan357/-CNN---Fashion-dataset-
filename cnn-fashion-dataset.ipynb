{
 "cells": [
  {
   "cell_type": "code",
   "execution_count": 1,
   "id": "ec9d0453",
   "metadata": {
    "_cell_guid": "b1076dfc-b9ad-4769-8c92-a6c4dae69d19",
    "_uuid": "8f2839f25d086af736a60e9eeb907d3b93b6e0e5",
    "execution": {
     "iopub.execute_input": "2023-06-04T11:59:07.430482Z",
     "iopub.status.busy": "2023-06-04T11:59:07.429761Z",
     "iopub.status.idle": "2023-06-04T11:59:15.505784Z",
     "shell.execute_reply": "2023-06-04T11:59:15.504791Z"
    },
    "papermill": {
     "duration": 8.089222,
     "end_time": "2023-06-04T11:59:15.508154",
     "exception": false,
     "start_time": "2023-06-04T11:59:07.418932",
     "status": "completed"
    },
    "tags": []
   },
   "outputs": [],
   "source": [
    "# This Python 3 environment comes with many helpful analytics libraries installed\n",
    "# It is defined by the kaggle/python Docker image: https://github.com/kaggle/docker-python\n",
    "# For example, here's several helpful packages to load\n",
    "\n",
    "import numpy as np # linear algebra\n",
    "import pandas as pd # data processing, CSV file I/O (e.g. pd.read_csv)\n",
    "\n",
    "# Input data files are available in the read-only \"../input/\" directory\n",
    "# For example, running this (by clicking run or pressing Shift+Enter) will list all files under the input directory\n",
    "\n",
    "import os\n",
    "for dirname, _, filenames in os.walk('/kaggle/input'):\n",
    "    for filename in filenames:\n",
    "        os.path.join(dirname, filename)\n"
   ]
  },
  {
   "cell_type": "markdown",
   "id": "1f26eb31",
   "metadata": {
    "papermill": {
     "duration": 0.008327,
     "end_time": "2023-06-04T11:59:15.525731",
     "exception": false,
     "start_time": "2023-06-04T11:59:15.517404",
     "status": "completed"
    },
    "tags": []
   },
   "source": [
    "# Importing Required Modules "
   ]
  },
  {
   "cell_type": "code",
   "execution_count": 2,
   "id": "6a80f31b",
   "metadata": {
    "execution": {
     "iopub.execute_input": "2023-06-04T11:59:15.544556Z",
     "iopub.status.busy": "2023-06-04T11:59:15.543935Z",
     "iopub.status.idle": "2023-06-04T11:59:24.202953Z",
     "shell.execute_reply": "2023-06-04T11:59:24.202028Z"
    },
    "papermill": {
     "duration": 8.671058,
     "end_time": "2023-06-04T11:59:24.205311",
     "exception": false,
     "start_time": "2023-06-04T11:59:15.534253",
     "status": "completed"
    },
    "tags": []
   },
   "outputs": [
    {
     "name": "stderr",
     "output_type": "stream",
     "text": [
      "/opt/conda/lib/python3.10/site-packages/tensorflow_io/python/ops/__init__.py:98: UserWarning: unable to load libtensorflow_io_plugins.so: unable to open file: libtensorflow_io_plugins.so, from paths: ['/opt/conda/lib/python3.10/site-packages/tensorflow_io/python/ops/libtensorflow_io_plugins.so']\n",
      "caused by: ['/opt/conda/lib/python3.10/site-packages/tensorflow_io/python/ops/libtensorflow_io_plugins.so: undefined symbol: _ZN3tsl6StatusC1EN10tensorflow5error4CodeESt17basic_string_viewIcSt11char_traitsIcEENS_14SourceLocationE']\n",
      "  warnings.warn(f\"unable to load libtensorflow_io_plugins.so: {e}\")\n",
      "/opt/conda/lib/python3.10/site-packages/tensorflow_io/python/ops/__init__.py:104: UserWarning: file system plugins are not loaded: unable to open file: libtensorflow_io.so, from paths: ['/opt/conda/lib/python3.10/site-packages/tensorflow_io/python/ops/libtensorflow_io.so']\n",
      "caused by: ['/opt/conda/lib/python3.10/site-packages/tensorflow_io/python/ops/libtensorflow_io.so: undefined symbol: _ZTVN10tensorflow13GcsFileSystemE']\n",
      "  warnings.warn(f\"file system plugins are not loaded: {e}\")\n"
     ]
    }
   ],
   "source": [
    "import pandas as pd\n",
    "import cv2 as cv\n",
    "from tensorflow.keras.models import Sequential\n",
    "from tensorflow.keras.layers import *\n",
    "import os"
   ]
  },
  {
   "cell_type": "markdown",
   "id": "8494d91b",
   "metadata": {
    "papermill": {
     "duration": 0.00843,
     "end_time": "2023-06-04T11:59:24.222836",
     "exception": false,
     "start_time": "2023-06-04T11:59:24.214406",
     "status": "completed"
    },
    "tags": []
   },
   "source": [
    "# Model Hyper parameters"
   ]
  },
  {
   "cell_type": "code",
   "execution_count": 3,
   "id": "437e6dad",
   "metadata": {
    "execution": {
     "iopub.execute_input": "2023-06-04T11:59:24.241740Z",
     "iopub.status.busy": "2023-06-04T11:59:24.241136Z",
     "iopub.status.idle": "2023-06-04T11:59:24.245849Z",
     "shell.execute_reply": "2023-06-04T11:59:24.244769Z"
    },
    "papermill": {
     "duration": 0.016434,
     "end_time": "2023-06-04T11:59:24.247977",
     "exception": false,
     "start_time": "2023-06-04T11:59:24.231543",
     "status": "completed"
    },
    "tags": []
   },
   "outputs": [],
   "source": [
    "train_path = \"/kaggle/input/extracting-attributes-from-fashion-images-2/train\"\n",
    "BATCH_SIZE = 64\n",
    "EPOCHS = 15\n",
    "INPUT_SHAPE = 224\n",
    "LR = 0.0000001"
   ]
  },
  {
   "cell_type": "markdown",
   "id": "6fd4a860",
   "metadata": {
    "papermill": {
     "duration": 0.00815,
     "end_time": "2023-06-04T11:59:24.264769",
     "exception": false,
     "start_time": "2023-06-04T11:59:24.256619",
     "status": "completed"
    },
    "tags": []
   },
   "source": [
    "# Data Importing"
   ]
  },
  {
   "cell_type": "code",
   "execution_count": 4,
   "id": "7907518c",
   "metadata": {
    "execution": {
     "iopub.execute_input": "2023-06-04T11:59:24.284451Z",
     "iopub.status.busy": "2023-06-04T11:59:24.282998Z",
     "iopub.status.idle": "2023-06-04T11:59:24.327901Z",
     "shell.execute_reply": "2023-06-04T11:59:24.326929Z"
    },
    "papermill": {
     "duration": 0.056606,
     "end_time": "2023-06-04T11:59:24.330004",
     "exception": false,
     "start_time": "2023-06-04T11:59:24.273398",
     "status": "completed"
    },
    "tags": []
   },
   "outputs": [
    {
     "data": {
      "text/html": [
       "<div>\n",
       "<style scoped>\n",
       "    .dataframe tbody tr th:only-of-type {\n",
       "        vertical-align: middle;\n",
       "    }\n",
       "\n",
       "    .dataframe tbody tr th {\n",
       "        vertical-align: top;\n",
       "    }\n",
       "\n",
       "    .dataframe thead th {\n",
       "        text-align: right;\n",
       "    }\n",
       "</style>\n",
       "<table border=\"1\" class=\"dataframe\">\n",
       "  <thead>\n",
       "    <tr style=\"text-align: right;\">\n",
       "      <th></th>\n",
       "      <th>file_name</th>\n",
       "      <th>label</th>\n",
       "    </tr>\n",
       "  </thead>\n",
       "  <tbody>\n",
       "    <tr>\n",
       "      <th>0</th>\n",
       "      <td>Image_train_00001.jpg</td>\n",
       "      <td>0</td>\n",
       "    </tr>\n",
       "    <tr>\n",
       "      <th>1</th>\n",
       "      <td>Image_train_00002.jpg</td>\n",
       "      <td>1</td>\n",
       "    </tr>\n",
       "    <tr>\n",
       "      <th>2</th>\n",
       "      <td>Image_train_00003.jpg</td>\n",
       "      <td>0</td>\n",
       "    </tr>\n",
       "    <tr>\n",
       "      <th>3</th>\n",
       "      <td>Image_train_00004.jpg</td>\n",
       "      <td>0</td>\n",
       "    </tr>\n",
       "    <tr>\n",
       "      <th>4</th>\n",
       "      <td>Image_train_00005.jpg</td>\n",
       "      <td>0</td>\n",
       "    </tr>\n",
       "    <tr>\n",
       "      <th>...</th>\n",
       "      <td>...</td>\n",
       "      <td>...</td>\n",
       "    </tr>\n",
       "    <tr>\n",
       "      <th>18386</th>\n",
       "      <td>Image_train_18387.jpg</td>\n",
       "      <td>1</td>\n",
       "    </tr>\n",
       "    <tr>\n",
       "      <th>18387</th>\n",
       "      <td>Image_train_18388.jpg</td>\n",
       "      <td>2</td>\n",
       "    </tr>\n",
       "    <tr>\n",
       "      <th>18388</th>\n",
       "      <td>Image_train_18389.jpg</td>\n",
       "      <td>1</td>\n",
       "    </tr>\n",
       "    <tr>\n",
       "      <th>18389</th>\n",
       "      <td>Image_train_18390.jpg</td>\n",
       "      <td>1</td>\n",
       "    </tr>\n",
       "    <tr>\n",
       "      <th>18390</th>\n",
       "      <td>Image_train_18391.jpg</td>\n",
       "      <td>1</td>\n",
       "    </tr>\n",
       "  </tbody>\n",
       "</table>\n",
       "<p>18391 rows × 2 columns</p>\n",
       "</div>"
      ],
      "text/plain": [
       "                   file_name  label\n",
       "0      Image_train_00001.jpg      0\n",
       "1      Image_train_00002.jpg      1\n",
       "2      Image_train_00003.jpg      0\n",
       "3      Image_train_00004.jpg      0\n",
       "4      Image_train_00005.jpg      0\n",
       "...                      ...    ...\n",
       "18386  Image_train_18387.jpg      1\n",
       "18387  Image_train_18388.jpg      2\n",
       "18388  Image_train_18389.jpg      1\n",
       "18389  Image_train_18390.jpg      1\n",
       "18390  Image_train_18391.jpg      1\n",
       "\n",
       "[18391 rows x 2 columns]"
      ]
     },
     "execution_count": 4,
     "metadata": {},
     "output_type": "execute_result"
    }
   ],
   "source": [
    "# training data\n",
    "train_df = pd.read_csv(\"/kaggle/input/extracting-attributes-from-fashion-images-2/train.csv\")\n",
    "train_df"
   ]
  },
  {
   "cell_type": "code",
   "execution_count": 5,
   "id": "d801ef18",
   "metadata": {
    "execution": {
     "iopub.execute_input": "2023-06-04T11:59:24.350833Z",
     "iopub.status.busy": "2023-06-04T11:59:24.349320Z",
     "iopub.status.idle": "2023-06-04T11:59:24.369905Z",
     "shell.execute_reply": "2023-06-04T11:59:24.368980Z"
    },
    "papermill": {
     "duration": 0.032654,
     "end_time": "2023-06-04T11:59:24.372013",
     "exception": false,
     "start_time": "2023-06-04T11:59:24.339359",
     "status": "completed"
    },
    "tags": []
   },
   "outputs": [
    {
     "data": {
      "text/html": [
       "<div>\n",
       "<style scoped>\n",
       "    .dataframe tbody tr th:only-of-type {\n",
       "        vertical-align: middle;\n",
       "    }\n",
       "\n",
       "    .dataframe tbody tr th {\n",
       "        vertical-align: top;\n",
       "    }\n",
       "\n",
       "    .dataframe thead th {\n",
       "        text-align: right;\n",
       "    }\n",
       "</style>\n",
       "<table border=\"1\" class=\"dataframe\">\n",
       "  <thead>\n",
       "    <tr style=\"text-align: right;\">\n",
       "      <th></th>\n",
       "      <th>file_name</th>\n",
       "      <th>label</th>\n",
       "    </tr>\n",
       "  </thead>\n",
       "  <tbody>\n",
       "    <tr>\n",
       "      <th>0</th>\n",
       "      <td>Image_test_00001.jpg</td>\n",
       "      <td>0</td>\n",
       "    </tr>\n",
       "    <tr>\n",
       "      <th>1</th>\n",
       "      <td>Image_test_00002.jpg</td>\n",
       "      <td>0</td>\n",
       "    </tr>\n",
       "    <tr>\n",
       "      <th>2</th>\n",
       "      <td>Image_test_00003.jpg</td>\n",
       "      <td>0</td>\n",
       "    </tr>\n",
       "    <tr>\n",
       "      <th>3</th>\n",
       "      <td>Image_test_00004.jpg</td>\n",
       "      <td>0</td>\n",
       "    </tr>\n",
       "    <tr>\n",
       "      <th>4</th>\n",
       "      <td>Image_test_00005.jpg</td>\n",
       "      <td>0</td>\n",
       "    </tr>\n",
       "    <tr>\n",
       "      <th>...</th>\n",
       "      <td>...</td>\n",
       "      <td>...</td>\n",
       "    </tr>\n",
       "    <tr>\n",
       "      <th>5746</th>\n",
       "      <td>Image_test_05747.jpg</td>\n",
       "      <td>0</td>\n",
       "    </tr>\n",
       "    <tr>\n",
       "      <th>5747</th>\n",
       "      <td>Image_test_05748.jpg</td>\n",
       "      <td>0</td>\n",
       "    </tr>\n",
       "    <tr>\n",
       "      <th>5748</th>\n",
       "      <td>Image_test_05749.jpg</td>\n",
       "      <td>0</td>\n",
       "    </tr>\n",
       "    <tr>\n",
       "      <th>5749</th>\n",
       "      <td>Image_test_05750.jpg</td>\n",
       "      <td>0</td>\n",
       "    </tr>\n",
       "    <tr>\n",
       "      <th>5750</th>\n",
       "      <td>Image_test_05751.jpg</td>\n",
       "      <td>0</td>\n",
       "    </tr>\n",
       "  </tbody>\n",
       "</table>\n",
       "<p>5751 rows × 2 columns</p>\n",
       "</div>"
      ],
      "text/plain": [
       "                 file_name  label\n",
       "0     Image_test_00001.jpg      0\n",
       "1     Image_test_00002.jpg      0\n",
       "2     Image_test_00003.jpg      0\n",
       "3     Image_test_00004.jpg      0\n",
       "4     Image_test_00005.jpg      0\n",
       "...                    ...    ...\n",
       "5746  Image_test_05747.jpg      0\n",
       "5747  Image_test_05748.jpg      0\n",
       "5748  Image_test_05749.jpg      0\n",
       "5749  Image_test_05750.jpg      0\n",
       "5750  Image_test_05751.jpg      0\n",
       "\n",
       "[5751 rows x 2 columns]"
      ]
     },
     "execution_count": 5,
     "metadata": {},
     "output_type": "execute_result"
    }
   ],
   "source": [
    "# testing data\n",
    "test_df = pd.read_csv(\"/kaggle/input/extracting-attributes-from-fashion-images-2/sample_submission.csv\")\n",
    "test_df"
   ]
  },
  {
   "cell_type": "markdown",
   "id": "c01883f1",
   "metadata": {
    "papermill": {
     "duration": 0.009244,
     "end_time": "2023-06-04T11:59:24.390643",
     "exception": false,
     "start_time": "2023-06-04T11:59:24.381399",
     "status": "completed"
    },
    "tags": []
   },
   "source": [
    "## Checking for Imbalance in the dataset"
   ]
  },
  {
   "cell_type": "code",
   "execution_count": 6,
   "id": "f3cc8441",
   "metadata": {
    "execution": {
     "iopub.execute_input": "2023-06-04T11:59:24.410682Z",
     "iopub.status.busy": "2023-06-04T11:59:24.410061Z",
     "iopub.status.idle": "2023-06-04T11:59:24.422087Z",
     "shell.execute_reply": "2023-06-04T11:59:24.421177Z"
    },
    "papermill": {
     "duration": 0.023973,
     "end_time": "2023-06-04T11:59:24.424000",
     "exception": false,
     "start_time": "2023-06-04T11:59:24.400027",
     "status": "completed"
    },
    "tags": []
   },
   "outputs": [
    {
     "data": {
      "text/plain": [
       "1    5384\n",
       "2    4084\n",
       "3    2008\n",
       "4    1972\n",
       "6    1925\n",
       "5    1616\n",
       "0    1402\n",
       "Name: label, dtype: int64"
      ]
     },
     "execution_count": 6,
     "metadata": {},
     "output_type": "execute_result"
    }
   ],
   "source": [
    "train_df.label.value_counts()"
   ]
  },
  {
   "cell_type": "code",
   "execution_count": 7,
   "id": "9b43f127",
   "metadata": {
    "execution": {
     "iopub.execute_input": "2023-06-04T11:59:24.445533Z",
     "iopub.status.busy": "2023-06-04T11:59:24.443944Z",
     "iopub.status.idle": "2023-06-04T11:59:24.451279Z",
     "shell.execute_reply": "2023-06-04T11:59:24.450402Z"
    },
    "papermill": {
     "duration": 0.01945,
     "end_time": "2023-06-04T11:59:24.453227",
     "exception": false,
     "start_time": "2023-06-04T11:59:24.433777",
     "status": "completed"
    },
    "tags": []
   },
   "outputs": [
    {
     "data": {
      "text/plain": [
       "0    5751\n",
       "Name: label, dtype: int64"
      ]
     },
     "execution_count": 7,
     "metadata": {},
     "output_type": "execute_result"
    }
   ],
   "source": [
    "test_df.label.value_counts()"
   ]
  },
  {
   "cell_type": "code",
   "execution_count": 8,
   "id": "e8f7c2e8",
   "metadata": {
    "execution": {
     "iopub.execute_input": "2023-06-04T11:59:24.473537Z",
     "iopub.status.busy": "2023-06-04T11:59:24.472717Z",
     "iopub.status.idle": "2023-06-04T11:59:24.480377Z",
     "shell.execute_reply": "2023-06-04T11:59:24.479394Z"
    },
    "papermill": {
     "duration": 0.019704,
     "end_time": "2023-06-04T11:59:24.482319",
     "exception": false,
     "start_time": "2023-06-04T11:59:24.462615",
     "status": "completed"
    },
    "tags": []
   },
   "outputs": [
    {
     "data": {
      "text/plain": [
       "array([0, 1, 2, 3, 5, 4, 6])"
      ]
     },
     "execution_count": 8,
     "metadata": {},
     "output_type": "execute_result"
    }
   ],
   "source": [
    "train_df.label.unique()"
   ]
  },
  {
   "cell_type": "code",
   "execution_count": 9,
   "id": "74234917",
   "metadata": {
    "execution": {
     "iopub.execute_input": "2023-06-04T11:59:24.502588Z",
     "iopub.status.busy": "2023-06-04T11:59:24.502090Z",
     "iopub.status.idle": "2023-06-04T11:59:25.363129Z",
     "shell.execute_reply": "2023-06-04T11:59:25.362204Z"
    },
    "papermill": {
     "duration": 0.87347,
     "end_time": "2023-06-04T11:59:25.365381",
     "exception": false,
     "start_time": "2023-06-04T11:59:24.491911",
     "status": "completed"
    },
    "tags": []
   },
   "outputs": [
    {
     "data": {
      "text/plain": [
       "[1.8739555736702669,\n",
       " 0.4879802589683719,\n",
       " 0.6433118791101161,\n",
       " 1.3084092202618098,\n",
       " 1.3322949869603014,\n",
       " 1.6257956152758133,\n",
       " 1.3648237476808904]"
      ]
     },
     "execution_count": 9,
     "metadata": {},
     "output_type": "execute_result"
    }
   ],
   "source": [
    "from sklearn.utils import class_weight\n",
    "class_weights = list(class_weight.compute_class_weight('balanced',\n",
    "                                                 classes=np.unique(train_df.label.to_numpy()),\n",
    "                                                 y=train_df.label.to_numpy()))\n",
    "class_weights"
   ]
  },
  {
   "cell_type": "code",
   "execution_count": 10,
   "id": "52e1a635",
   "metadata": {
    "execution": {
     "iopub.execute_input": "2023-06-04T11:59:25.386457Z",
     "iopub.status.busy": "2023-06-04T11:59:25.386136Z",
     "iopub.status.idle": "2023-06-04T11:59:25.392037Z",
     "shell.execute_reply": "2023-06-04T11:59:25.391214Z"
    },
    "papermill": {
     "duration": 0.018703,
     "end_time": "2023-06-04T11:59:25.394113",
     "exception": false,
     "start_time": "2023-06-04T11:59:25.375410",
     "status": "completed"
    },
    "tags": []
   },
   "outputs": [
    {
     "data": {
      "text/plain": [
       "{0: 1.8739555736702669,\n",
       " 1: 0.4879802589683719,\n",
       " 2: 0.6433118791101161,\n",
       " 3: 1.3084092202618098,\n",
       " 4: 1.3322949869603014,\n",
       " 5: 1.6257956152758133,\n",
       " 6: 1.3648237476808904}"
      ]
     },
     "execution_count": 10,
     "metadata": {},
     "output_type": "execute_result"
    }
   ],
   "source": [
    "weights = {x:y for x,y in enumerate(class_weights)}\n",
    "weights"
   ]
  },
  {
   "cell_type": "markdown",
   "id": "774fbb6b",
   "metadata": {
    "papermill": {
     "duration": 0.009435,
     "end_time": "2023-06-04T11:59:25.413163",
     "exception": false,
     "start_time": "2023-06-04T11:59:25.403728",
     "status": "completed"
    },
    "tags": []
   },
   "source": [
    "# Visualization the dataset"
   ]
  },
  {
   "cell_type": "code",
   "execution_count": 11,
   "id": "126131e1",
   "metadata": {
    "execution": {
     "iopub.execute_input": "2023-06-04T11:59:25.433943Z",
     "iopub.status.busy": "2023-06-04T11:59:25.433231Z",
     "iopub.status.idle": "2023-06-04T11:59:25.637087Z",
     "shell.execute_reply": "2023-06-04T11:59:25.633375Z"
    },
    "papermill": {
     "duration": 0.217831,
     "end_time": "2023-06-04T11:59:25.640645",
     "exception": false,
     "start_time": "2023-06-04T11:59:25.422814",
     "status": "completed"
    },
    "tags": []
   },
   "outputs": [
    {
     "data": {
      "image/png": "[encoded data removed]",
      "text/plain": [
       "<Figure size 640x480 with 1 Axes>"
      ]
     },
     "metadata": {},
     "output_type": "display_data"
    }
   ],
   "source": [
    "from matplotlib import pyplot as plt\n",
    "\n",
    "train_files = os.listdir(train_path)\n",
    "img = cv.imread(train_path+\"/\"+train_files[1])\n",
    "plt.imshow(img)\n",
    "plt.xticks([])\n",
    "plt.yticks([])\n",
    "plt.show()"
   ]
  },
  {
   "cell_type": "markdown",
   "id": "35f05ef9",
   "metadata": {
    "papermill": {
     "duration": 0.010313,
     "end_time": "2023-06-04T11:59:25.672175",
     "exception": false,
     "start_time": "2023-06-04T11:59:25.661862",
     "status": "completed"
    },
    "tags": []
   },
   "source": [
    "# Creating Data Pipelines"
   ]
  },
  {
   "cell_type": "code",
   "execution_count": 12,
   "id": "2241185a",
   "metadata": {
    "execution": {
     "iopub.execute_input": "2023-06-04T11:59:25.694319Z",
     "iopub.status.busy": "2023-06-04T11:59:25.694043Z",
     "iopub.status.idle": "2023-06-04T11:59:43.701913Z",
     "shell.execute_reply": "2023-06-04T11:59:43.701056Z"
    },
    "papermill": {
     "duration": 18.021371,
     "end_time": "2023-06-04T11:59:43.704036",
     "exception": false,
     "start_time": "2023-06-04T11:59:25.682665",
     "status": "completed"
    },
    "tags": []
   },
   "outputs": [
    {
     "name": "stdout",
     "output_type": "stream",
     "text": [
      "Found 15633 validated image filenames belonging to 7 classes.\n",
      "Found 2758 validated image filenames belonging to 7 classes.\n"
     ]
    }
   ],
   "source": [
    "from tensorflow.keras.preprocessing.image import ImageDataGenerator\n",
    "\n",
    "test_df['label'] = test_df['label'].astype(str)\n",
    "train_df['label'] = train_df['label'].astype(str)\n",
    "\n",
    "datagen = ImageDataGenerator(\n",
    "    rescale=1/255.0,\n",
    "    rotation_range=20,\n",
    "    zoom_range=0.05,\n",
    "    width_shift_range=0.05,\n",
    "    height_shift_range=0.05,\n",
    "    shear_range=0.05,\n",
    "    horizontal_flip=True,\n",
    "    fill_mode = \"nearest\",\n",
    "    validation_split=0.15\n",
    ")\n",
    "\n",
    "train_generator=datagen.flow_from_dataframe(\n",
    "    dataframe=train_df,\n",
    "    directory=\"/kaggle/input/extracting-attributes-from-fashion-images-2/train\",\n",
    "    x_col=\"file_name\",\n",
    "    y_col=\"label\",\n",
    "    subset=\"training\",\n",
    "    batch_size=BATCH_SIZE,\n",
    "    seed=42,\n",
    "    shuffle=True,\n",
    "    class_mode=\"sparse\",\n",
    "    target_size=(INPUT_SHAPE,INPUT_SHAPE))\n",
    "\n",
    "valid_generator=datagen.flow_from_dataframe(\n",
    "    dataframe=train_df,\n",
    "    directory=\"/kaggle/input/extracting-attributes-from-fashion-images-2/train\",\n",
    "    x_col=\"file_name\",\n",
    "    y_col=\"label\",\n",
    "    subset=\"validation\",\n",
    "    batch_size=BATCH_SIZE,\n",
    "    seed=42,\n",
    "    shuffle=True,\n",
    "    class_mode=\"sparse\",\n",
    "    target_size=(INPUT_SHAPE,INPUT_SHAPE))\n",
    "\n"
   ]
  },
  {
   "cell_type": "code",
   "execution_count": 13,
   "id": "a650c065",
   "metadata": {
    "execution": {
     "iopub.execute_input": "2023-06-04T11:59:43.727907Z",
     "iopub.status.busy": "2023-06-04T11:59:43.726940Z",
     "iopub.status.idle": "2023-06-04T11:59:46.345311Z",
     "shell.execute_reply": "2023-06-04T11:59:46.344375Z"
    },
    "papermill": {
     "duration": 2.632912,
     "end_time": "2023-06-04T11:59:46.347967",
     "exception": false,
     "start_time": "2023-06-04T11:59:43.715055",
     "status": "completed"
    },
    "tags": []
   },
   "outputs": [
    {
     "name": "stdout",
     "output_type": "stream",
     "text": [
      "Found 5751 validated image filenames belonging to 1 classes.\n"
     ]
    }
   ],
   "source": [
    "test_datagen=ImageDataGenerator(rescale=1./255.)\n",
    "\n",
    "\n",
    "\n",
    "test_generator=test_datagen.flow_from_dataframe(\n",
    "dataframe=test_df,\n",
    "directory=\"/kaggle/input/extracting-attributes-from-fashion-images-2/test\",\n",
    "x_col=\"file_name\",\n",
    "y_col=\"label\",\n",
    "batch_size=BATCH_SIZE,\n",
    "seed=42,\n",
    "shuffle=False,\n",
    "class_mode=\"sparse\",\n",
    "target_size=(INPUT_SHAPE,INPUT_SHAPE))\n"
   ]
  },
  {
   "cell_type": "markdown",
   "id": "b75cd98f",
   "metadata": {
    "papermill": {
     "duration": 0.010736,
     "end_time": "2023-06-04T11:59:46.370685",
     "exception": false,
     "start_time": "2023-06-04T11:59:46.359949",
     "status": "completed"
    },
    "tags": []
   },
   "source": [
    "# Creating the Deep learning model"
   ]
  },
  {
   "cell_type": "code",
   "execution_count": 14,
   "id": "b7a070e8",
   "metadata": {
    "execution": {
     "iopub.execute_input": "2023-06-04T11:59:46.394534Z",
     "iopub.status.busy": "2023-06-04T11:59:46.393655Z",
     "iopub.status.idle": "2023-06-04T11:59:50.810912Z",
     "shell.execute_reply": "2023-06-04T11:59:50.809982Z"
    },
    "papermill": {
     "duration": 4.431637,
     "end_time": "2023-06-04T11:59:50.813411",
     "exception": false,
     "start_time": "2023-06-04T11:59:46.381774",
     "status": "completed"
    },
    "tags": []
   },
   "outputs": [
    {
     "name": "stdout",
     "output_type": "stream",
     "text": [
      "Downloading data from https://storage.googleapis.com/tensorflow/keras-applications/mobilenet/mobilenet_1_0_224_tf_no_top.h5\n",
      "17225924/17225924 [==============================] - 0s 0us/step\n"
     ]
    }
   ],
   "source": [
    "from tensorflow.keras.models import Sequential\n",
    "from tensorflow.keras.layers import *\n",
    "from tensorflow import keras\n",
    "import tensorflow as tf\n",
    "from keras.applications import VGG16\n",
    "from tensorflow.python.keras import regularizers\n",
    "\n",
    "# conv_base = VGG16(weights=\"imagenet\",\n",
    "#                  include_top=False,\n",
    "#                  input_shape=(INPUT_SHAPE,INPUT_SHAPE,3)) # 244\n",
    "\n",
    "\n",
    "conv_base = tf.keras.applications.mobilenet.MobileNet( include_top=False,\n",
    "                                                           input_shape=(224, 224,3),\n",
    "                                                           weights='imagenet')    \n",
    "\n",
    "\n",
    "model = Sequential()\n",
    "\n",
    "model.add(conv_base)\n",
    "# conv_base.trainable = False\n",
    "\n",
    "model.add(Flatten())\n",
    "\n",
    "model.add(Dense(256))\n",
    "model.add(Activation('relu'))\n",
    "model.add(BatchNormalization())\n",
    "\n",
    "\n",
    "model.add(Dense(7, activation='softmax'))\n",
    "\n",
    "model.compile(optimizer=keras.optimizers.Adam(lr=LR),loss=\"sparse_categorical_crossentropy\",metrics=[\"accuracy\"])"
   ]
  },
  {
   "cell_type": "code",
   "execution_count": 15,
   "id": "f6786620",
   "metadata": {
    "execution": {
     "iopub.execute_input": "2023-06-04T11:59:50.839453Z",
     "iopub.status.busy": "2023-06-04T11:59:50.837762Z",
     "iopub.status.idle": "2023-06-04T11:59:50.994123Z",
     "shell.execute_reply": "2023-06-04T11:59:50.993140Z"
    },
    "papermill": {
     "duration": 0.320697,
     "end_time": "2023-06-04T11:59:51.145857",
     "exception": false,
     "start_time": "2023-06-04T11:59:50.825160",
     "status": "completed"
    },
    "tags": []
   },
   "outputs": [
    {
     "name": "stdout",
     "output_type": "stream",
     "text": [
      "Model: \"mobilenet_1.00_224\"\n",
      "_________________________________________________________________\n",
      " Layer (type)                Output Shape              Param #   \n",
      "=================================================================\n",
      " input_1 (InputLayer)        [(None, 224, 224, 3)]     0         \n",
      "                                                                 \n",
      " conv1 (Conv2D)              (None, 112, 112, 32)      864       \n",
      "                                                                 \n",
      " conv1_bn (BatchNormalizatio  (None, 112, 112, 32)     128       \n",
      " n)                                                              \n",
      "                                                                 \n",
      " conv1_relu (ReLU)           (None, 112, 112, 32)      0         \n",
      "                                                                 \n",
      " conv_dw_1 (DepthwiseConv2D)  (None, 112, 112, 32)     288       \n",
      "                                                                 \n",
      " conv_dw_1_bn (BatchNormaliz  (None, 112, 112, 32)     128       \n",
      " ation)                                                          \n",
      "                                                                 \n",
      " conv_dw_1_relu (ReLU)       (None, 112, 112, 32)      0         \n",
      "                                                                 \n",
      " conv_pw_1 (Conv2D)          (None, 112, 112, 64)      2048      \n",
      "                                                                 \n",
      " conv_pw_1_bn (BatchNormaliz  (None, 112, 112, 64)     256       \n",
      " ation)                                                          \n",
      "                                                                 \n",
      " conv_pw_1_relu (ReLU)       (None, 112, 112, 64)      0         \n",
      "                                                                 \n",
      " conv_pad_2 (ZeroPadding2D)  (None, 113, 113, 64)      0         \n",
      "                                                                 \n",
      " conv_dw_2 (DepthwiseConv2D)  (None, 56, 56, 64)       576       \n",
      "                                                                 \n",
      " conv_dw_2_bn (BatchNormaliz  (None, 56, 56, 64)       256       \n",
      " ation)                                                          \n",
      "                                                                 \n",
      " conv_dw_2_relu (ReLU)       (None, 56, 56, 64)        0         \n",
      "                                                                 \n",
      " conv_pw_2 (Conv2D)          (None, 56, 56, 128)       8192      \n",
      "                                                                 \n",
      " conv_pw_2_bn (BatchNormaliz  (None, 56, 56, 128)      512       \n",
      " ation)                                                          \n",
      "                                                                 \n",
      " conv_pw_2_relu (ReLU)       (None, 56, 56, 128)       0         \n",
      "                                                                 \n",
      " conv_dw_3 (DepthwiseConv2D)  (None, 56, 56, 128)      1152      \n",
      "                                                                 \n",
      " conv_dw_3_bn (BatchNormaliz  (None, 56, 56, 128)      512       \n",
      " ation)                                                          \n",
      "                                                                 \n",
      " conv_dw_3_relu (ReLU)       (None, 56, 56, 128)       0         \n",
      "                                                                 \n",
      " conv_pw_3 (Conv2D)          (None, 56, 56, 128)       16384     \n",
      "                                                                 \n",
      " conv_pw_3_bn (BatchNormaliz  (None, 56, 56, 128)      512       \n",
      " ation)                                                          \n",
      "                                                                 \n",
      " conv_pw_3_relu (ReLU)       (None, 56, 56, 128)       0         \n",
      "                                                                 \n",
      " conv_pad_4 (ZeroPadding2D)  (None, 57, 57, 128)       0         \n",
      "                                                                 \n",
      " conv_dw_4 (DepthwiseConv2D)  (None, 28, 28, 128)      1152      \n",
      "                                                                 \n",
      " conv_dw_4_bn (BatchNormaliz  (None, 28, 28, 128)      512       \n",
      " ation)                                                          \n",
      "                                                                 \n",
      " conv_dw_4_relu (ReLU)       (None, 28, 28, 128)       0         \n",
      "                                                                 \n",
      " conv_pw_4 (Conv2D)          (None, 28, 28, 256)       32768     \n",
      "                                                                 \n",
      " conv_pw_4_bn (BatchNormaliz  (None, 28, 28, 256)      1024      \n",
      " ation)                                                          \n",
      "                                                                 \n",
      " conv_pw_4_relu (ReLU)       (None, 28, 28, 256)       0         \n",
      "                                                                 \n",
      " conv_dw_5 (DepthwiseConv2D)  (None, 28, 28, 256)      2304      \n",
      "                                                                 \n",
      " conv_dw_5_bn (BatchNormaliz  (None, 28, 28, 256)      1024      \n",
      " ation)                                                          \n",
      "                                                                 \n",
      " conv_dw_5_relu (ReLU)       (None, 28, 28, 256)       0         \n",
      "                                                                 \n",
      " conv_pw_5 (Conv2D)          (None, 28, 28, 256)       65536     \n",
      "                                                                 \n",
      " conv_pw_5_bn (BatchNormaliz  (None, 28, 28, 256)      1024      \n",
      " ation)                                                          \n",
      "                                                                 \n",
      " conv_pw_5_relu (ReLU)       (None, 28, 28, 256)       0         \n",
      "                                                                 \n",
      " conv_pad_6 (ZeroPadding2D)  (None, 29, 29, 256)       0         \n",
      "                                                                 \n",
      " conv_dw_6 (DepthwiseConv2D)  (None, 14, 14, 256)      2304      \n",
      "                                                                 \n",
      " conv_dw_6_bn (BatchNormaliz  (None, 14, 14, 256)      1024      \n",
      " ation)                                                          \n",
      "                                                                 \n",
      " conv_dw_6_relu (ReLU)       (None, 14, 14, 256)       0         \n",
      "                                                                 \n",
      " conv_pw_6 (Conv2D)          (None, 14, 14, 512)       131072    \n",
      "                                                                 \n",
      " conv_pw_6_bn (BatchNormaliz  (None, 14, 14, 512)      2048      \n",
      " ation)                                                          \n",
      "                                                                 \n",
      " conv_pw_6_relu (ReLU)       (None, 14, 14, 512)       0         \n",
      "                                                                 \n",
      " conv_dw_7 (DepthwiseConv2D)  (None, 14, 14, 512)      4608      \n",
      "                                                                 \n",
      " conv_dw_7_bn (BatchNormaliz  (None, 14, 14, 512)      2048      \n",
      " ation)                                                          \n",
      "                                                                 \n",
      " conv_dw_7_relu (ReLU)       (None, 14, 14, 512)       0         \n",
      "                                                                 \n",
      " conv_pw_7 (Conv2D)          (None, 14, 14, 512)       262144    \n",
      "                                                                 \n",
      " conv_pw_7_bn (BatchNormaliz  (None, 14, 14, 512)      2048      \n",
      " ation)                                                          \n",
      "                                                                 \n",
      " conv_pw_7_relu (ReLU)       (None, 14, 14, 512)       0         \n",
      "                                                                 \n",
      " conv_dw_8 (DepthwiseConv2D)  (None, 14, 14, 512)      4608      \n",
      "                                                                 \n",
      " conv_dw_8_bn (BatchNormaliz  (None, 14, 14, 512)      2048      \n",
      " ation)                                                          \n",
      "                                                                 \n",
      " conv_dw_8_relu (ReLU)       (None, 14, 14, 512)       0         \n",
      "                                                                 \n",
      " conv_pw_8 (Conv2D)          (None, 14, 14, 512)       262144    \n",
      "                                                                 \n",
      " conv_pw_8_bn (BatchNormaliz  (None, 14, 14, 512)      2048      \n",
      " ation)                                                          \n",
      "                                                                 \n",
      " conv_pw_8_relu (ReLU)       (None, 14, 14, 512)       0         \n",
      "                                                                 \n",
      " conv_dw_9 (DepthwiseConv2D)  (None, 14, 14, 512)      4608      \n",
      "                                                                 \n",
      " conv_dw_9_bn (BatchNormaliz  (None, 14, 14, 512)      2048      \n",
      " ation)                                                          \n",
      "                                                                 \n",
      " conv_dw_9_relu (ReLU)       (None, 14, 14, 512)       0         \n",
      "                                                                 \n",
      " conv_pw_9 (Conv2D)          (None, 14, 14, 512)       262144    \n",
      "                                                                 \n",
      " conv_pw_9_bn (BatchNormaliz  (None, 14, 14, 512)      2048      \n",
      " ation)                                                          \n",
      "                                                                 \n",
      " conv_pw_9_relu (ReLU)       (None, 14, 14, 512)       0         \n",
      "                                                                 \n",
      " conv_dw_10 (DepthwiseConv2D  (None, 14, 14, 512)      4608      \n",
      " )                                                               \n",
      "                                                                 \n",
      " conv_dw_10_bn (BatchNormali  (None, 14, 14, 512)      2048      \n",
      " zation)                                                         \n",
      "                                                                 \n",
      " conv_dw_10_relu (ReLU)      (None, 14, 14, 512)       0         \n",
      "                                                                 \n",
      " conv_pw_10 (Conv2D)         (None, 14, 14, 512)       262144    \n",
      "                                                                 \n",
      " conv_pw_10_bn (BatchNormali  (None, 14, 14, 512)      2048      \n",
      " zation)                                                         \n",
      "                                                                 \n",
      " conv_pw_10_relu (ReLU)      (None, 14, 14, 512)       0         \n",
      "                                                                 \n",
      " conv_dw_11 (DepthwiseConv2D  (None, 14, 14, 512)      4608      \n",
      " )                                                               \n",
      "                                                                 \n",
      " conv_dw_11_bn (BatchNormali  (None, 14, 14, 512)      2048      \n",
      " zation)                                                         \n",
      "                                                                 \n",
      " conv_dw_11_relu (ReLU)      (None, 14, 14, 512)       0         \n",
      "                                                                 \n",
      " conv_pw_11 (Conv2D)         (None, 14, 14, 512)       262144    \n",
      "                                                                 \n",
      " conv_pw_11_bn (BatchNormali  (None, 14, 14, 512)      2048      \n",
      " zation)                                                         \n",
      "                                                                 \n",
      " conv_pw_11_relu (ReLU)      (None, 14, 14, 512)       0         \n",
      "                                                                 \n",
      " conv_pad_12 (ZeroPadding2D)  (None, 15, 15, 512)      0         \n",
      "                                                                 \n",
      " conv_dw_12 (DepthwiseConv2D  (None, 7, 7, 512)        4608      \n",
      " )                                                               \n",
      "                                                                 \n",
      " conv_dw_12_bn (BatchNormali  (None, 7, 7, 512)        2048      \n",
      " zation)                                                         \n",
      "                                                                 \n",
      " conv_dw_12_relu (ReLU)      (None, 7, 7, 512)         0         \n",
      "                                                                 \n",
      " conv_pw_12 (Conv2D)         (None, 7, 7, 1024)        524288    \n",
      "                                                                 \n",
      " conv_pw_12_bn (BatchNormali  (None, 7, 7, 1024)       4096      \n",
      " zation)                                                         \n",
      "                                                                 \n",
      " conv_pw_12_relu (ReLU)      (None, 7, 7, 1024)        0         \n",
      "                                                                 \n",
      " conv_dw_13 (DepthwiseConv2D  (None, 7, 7, 1024)       9216      \n",
      " )                                                               \n",
      "                                                                 \n",
      " conv_dw_13_bn (BatchNormali  (None, 7, 7, 1024)       4096      \n",
      " zation)                                                         \n",
      "                                                                 \n",
      " conv_dw_13_relu (ReLU)      (None, 7, 7, 1024)        0         \n",
      "                                                                 \n",
      " conv_pw_13 (Conv2D)         (None, 7, 7, 1024)        1048576   \n",
      "                                                                 \n",
      " conv_pw_13_bn (BatchNormali  (None, 7, 7, 1024)       4096      \n",
      " zation)                                                         \n",
      "                                                                 \n",
      " conv_pw_13_relu (ReLU)      (None, 7, 7, 1024)        0         \n",
      "                                                                 \n",
      "=================================================================\n",
      "Total params: 3,228,864\n",
      "Trainable params: 3,206,976\n",
      "Non-trainable params: 21,888\n",
      "_________________________________________________________________\n"
     ]
    }
   ],
   "source": [
    "conv_base.summary()"
   ]
  },
  {
   "cell_type": "code",
   "execution_count": 16,
   "id": "313b4326",
   "metadata": {
    "execution": {
     "iopub.execute_input": "2023-06-04T11:59:51.203143Z",
     "iopub.status.busy": "2023-06-04T11:59:51.202795Z",
     "iopub.status.idle": "2023-06-04T11:59:51.237807Z",
     "shell.execute_reply": "2023-06-04T11:59:51.236956Z"
    },
    "papermill": {
     "duration": 0.069096,
     "end_time": "2023-06-04T11:59:51.243129",
     "exception": false,
     "start_time": "2023-06-04T11:59:51.174033",
     "status": "completed"
    },
    "tags": []
   },
   "outputs": [
    {
     "name": "stdout",
     "output_type": "stream",
     "text": [
      "Model: \"sequential\"\n",
      "_________________________________________________________________\n",
      " Layer (type)                Output Shape              Param #   \n",
      "=================================================================\n",
      " mobilenet_1.00_224 (Functio  (None, 7, 7, 1024)       3228864   \n",
      " nal)                                                            \n",
      "                                                                 \n",
      " flatten (Flatten)           (None, 50176)             0         \n",
      "                                                                 \n",
      " dense (Dense)               (None, 256)               12845312  \n",
      "                                                                 \n",
      " activation (Activation)     (None, 256)               0         \n",
      "                                                                 \n",
      " batch_normalization (BatchN  (None, 256)              1024      \n",
      " ormalization)                                                   \n",
      "                                                                 \n",
      " dense_1 (Dense)             (None, 7)                 1799      \n",
      "                                                                 \n",
      "=================================================================\n",
      "Total params: 16,076,999\n",
      "Trainable params: 16,054,599\n",
      "Non-trainable params: 22,400\n",
      "_________________________________________________________________\n"
     ]
    }
   ],
   "source": [
    "model.summary()"
   ]
  },
  {
   "cell_type": "markdown",
   "id": "2bc970d8",
   "metadata": {
    "papermill": {
     "duration": 0.028561,
     "end_time": "2023-06-04T11:59:51.300635",
     "exception": false,
     "start_time": "2023-06-04T11:59:51.272074",
     "status": "completed"
    },
    "tags": []
   },
   "source": [
    "# Training"
   ]
  },
  {
   "cell_type": "code",
   "execution_count": 17,
   "id": "07ecf34f",
   "metadata": {
    "execution": {
     "iopub.execute_input": "2023-06-04T11:59:51.359861Z",
     "iopub.status.busy": "2023-06-04T11:59:51.359241Z",
     "iopub.status.idle": "2023-06-04T11:59:52.371858Z",
     "shell.execute_reply": "2023-06-04T11:59:52.370614Z"
    },
    "papermill": {
     "duration": 1.045927,
     "end_time": "2023-06-04T11:59:52.375004",
     "exception": false,
     "start_time": "2023-06-04T11:59:51.329077",
     "status": "completed"
    },
    "tags": []
   },
   "outputs": [],
   "source": [
    "! mkdir /kaggle/working/model/\n",
    "\n",
    "checkpoint=tf.keras.callbacks.ModelCheckpoint(filepath=\"/kaggle/working/model/CNN.h5\", \n",
    "                                              monitor='val_accuracy', \n",
    "                                              verbose=0, \n",
    "                                              save_best_only=True,\n",
    "                                              save_weights_only=False, \n",
    "                                              mode='auto', \n",
    "                                              save_freq='epoch', \n",
    "                                              options=None)"
   ]
  },
  {
   "cell_type": "code",
   "execution_count": 18,
   "id": "f8b21c16",
   "metadata": {
    "execution": {
     "iopub.execute_input": "2023-06-04T11:59:52.435925Z",
     "iopub.status.busy": "2023-06-04T11:59:52.435593Z",
     "iopub.status.idle": "2023-06-04T13:28:06.129133Z",
     "shell.execute_reply": "2023-06-04T13:28:06.128232Z"
    },
    "papermill": {
     "duration": 5293.725912,
     "end_time": "2023-06-04T13:28:06.131402",
     "exception": false,
     "start_time": "2023-06-04T11:59:52.405490",
     "status": "completed"
    },
    "tags": []
   },
   "outputs": [
    {
     "name": "stdout",
     "output_type": "stream",
     "text": [
      "Epoch 1/15\n",
      "244/244 [==============================] - 418s 2s/step - loss: 1.0976 - accuracy: 0.5959 - val_loss: 1.5356 - val_accuracy: 0.5505\n",
      "Epoch 2/15\n",
      "244/244 [==============================] - 341s 1s/step - loss: 0.8114 - accuracy: 0.6848 - val_loss: 1.5097 - val_accuracy: 0.3568\n",
      "Epoch 3/15\n",
      "244/244 [==============================] - 342s 1s/step - loss: 0.7261 - accuracy: 0.7131 - val_loss: 1.5270 - val_accuracy: 0.3761\n",
      "Epoch 4/15\n",
      "244/244 [==============================] - 341s 1s/step - loss: 0.6872 - accuracy: 0.7276 - val_loss: 1.3578 - val_accuracy: 0.3932\n",
      "Epoch 5/15\n",
      "244/244 [==============================] - 343s 1s/step - loss: 0.6518 - accuracy: 0.7413 - val_loss: 1.3818 - val_accuracy: 0.3786\n",
      "Epoch 6/15\n",
      "244/244 [==============================] - 342s 1s/step - loss: 0.6289 - accuracy: 0.7522 - val_loss: 1.3283 - val_accuracy: 0.4270\n",
      "Epoch 7/15\n",
      "244/244 [==============================] - 305s 1s/step - loss: 0.5968 - accuracy: 0.7654 - val_loss: 1.8813 - val_accuracy: 0.3477\n",
      "Epoch 8/15\n",
      "244/244 [==============================] - 341s 1s/step - loss: 0.5860 - accuracy: 0.7659 - val_loss: 1.4494 - val_accuracy: 0.3943\n",
      "Epoch 9/15\n",
      "244/244 [==============================] - 342s 1s/step - loss: 0.5620 - accuracy: 0.7773 - val_loss: 1.2547 - val_accuracy: 0.4760\n",
      "Epoch 10/15\n",
      "244/244 [==============================] - 304s 1s/step - loss: 0.5501 - accuracy: 0.7826 - val_loss: 1.2002 - val_accuracy: 0.5109\n",
      "Epoch 11/15\n",
      "244/244 [==============================] - 343s 1s/step - loss: 0.5261 - accuracy: 0.7884 - val_loss: 2.1468 - val_accuracy: 0.3256\n",
      "Epoch 12/15\n",
      "244/244 [==============================] - 340s 1s/step - loss: 0.5193 - accuracy: 0.7945 - val_loss: 1.5711 - val_accuracy: 0.3993\n",
      "Epoch 13/15\n",
      "244/244 [==============================] - 341s 1s/step - loss: 0.4962 - accuracy: 0.8029 - val_loss: 1.6153 - val_accuracy: 0.4037\n",
      "Epoch 14/15\n",
      "244/244 [==============================] - 304s 1s/step - loss: 0.4878 - accuracy: 0.8085 - val_loss: 1.4389 - val_accuracy: 0.5185\n",
      "Epoch 15/15\n",
      "244/244 [==============================] - 341s 1s/step - loss: 0.4681 - accuracy: 0.8139 - val_loss: 1.5540 - val_accuracy: 0.4128\n",
      "dict_keys(['loss', 'accuracy', 'val_loss', 'val_accuracy'])\n"
     ]
    },
    {
     "data": {
      "image/png": "[encoded data removed]",
      "text/plain": [
       "<Figure size 640x480 with 1 Axes>"
      ]
     },
     "metadata": {},
     "output_type": "display_data"
    },
    {
     "data": {
      "image/png": "[encoded data removed]",
      "text/plain": [
       "<Figure size 640x480 with 1 Axes>"
      ]
     },
     "metadata": {},
     "output_type": "display_data"
    }
   ],
   "source": [
    "STEP_SIZE_TRAIN=train_generator.n//train_generator.batch_size\n",
    "STEP_SIZE_VALID=valid_generator.n//valid_generator.batch_size\n",
    "STEP_SIZE_TEST=test_generator.n//test_generator.batch_size\n",
    "\n",
    "history = model.fit(train_generator,\n",
    "                    steps_per_epoch=STEP_SIZE_TRAIN,\n",
    "                    validation_data=valid_generator,\n",
    "                    validation_steps=STEP_SIZE_VALID,\n",
    "                    epochs=EPOCHS,\n",
    "                   callbacks=[checkpoint])\n",
    "#                    class_weight=weights)\n",
    "\n",
    "\n",
    "\n",
    "print(history.history.keys())\n",
    "# summarize history for accuracy\n",
    "plt.plot(history.history['accuracy'])\n",
    "plt.plot(history.history['val_accuracy'])\n",
    "plt.title('model accuracy')\n",
    "plt.ylabel('accuracy')\n",
    "plt.xlabel('epoch')\n",
    "plt.legend(['train', 'test'], loc='upper left')\n",
    "plt.grid()\n",
    "plt.show()\n",
    "# summarize history for loss\n",
    "plt.plot(history.history['loss'])\n",
    "plt.plot(history.history['val_loss'])\n",
    "plt.title('model loss')\n",
    "plt.ylabel('loss')\n",
    "plt.xlabel('epoch')\n",
    "plt.legend(['train', 'test'], loc='upper left')\n",
    "plt.grid()\n",
    "plt.show()"
   ]
  },
  {
   "cell_type": "code",
   "execution_count": 19,
   "id": "efb6a209",
   "metadata": {
    "execution": {
     "iopub.execute_input": "2023-06-04T13:28:06.743437Z",
     "iopub.status.busy": "2023-06-04T13:28:06.742359Z",
     "iopub.status.idle": "2023-06-04T13:28:08.711461Z",
     "shell.execute_reply": "2023-06-04T13:28:08.710511Z"
    },
    "papermill": {
     "duration": 2.277992,
     "end_time": "2023-06-04T13:28:08.713918",
     "exception": false,
     "start_time": "2023-06-04T13:28:06.435926",
     "status": "completed"
    },
    "tags": []
   },
   "outputs": [],
   "source": [
    "model = tf.keras.models.load_model(\"/kaggle/working/model/CNN.h5\")"
   ]
  },
  {
   "cell_type": "markdown",
   "id": "947e1f2d",
   "metadata": {
    "papermill": {
     "duration": 0.303968,
     "end_time": "2023-06-04T13:28:09.323759",
     "exception": false,
     "start_time": "2023-06-04T13:28:09.019791",
     "status": "completed"
    },
    "tags": []
   },
   "source": [
    "# Testing"
   ]
  },
  {
   "cell_type": "code",
   "execution_count": 20,
   "id": "f704f371",
   "metadata": {
    "execution": {
     "iopub.execute_input": "2023-06-04T13:28:09.935561Z",
     "iopub.status.busy": "2023-06-04T13:28:09.934729Z",
     "iopub.status.idle": "2023-06-04T13:29:33.368268Z",
     "shell.execute_reply": "2023-06-04T13:29:33.367352Z"
    },
    "papermill": {
     "duration": 84.117241,
     "end_time": "2023-06-04T13:29:33.746046",
     "exception": false,
     "start_time": "2023-06-04T13:28:09.628805",
     "status": "completed"
    },
    "tags": []
   },
   "outputs": [
    {
     "name": "stdout",
     "output_type": "stream",
     "text": [
      "89/89 [==============================] - 45s 496ms/step - loss: 1.5561 - accuracy: 0.5518\n"
     ]
    },
    {
     "data": {
      "text/plain": [
       "[1.5561256408691406, 0.5518491864204407]"
      ]
     },
     "execution_count": 20,
     "metadata": {},
     "output_type": "execute_result"
    }
   ],
   "source": [
    "valid_generator.reset()\n",
    "model.evaluate(valid_generator,\n",
    "steps=STEP_SIZE_TEST)"
   ]
  },
  {
   "cell_type": "code",
   "execution_count": 21,
   "id": "b451c6c5",
   "metadata": {
    "execution": {
     "iopub.execute_input": "2023-06-04T13:29:34.373273Z",
     "iopub.status.busy": "2023-06-04T13:29:34.372208Z",
     "iopub.status.idle": "2023-06-04T13:30:23.116862Z",
     "shell.execute_reply": "2023-06-04T13:30:23.115730Z"
    },
    "papermill": {
     "duration": 49.058203,
     "end_time": "2023-06-04T13:30:23.119449",
     "exception": false,
     "start_time": "2023-06-04T13:29:34.061246",
     "status": "completed"
    },
    "tags": []
   },
   "outputs": [
    {
     "name": "stdout",
     "output_type": "stream",
     "text": [
      "90/90 [==============================] - 48s 532ms/step\n"
     ]
    }
   ],
   "source": [
    "test_generator.reset()\n",
    "pred=model.predict(test_generator)"
   ]
  },
  {
   "cell_type": "code",
   "execution_count": 22,
   "id": "c0194bb5",
   "metadata": {
    "execution": {
     "iopub.execute_input": "2023-06-04T13:30:23.855198Z",
     "iopub.status.busy": "2023-06-04T13:30:23.854847Z",
     "iopub.status.idle": "2023-06-04T13:30:23.868323Z",
     "shell.execute_reply": "2023-06-04T13:30:23.866637Z"
    },
    "papermill": {
     "duration": 0.431623,
     "end_time": "2023-06-04T13:30:23.870475",
     "exception": false,
     "start_time": "2023-06-04T13:30:23.438852",
     "status": "completed"
    },
    "tags": []
   },
   "outputs": [
    {
     "data": {
      "text/plain": [
       "array([2, 4, 4, ..., 2, 1, 1])"
      ]
     },
     "execution_count": 22,
     "metadata": {},
     "output_type": "execute_result"
    }
   ],
   "source": [
    "y_pred=np.argmax(pred,axis=1)\n",
    "y_pred"
   ]
  },
  {
   "cell_type": "code",
   "execution_count": 23,
   "id": "fcc52cf0",
   "metadata": {
    "execution": {
     "iopub.execute_input": "2023-06-04T13:30:24.513538Z",
     "iopub.status.busy": "2023-06-04T13:30:24.513177Z",
     "iopub.status.idle": "2023-06-04T13:30:24.609906Z",
     "shell.execute_reply": "2023-06-04T13:30:24.608847Z"
    },
    "papermill": {
     "duration": 0.416846,
     "end_time": "2023-06-04T13:30:24.612020",
     "exception": false,
     "start_time": "2023-06-04T13:30:24.195174",
     "status": "completed"
    },
    "tags": []
   },
   "outputs": [
    {
     "name": "stdout",
     "output_type": "stream",
     "text": [
      "[[   9  965 1807  327 1600  468  575]\n",
      " [   0    0    0    0    0    0    0]\n",
      " [   0    0    0    0    0    0    0]\n",
      " [   0    0    0    0    0    0    0]\n",
      " [   0    0    0    0    0    0    0]\n",
      " [   0    0    0    0    0    0    0]\n",
      " [   0    0    0    0    0    0    0]]\n"
     ]
    },
    {
     "data": {
      "text/plain": [
       "0.001564945226917058"
      ]
     },
     "execution_count": 23,
     "metadata": {},
     "output_type": "execute_result"
    }
   ],
   "source": [
    "from sklearn.metrics import confusion_matrix,accuracy_score\n",
    "test_df['label'] = test_df['label'].astype(int)\n",
    "\n",
    "cm=confusion_matrix(test_df.label, y_pred)\n",
    "print(cm)\n",
    "\n",
    "accuracy_score(test_df.label.to_numpy(), y_pred)\n",
    "# tn,fp,fn,tp = confusion_matrix(test_df.label, y_pred).ravel()"
   ]
  },
  {
   "cell_type": "markdown",
   "id": "748d5e44",
   "metadata": {
    "papermill": {
     "duration": 0.378152,
     "end_time": "2023-06-04T13:30:25.319579",
     "exception": false,
     "start_time": "2023-06-04T13:30:24.941427",
     "status": "completed"
    },
    "tags": []
   },
   "source": [
    "# Creating submission.csv"
   ]
  },
  {
   "cell_type": "code",
   "execution_count": 24,
   "id": "16fdfacc",
   "metadata": {
    "execution": {
     "iopub.execute_input": "2023-06-04T13:30:25.957736Z",
     "iopub.status.busy": "2023-06-04T13:30:25.957326Z",
     "iopub.status.idle": "2023-06-04T13:30:25.981798Z",
     "shell.execute_reply": "2023-06-04T13:30:25.980898Z"
    },
    "papermill": {
     "duration": 0.34807,
     "end_time": "2023-06-04T13:30:25.983858",
     "exception": false,
     "start_time": "2023-06-04T13:30:25.635788",
     "status": "completed"
    },
    "tags": []
   },
   "outputs": [],
   "source": [
    "filenames=test_generator.filenames\n",
    "results=pd.DataFrame({\"file_name\":filenames,\n",
    "                      \"label\":y_pred})\n",
    "results.to_csv(\"submission.csv\",index=False)"
   ]
  },
  {
   "cell_type": "code",
   "execution_count": 25,
   "id": "6ffbb54f",
   "metadata": {
    "execution": {
     "iopub.execute_input": "2023-06-04T13:30:26.623179Z",
     "iopub.status.busy": "2023-06-04T13:30:26.622831Z",
     "iopub.status.idle": "2023-06-04T13:30:26.627181Z",
     "shell.execute_reply": "2023-06-04T13:30:26.626148Z"
    },
    "papermill": {
     "duration": 0.324137,
     "end_time": "2023-06-04T13:30:26.629228",
     "exception": false,
     "start_time": "2023-06-04T13:30:26.305091",
     "status": "completed"
    },
    "tags": []
   },
   "outputs": [],
   "source": [
    "# test_df['label'] = test_df['label'].astype(int)"
   ]
  },
  {
   "cell_type": "markdown",
   "id": "8d58d546",
   "metadata": {
    "papermill": {
     "duration": 0.317938,
     "end_time": "2023-06-04T13:30:27.262375",
     "exception": false,
     "start_time": "2023-06-04T13:30:26.944437",
     "status": "completed"
    },
    "tags": []
   },
   "source": [
    "# Reasons for low testing accuracy \n",
    "**Problem**: Although the training and testing data belong to the same dataset, the split in the dataset is very different, training data has about 1402 belonging to class 0 and the testing data has all the data belonging to class 0. Inorder to make a model that generalizes well on the dataset we need atleast a minimun of 5000 samples per class.\n",
    "\n",
    "**Solution 1**: Adding more data in the dataset would lead to better learning of the model and would remove any bias in the dataset. But this is not possible in our case.\n",
    "\n",
    "**Solution 2**: If adding data is not an option then using a pre-trained model could lead to better generalization. This is because pre trained models are trained for good feature extration. This should work for our use case but from what I have learned while training the model, Due to the low amount of class 0 data in the dataset the pretrained model is also not able to learn well even though it generalizes well.\n"
   ]
  },
  {
   "cell_type": "code",
   "execution_count": null,
   "id": "b01040bb",
   "metadata": {
    "papermill": {
     "duration": 0.315794,
     "end_time": "2023-06-04T13:30:27.892427",
     "exception": false,
     "start_time": "2023-06-04T13:30:27.576633",
     "status": "completed"
    },
    "tags": []
   },
   "outputs": [],
   "source": []
  }
 ],
 "metadata": {
  "kernelspec": {
   "display_name": "Python 3",
   "language": "python",
   "name": "python3"
  },
  "language_info": {
   "codemirror_mode": {
    "name": "ipython",
    "version": 3
   },
   "file_extension": ".py",
   "mimetype": "text/x-python",
   "name": "python",
   "nbconvert_exporter": "python",
   "pygments_lexer": "ipython3",
   "version": "3.10.10"
  },
  "papermill": {
   "default_parameters": {},
   "duration": 5494.485228,
   "end_time": "2023-06-04T13:30:31.164586",
   "environment_variables": {},
   "exception": null,
   "input_path": "__notebook__.ipynb",
   "output_path": "__notebook__.ipynb",
   "parameters": {},
   "start_time": "2023-06-04T11:58:56.679358",
   "version": "2.4.0"
  }
 },
 "nbformat": 4,
 "nbformat_minor": 5
}
